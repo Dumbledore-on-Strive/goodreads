{
  "cells": [
    {
      "cell_type": "code",
      "metadata": {
        "tags": [],
        "cell_id": "00000-d0fda384-359c-4312-987d-eafa7c25c44f",
        "deepnote_to_be_reexecuted": false,
        "source_hash": "4a4e4abd",
        "execution_millis": 1121,
        "execution_start": 1618396664698,
        "deepnote_cell_type": "code"
      },
      "source": "import pandas as pd\nimport numpy as np\nfrom sklearn.preprocessing import MinMaxScaler\n\n",
      "execution_count": 1,
      "outputs": []
    },
    {
      "cell_type": "code",
      "metadata": {
        "tags": [],
        "cell_id": "00001-2489de6c-2461-48fb-9fba-f96152608808",
        "deepnote_to_be_reexecuted": false,
        "source_hash": "e09aac57",
        "execution_millis": 29,
        "execution_start": 1618397140437,
        "deepnote_cell_type": "code"
      },
      "source": "df = pd.read_csv(\"testing.csv\")\ndf.columns\ndf,drop(['Unnamed: 0','place', 'url'],axis = 1)",
      "execution_count": 22,
      "outputs": [
        {
          "output_type": "execute_result",
          "execution_count": 22,
          "data": {
            "text/plain": "Index(['Unnamed: 0', 'title', 'author', 'num_rating', 'num_reviews',\n       'avg_rating', 'num_pages', 'original_publish_year', 'series', 'genres',\n       'award', 'place', 'url'],\n      dtype='object')"
          },
          "metadata": {}
        }
      ]
    },
    {
      "cell_type": "code",
      "source": "\ndf= df.dropna()\n",
      "metadata": {
        "tags": [],
        "cell_id": "00002-0f629ccb-0eaf-42c7-a2a8-9e9a0c0dad86",
        "deepnote_to_be_reexecuted": false,
        "source_hash": "d4c5b7c7",
        "execution_millis": 4,
        "execution_start": 1618396665900,
        "deepnote_cell_type": "code"
      },
      "outputs": [],
      "execution_count": 3
    },
    {
      "cell_type": "code",
      "source": "\ndf['num_pages']=df['num_pages'].astype(int)",
      "metadata": {
        "tags": [],
        "cell_id": "00003-3fd67dd8-cce6-4d3e-b5c3-2bedb3b59f96",
        "deepnote_to_be_reexecuted": false,
        "source_hash": "ae4a57",
        "execution_millis": 10,
        "output_cleared": false,
        "execution_start": 1618396665912,
        "deepnote_cell_type": "code"
      },
      "outputs": [
        {
          "name": "stderr",
          "text": "/shared-libs/python3.7/py-core/lib/python3.7/site-packages/ipykernel_launcher.py:1: SettingWithCopyWarning: \nA value is trying to be set on a copy of a slice from a DataFrame.\nTry using .loc[row_indexer,col_indexer] = value instead\n\nSee the caveats in the documentation: https://pandas.pydata.org/pandas-docs/stable/user_guide/indexing.html#returning-a-view-versus-a-copy\n  \"\"\"Entry point for launching an IPython kernel.\n",
          "output_type": "stream"
        }
      ],
      "execution_count": 4
    },
    {
      "cell_type": "code",
      "source": "df",
      "metadata": {
        "tags": [],
        "cell_id": "00004-cf0c689c-e5e6-4b8e-995f-d44826b4f763",
        "deepnote_to_be_reexecuted": false,
        "source_hash": "f804c160",
        "execution_millis": 13,
        "execution_start": 1618396665961,
        "deepnote_cell_type": "code"
      },
      "outputs": [
        {
          "output_type": "execute_result",
          "execution_count": 5,
          "data": {
            "application/vnd.deepnote.dataframe.v2+json": {
              "row_count": 64,
              "column_count": 13,
              "columns": [
                {
                  "name": "Unnamed: 0",
                  "dtype": "int64",
                  "stats": {
                    "unique_count": 64,
                    "nan_count": 0,
                    "min": "0",
                    "max": "97",
                    "histogram": [
                      {
                        "bin_start": 0,
                        "bin_end": 9.7,
                        "count": 8
                      },
                      {
                        "bin_start": 9.7,
                        "bin_end": 19.4,
                        "count": 5
                      },
                      {
                        "bin_start": 19.4,
                        "bin_end": 29.099999999999998,
                        "count": 8
                      },
                      {
                        "bin_start": 29.099999999999998,
                        "bin_end": 38.8,
                        "count": 8
                      },
                      {
                        "bin_start": 38.8,
                        "bin_end": 48.5,
                        "count": 5
                      },
                      {
                        "bin_start": 48.5,
                        "bin_end": 58.199999999999996,
                        "count": 6
                      },
                      {
                        "bin_start": 58.199999999999996,
                        "bin_end": 67.89999999999999,
                        "count": 7
                      },
                      {
                        "bin_start": 67.89999999999999,
                        "bin_end": 77.6,
                        "count": 7
                      },
                      {
                        "bin_start": 77.6,
                        "bin_end": 87.3,
                        "count": 5
                      },
                      {
                        "bin_start": 87.3,
                        "bin_end": 97,
                        "count": 5
                      }
                    ]
                  }
                },
                {
                  "name": "title",
                  "dtype": "object",
                  "stats": {
                    "unique_count": 64,
                    "nan_count": 0,
                    "categories": [
                      {
                        "name": "City of Ashes",
                        "count": 1
                      },
                      {
                        "name": "Hush, Hush",
                        "count": 1
                      },
                      {
                        "name": "62 others",
                        "count": 62
                      }
                    ]
                  }
                },
                {
                  "name": "author",
                  "dtype": "object",
                  "stats": {
                    "unique_count": 37,
                    "nan_count": 0,
                    "categories": [
                      {
                        "name": "Cassandra Clare",
                        "count": 7
                      },
                      {
                        "name": "P.C. Cast",
                        "count": 6
                      },
                      {
                        "name": "35 others",
                        "count": 51
                      }
                    ]
                  }
                },
                {
                  "name": "num_rating",
                  "dtype": "int64",
                  "stats": {
                    "unique_count": 64,
                    "nan_count": 0,
                    "min": "56166",
                    "max": "2857494",
                    "histogram": [
                      {
                        "bin_start": 56166,
                        "bin_end": 336298.8,
                        "count": 44
                      },
                      {
                        "bin_start": 336298.8,
                        "bin_end": 616431.6,
                        "count": 13
                      },
                      {
                        "bin_start": 616431.6,
                        "bin_end": 896564.3999999999,
                        "count": 6
                      },
                      {
                        "bin_start": 896564.3999999999,
                        "bin_end": 1176697.2,
                        "count": 0
                      },
                      {
                        "bin_start": 1176697.2,
                        "bin_end": 1456830,
                        "count": 0
                      },
                      {
                        "bin_start": 1456830,
                        "bin_end": 1736962.7999999998,
                        "count": 0
                      },
                      {
                        "bin_start": 1736962.7999999998,
                        "bin_end": 2017095.5999999999,
                        "count": 0
                      },
                      {
                        "bin_start": 2017095.5999999999,
                        "bin_end": 2297228.4,
                        "count": 0
                      },
                      {
                        "bin_start": 2297228.4,
                        "bin_end": 2577361.1999999997,
                        "count": 0
                      },
                      {
                        "bin_start": 2577361.1999999997,
                        "bin_end": 2857494,
                        "count": 1
                      }
                    ]
                  }
                },
                {
                  "name": "num_reviews",
                  "dtype": "int64",
                  "stats": {
                    "unique_count": 64,
                    "nan_count": 0,
                    "min": "2510",
                    "max": "77427",
                    "histogram": [
                      {
                        "bin_start": 2510,
                        "bin_end": 10001.7,
                        "count": 32
                      },
                      {
                        "bin_start": 10001.7,
                        "bin_end": 17493.4,
                        "count": 13
                      },
                      {
                        "bin_start": 17493.4,
                        "bin_end": 24985.1,
                        "count": 7
                      },
                      {
                        "bin_start": 24985.1,
                        "bin_end": 32476.8,
                        "count": 7
                      },
                      {
                        "bin_start": 32476.8,
                        "bin_end": 39968.5,
                        "count": 3
                      },
                      {
                        "bin_start": 39968.5,
                        "bin_end": 47460.2,
                        "count": 0
                      },
                      {
                        "bin_start": 47460.2,
                        "bin_end": 54951.9,
                        "count": 0
                      },
                      {
                        "bin_start": 54951.9,
                        "bin_end": 62443.6,
                        "count": 1
                      },
                      {
                        "bin_start": 62443.6,
                        "bin_end": 69935.3,
                        "count": 0
                      },
                      {
                        "bin_start": 69935.3,
                        "bin_end": 77427,
                        "count": 1
                      }
                    ]
                  }
                },
                {
                  "name": "avg_rating",
                  "dtype": "float64",
                  "stats": {
                    "unique_count": 46,
                    "nan_count": 0,
                    "min": "3.59",
                    "max": "4.55",
                    "histogram": [
                      {
                        "bin_start": 3.59,
                        "bin_end": 3.686,
                        "count": 3
                      },
                      {
                        "bin_start": 3.686,
                        "bin_end": 3.782,
                        "count": 6
                      },
                      {
                        "bin_start": 3.782,
                        "bin_end": 3.878,
                        "count": 6
                      },
                      {
                        "bin_start": 3.878,
                        "bin_end": 3.9739999999999998,
                        "count": 11
                      },
                      {
                        "bin_start": 3.9739999999999998,
                        "bin_end": 4.07,
                        "count": 8
                      },
                      {
                        "bin_start": 4.07,
                        "bin_end": 4.166,
                        "count": 12
                      },
                      {
                        "bin_start": 4.166,
                        "bin_end": 4.262,
                        "count": 5
                      },
                      {
                        "bin_start": 4.262,
                        "bin_end": 4.358,
                        "count": 7
                      },
                      {
                        "bin_start": 4.358,
                        "bin_end": 4.454,
                        "count": 3
                      },
                      {
                        "bin_start": 4.454,
                        "bin_end": 4.55,
                        "count": 3
                      }
                    ]
                  }
                },
                {
                  "name": "num_pages",
                  "dtype": "int64",
                  "stats": {
                    "unique_count": 59,
                    "nan_count": 0,
                    "min": "210",
                    "max": "728",
                    "histogram": [
                      {
                        "bin_start": 210,
                        "bin_end": 261.8,
                        "count": 3
                      },
                      {
                        "bin_start": 261.8,
                        "bin_end": 313.6,
                        "count": 13
                      },
                      {
                        "bin_start": 313.6,
                        "bin_end": 365.4,
                        "count": 12
                      },
                      {
                        "bin_start": 365.4,
                        "bin_end": 417.2,
                        "count": 11
                      },
                      {
                        "bin_start": 417.2,
                        "bin_end": 469,
                        "count": 10
                      },
                      {
                        "bin_start": 469,
                        "bin_end": 520.8,
                        "count": 7
                      },
                      {
                        "bin_start": 520.8,
                        "bin_end": 572.5999999999999,
                        "count": 5
                      },
                      {
                        "bin_start": 572.5999999999999,
                        "bin_end": 624.4,
                        "count": 1
                      },
                      {
                        "bin_start": 624.4,
                        "bin_end": 676.2,
                        "count": 0
                      },
                      {
                        "bin_start": 676.2,
                        "bin_end": 728,
                        "count": 2
                      }
                    ]
                  }
                },
                {
                  "name": "original_publish_year",
                  "dtype": "int64",
                  "stats": {
                    "unique_count": 11,
                    "nan_count": 0,
                    "min": "2001",
                    "max": "2013",
                    "histogram": [
                      {
                        "bin_start": 2001,
                        "bin_end": 2002.2,
                        "count": 1
                      },
                      {
                        "bin_start": 2002.2,
                        "bin_end": 2003.4,
                        "count": 1
                      },
                      {
                        "bin_start": 2003.4,
                        "bin_end": 2004.6,
                        "count": 0
                      },
                      {
                        "bin_start": 2004.6,
                        "bin_end": 2005.8,
                        "count": 4
                      },
                      {
                        "bin_start": 2005.8,
                        "bin_end": 2007,
                        "count": 6
                      },
                      {
                        "bin_start": 2007,
                        "bin_end": 2008.2,
                        "count": 19
                      },
                      {
                        "bin_start": 2008.2,
                        "bin_end": 2009.4,
                        "count": 11
                      },
                      {
                        "bin_start": 2009.4,
                        "bin_end": 2010.6,
                        "count": 12
                      },
                      {
                        "bin_start": 2010.6,
                        "bin_end": 2011.8,
                        "count": 7
                      },
                      {
                        "bin_start": 2011.8,
                        "bin_end": 2013,
                        "count": 3
                      }
                    ]
                  }
                },
                {
                  "name": "series",
                  "dtype": "bool",
                  "stats": {
                    "unique_count": 2,
                    "nan_count": 0,
                    "categories": [
                      {
                        "name": "True",
                        "count": 59
                      },
                      {
                        "name": "False",
                        "count": 5
                      }
                    ]
                  }
                },
                {
                  "name": "genres",
                  "dtype": "object",
                  "stats": {
                    "unique_count": 55,
                    "nan_count": 0,
                    "categories": [
                      {
                        "name": "['Young Adult', 'Paranormal Vampires', 'Fantasy', 'Fantasy Paranormal', 'Romance', 'Fantasy Urban Fantasy', 'Romance Paranormal Romance', 'Fantasy Supernatural', 'Fiction', 'Fantasy Magic']",
                        "count": 5
                      },
                      {
                        "name": "['Young Adult', 'Paranormal Vampires', 'Fantasy', 'Fantasy Paranormal', 'Romance', 'Fiction', 'Fantasy Supernatural', 'Fantasy Urban Fantasy', 'Romance Paranormal Romance', 'Fantasy Magic']",
                        "count": 3
                      },
                      {
                        "name": "53 others",
                        "count": 56
                      }
                    ]
                  }
                },
                {
                  "name": "award",
                  "dtype": "int64",
                  "stats": {
                    "unique_count": 12,
                    "nan_count": 0,
                    "min": "0",
                    "max": "18",
                    "histogram": [
                      {
                        "bin_start": 0,
                        "bin_end": 1.8,
                        "count": 32
                      },
                      {
                        "bin_start": 1.8,
                        "bin_end": 3.6,
                        "count": 18
                      },
                      {
                        "bin_start": 3.6,
                        "bin_end": 5.4,
                        "count": 6
                      },
                      {
                        "bin_start": 5.4,
                        "bin_end": 7.2,
                        "count": 0
                      },
                      {
                        "bin_start": 7.2,
                        "bin_end": 9,
                        "count": 0
                      },
                      {
                        "bin_start": 9,
                        "bin_end": 10.8,
                        "count": 2
                      },
                      {
                        "bin_start": 10.8,
                        "bin_end": 12.6,
                        "count": 4
                      },
                      {
                        "bin_start": 12.6,
                        "bin_end": 14.4,
                        "count": 0
                      },
                      {
                        "bin_start": 14.4,
                        "bin_end": 16.2,
                        "count": 1
                      },
                      {
                        "bin_start": 16.2,
                        "bin_end": 18,
                        "count": 1
                      }
                    ]
                  }
                },
                {
                  "name": "place",
                  "dtype": "object",
                  "stats": {
                    "unique_count": 6,
                    "nan_count": 0,
                    "categories": [
                      {
                        "name": "United States",
                        "count": 53
                      },
                      {
                        "name": "United Kingdom",
                        "count": 7
                      },
                      {
                        "name": "4 others",
                        "count": 4
                      }
                    ]
                  }
                },
                {
                  "name": "url",
                  "dtype": "object",
                  "stats": {
                    "unique_count": 64,
                    "nan_count": 0,
                    "categories": [
                      {
                        "name": "https://www.goodreads.com//book/show/1582996.City_of_Ashes",
                        "count": 1
                      },
                      {
                        "name": "https://www.goodreads.com//book/show/6339664-hush-hush",
                        "count": 1
                      },
                      {
                        "name": "62 others",
                        "count": 62
                      }
                    ]
                  }
                },
                {
                  "name": "_deepnote_index_column",
                  "dtype": "int64"
                }
              ],
              "rows_top": [
                {
                  "Unnamed: 0": 0,
                  "title": "City of Ashes",
                  "author": "Cassandra Clare",
                  "num_rating": 789895,
                  "num_reviews": 30434,
                  "avg_rating": 4.15,
                  "num_pages": 453,
                  "original_publish_year": 2008,
                  "series": true,
                  "genres": "['Fantasy', 'Young Adult', 'Fantasy Paranormal', 'Romance', 'Fantasy Urban Fantasy', 'Paranormal Vampires', 'Fiction', 'Fantasy Supernatural', 'Paranormal Angels', 'Fantasy Magic']",
                  "award": 2,
                  "place": "United States",
                  "url": "https://www.goodreads.com//book/show/1582996.City_of_Ashes",
                  "_deepnote_index_column": 0
                },
                {
                  "Unnamed: 0": 1,
                  "title": "Hush, Hush",
                  "author": "Becca Fitzpatrick",
                  "num_rating": 604813,
                  "num_reviews": 25700,
                  "avg_rating": 3.95,
                  "num_pages": 391,
                  "original_publish_year": 2009,
                  "series": true,
                  "genres": "['Young Adult', 'Fantasy', 'Romance', 'Fantasy Paranormal', 'Paranormal Angels', 'Romance Paranormal Romance', 'Fantasy Supernatural', 'Fiction', 'Fantasy Urban Fantasy', 'Young Adult Young Adult Fantasy']",
                  "award": 1,
                  "place": "United States",
                  "url": "https://www.goodreads.com//book/show/6339664-hush-hush",
                  "_deepnote_index_column": 1
                },
                {
                  "Unnamed: 0": 2,
                  "title": "City of Glass",
                  "author": "Cassandra Clare",
                  "num_rating": 834498,
                  "num_reviews": 29070,
                  "avg_rating": 4.3,
                  "num_pages": 541,
                  "original_publish_year": 2009,
                  "series": true,
                  "genres": "['Fantasy', 'Young Adult', 'Fantasy Paranormal', 'Romance', 'Fantasy Urban Fantasy', 'Paranormal Vampires', 'Fiction', 'Paranormal Angels', 'Fantasy Supernatural', 'Fantasy Magic']",
                  "award": 3,
                  "place": "United States",
                  "url": "https://www.goodreads.com//book/show/3777732-city-of-glass",
                  "_deepnote_index_column": 2
                },
                {
                  "Unnamed: 0": 3,
                  "title": "Clockwork Angel",
                  "author": "Cassandra Clare",
                  "num_rating": 709686,
                  "num_reviews": 33612,
                  "avg_rating": 4.31,
                  "num_pages": 479,
                  "original_publish_year": 2010,
                  "series": true,
                  "genres": "['Fantasy', 'Young Adult', 'Romance', 'Fantasy Paranormal', 'Science Fiction Steampunk', 'Historical Historical Fiction', 'Fiction', 'Fantasy Urban Fantasy', 'Paranormal Vampires', 'Paranormal Angels']",
                  "award": 10,
                  "place": "United Kingdom",
                  "url": "https://www.goodreads.com//book/show/7171637-clockwork-angel",
                  "_deepnote_index_column": 3
                },
                {
                  "Unnamed: 0": 4,
                  "title": "Marked",
                  "author": "P.C. Cast",
                  "num_rating": 448045,
                  "num_reviews": 14504,
                  "avg_rating": 3.8,
                  "num_pages": 306,
                  "original_publish_year": 2007,
                  "series": true,
                  "genres": "['Young Adult', 'Fantasy', 'Paranormal Vampires', 'Fantasy Paranormal', 'Romance', 'Fiction', 'Fantasy Supernatural', 'Fantasy Urban Fantasy', 'Romance Paranormal Romance', 'Young Adult Teen']",
                  "award": 1,
                  "place": "United States",
                  "url": "https://www.goodreads.com//book/show/30183.Marked",
                  "_deepnote_index_column": 4
                },
                {
                  "Unnamed: 0": 6,
                  "title": "Shiver",
                  "author": "Maggie Stiefvater",
                  "num_rating": 448133,
                  "num_reviews": 23237,
                  "avg_rating": 3.76,
                  "num_pages": 392,
                  "original_publish_year": 2009,
                  "series": true,
                  "genres": "['Young Adult', 'Fantasy', 'Romance', 'Fantasy Paranormal', 'Shapeshifters Werewolves', 'Fiction', 'Romance Paranormal Romance', 'Fantasy Supernatural', 'Fantasy Urban Fantasy', 'Young Adult Teen']",
                  "award": 12,
                  "place": "United States",
                  "url": "https://www.goodreads.com//book/show/6068551-shiver",
                  "_deepnote_index_column": 6
                },
                {
                  "Unnamed: 0": 7,
                  "title": "Frostbite",
                  "author": "Richelle Mead",
                  "num_rating": 324012,
                  "num_reviews": 11587,
                  "avg_rating": 4.26,
                  "num_pages": 327,
                  "original_publish_year": 2008,
                  "series": true,
                  "genres": "['Young Adult', 'Paranormal Vampires', 'Fantasy', 'Fantasy Paranormal', 'Romance', 'Fantasy Urban Fantasy', 'Romance Paranormal Romance', 'Fantasy Supernatural', 'Fiction', 'Fantasy Magic']",
                  "award": 0,
                  "place": "United States",
                  "url": "https://www.goodreads.com//book/show/2282133.Frostbite",
                  "_deepnote_index_column": 7
                },
                {
                  "Unnamed: 0": 8,
                  "title": "I'd Tell You I Love You, But Then I'd Have to Kill You",
                  "author": "Ally Carter",
                  "num_rating": 180506,
                  "num_reviews": 7607,
                  "avg_rating": 3.82,
                  "num_pages": 284,
                  "original_publish_year": 2006,
                  "series": true,
                  "genres": "['Young Adult', 'Romance', 'Mystery', 'Contemporary', 'Fiction', 'Spy Thriller Espionage', 'Womens Fiction Chick Lit', 'Adventure', 'Young Adult Teen', 'Realistic Fiction']",
                  "award": 2,
                  "place": "United States",
                  "url": "https://www.goodreads.com//book/show/852470.I_d_Tell_You_I_Love_You_But_Then_I_d_Have_to_Kill_You",
                  "_deepnote_index_column": 8
                },
                {
                  "Unnamed: 0": 10,
                  "title": "The Last Olympian",
                  "author": "Rick Riordan",
                  "num_rating": 717770,
                  "num_reviews": 25247,
                  "avg_rating": 4.5,
                  "num_pages": 381,
                  "original_publish_year": 2009,
                  "series": true,
                  "genres": "['Fantasy', 'Young Adult', 'Fantasy Mythology', 'Fiction', 'Childrens Middle Grade', 'Adventure', 'Childrens', 'Mythology Greek Mythology', 'Fantasy Urban Fantasy', 'Fantasy Magic']",
                  "award": 4,
                  "place": "United States",
                  "url": "https://www.goodreads.com//book/show/4556058-the-last-olympian",
                  "_deepnote_index_column": 10
                },
                {
                  "Unnamed: 0": 11,
                  "title": "The Angel Experiment",
                  "author": "James Patterson",
                  "num_rating": 211692,
                  "num_reviews": 9431,
                  "avg_rating": 4.07,
                  "num_pages": 445,
                  "original_publish_year": 2006,
                  "series": true,
                  "genres": "['Young Adult', 'Fantasy', 'Science Fiction', 'Fiction', 'Adventure', 'Fantasy Paranormal', 'Young Adult Teen', 'Action', 'Mystery', 'Fantasy Urban Fantasy']",
                  "award": 2,
                  "place": "United States",
                  "url": "https://www.goodreads.com//book/show/13152.The_Angel_Experiment",
                  "_deepnote_index_column": 11
                },
                {
                  "Unnamed: 0": 14,
                  "title": "Shadow Kiss",
                  "author": "Richelle Mead",
                  "num_rating": 338750,
                  "num_reviews": 11508,
                  "avg_rating": 4.33,
                  "num_pages": 443,
                  "original_publish_year": 2008,
                  "series": true,
                  "genres": "['Young Adult', 'Paranormal Vampires', 'Fantasy', 'Fantasy Paranormal', 'Romance', 'Fantasy Urban Fantasy', 'Romance Paranormal Romance', 'Fantasy Supernatural', 'Fiction', 'Fantasy Magic']",
                  "award": 1,
                  "place": "United States",
                  "url": "https://www.goodreads.com//book/show/2802316-shadow-kiss",
                  "_deepnote_index_column": 14
                },
                {
                  "Unnamed: 0": 16,
                  "title": "Blood Promise",
                  "author": "Richelle Mead",
                  "num_rating": 289248,
                  "num_reviews": 9958,
                  "avg_rating": 4.3,
                  "num_pages": 503,
                  "original_publish_year": 2009,
                  "series": true,
                  "genres": "['Young Adult', 'Paranormal Vampires', 'Fantasy', 'Fantasy Paranormal', 'Romance', 'Fantasy Urban Fantasy', 'Romance Paranormal Romance', 'Fantasy Supernatural', 'Fiction', 'Fantasy Magic']",
                  "award": 2,
                  "place": "United States",
                  "url": "https://www.goodreads.com//book/show/5996153-blood-promise",
                  "_deepnote_index_column": 16
                },
                {
                  "Unnamed: 0": 17,
                  "title": "The Lost Hero",
                  "author": "Rick Riordan",
                  "num_rating": 665681,
                  "num_reviews": 23132,
                  "avg_rating": 4.32,
                  "num_pages": 553,
                  "original_publish_year": 2010,
                  "series": true,
                  "genres": "['Fantasy', 'Young Adult', 'Fantasy Mythology', 'Fiction', 'Childrens Middle Grade', 'Adventure', 'Childrens', 'Mythology Greek Mythology', 'Fantasy Urban Fantasy', 'Young Adult Young Adult Fantasy']",
                  "award": 3,
                  "place": "United States",
                  "url": "https://www.goodreads.com//book/show/7736182-the-lost-hero",
                  "_deepnote_index_column": 17
                },
                {
                  "Unnamed: 0": 22,
                  "title": "Evermore",
                  "author": "Alyson Noel",
                  "num_rating": 273208,
                  "num_reviews": 9854,
                  "avg_rating": 3.59,
                  "num_pages": 301,
                  "original_publish_year": 2009,
                  "series": true,
                  "genres": "['Young Adult', 'Fantasy', 'Fantasy Paranormal', 'Romance', 'Romance Paranormal Romance', 'Fantasy Supernatural', 'Fiction', 'Fantasy Urban Fantasy', 'Paranormal Vampires', 'Fantasy Magic']",
                  "award": 2,
                  "place": "United States",
                  "url": "https://www.goodreads.com//book/show/3975774-evermore",
                  "_deepnote_index_column": 22
                },
                {
                  "Unnamed: 0": 23,
                  "title": "The Summoning",
                  "author": "Kelley Armstrong",
                  "num_rating": 163257,
                  "num_reviews": 6315,
                  "avg_rating": 4,
                  "num_pages": 390,
                  "original_publish_year": 2008,
                  "series": true,
                  "genres": "['Young Adult', 'Fantasy', 'Fantasy Paranormal', 'Fantasy Urban Fantasy', 'Fantasy Supernatural', 'Fantasy Magic', 'Romance', 'Paranormal Ghosts', 'Shapeshifters Werewolves', 'Fiction']",
                  "award": 1,
                  "place": "United States",
                  "url": "https://www.goodreads.com//book/show/2800905-the-summoning",
                  "_deepnote_index_column": 23
                },
                {
                  "Unnamed: 0": 24,
                  "title": "Gone",
                  "author": "Michael  Grant",
                  "num_rating": 185273,
                  "num_reviews": 10986,
                  "avg_rating": 3.86,
                  "num_pages": 560,
                  "original_publish_year": 2008,
                  "series": true,
                  "genres": "['Young Adult', 'Science Fiction Dystopia', 'Science Fiction', 'Fantasy', 'Fiction', 'Fantasy Paranormal', 'Romance', 'Adventure', 'Fantasy Supernatural', 'Young Adult Teen']",
                  "award": 1,
                  "place": "United States",
                  "url": "https://www.goodreads.com//book/show/2536134.Gone",
                  "_deepnote_index_column": 24
                },
                {
                  "Unnamed: 0": 25,
                  "title": "Spirit Bound",
                  "author": "Richelle Mead",
                  "num_rating": 270258,
                  "num_reviews": 9050,
                  "avg_rating": 4.33,
                  "num_pages": 489,
                  "original_publish_year": 2010,
                  "series": true,
                  "genres": "['Young Adult', 'Paranormal Vampires', 'Fantasy', 'Fantasy Paranormal', 'Romance', 'Fantasy Urban Fantasy', 'Romance Paranormal Romance', 'Fantasy Supernatural', 'Fiction', 'Fantasy Magic']",
                  "award": 3,
                  "place": "United States",
                  "url": "https://www.goodreads.com//book/show/6479259-spirit-bound",
                  "_deepnote_index_column": 25
                },
                {
                  "Unnamed: 0": 26,
                  "title": "A Great and Terrible Beauty",
                  "author": "Libba Bray",
                  "num_rating": 218210,
                  "num_reviews": 9972,
                  "avg_rating": 3.78,
                  "num_pages": 403,
                  "original_publish_year": 2003,
                  "series": true,
                  "genres": "['Fantasy', 'Young Adult', 'Historical Historical Fiction', 'Fiction', 'Historical', 'Fantasy Paranormal', 'Romance', 'Fantasy Magic', 'Young Adult Teen', 'Young Adult Young Adult Fantasy']",
                  "award": 2,
                  "place": "United Kingdom",
                  "url": "https://www.goodreads.com//book/show/3682.A_Great_and_Terrible_Beauty",
                  "_deepnote_index_column": 26
                },
                {
                  "Unnamed: 0": 27,
                  "title": "The Iron King",
                  "author": "Julie Kagawa",
                  "num_rating": 202542,
                  "num_reviews": 12119,
                  "avg_rating": 3.89,
                  "num_pages": 363,
                  "original_publish_year": 2010,
                  "series": true,
                  "genres": "['Fantasy', 'Young Adult', 'Romance', 'Fantasy Paranormal', 'Fairies Fae', 'Paranormal Fairies', 'Fantasy Urban Fantasy', 'Fantasy Magic', 'Fiction', 'Young Adult Young Adult Fantasy']",
                  "award": 2,
                  "place": "United States",
                  "url": "https://www.goodreads.com//book/show/6644117-the-iron-king",
                  "_deepnote_index_column": 27
                },
                {
                  "Unnamed: 0": 28,
                  "title": "Last Sacrifice",
                  "author": "Richelle Mead",
                  "num_rating": 264840,
                  "num_reviews": 11399,
                  "avg_rating": 4.37,
                  "num_pages": 594,
                  "original_publish_year": 2010,
                  "series": true,
                  "genres": "['Young Adult', 'Paranormal Vampires', 'Fantasy', 'Fantasy Paranormal', 'Romance', 'Fantasy Urban Fantasy', 'Romance Paranormal Romance', 'Fantasy Supernatural', 'Fiction', 'Fantasy Magic']",
                  "award": 1,
                  "place": "United States",
                  "url": "https://www.goodreads.com//book/show/6527740-last-sacrifice",
                  "_deepnote_index_column": 28
                },
                {
                  "Unnamed: 0": 29,
                  "title": "The Night Circus",
                  "author": "Erin Morgenstern",
                  "num_rating": 733079,
                  "num_reviews": 77427,
                  "avg_rating": 4.03,
                  "num_pages": 391,
                  "original_publish_year": 2011,
                  "series": false,
                  "genres": "['Fantasy', 'Fiction', 'Romance', 'Historical Historical Fiction', 'Fantasy Magic', 'Young Adult', 'Magical Realism', 'Adult', 'Audiobook', 'Historical']",
                  "award": 11,
                  "place": "United Kingdom",
                  "url": "https://www.goodreads.com//book/show/9361589-the-night-circus",
                  "_deepnote_index_column": 29
                },
                {
                  "Unnamed: 0": 30,
                  "title": "Betrayed",
                  "author": "P.C. Cast",
                  "num_rating": 248895,
                  "num_reviews": 5571,
                  "avg_rating": 3.92,
                  "num_pages": 310,
                  "original_publish_year": 2007,
                  "series": true,
                  "genres": "['Young Adult', 'Paranormal Vampires', 'Fantasy', 'Fantasy Paranormal', 'Romance', 'Fiction', 'Fantasy Supernatural', 'Fantasy Urban Fantasy', 'Romance Paranormal Romance', 'Fantasy Magic']",
                  "award": 0,
                  "place": "United States",
                  "url": "https://www.goodreads.com//book/show/676924.Betrayed",
                  "_deepnote_index_column": 30
                },
                {
                  "Unnamed: 0": 31,
                  "title": "Wicked Lovely",
                  "author": "Melissa Marr",
                  "num_rating": 162251,
                  "num_reviews": 7137,
                  "avg_rating": 3.69,
                  "num_pages": 328,
                  "original_publish_year": 2007,
                  "series": true,
                  "genres": "['Fantasy', 'Young Adult', 'Romance', 'Fantasy Paranormal', 'Fantasy Urban Fantasy', 'Paranormal Fairies', 'Fairies Fae', 'Fiction', 'Romance Paranormal Romance', 'Fantasy Magic']",
                  "award": 3,
                  "place": "United States",
                  "url": "https://www.goodreads.com//book/show/305234.Wicked_Lovely",
                  "_deepnote_index_column": 31
                },
                {
                  "Unnamed: 0": 32,
                  "title": "Chosen",
                  "author": "P.C. Cast",
                  "num_rating": 227774,
                  "num_reviews": 4437,
                  "avg_rating": 3.91,
                  "num_pages": 307,
                  "original_publish_year": 2008,
                  "series": true,
                  "genres": "['Young Adult', 'Paranormal Vampires', 'Fantasy', 'Fantasy Paranormal', 'Romance', 'Fiction', 'Fantasy Supernatural', 'Romance Paranormal Romance', 'Fantasy Urban Fantasy', 'Fantasy Magic']",
                  "award": 0,
                  "place": "United States",
                  "url": "https://www.goodreads.com//book/show/1326258.Chosen",
                  "_deepnote_index_column": 32
                },
                {
                  "Unnamed: 0": 33,
                  "title": "The Graveyard Book",
                  "author": "Neil Gaiman",
                  "num_rating": 460866,
                  "num_reviews": 32761,
                  "avg_rating": 4.13,
                  "num_pages": 307,
                  "original_publish_year": 2008,
                  "series": false,
                  "genres": "['Fantasy', 'Young Adult', 'Fiction', 'Horror', 'Childrens Middle Grade', 'Childrens', 'Fantasy Paranormal', 'Audiobook', 'Paranormal Ghosts', 'Fantasy Supernatural']",
                  "award": 18,
                  "place": "United Kingdom",
                  "url": "https://www.goodreads.com//book/show/2213661.The_Graveyard_Book",
                  "_deepnote_index_column": 33
                },
                {
                  "Unnamed: 0": 34,
                  "title": "City of Fallen Angels",
                  "author": "Cassandra Clare",
                  "num_rating": 511239,
                  "num_reviews": 23763,
                  "avg_rating": 4.11,
                  "num_pages": 425,
                  "original_publish_year": 2011,
                  "series": true,
                  "genres": "['Fantasy', 'Young Adult', 'Fantasy Paranormal', 'Romance', 'Fantasy Urban Fantasy', 'Paranormal Vampires', 'Fiction', 'Paranormal Angels', 'Fantasy Supernatural', 'Fantasy Magic']",
                  "award": 1,
                  "place": "United States",
                  "url": "https://www.goodreads.com//book/show/6752378-city-of-fallen-angels",
                  "_deepnote_index_column": 34
                },
                {
                  "Unnamed: 0": 35,
                  "title": "Untamed",
                  "author": "P.C. Cast",
                  "num_rating": 221822,
                  "num_reviews": 3669,
                  "avg_rating": 3.94,
                  "num_pages": 338,
                  "original_publish_year": 2008,
                  "series": true,
                  "genres": "['Young Adult', 'Paranormal Vampires', 'Fantasy', 'Fantasy Paranormal', 'Romance', 'Fiction', 'Fantasy Supernatural', 'Fantasy Urban Fantasy', 'Romance Paranormal Romance', 'Fantasy Magic']",
                  "award": 0,
                  "place": "United States",
                  "url": "https://www.goodreads.com//book/show/2866718-untamed",
                  "_deepnote_index_column": 35
                },
                {
                  "Unnamed: 0": 37,
                  "title": "The Alchemyst",
                  "author": "Michael Scott",
                  "num_rating": 148669,
                  "num_reviews": 8510,
                  "avg_rating": 3.84,
                  "num_pages": 369,
                  "original_publish_year": 2008,
                  "series": true,
                  "genres": "['Fantasy', 'Young Adult', 'Fiction', 'Fantasy Magic', 'Adventure', 'Fantasy Mythology', 'Childrens Middle Grade', 'Fantasy Urban Fantasy', 'Childrens', 'Young Adult Young Adult Fantasy']",
                  "award": 3,
                  "place": "United States",
                  "url": "https://www.goodreads.com//book/show/3168250-the-alchemyst",
                  "_deepnote_index_column": 37
                },
                {
                  "Unnamed: 0": 38,
                  "title": "Blue Bloods",
                  "author": "Melissa de la Cruz",
                  "num_rating": 136615,
                  "num_reviews": 4963,
                  "avg_rating": 3.69,
                  "num_pages": 302,
                  "original_publish_year": 2007,
                  "series": true,
                  "genres": "['Young Adult', 'Paranormal Vampires', 'Fantasy', 'Fantasy Paranormal', 'Romance', 'Fantasy Urban Fantasy', 'Fantasy Supernatural', 'Fiction', 'Romance Paranormal Romance', 'Paranormal Angels']",
                  "award": 0,
                  "place": "United States",
                  "url": "https://www.goodreads.com//book/show/872333.Blue_Bloods",
                  "_deepnote_index_column": 38
                },
                {
                  "Unnamed: 0": 39,
                  "title": "Clockwork Prince",
                  "author": "Cassandra Clare",
                  "num_rating": 471206,
                  "num_reviews": 24797,
                  "avg_rating": 4.43,
                  "num_pages": 498,
                  "original_publish_year": 2011,
                  "series": true,
                  "genres": "['Fantasy', 'Young Adult', 'Romance', 'Fantasy Paranormal', 'Science Fiction Steampunk', 'Historical Historical Fiction', 'Fantasy Urban Fantasy', 'Fiction', 'Paranormal Angels', 'Paranormal Vampires']",
                  "award": 2,
                  "place": "United Kingdom",
                  "url": "https://www.goodreads.com//book/show/10025305-clockwork-prince",
                  "_deepnote_index_column": 39
                },
                {
                  "Unnamed: 0": 41,
                  "title": "Dark Lover",
                  "author": "J.R. Ward",
                  "num_rating": 302156,
                  "num_reviews": 13410,
                  "avg_rating": 4.17,
                  "num_pages": 393,
                  "original_publish_year": 2005,
                  "series": true,
                  "genres": "['Romance', 'Fantasy Paranormal', 'Paranormal Vampires', 'Romance Paranormal Romance', 'Fantasy', 'Fantasy Urban Fantasy', 'Adult', 'Fiction', 'Fantasy Supernatural', 'Adult Fiction Erotica']",
                  "award": 5,
                  "place": "United States",
                  "url": "https://www.goodreads.com//book/show/42899.Dark_Lover",
                  "_deepnote_index_column": 41
                },
                {
                  "Unnamed: 0": 43,
                  "title": "Hunted",
                  "author": "P.C. Cast",
                  "num_rating": 170393,
                  "num_reviews": 3528,
                  "avg_rating": 3.91,
                  "num_pages": 323,
                  "original_publish_year": 2009,
                  "series": true,
                  "genres": "['Young Adult', 'Paranormal Vampires', 'Fantasy', 'Fantasy Paranormal', 'Romance', 'Fiction', 'Fantasy Supernatural', 'Fantasy Urban Fantasy', 'Romance Paranormal Romance', 'Fantasy Magic']",
                  "award": 1,
                  "place": "United States",
                  "url": "https://www.goodreads.com//book/show/4134071-hunted",
                  "_deepnote_index_column": 43
                },
                {
                  "Unnamed: 0": 45,
                  "title": "Crescendo",
                  "author": "Becca Fitzpatrick",
                  "num_rating": 288101,
                  "num_reviews": 11404,
                  "avg_rating": 4.02,
                  "num_pages": 432,
                  "original_publish_year": 2010,
                  "series": true,
                  "genres": "['Young Adult', 'Fantasy', 'Paranormal Angels', 'Fantasy Paranormal', 'Romance', 'Romance Paranormal Romance', 'Fantasy Supernatural', 'Fiction', 'Fantasy Urban Fantasy', 'Young Adult Young Adult Fantasy']",
                  "award": 1,
                  "place": "United States",
                  "url": "https://www.goodreads.com//book/show/7791997-crescendo",
                  "_deepnote_index_column": 45
                },
                {
                  "Unnamed: 0": 46,
                  "title": "The Catcher in the Rye",
                  "author": "J.D. Salinger",
                  "num_rating": 2857494,
                  "num_reviews": 60330,
                  "avg_rating": 3.81,
                  "num_pages": 277,
                  "original_publish_year": 2001,
                  "series": false,
                  "genres": "['Classics', 'Fiction', 'Young Adult', 'Literature', 'Academic School', 'Novels', 'Young Adult Coming Of Age', 'Young Adult High School', 'Literature American', 'Academic Read For School']",
                  "award": 2,
                  "place": "United States",
                  "url": "https://www.goodreads.com//book/show/5107.The_Catcher_in_the_Rye",
                  "_deepnote_index_column": 46
                },
                {
                  "Unnamed: 0": 49,
                  "title": "The Awakening",
                  "author": "Kelley Armstrong",
                  "num_rating": 111559,
                  "num_reviews": 3320,
                  "avg_rating": 4.13,
                  "num_pages": 360,
                  "original_publish_year": 2009,
                  "series": true,
                  "genres": "['Young Adult', 'Fantasy', 'Fantasy Paranormal', 'Fantasy Urban Fantasy', 'Fantasy Supernatural', 'Romance', 'Fantasy Magic', 'Shapeshifters Werewolves', 'Paranormal Ghosts', 'Fiction']",
                  "award": 1,
                  "place": "United States",
                  "url": "https://www.goodreads.com//book/show/5391115-the-awakening",
                  "_deepnote_index_column": 49
                },
                {
                  "Unnamed: 0": 50,
                  "title": "Fablehaven",
                  "author": "Brandon Mull",
                  "num_rating": 141775,
                  "num_reviews": 10161,
                  "avg_rating": 4.09,
                  "num_pages": 351,
                  "original_publish_year": 2006,
                  "series": true,
                  "genres": "['Fantasy', 'Young Adult', 'Childrens Middle Grade', 'Fiction', 'Childrens', 'Adventure', 'Fantasy Magic', 'Childrens Juvenile', 'Young Adult Young Adult Fantasy', 'Science Fiction Fantasy']",
                  "award": 2,
                  "place": "United States",
                  "url": "https://www.goodreads.com//book/show/44652.Fablehaven",
                  "_deepnote_index_column": 50
                },
                {
                  "Unnamed: 0": 51,
                  "title": "City of Lost Souls",
                  "author": "Cassandra Clare",
                  "num_rating": 451303,
                  "num_reviews": 20878,
                  "avg_rating": 4.25,
                  "num_pages": 546,
                  "original_publish_year": 2012,
                  "series": true,
                  "genres": "['Fantasy', 'Young Adult', 'Romance', 'Fantasy Paranormal', 'Fantasy Urban Fantasy', 'Paranormal Vampires', 'Paranormal Angels', 'Fiction', 'Fantasy Supernatural', 'Fantasy Magic']",
                  "award": 1,
                  "place": "United States",
                  "url": "https://www.goodreads.com//book/show/8755776-city-of-lost-souls",
                  "_deepnote_index_column": 51
                },
                {
                  "Unnamed: 0": 54,
                  "title": "Perfect Chemistry",
                  "author": "Simone Elkeles",
                  "num_rating": 245961,
                  "num_reviews": 10873,
                  "avg_rating": 4.05,
                  "num_pages": 368,
                  "original_publish_year": 2008,
                  "series": true,
                  "genres": "['Romance', 'Young Adult', 'Contemporary', 'Romance Contemporary Romance', 'Young Adult High School', 'Fiction', 'New Adult', 'Realistic Fiction', 'Womens Fiction Chick Lit', 'Young Adult Young Adult Romance']",
                  "award": 4,
                  "place": "United States",
                  "url": "https://www.goodreads.com//book/show/4268157-perfect-chemistry",
                  "_deepnote_index_column": 54
                },
                {
                  "Unnamed: 0": 56,
                  "title": "Daughter of Smoke & Bone",
                  "author": "Laini Taylor",
                  "num_rating": 331253,
                  "num_reviews": 30039,
                  "avg_rating": 3.99,
                  "num_pages": 418,
                  "original_publish_year": 2011,
                  "series": true,
                  "genres": "['Fantasy', 'Young Adult', 'Romance', 'Fantasy Paranormal', 'Paranormal Angels', 'Fantasy Urban Fantasy', 'Fiction', 'Fantasy Magic', 'Young Adult Young Adult Fantasy', 'Fantasy Supernatural']",
                  "award": 16,
                  "place": "Czech Republic",
                  "url": "https://www.goodreads.com//book/show/8490112-daughter-of-smoke-bone",
                  "_deepnote_index_column": 56
                },
                {
                  "Unnamed: 0": 58,
                  "title": "Glass Houses",
                  "author": "Rachel Caine",
                  "num_rating": 97440,
                  "num_reviews": 4893,
                  "avg_rating": 3.9,
                  "num_pages": 239,
                  "original_publish_year": 2006,
                  "series": true,
                  "genres": "['Paranormal Vampires', 'Young Adult', 'Fantasy Paranormal', 'Fantasy', 'Fantasy Urban Fantasy', 'Romance', 'Fantasy Supernatural', 'Fiction', 'Romance Paranormal Romance', 'Paranormal Ghosts']",
                  "award": 0,
                  "place": "United States",
                  "url": "https://www.goodreads.com//book/show/27266.Glass_Houses",
                  "_deepnote_index_column": 58
                },
                {
                  "Unnamed: 0": 59,
                  "title": "The Luxe",
                  "author": "Anna Godbersen",
                  "num_rating": 71147,
                  "num_reviews": 4622,
                  "avg_rating": 3.63,
                  "num_pages": 433,
                  "original_publish_year": 2007,
                  "series": true,
                  "genres": "['Historical Historical Fiction', 'Young Adult', 'Romance', 'Historical', 'Fiction', 'Womens Fiction Chick Lit', 'Romance Historical Romance', 'Young Adult Teen', 'Drama', 'Mystery']",
                  "award": 1,
                  "place": "United States",
                  "url": "https://www.goodreads.com//book/show/1254951.The_Luxe",
                  "_deepnote_index_column": 59
                },
                {
                  "Unnamed: 0": 60,
                  "title": "Obsidian",
                  "author": "Jennifer L. Armentrout",
                  "num_rating": 243427,
                  "num_reviews": 18477,
                  "avg_rating": 4.16,
                  "num_pages": 335,
                  "original_publish_year": 2012,
                  "series": true,
                  "genres": "['Young Adult', 'Fantasy Paranormal', 'Fantasy', 'Romance', 'Science Fiction Aliens', 'Science Fiction', 'Romance Paranormal Romance', 'Fantasy Supernatural', 'Fantasy Urban Fantasy', 'Fiction']",
                  "award": 0,
                  "place": "United States",
                  "url": "https://www.goodreads.com//book/show/12578077-obsidian",
                  "_deepnote_index_column": 60
                },
                {
                  "Unnamed: 0": 61,
                  "title": "Tempted",
                  "author": "P.C. Cast",
                  "num_rating": 156837,
                  "num_reviews": 3429,
                  "avg_rating": 3.94,
                  "num_pages": 319,
                  "original_publish_year": 2009,
                  "series": true,
                  "genres": "['Young Adult', 'Paranormal Vampires', 'Fantasy', 'Fantasy Paranormal', 'Romance', 'Fantasy Supernatural', 'Fiction', 'Romance Paranormal Romance', 'Fantasy Urban Fantasy', 'Fantasy Magic']",
                  "award": 1,
                  "place": "United States",
                  "url": "https://www.goodreads.com//book/show/6262365-tempted",
                  "_deepnote_index_column": 61
                },
                {
                  "Unnamed: 0": 62,
                  "title": "Torment",
                  "author": "Lauren Kate",
                  "num_rating": 217530,
                  "num_reviews": 8033,
                  "avg_rating": 3.86,
                  "num_pages": 452,
                  "original_publish_year": 2010,
                  "series": true,
                  "genres": "['Young Adult', 'Fantasy', 'Paranormal Angels', 'Romance', 'Fantasy Paranormal', 'Romance Paranormal Romance', 'Fantasy Supernatural', 'Fiction', 'Fantasy Urban Fantasy', 'Young Adult Teen']",
                  "award": 0,
                  "place": "United States",
                  "url": "https://www.goodreads.com//book/show/7740152-torment",
                  "_deepnote_index_column": 62
                },
                {
                  "Unnamed: 0": 63,
                  "title": "Moon Called",
                  "author": "Patricia Briggs",
                  "num_rating": 186972,
                  "num_reviews": 8681,
                  "avg_rating": 4.13,
                  "num_pages": 289,
                  "original_publish_year": 2006,
                  "series": true,
                  "genres": "['Fantasy Urban Fantasy', 'Fantasy', 'Fantasy Paranormal', 'Paranormal Vampires', 'Romance', 'Shapeshifters Werewolves', 'Romance Paranormal Romance', 'Fiction', 'Paranormal Shapeshifters', 'Fantasy Supernatural']",
                  "award": 0,
                  "place": "United States",
                  "url": "https://www.goodreads.com//book/show/71811.Moon_Called",
                  "_deepnote_index_column": 63
                },
                {
                  "Unnamed: 0": 65,
                  "title": "Cross My Heart and Hope to Spy",
                  "author": "Ally Carter",
                  "num_rating": 85255,
                  "num_reviews": 3467,
                  "avg_rating": 4.12,
                  "num_pages": 236,
                  "original_publish_year": 2007,
                  "series": true,
                  "genres": "['Young Adult', 'Mystery', 'Romance', 'Contemporary', 'Fiction', 'Spy Thriller Espionage', 'Adventure', 'Womens Fiction Chick Lit', 'Young Adult Teen', 'Action']",
                  "award": 0,
                  "place": "United States",
                  "url": "https://www.goodreads.com//book/show/568645.Cross_My_Heart_and_Hope_to_Spy",
                  "_deepnote_index_column": 65
                },
                {
                  "Unnamed: 0": 67,
                  "title": "The Historian",
                  "author": "Elizabeth Kostova",
                  "num_rating": 250739,
                  "num_reviews": 16493,
                  "avg_rating": 3.78,
                  "num_pages": 704,
                  "original_publish_year": 2005,
                  "series": false,
                  "genres": "['Fiction', 'Historical Historical Fiction', 'Fantasy', 'Horror', 'Mystery', 'Paranormal Vampires', 'Historical', 'Fantasy Paranormal', 'Gothic', 'Thriller']",
                  "award": 5,
                  "place": "Netherlands",
                  "url": "https://www.goodreads.com//book/show/30236962-the-historian",
                  "_deepnote_index_column": 67
                },
                {
                  "Unnamed: 0": 70,
                  "title": "Unwind",
                  "author": "Neal Shusterman",
                  "num_rating": 202191,
                  "num_reviews": 19136,
                  "avg_rating": 4.16,
                  "num_pages": 337,
                  "original_publish_year": 2007,
                  "series": true,
                  "genres": "['Young Adult', 'Science Fiction Dystopia', 'Science Fiction', 'Fiction', 'Fantasy', 'Horror', 'Young Adult Teen', 'Thriller', 'Adventure', 'Adventure Survival']",
                  "award": 12,
                  "place": "United States",
                  "url": "https://www.goodreads.com//book/show/764347.Unwind",
                  "_deepnote_index_column": 70
                },
                {
                  "Unnamed: 0": 71,
                  "title": "Bloodlines",
                  "author": "Richelle Mead",
                  "num_rating": 175257,
                  "num_reviews": 8404,
                  "avg_rating": 4.19,
                  "num_pages": 421,
                  "original_publish_year": 2011,
                  "series": true,
                  "genres": "['Young Adult', 'Paranormal Vampires', 'Fantasy', 'Fantasy Paranormal', 'Romance', 'Fantasy Urban Fantasy', 'Fantasy Magic', 'Fantasy Supernatural', 'Romance Paranormal Romance', 'Fiction']",
                  "award": 1,
                  "place": "United States",
                  "url": "https://www.goodreads.com//book/show/8709527-bloodlines",
                  "_deepnote_index_column": 71
                },
                {
                  "Unnamed: 0": 72,
                  "title": "Heist Society",
                  "author": "Ally Carter",
                  "num_rating": 90313,
                  "num_reviews": 5301,
                  "avg_rating": 3.9,
                  "num_pages": 287,
                  "original_publish_year": 2010,
                  "series": true,
                  "genres": "['Young Adult', 'Mystery', 'Contemporary', 'Romance', 'Fiction', 'Adventure', 'Young Adult Teen', 'Mystery Crime', 'Womens Fiction Chick Lit', 'Realistic Fiction']",
                  "award": 3,
                  "place": "United States",
                  "url": "https://www.goodreads.com//book/show/6574102-heist-society",
                  "_deepnote_index_column": 72
                },
                {
                  "Unnamed: 0": 73,
                  "title": "Hex Hall",
                  "author": "Rachel Hawkins",
                  "num_rating": 140285,
                  "num_reviews": 8484,
                  "avg_rating": 3.92,
                  "num_pages": 323,
                  "original_publish_year": 2010,
                  "series": true,
                  "genres": "['Young Adult', 'Fantasy', 'Fantasy Paranormal', 'Fantasy Magic', 'Romance', 'Paranormal Vampires', 'Paranormal Witches', 'Fantasy Supernatural', 'Fantasy Urban Fantasy', 'Paranormal Demons']",
                  "award": 0,
                  "place": "United States",
                  "url": "https://www.goodreads.com//book/show/5287473-hex-hall",
                  "_deepnote_index_column": 73
                },
                {
                  "Unnamed: 0": 75,
                  "title": "The Red Pyramid",
                  "author": "Rick Riordan",
                  "num_rating": 339996,
                  "num_reviews": 13539,
                  "avg_rating": 4.08,
                  "num_pages": 516,
                  "original_publish_year": 2010,
                  "series": true,
                  "genres": "['Fantasy', 'Young Adult', 'Fantasy Mythology', 'Childrens Middle Grade', 'Adventure', 'Fiction', 'Childrens', 'Fantasy Magic', 'Fantasy Urban Fantasy', 'Science Fiction Fantasy']",
                  "award": 5,
                  "place": "United Kingdom",
                  "url": "https://www.goodreads.com//book/show/7090447-the-red-pyramid",
                  "_deepnote_index_column": 75
                },
                {
                  "Unnamed: 0": 76,
                  "title": "Just Listen",
                  "author": "Sarah Dessen",
                  "num_rating": 238556,
                  "num_reviews": 8231,
                  "avg_rating": 4.05,
                  "num_pages": 371,
                  "original_publish_year": 2006,
                  "series": false,
                  "genres": "['Young Adult', 'Romance', 'Contemporary', 'Fiction', 'Realistic Fiction', 'Womens Fiction Chick Lit', 'Young Adult Teen', 'Music', 'Young Adult Young Adult Contemporary', 'Young Adult High School']",
                  "award": 5,
                  "place": "United States",
                  "url": "https://www.goodreads.com//book/show/51738.Just_Listen",
                  "_deepnote_index_column": 76
                },
                {
                  "Unnamed: 0": 77,
                  "title": "The Shadow of the Wind",
                  "author": "Carlos Ruiz Zafón",
                  "num_rating": 495924,
                  "num_reviews": 38232,
                  "avg_rating": 4.27,
                  "num_pages": 487,
                  "original_publish_year": 2005,
                  "series": true,
                  "genres": "['Fiction', 'Historical Historical Fiction', 'Mystery', 'Fantasy', 'Writing Books About Books', 'Historical', 'Cultural Spain', 'Magical Realism', 'European Literature Spanish Literature', 'Gothic']",
                  "award": 11,
                  "place": "Spain",
                  "url": "https://www.goodreads.com//book/show/1232.The_Shadow_of_the_Wind",
                  "_deepnote_index_column": 77
                },
                {
                  "Unnamed: 0": 78,
                  "title": "Anna and the French Kiss",
                  "author": "Stephanie Perkins",
                  "num_rating": 379677,
                  "num_reviews": 30249,
                  "avg_rating": 4,
                  "num_pages": 372,
                  "original_publish_year": 2010,
                  "series": true,
                  "genres": "['Young Adult', 'Romance', 'Contemporary', 'Womens Fiction Chick Lit', 'Fiction', 'Realistic Fiction', 'Young Adult Young Adult Contemporary', 'Romance Contemporary Romance', 'Young Adult Young Adult Romance', 'Young Adult Teen']",
                  "award": 9,
                  "place": "France",
                  "url": "https://www.goodreads.com//book/show/6936382-anna-and-the-french-kiss",
                  "_deepnote_index_column": 78
                },
                {
                  "Unnamed: 0": 79,
                  "title": "Clockwork Princess",
                  "author": "Cassandra Clare",
                  "num_rating": 366577,
                  "num_reviews": 31956,
                  "avg_rating": 4.55,
                  "num_pages": 567,
                  "original_publish_year": 2013,
                  "series": true,
                  "genres": "['Fantasy', 'Young Adult', 'Romance', 'Fantasy Paranormal', 'Science Fiction Steampunk', 'Historical Historical Fiction', 'Fantasy Urban Fantasy', 'Paranormal Angels', 'Fiction', 'Historical']",
                  "award": 1,
                  "place": "United Kingdom",
                  "url": "https://www.goodreads.com//book/show/18335634-clockwork-princess",
                  "_deepnote_index_column": 79
                },
                {
                  "Unnamed: 0": 82,
                  "title": "Silence",
                  "author": "Becca Fitzpatrick",
                  "num_rating": 253228,
                  "num_reviews": 8256,
                  "avg_rating": 4.11,
                  "num_pages": 448,
                  "original_publish_year": 2011,
                  "series": true,
                  "genres": "['Young Adult', 'Fantasy', 'Paranormal Angels', 'Romance', 'Fantasy Paranormal', 'Romance Paranormal Romance', 'Fantasy Supernatural', 'Fiction', 'Fantasy Urban Fantasy', 'Young Adult Young Adult Fantasy']",
                  "award": 1,
                  "place": "United States",
                  "url": "https://www.goodreads.com//book/show/10637766-silence",
                  "_deepnote_index_column": 82
                },
                {
                  "Unnamed: 0": 84,
                  "title": "Blue Moon",
                  "author": "Alyson Noel",
                  "num_rating": 91571,
                  "num_reviews": 3764,
                  "avg_rating": 3.6,
                  "num_pages": 284,
                  "original_publish_year": 2009,
                  "series": true,
                  "genres": "['Young Adult', 'Fantasy', 'Fantasy Paranormal', 'Romance', 'Fantasy Supernatural', 'Romance Paranormal Romance', 'Fiction', 'Fantasy Magic', 'Fantasy Urban Fantasy', 'Young Adult Teen']",
                  "award": 1,
                  "place": "United States",
                  "url": "https://www.goodreads.com//book/show/6134826-blue-moon",
                  "_deepnote_index_column": 84
                },
                {
                  "Unnamed: 0": 87,
                  "title": "Don't Judge a Girl by Her Cover",
                  "author": "Ally Carter",
                  "num_rating": 65809,
                  "num_reviews": 2688,
                  "avg_rating": 4.21,
                  "num_pages": 263,
                  "original_publish_year": 2009,
                  "series": true,
                  "genres": "['Young Adult', 'Mystery', 'Romance', 'Contemporary', 'Fiction', 'Spy Thriller Espionage', 'Adventure', 'Womens Fiction Chick Lit', 'Young Adult Teen', 'Action']",
                  "award": 1,
                  "place": "United States",
                  "url": "https://www.goodreads.com//book/show/5267365-don-t-judge-a-girl-by-her-cover",
                  "_deepnote_index_column": 87
                },
                {
                  "Unnamed: 0": 89,
                  "title": "Linger",
                  "author": "Maggie Stiefvater",
                  "num_rating": 159664,
                  "num_reviews": 9645,
                  "avg_rating": 3.89,
                  "num_pages": 362,
                  "original_publish_year": 2010,
                  "series": true,
                  "genres": "['Young Adult', 'Fantasy', 'Romance', 'Fantasy Paranormal', 'Shapeshifters Werewolves', 'Fiction', 'Romance Paranormal Romance', 'Fantasy Supernatural', 'Fantasy Urban Fantasy', 'Young Adult Young Adult Fantasy']",
                  "award": 1,
                  "place": "United States",
                  "url": "https://www.goodreads.com//book/show/6654313-linger",
                  "_deepnote_index_column": 89
                },
                {
                  "Unnamed: 0": 92,
                  "title": "Acheron",
                  "author": "Sherrilyn Kenyon",
                  "num_rating": 56166,
                  "num_reviews": 3676,
                  "avg_rating": 4.55,
                  "num_pages": 728,
                  "original_publish_year": 2008,
                  "series": true,
                  "genres": "['Romance Paranormal Romance', 'Fantasy Paranormal', 'Romance', 'Fantasy', 'Paranormal Vampires', 'Fantasy Urban Fantasy', 'Fantasy Mythology', 'Adult', 'Fiction', 'Paranormal Demons']",
                  "award": 0,
                  "place": "United States",
                  "url": "https://www.goodreads.com//book/show/2299110.Acheron",
                  "_deepnote_index_column": 92
                },
                {
                  "Unnamed: 0": 94,
                  "title": "Shadowland",
                  "author": "Jenny Carroll",
                  "num_rating": 66946,
                  "num_reviews": 2510,
                  "avg_rating": 4.02,
                  "num_pages": 287,
                  "original_publish_year": 2005,
                  "series": true,
                  "genres": "['Young Adult', 'Fantasy', 'Fantasy Paranormal', 'Romance', 'Paranormal Ghosts', 'Fiction', 'Fantasy Supernatural', 'Mystery', 'Womens Fiction Chick Lit', 'Young Adult Teen']",
                  "award": 0,
                  "place": "United States",
                  "url": "https://www.goodreads.com//book/show/187811.Shadowland",
                  "_deepnote_index_column": 94
                },
                {
                  "Unnamed: 0": 96,
                  "title": "Wake",
                  "author": "Lisa McMann",
                  "num_rating": 80039,
                  "num_reviews": 5481,
                  "avg_rating": 3.75,
                  "num_pages": 210,
                  "original_publish_year": 2008,
                  "series": true,
                  "genres": "['Young Adult', 'Romance', 'Fiction', 'Fantasy Supernatural', 'Fantasy', 'Mystery', 'Young Adult Teen', 'Fantasy Urban Fantasy', 'Fantasy Paranormal', 'Romance Paranormal Romance']",
                  "award": 3,
                  "place": "United States",
                  "url": "https://www.goodreads.com//book/show/1661957.Wake",
                  "_deepnote_index_column": 96
                },
                {
                  "Unnamed: 0": 97,
                  "title": "The Son of Neptune",
                  "author": "Rick Riordan",
                  "num_rating": 442699,
                  "num_reviews": 16540,
                  "avg_rating": 4.42,
                  "num_pages": 513,
                  "original_publish_year": 2011,
                  "series": true,
                  "genres": "['Fantasy', 'Young Adult', 'Fantasy Mythology', 'Fiction', 'Childrens Middle Grade', 'Adventure', 'Childrens', 'Mythology Greek Mythology', 'Fantasy Urban Fantasy', 'Young Adult Young Adult Fantasy']",
                  "award": 2,
                  "place": "United States",
                  "url": "https://www.goodreads.com//book/show/9520360-the-son-of-neptune",
                  "_deepnote_index_column": 97
                }
              ],
              "rows_bottom": null
            },
            "text/plain": "    Unnamed: 0               title             author  num_rating  \\\n0            0       City of Ashes    Cassandra Clare      789895   \n1            1          Hush, Hush  Becca Fitzpatrick      604813   \n2            2       City of Glass    Cassandra Clare      834498   \n3            3     Clockwork Angel    Cassandra Clare      709686   \n4            4              Marked          P.C. Cast      448045   \n..         ...                 ...                ...         ...   \n89          89              Linger  Maggie Stiefvater      159664   \n92          92             Acheron   Sherrilyn Kenyon       56166   \n94          94          Shadowland      Jenny Carroll       66946   \n96          96                Wake        Lisa McMann       80039   \n97          97  The Son of Neptune       Rick Riordan      442699   \n\n    num_reviews  avg_rating  num_pages  original_publish_year  series  \\\n0         30434        4.15        453                   2008    True   \n1         25700        3.95        391                   2009    True   \n2         29070        4.30        541                   2009    True   \n3         33612        4.31        479                   2010    True   \n4         14504        3.80        306                   2007    True   \n..          ...         ...        ...                    ...     ...   \n89         9645        3.89        362                   2010    True   \n92         3676        4.55        728                   2008    True   \n94         2510        4.02        287                   2005    True   \n96         5481        3.75        210                   2008    True   \n97        16540        4.42        513                   2011    True   \n\n                                               genres  award           place  \\\n0   ['Fantasy', 'Young Adult', 'Fantasy Paranormal...      2   United States   \n1   ['Young Adult', 'Fantasy', 'Romance', 'Fantasy...      1   United States   \n2   ['Fantasy', 'Young Adult', 'Fantasy Paranormal...      3   United States   \n3   ['Fantasy', 'Young Adult', 'Romance', 'Fantasy...     10  United Kingdom   \n4   ['Young Adult', 'Fantasy', 'Paranormal Vampire...      1   United States   \n..                                                ...    ...             ...   \n89  ['Young Adult', 'Fantasy', 'Romance', 'Fantasy...      1   United States   \n92  ['Romance Paranormal Romance', 'Fantasy Parano...      0   United States   \n94  ['Young Adult', 'Fantasy', 'Fantasy Paranormal...      0   United States   \n96  ['Young Adult', 'Romance', 'Fiction', 'Fantasy...      3   United States   \n97  ['Fantasy', 'Young Adult', 'Fantasy Mythology'...      2   United States   \n\n                                                  url  \n0   https://www.goodreads.com//book/show/1582996.C...  \n1   https://www.goodreads.com//book/show/6339664-h...  \n2   https://www.goodreads.com//book/show/3777732-c...  \n3   https://www.goodreads.com//book/show/7171637-c...  \n4   https://www.goodreads.com//book/show/30183.Marked  \n..                                                ...  \n89  https://www.goodreads.com//book/show/6654313-l...  \n92  https://www.goodreads.com//book/show/2299110.A...  \n94  https://www.goodreads.com//book/show/187811.Sh...  \n96  https://www.goodreads.com//book/show/1661957.Wake  \n97  https://www.goodreads.com//book/show/9520360-t...  \n\n[64 rows x 13 columns]",
            "text/html": "<div>\n<style scoped>\n    .dataframe tbody tr th:only-of-type {\n        vertical-align: middle;\n    }\n\n    .dataframe tbody tr th {\n        vertical-align: top;\n    }\n\n    .dataframe thead th {\n        text-align: right;\n    }\n</style>\n<table border=\"1\" class=\"dataframe\">\n  <thead>\n    <tr style=\"text-align: right;\">\n      <th></th>\n      <th>Unnamed: 0</th>\n      <th>title</th>\n      <th>author</th>\n      <th>num_rating</th>\n      <th>num_reviews</th>\n      <th>avg_rating</th>\n      <th>num_pages</th>\n      <th>original_publish_year</th>\n      <th>series</th>\n      <th>genres</th>\n      <th>award</th>\n      <th>place</th>\n      <th>url</th>\n    </tr>\n  </thead>\n  <tbody>\n    <tr>\n      <th>0</th>\n      <td>0</td>\n      <td>City of Ashes</td>\n      <td>Cassandra Clare</td>\n      <td>789895</td>\n      <td>30434</td>\n      <td>4.15</td>\n      <td>453</td>\n      <td>2008</td>\n      <td>True</td>\n      <td>['Fantasy', 'Young Adult', 'Fantasy Paranormal...</td>\n      <td>2</td>\n      <td>United States</td>\n      <td>https://www.goodreads.com//book/show/1582996.C...</td>\n    </tr>\n    <tr>\n      <th>1</th>\n      <td>1</td>\n      <td>Hush, Hush</td>\n      <td>Becca Fitzpatrick</td>\n      <td>604813</td>\n      <td>25700</td>\n      <td>3.95</td>\n      <td>391</td>\n      <td>2009</td>\n      <td>True</td>\n      <td>['Young Adult', 'Fantasy', 'Romance', 'Fantasy...</td>\n      <td>1</td>\n      <td>United States</td>\n      <td>https://www.goodreads.com//book/show/6339664-h...</td>\n    </tr>\n    <tr>\n      <th>2</th>\n      <td>2</td>\n      <td>City of Glass</td>\n      <td>Cassandra Clare</td>\n      <td>834498</td>\n      <td>29070</td>\n      <td>4.30</td>\n      <td>541</td>\n      <td>2009</td>\n      <td>True</td>\n      <td>['Fantasy', 'Young Adult', 'Fantasy Paranormal...</td>\n      <td>3</td>\n      <td>United States</td>\n      <td>https://www.goodreads.com//book/show/3777732-c...</td>\n    </tr>\n    <tr>\n      <th>3</th>\n      <td>3</td>\n      <td>Clockwork Angel</td>\n      <td>Cassandra Clare</td>\n      <td>709686</td>\n      <td>33612</td>\n      <td>4.31</td>\n      <td>479</td>\n      <td>2010</td>\n      <td>True</td>\n      <td>['Fantasy', 'Young Adult', 'Romance', 'Fantasy...</td>\n      <td>10</td>\n      <td>United Kingdom</td>\n      <td>https://www.goodreads.com//book/show/7171637-c...</td>\n    </tr>\n    <tr>\n      <th>4</th>\n      <td>4</td>\n      <td>Marked</td>\n      <td>P.C. Cast</td>\n      <td>448045</td>\n      <td>14504</td>\n      <td>3.80</td>\n      <td>306</td>\n      <td>2007</td>\n      <td>True</td>\n      <td>['Young Adult', 'Fantasy', 'Paranormal Vampire...</td>\n      <td>1</td>\n      <td>United States</td>\n      <td>https://www.goodreads.com//book/show/30183.Marked</td>\n    </tr>\n    <tr>\n      <th>...</th>\n      <td>...</td>\n      <td>...</td>\n      <td>...</td>\n      <td>...</td>\n      <td>...</td>\n      <td>...</td>\n      <td>...</td>\n      <td>...</td>\n      <td>...</td>\n      <td>...</td>\n      <td>...</td>\n      <td>...</td>\n      <td>...</td>\n    </tr>\n    <tr>\n      <th>89</th>\n      <td>89</td>\n      <td>Linger</td>\n      <td>Maggie Stiefvater</td>\n      <td>159664</td>\n      <td>9645</td>\n      <td>3.89</td>\n      <td>362</td>\n      <td>2010</td>\n      <td>True</td>\n      <td>['Young Adult', 'Fantasy', 'Romance', 'Fantasy...</td>\n      <td>1</td>\n      <td>United States</td>\n      <td>https://www.goodreads.com//book/show/6654313-l...</td>\n    </tr>\n    <tr>\n      <th>92</th>\n      <td>92</td>\n      <td>Acheron</td>\n      <td>Sherrilyn Kenyon</td>\n      <td>56166</td>\n      <td>3676</td>\n      <td>4.55</td>\n      <td>728</td>\n      <td>2008</td>\n      <td>True</td>\n      <td>['Romance Paranormal Romance', 'Fantasy Parano...</td>\n      <td>0</td>\n      <td>United States</td>\n      <td>https://www.goodreads.com//book/show/2299110.A...</td>\n    </tr>\n    <tr>\n      <th>94</th>\n      <td>94</td>\n      <td>Shadowland</td>\n      <td>Jenny Carroll</td>\n      <td>66946</td>\n      <td>2510</td>\n      <td>4.02</td>\n      <td>287</td>\n      <td>2005</td>\n      <td>True</td>\n      <td>['Young Adult', 'Fantasy', 'Fantasy Paranormal...</td>\n      <td>0</td>\n      <td>United States</td>\n      <td>https://www.goodreads.com//book/show/187811.Sh...</td>\n    </tr>\n    <tr>\n      <th>96</th>\n      <td>96</td>\n      <td>Wake</td>\n      <td>Lisa McMann</td>\n      <td>80039</td>\n      <td>5481</td>\n      <td>3.75</td>\n      <td>210</td>\n      <td>2008</td>\n      <td>True</td>\n      <td>['Young Adult', 'Romance', 'Fiction', 'Fantasy...</td>\n      <td>3</td>\n      <td>United States</td>\n      <td>https://www.goodreads.com//book/show/1661957.Wake</td>\n    </tr>\n    <tr>\n      <th>97</th>\n      <td>97</td>\n      <td>The Son of Neptune</td>\n      <td>Rick Riordan</td>\n      <td>442699</td>\n      <td>16540</td>\n      <td>4.42</td>\n      <td>513</td>\n      <td>2011</td>\n      <td>True</td>\n      <td>['Fantasy', 'Young Adult', 'Fantasy Mythology'...</td>\n      <td>2</td>\n      <td>United States</td>\n      <td>https://www.goodreads.com//book/show/9520360-t...</td>\n    </tr>\n  </tbody>\n</table>\n<p>64 rows × 13 columns</p>\n</div>"
          },
          "metadata": {}
        }
      ],
      "execution_count": 5
    },
    {
      "cell_type": "markdown",
      "source": "# 1. Min-Max normalization",
      "metadata": {
        "tags": [],
        "cell_id": "00003-ceeee904-a3d5-411f-9282-f70c0c81d192",
        "deepnote_cell_type": "markdown"
      }
    },
    {
      "cell_type": "code",
      "metadata": {
        "tags": [],
        "cell_id": "00002-c2fe67aa-c286-482e-a296-54c6c38ba4f5",
        "deepnote_to_be_reexecuted": false,
        "source_hash": "f67c11a",
        "execution_millis": 5,
        "execution_start": 1618396767713,
        "deepnote_cell_type": "code"
      },
      "source": "#Step 1: find min(avg_rating)\nminValue = df['avg_rating'].min()\nprint('Minimum rating: ', minValue)\n\n#Step2: find max(avg_rating)\nmaxValue = df['avg_rating'].max()\nprint('Maximum rating: ', maxValue)",
      "execution_count": 11,
      "outputs": [
        {
          "name": "stdout",
          "text": "Minimum rating:  3.59\nMaximum rating:  4.55\n",
          "output_type": "stream"
        }
      ]
    },
    {
      "cell_type": "code",
      "source": "#Step3 min max norm\ndef minmax_norm(data_column_name):\n    x = data_column_name\n    mean_norm_ratings=1+((x-x.min())/(x.max()-x.min()))*9\n    return mean_norm_ratings",
      "metadata": {
        "tags": [],
        "cell_id": "00005-11b6f6af-70cc-46de-a1db-02394a3e50be",
        "deepnote_to_be_reexecuted": false,
        "source_hash": "d89c9741",
        "execution_millis": 0,
        "execution_start": 1618396785803,
        "deepnote_cell_type": "code"
      },
      "outputs": [],
      "execution_count": 15
    },
    {
      "cell_type": "code",
      "source": "minmax_norm(df['avg_rating'])",
      "metadata": {
        "tags": [],
        "cell_id": "00007-f49419c3-da07-4720-85ab-00a9061e0c4e",
        "deepnote_to_be_reexecuted": false,
        "source_hash": "d302605f",
        "execution_millis": 8,
        "execution_start": 1618396788538,
        "deepnote_cell_type": "code"
      },
      "outputs": [
        {
          "output_type": "execute_result",
          "execution_count": 16,
          "data": {
            "text/plain": "0      6.25000\n1      4.37500\n2      7.65625\n3      7.75000\n4      2.96875\n        ...   \n89     3.81250\n92    10.00000\n94     5.03125\n96     2.50000\n97     8.78125\nName: avg_rating, Length: 64, dtype: float64"
          },
          "metadata": {}
        }
      ],
      "execution_count": 16
    },
    {
      "cell_type": "markdown",
      "source": "# Mean normalization",
      "metadata": {
        "tags": [],
        "cell_id": "00006-0ac11e18-a34e-4efc-86bb-61287f6c8fad",
        "deepnote_cell_type": "markdown"
      }
    },
    {
      "cell_type": "code",
      "source": "#Step1 : average (avg_rating)\ndf_mean = df[[\"avg_rating\"]].mean()\ndf_mean",
      "metadata": {
        "tags": [],
        "cell_id": "00007-b3eed900-c162-4d76-854a-32346e1da4ff",
        "deepnote_to_be_reexecuted": false,
        "source_hash": "ff78f611",
        "execution_millis": 6,
        "execution_start": 1618396778773,
        "deepnote_cell_type": "code"
      },
      "outputs": [
        {
          "output_type": "execute_result",
          "execution_count": 13,
          "data": {
            "text/plain": "avg_rating    4.046719\ndtype: float64"
          },
          "metadata": {}
        }
      ],
      "execution_count": 13
    },
    {
      "cell_type": "code",
      "source": "def mean_norm(data_column_name):\n    x = data_column_name\n    mean_norm_ratings=1+((x-x.mean())/(x.max()-x.min()))*9\n    return mean_norm_ratings\n",
      "metadata": {
        "tags": [],
        "cell_id": "00008-78f38d71-87b6-4aaf-8e30-92d6be9b596f",
        "deepnote_to_be_reexecuted": false,
        "source_hash": "cae2bb51",
        "execution_millis": 1,
        "execution_start": 1618396782116,
        "deepnote_cell_type": "code"
      },
      "outputs": [],
      "execution_count": 14
    },
    {
      "cell_type": "code",
      "source": "#print(type(mean_norm(cleaned[\"avg_rating\"])))\na = mean_norm(df[\"avg_rating\"])\na.to_frame()\n\n",
      "metadata": {
        "tags": [],
        "cell_id": "00009-42b79a29-7ad2-428f-9484-bcea82590d72",
        "deepnote_to_be_reexecuted": false,
        "source_hash": "e08888d5",
        "execution_millis": 15,
        "output_cleared": false,
        "execution_start": 1618396789472,
        "deepnote_cell_type": "code"
      },
      "outputs": [
        {
          "output_type": "execute_result",
          "execution_count": 17,
          "data": {
            "application/vnd.deepnote.dataframe.v2+json": {
              "row_count": 64,
              "column_count": 1,
              "columns": [
                {
                  "name": "avg_rating",
                  "dtype": "float64",
                  "stats": {
                    "unique_count": 46,
                    "nan_count": 0,
                    "min": "-3.2817382812500027",
                    "max": "5.718261718749997",
                    "histogram": [
                      {
                        "bin_start": -3.2817382812500027,
                        "bin_end": -2.3817382812500028,
                        "count": 3
                      },
                      {
                        "bin_start": -2.3817382812500028,
                        "bin_end": -1.4817382812500026,
                        "count": 6
                      },
                      {
                        "bin_start": -1.4817382812500026,
                        "bin_end": -0.5817382812500025,
                        "count": 6
                      },
                      {
                        "bin_start": -0.5817382812500025,
                        "bin_end": 0.3182617187499974,
                        "count": 11
                      },
                      {
                        "bin_start": 0.3182617187499974,
                        "bin_end": 1.2182617187499973,
                        "count": 8
                      },
                      {
                        "bin_start": 1.2182617187499973,
                        "bin_end": 2.1182617187499977,
                        "count": 12
                      },
                      {
                        "bin_start": 2.1182617187499977,
                        "bin_end": 3.018261718749997,
                        "count": 5
                      },
                      {
                        "bin_start": 3.018261718749997,
                        "bin_end": 3.9182617187499975,
                        "count": 7
                      },
                      {
                        "bin_start": 3.9182617187499975,
                        "bin_end": 4.818261718749997,
                        "count": 3
                      },
                      {
                        "bin_start": 4.818261718749997,
                        "bin_end": 5.718261718749997,
                        "count": 3
                      }
                    ]
                  }
                },
                {
                  "name": "_deepnote_index_column",
                  "dtype": "int64"
                }
              ],
              "rows_top": [
                {
                  "avg_rating": 1.968261718750002,
                  "_deepnote_index_column": 0
                },
                {
                  "avg_rating": 0.09326171875000033,
                  "_deepnote_index_column": 1
                },
                {
                  "avg_rating": 3.3745117187499973,
                  "_deepnote_index_column": 2
                },
                {
                  "avg_rating": 3.4682617187499956,
                  "_deepnote_index_column": 3
                },
                {
                  "avg_rating": -1.312988281250003,
                  "_deepnote_index_column": 4
                },
                {
                  "avg_rating": -1.6879882812500036,
                  "_deepnote_index_column": 6
                },
                {
                  "avg_rating": 2.9995117187499964,
                  "_deepnote_index_column": 7
                },
                {
                  "avg_rating": -1.1254882812500027,
                  "_deepnote_index_column": 8
                },
                {
                  "avg_rating": 5.249511718749999,
                  "_deepnote_index_column": 10
                },
                {
                  "avg_rating": 1.2182617187500013,
                  "_deepnote_index_column": 11
                },
                {
                  "avg_rating": 3.6557617187499996,
                  "_deepnote_index_column": 14
                },
                {
                  "avg_rating": 3.3745117187499973,
                  "_deepnote_index_column": 16
                },
                {
                  "avg_rating": 3.5620117187500013,
                  "_deepnote_index_column": 17
                },
                {
                  "avg_rating": -3.2817382812500027,
                  "_deepnote_index_column": 22
                },
                {
                  "avg_rating": 0.5620117187499987,
                  "_deepnote_index_column": 23
                },
                {
                  "avg_rating": -0.7504882812500027,
                  "_deepnote_index_column": 24
                },
                {
                  "avg_rating": 3.6557617187499996,
                  "_deepnote_index_column": 25
                },
                {
                  "avg_rating": -1.5004882812500036,
                  "_deepnote_index_column": 26
                },
                {
                  "avg_rating": -0.4692382812500002,
                  "_deepnote_index_column": 27
                },
                {
                  "avg_rating": 4.03076171875,
                  "_deepnote_index_column": 28
                },
                {
                  "avg_rating": 0.843261718750001,
                  "_deepnote_index_column": 29
                },
                {
                  "avg_rating": -0.18798828125000222,
                  "_deepnote_index_column": 30
                },
                {
                  "avg_rating": -2.3442382812500018,
                  "_deepnote_index_column": 31
                },
                {
                  "avg_rating": -0.28173828125,
                  "_deepnote_index_column": 32
                },
                {
                  "avg_rating": 1.7807617187499978,
                  "_deepnote_index_column": 33
                },
                {
                  "avg_rating": 1.5932617187500018,
                  "_deepnote_index_column": 34
                },
                {
                  "avg_rating": -0.0004882812500017764,
                  "_deepnote_index_column": 35
                },
                {
                  "avg_rating": -0.9379882812500027,
                  "_deepnote_index_column": 37
                },
                {
                  "avg_rating": -2.3442382812500018,
                  "_deepnote_index_column": 38
                },
                {
                  "avg_rating": 4.5932617187499964,
                  "_deepnote_index_column": 39
                },
                {
                  "avg_rating": 2.1557617187499982,
                  "_deepnote_index_column": 41
                },
                {
                  "avg_rating": -0.28173828125,
                  "_deepnote_index_column": 43
                },
                {
                  "avg_rating": 0.7495117187499947,
                  "_deepnote_index_column": 45
                },
                {
                  "avg_rating": -1.2192382812500009,
                  "_deepnote_index_column": 46
                },
                {
                  "avg_rating": 1.7807617187499978,
                  "_deepnote_index_column": 49
                },
                {
                  "avg_rating": 1.4057617187499973,
                  "_deepnote_index_column": 50
                },
                {
                  "avg_rating": 2.905761718749999,
                  "_deepnote_index_column": 51
                },
                {
                  "avg_rating": 1.030761718749997,
                  "_deepnote_index_column": 54
                },
                {
                  "avg_rating": 0.46826171875000067,
                  "_deepnote_index_column": 56
                },
                {
                  "avg_rating": -0.3754882812500022,
                  "_deepnote_index_column": 58
                },
                {
                  "avg_rating": -2.9067382812500027,
                  "_deepnote_index_column": 59
                },
                {
                  "avg_rating": 2.06201171875,
                  "_deepnote_index_column": 60
                },
                {
                  "avg_rating": -0.0004882812500017764,
                  "_deepnote_index_column": 61
                },
                {
                  "avg_rating": -0.7504882812500027,
                  "_deepnote_index_column": 62
                },
                {
                  "avg_rating": 1.7807617187499978,
                  "_deepnote_index_column": 63
                },
                {
                  "avg_rating": 1.6870117187499996,
                  "_deepnote_index_column": 65
                },
                {
                  "avg_rating": -1.5004882812500036,
                  "_deepnote_index_column": 67
                },
                {
                  "avg_rating": 2.06201171875,
                  "_deepnote_index_column": 70
                },
                {
                  "avg_rating": 2.343261718750002,
                  "_deepnote_index_column": 71
                },
                {
                  "avg_rating": -0.3754882812500022,
                  "_deepnote_index_column": 72
                },
                {
                  "avg_rating": -0.18798828125000222,
                  "_deepnote_index_column": 73
                },
                {
                  "avg_rating": 1.3120117187499993,
                  "_deepnote_index_column": 75
                },
                {
                  "avg_rating": 1.030761718749997,
                  "_deepnote_index_column": 76
                },
                {
                  "avg_rating": 3.0932617187499947,
                  "_deepnote_index_column": 77
                },
                {
                  "avg_rating": 0.5620117187499987,
                  "_deepnote_index_column": 78
                },
                {
                  "avg_rating": 5.718261718749997,
                  "_deepnote_index_column": 79
                },
                {
                  "avg_rating": 1.5932617187500018,
                  "_deepnote_index_column": 82
                },
                {
                  "avg_rating": -3.187988281250001,
                  "_deepnote_index_column": 84
                },
                {
                  "avg_rating": 2.5307617187499982,
                  "_deepnote_index_column": 87
                },
                {
                  "avg_rating": -0.4692382812500002,
                  "_deepnote_index_column": 89
                },
                {
                  "avg_rating": 5.718261718749997,
                  "_deepnote_index_column": 92
                },
                {
                  "avg_rating": 0.7495117187499947,
                  "_deepnote_index_column": 94
                },
                {
                  "avg_rating": -1.7817382812500013,
                  "_deepnote_index_column": 96
                },
                {
                  "avg_rating": 4.499511718749998,
                  "_deepnote_index_column": 97
                }
              ],
              "rows_bottom": null
            },
            "text/plain": "    avg_rating\n0     1.968262\n1     0.093262\n2     3.374512\n3     3.468262\n4    -1.312988\n..         ...\n89   -0.469238\n92    5.718262\n94    0.749512\n96   -1.781738\n97    4.499512\n\n[64 rows x 1 columns]",
            "text/html": "<div>\n<style scoped>\n    .dataframe tbody tr th:only-of-type {\n        vertical-align: middle;\n    }\n\n    .dataframe tbody tr th {\n        vertical-align: top;\n    }\n\n    .dataframe thead th {\n        text-align: right;\n    }\n</style>\n<table border=\"1\" class=\"dataframe\">\n  <thead>\n    <tr style=\"text-align: right;\">\n      <th></th>\n      <th>avg_rating</th>\n    </tr>\n  </thead>\n  <tbody>\n    <tr>\n      <th>0</th>\n      <td>1.968262</td>\n    </tr>\n    <tr>\n      <th>1</th>\n      <td>0.093262</td>\n    </tr>\n    <tr>\n      <th>2</th>\n      <td>3.374512</td>\n    </tr>\n    <tr>\n      <th>3</th>\n      <td>3.468262</td>\n    </tr>\n    <tr>\n      <th>4</th>\n      <td>-1.312988</td>\n    </tr>\n    <tr>\n      <th>...</th>\n      <td>...</td>\n    </tr>\n    <tr>\n      <th>89</th>\n      <td>-0.469238</td>\n    </tr>\n    <tr>\n      <th>92</th>\n      <td>5.718262</td>\n    </tr>\n    <tr>\n      <th>94</th>\n      <td>0.749512</td>\n    </tr>\n    <tr>\n      <th>96</th>\n      <td>-1.781738</td>\n    </tr>\n    <tr>\n      <th>97</th>\n      <td>4.499512</td>\n    </tr>\n  </tbody>\n</table>\n<p>64 rows × 1 columns</p>\n</div>"
          },
          "metadata": {}
        }
      ],
      "execution_count": 17
    },
    {
      "cell_type": "markdown",
      "source": "Adding Minmax_norm and mean_norm to the csv",
      "metadata": {
        "tags": [],
        "cell_id": "00011-406f147c-3efd-4f6b-8500-b19c282a2d66",
        "deepnote_cell_type": "markdown"
      }
    },
    {
      "cell_type": "code",
      "source": "new_df1 = pd.read_csv('testing.csv', delimiter='\\t')\n#new_column = df['avg_rating'] + 1\nnew_df1['a'] = new_column\nnew_df1.to_csv('fulldata1.csv', sep='\\t')",
      "metadata": {
        "tags": [],
        "cell_id": "00012-a6c36170-8696-400c-a7c0-40ff822f6453",
        "deepnote_to_be_reexecuted": false,
        "source_hash": "8f9d4198",
        "execution_millis": 0,
        "execution_start": 1618397018848,
        "deepnote_cell_type": "code"
      },
      "outputs": [],
      "execution_count": 21
    },
    {
      "cell_type": "code",
      "source": "",
      "metadata": {
        "tags": [],
        "cell_id": "00015-4b1bedb7-ae97-4417-aef5-b7d5ef4d3a16",
        "deepnote_cell_type": "code"
      },
      "outputs": [],
      "execution_count": null
    },
    {
      "cell_type": "markdown",
      "source": "<a style='text-decoration:none;line-height:16px;display:flex;color:#5B5B62;padding:10px;justify-content:end;' href='https://deepnote.com?utm_source=created-in-deepnote-cell&projectId=8aa7b630-9ed2-4356-9070-0a10a3a5f060' target=\"_blank\">\n<img alt='Created in deepnote.com' style='display:inline;max-height:16px;margin:0px;margin-right:7.5px;' src='data:image/svg+xml;base64,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' > </img>\nCreated in <span style='font-weight:600;margin-left:4px;'>Deepnote</span></a>",
      "metadata": {
        "tags": [],
        "created_in_deepnote_cell": true,
        "deepnote_cell_type": "markdown"
      }
    }
  ],
  "nbformat": 4,
  "nbformat_minor": 2,
  "metadata": {
    "orig_nbformat": 2,
    "deepnote": {
      "is_reactive": false
    },
    "deepnote_notebook_id": "8288d748-bf4b-4def-8a65-236aa56dbd60",
    "deepnote_execution_queue": []
  }
}