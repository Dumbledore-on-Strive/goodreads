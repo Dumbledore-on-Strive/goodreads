{
 "cells": [
  {
   "cell_type": "code",
   "execution_count": 1,
   "metadata": {
    "cell_id": "00000-5e0ceef0-4518-40a5-b7c8-739858ea3a9b",
    "deepnote_cell_type": "code",
    "deepnote_to_be_reexecuted": false,
    "execution_millis": 4619,
    "execution_start": 1618383855820,
    "output_cleared": true,
    "source_hash": null,
    "tags": []
   },
   "outputs": [],
   "source": [
    "# !pip install bs4==0.0.1"
   ]
  },
  {
   "cell_type": "code",
   "execution_count": 2,
   "metadata": {
    "cell_id": "00001-5e1e8c8c-590b-4bdb-8b51-3cb3ee9a35f6",
    "deepnote_cell_type": "code",
    "deepnote_to_be_reexecuted": false,
    "execution_millis": 75,
    "execution_start": 1618427879279,
    "output_cleared": false,
    "source_hash": "bc3f2178",
    "tags": []
   },
   "outputs": [],
   "source": [
    "#important libraries\n",
    "import numpy as np\n",
    "import pandas as pd\n",
    "from bs4 import BeautifulSoup\n",
    "import requests as rq"
   ]
  },
  {
   "cell_type": "markdown",
   "metadata": {
    "cell_id": "00002-b2ae7229-b226-439a-99c0-b1ea7e5b3f5b",
    "deepnote_cell_type": "text-cell-h1",
    "tags": []
   },
   "source": [
    "# Web Scrapping "
   ]
  },
  {
   "cell_type": "code",
   "execution_count": 3,
   "metadata": {
    "cell_id": "00005-da2a2851-9716-4c7a-9baf-930afcf6b72d",
    "deepnote_cell_type": "code",
    "deepnote_to_be_reexecuted": false,
    "execution_millis": 57691,
    "execution_start": 1618427883515,
    "source_hash": "4088ee83",
    "tags": []
   },
   "outputs": [],
   "source": [
    "\n",
    "base_url = 'https://www.goodreads.com/list/show/1043.Books_That_Should_Be_Made_Into_Movies'\n",
    "\n",
    "def get_books_url_per_page(base_url, tag, tag_class):\n",
    "\n",
    "    book_url_list = []\n",
    "    base_page = rq.get(base_url)\n",
    "    base_content = BeautifulSoup(base_page.content, 'html.parser')\n",
    "\n",
    "    for a in base_content.find_all(tag, class_= tag_class):\n",
    "        book_url_list.append('https://www.goodreads.com/' + a['href'])\n",
    "    \n",
    "    return book_url_list\n",
    "\n",
    "\n",
    "def get_base_page_list(base_url, n):\n",
    "    base_page_list = []\n",
    "    for i in range(n):\n",
    "        base_page_list.append(base_url + str(i + 1))\n",
    "    \n",
    "    return base_page_list\n",
    "\n",
    "whole_book_url_list = []\n",
    "\n",
    "for link in get_base_page_list('https://www.goodreads.com/list/show/1043.Books_That_Should_Be_Made_Into_Movies?page=', 10):\n",
    "    whole_book_url_list.append(get_books_url_per_page(link, 'a', 'bookTitle'))\n",
    "\n",
    "whole_book_url_list = [link for subs in whole_book_url_list for link in subs]"
   ]
  },
  {
   "cell_type": "code",
   "execution_count": 4,
   "metadata": {
    "cell_id": "00006-73586788-98b6-45b1-a25c-5e8e8ac31ee9",
    "deepnote_cell_type": "code",
    "deepnote_to_be_reexecuted": false,
    "execution_millis": 6,
    "execution_start": 1618428338988,
    "output_cleared": false,
    "source_hash": "999599fe",
    "tags": []
   },
   "outputs": [],
   "source": [
    "# list100=whole_book_url_list[500:600]"
   ]
  },
  {
   "cell_type": "code",
   "execution_count": 5,
   "metadata": {
    "cell_id": "00007-9d468c42-abda-41ed-a8d3-d7484be26c90",
    "deepnote_cell_type": "code",
    "deepnote_to_be_reexecuted": false,
    "execution_millis": 0,
    "execution_start": 1618428422239,
    "source_hash": "e6c105aa",
    "tags": []
   },
   "outputs": [],
   "source": [
    "# list200_1=whole_book_url_list[600:800]"
   ]
  },
  {
   "cell_type": "code",
   "execution_count": 6,
   "metadata": {
    "cell_id": "00008-b5a6e107-82c2-449f-9846-65760132decb",
    "deepnote_cell_type": "code",
    "deepnote_to_be_reexecuted": false,
    "execution_millis": 1,
    "execution_start": 1618428419248,
    "source_hash": "21304d58",
    "tags": []
   },
   "outputs": [],
   "source": [
    "list200_2=whole_book_url_list[800:]"
   ]
  },
  {
   "cell_type": "code",
   "execution_count": 7,
   "metadata": {},
   "outputs": [],
   "source": [
    "# get_data_frame(whole_book_url_list)"
   ]
  },
  {
   "cell_type": "markdown",
   "metadata": {
    "cell_id": "00015-589378e8-ac26-429e-ad9b-ef02666c63e4",
    "deepnote_cell_type": "text-cell-h1",
    "tags": []
   },
   "source": [
    "#                                                      To define all functions"
   ]
  },
  {
   "cell_type": "code",
   "execution_count": 8,
   "metadata": {
    "cell_id": "00016-f2cf4109-fdad-483a-b76e-5c346df3c65b",
    "deepnote_cell_type": "code",
    "deepnote_to_be_reexecuted": false,
    "execution_millis": 0,
    "execution_start": 1618428449485,
    "source_hash": "9249b9b2",
    "tags": []
   },
   "outputs": [],
   "source": [
    "\n",
    "def get_title(page_soup):\n",
    "    try :\n",
    "        title = page_soup.find('h1', {\"id\":\"bookTitle\"}).text.strip()\n",
    "        return title\n",
    "    except:\n",
    "        return np.nan\n"
   ]
  },
  {
   "cell_type": "code",
   "execution_count": 9,
   "metadata": {
    "cell_id": "00017-a1bb902a-9c3c-4f3f-9187-c903ccc04b04",
    "deepnote_cell_type": "code",
    "deepnote_to_be_reexecuted": false,
    "execution_millis": 1,
    "execution_start": 1618428451601,
    "source_hash": "50641d12",
    "tags": []
   },
   "outputs": [],
   "source": [
    "def get_author(page_soup):\n",
    "    try :\n",
    "        author = page_soup.find(\"a\", {\"class\":\"authorName\"}).text.strip()\n",
    "        return author\n",
    "    except:\n",
    "        return np.nan"
   ]
  },
  {
   "cell_type": "code",
   "execution_count": 10,
   "metadata": {
    "cell_id": "00018-6f3ba42b-3d70-44b9-ae98-0954e7c600c4",
    "deepnote_cell_type": "code",
    "deepnote_to_be_reexecuted": false,
    "execution_millis": 2,
    "execution_start": 1618428454102,
    "output_cleared": false,
    "source_hash": "8c1e7b4b",
    "tags": []
   },
   "outputs": [],
   "source": [
    "def get_num_rating(page_soup):\n",
    "    try :\n",
    "        num_rating=page_soup.find(itemprop=\"ratingCount\").text.strip().replace(\"ratings\", \"\").replace(\",\", \"\")\n",
    "        return int(num_rating)\n",
    "    except:\n",
    "        return np.nan"
   ]
  },
  {
   "cell_type": "code",
   "execution_count": 11,
   "metadata": {
    "cell_id": "00019-fa289d88-77f0-47bf-95d4-621ffcad90d1",
    "deepnote_cell_type": "code",
    "deepnote_to_be_reexecuted": false,
    "execution_millis": 1,
    "execution_start": 1618428456778,
    "source_hash": "43934392",
    "tags": []
   },
   "outputs": [],
   "source": [
    "def get_num_reviews(page_soup):\n",
    "    try :\n",
    "        num_review=page_soup.find(itemprop=\"reviewCount\").text.replace(\"reviews\", \"\").replace(\",\", \"\").strip()\n",
    "        return int(num_review)\n",
    "    except:\n",
    "        return np.nan"
   ]
  },
  {
   "cell_type": "code",
   "execution_count": 12,
   "metadata": {
    "cell_id": "00020-5b5d05cb-dcf2-4d45-abc5-cccf0cec5d4c",
    "deepnote_cell_type": "code",
    "deepnote_to_be_reexecuted": false,
    "execution_millis": 1,
    "execution_start": 1618428458707,
    "source_hash": "dac3f7ee",
    "tags": []
   },
   "outputs": [],
   "source": [
    "def get_avg_rating(page_soup):\n",
    "    try :\n",
    "        avg_rating=page_soup.find(\"span\", itemprop=\"ratingValue\").text.strip()\n",
    "        return float(avg_rating)\n",
    "    except:\n",
    "        return np.nan\n",
    "\n"
   ]
  },
  {
   "cell_type": "code",
   "execution_count": 13,
   "metadata": {
    "cell_id": "00021-54b9fdb7-f5c1-4fba-b020-c9b866c4122e",
    "deepnote_cell_type": "code",
    "deepnote_to_be_reexecuted": false,
    "execution_millis": 1,
    "execution_start": 1618428460571,
    "source_hash": "c3d4a2",
    "tags": []
   },
   "outputs": [],
   "source": [
    "def get_num_pages(page_soup):\n",
    "    try :\n",
    "        num_pages=page_soup.find(itemprop=\"numberOfPages\").text.strip().replace(\"pages\", \"\")\n",
    "        return int(num_pages)\n",
    "    except:\n",
    "        return 0\n",
    "\n",
    "\n"
   ]
  },
  {
   "cell_type": "code",
   "execution_count": 14,
   "metadata": {
    "cell_id": "00023-78689712-b132-47ab-be1c-59cfa11fc188",
    "deepnote_cell_type": "code",
    "deepnote_to_be_reexecuted": false,
    "execution_millis": 0,
    "execution_start": 1618428481914,
    "source_hash": "b38c83c0",
    "tags": []
   },
   "outputs": [],
   "source": [
    "def get_original_publish_year(page_soup):\n",
    "    try:\n",
    "        original_publish_year=page_soup.find_all(\"div\", class_=\"row\")[1].text.split()\n",
    "        for i in original_publish_year[:]:\n",
    "            if i.isnumeric()==True:\n",
    "                return  i\n",
    "    except:\n",
    "        return  np.nan      "
   ]
  },
  {
   "cell_type": "code",
   "execution_count": 15,
   "metadata": {
    "cell_id": "00024-a5385e10-e2fe-4b6d-9e1f-69bc5659da13",
    "deepnote_cell_type": "code",
    "deepnote_to_be_reexecuted": false,
    "execution_millis": 3,
    "execution_start": 1618428502499,
    "source_hash": "a8a39e52",
    "tags": []
   },
   "outputs": [],
   "source": [
    "def get_series(page_soup):\n",
    "\n",
    "        try:\n",
    "\n",
    "            series = page_soup.find(id=\"bookSeries\").text.strip() \n",
    "            if len(series)!= 0:\n",
    "                return True\n",
    "            else: \n",
    "                return False\n",
    "        except:\n",
    "            return np.nan  "
   ]
  },
  {
   "cell_type": "code",
   "execution_count": 16,
   "metadata": {
    "cell_id": "00025-0c9bf235-ba79-456e-af9a-649c103d2b8b",
    "deepnote_cell_type": "code",
    "deepnote_to_be_reexecuted": false,
    "execution_millis": 1,
    "execution_start": 1618428504873,
    "source_hash": "f9daa355",
    "tags": []
   },
   "outputs": [],
   "source": [
    "def get_genres(page_soup):\n",
    "    try:\n",
    "        g_list=[]\n",
    "        genres = page_soup.find('div',class_=\"rightContainer\").find_all(class_=\"left\")\n",
    "        for row in genres:\n",
    "            row=row.text.replace(\">\",\"\").strip().split()\n",
    "            row=\" \".join(row)\n",
    "            g_list.append(row)\n",
    "        return g_list\n",
    "    except:\n",
    "        return np.nan    \n",
    "   \n",
    "    "
   ]
  },
  {
   "cell_type": "code",
   "execution_count": 17,
   "metadata": {
    "cell_id": "00026-e048bd56-1894-4c3f-90e3-298331d572ef",
    "deepnote_cell_type": "code",
    "deepnote_to_be_reexecuted": false,
    "execution_millis": 5,
    "execution_start": 1618428506648,
    "source_hash": "56b9a742",
    "tags": []
   },
   "outputs": [],
   "source": [
    "def get_award(page_soup):\n",
    "    try:\n",
    "        count=0\n",
    "        awards = page_soup.find(\"div\", {\"itemprop\": \"awards\"}).find_all('a')\n",
    "        for award in awards:\n",
    "            if award!=None:\n",
    "                count+=1\n",
    "        return count\n",
    "    except:\n",
    "        return 0"
   ]
  },
  {
   "cell_type": "code",
   "execution_count": 18,
   "metadata": {
    "cell_id": "00027-41d0b0e9-ce0e-4cff-b8cf-303099108620",
    "deepnote_cell_type": "code",
    "deepnote_to_be_reexecuted": false,
    "execution_millis": 0,
    "execution_start": 1618428508546,
    "source_hash": "4212eb78",
    "tags": []
   },
   "outputs": [],
   "source": [
    "def get_place(page_soup):\n",
    "    try:\n",
    "        place = page_soup.find(\"div\", {'id':\"bookDataBox\"}).find('span',class_=\"darkGreyText\").text.replace(\"(\",\"\").replace(\")\",\"\").strip()\n",
    "        return str(place)\n",
    "    except:\n",
    "        return np.nan"
   ]
  },
  {
   "cell_type": "markdown",
   "metadata": {
    "cell_id": "00028-bf152358-b9b0-4233-bd44-ef32a3500064",
    "deepnote_cell_type": "text-cell-h1",
    "tags": []
   },
   "source": [
    "# End of Functions"
   ]
  },
  {
   "cell_type": "code",
   "execution_count": 19,
   "metadata": {
    "cell_id": "00029-5f98f261-072a-4b85-9805-ab5ce8b61a53",
    "deepnote_cell_type": "code",
    "tags": []
   },
   "outputs": [],
   "source": [
    "def get_data_frame(links):\n",
    "    data_frame=[]\n",
    "    for url  in  links:\n",
    "        page_html = rq.get(url)\n",
    "        page_soup = BeautifulSoup(page_html.content, 'html.parser')\n",
    "        title=get_title(page_soup)\n",
    "      \n",
    "        author=get_author(page_soup)\n",
    "      \n",
    "        num_rating=get_num_rating(page_soup)\n",
    "       \n",
    "        num_reviews=get_num_reviews(page_soup)\n",
    "       \n",
    "        avg_rating=get_avg_rating(page_soup)\n",
    "        \n",
    "        num_pages=get_num_pages(page_soup)\n",
    "        original_publish_year=get_original_publish_year(page_soup)\n",
    "        series=get_series(page_soup)\n",
    "       \n",
    "        genres=get_genres(page_soup)\n",
    "       \n",
    "        award=get_award(page_soup)\n",
    "       \n",
    "        place=get_place(page_soup)\n",
    "        dictionary={\n",
    "            \"title\": title,\n",
    "            \"author\": author,\n",
    "            \"num_rating\": num_rating,\n",
    "            \"num_reviews\": num_reviews,\n",
    "            \"avg_rating\": avg_rating,\n",
    "            \"num_pages\": int(num_pages),\n",
    "            \"original_publish_year\": original_publish_year,\n",
    "            \"series\": series,\n",
    "            \"genres\": genres,\n",
    "            \"award\": int(award),\n",
    "            \"place\": place,\n",
    "            \"url\": url\n",
    "        }\n",
    "        data_frame.append(dictionary)\n",
    "    return data_frame"
   ]
  },
  {
   "cell_type": "code",
   "execution_count": 20,
   "metadata": {
    "cell_id": "00030-296bf1bc-35f7-4b7d-bc79-71e45d4953d4",
    "deepnote_cell_type": "code",
    "tags": []
   },
   "outputs": [],
   "source": [
    "# data=get_data_frame(whole_book_url_ list)"
   ]
  },
  {
   "cell_type": "code",
   "execution_count": 21,
   "metadata": {},
   "outputs": [],
   "source": [
    "# data=get_data_frame(list200_1)"
   ]
  },
  {
   "cell_type": "code",
   "execution_count": 22,
   "metadata": {},
   "outputs": [],
   "source": [
    "data=get_data_frame(list200_2)"
   ]
  },
  {
   "cell_type": "code",
   "execution_count": 23,
   "metadata": {
    "cell_id": "00029-3032c98f-d9fd-4b73-bf29-37dba2541fe3",
    "deepnote_cell_type": "code",
    "tags": []
   },
   "outputs": [],
   "source": [
    "# df = pd.DataFrame(data)\n",
    "  \n",
    "# # saving the dataframe\n",
    "# df.to_csv('last_600.csv')"
   ]
  },
  {
   "cell_type": "code",
   "execution_count": 24,
   "metadata": {},
   "outputs": [],
   "source": [
    "df = pd.DataFrame(data)\n",
    "  \n",
    "# saving the dataframe\n",
    "df.to_csv('last_800.csv')"
   ]
  },
  {
   "cell_type": "markdown",
   "metadata": {
    "cell_id": "00029-e3d67210-8aba-45ad-87ff-9f6c9ddf18fb",
    "deepnote_cell_type": "text-cell-h1",
    "tags": []
   },
   "source": [
    "#Data frame creation"
   ]
  },
  {
   "cell_type": "markdown",
   "metadata": {
    "created_in_deepnote_cell": true,
    "deepnote_cell_type": "markdown",
    "tags": []
   },
   "source": [
    "<a style='text-decoration:none;line-height:16px;display:flex;color:#5B5B62;padding:10px;justify-content:end;' href='https://deepnote.com?utm_source=created-in-deepnote-cell&projectId=8aa7b630-9ed2-4356-9070-0a10a3a5f060' target=\"_blank\">\n",
    "<img alt='Created in deepnote.com' style='display:inline;max-height:16px;margin:0px;margin-right:7.5px;' src='data:image/svg+xml;base64,PD94bWwgdmVyc2lvbj0iMS4wIiBlbmNvZGluZz0iVVRGLTgiPz4KPHN2ZyB3aWR0aD0iODBweCIgaGVpZ2h0PSI4MHB4IiB2aWV3Qm94PSIwIDAgODAgODAiIHZlcnNpb249IjEuMSIgeG1sbnM9Imh0dHA6Ly93d3cudzMub3JnLzIwMDAvc3ZnIiB4bWxuczp4bGluaz0iaHR0cDovL3d3dy53My5vcmcvMTk5OS94bGluayI+CiAgICA8IS0tIEdlbmVyYXRvcjogU2tldGNoIDU0LjEgKDc2NDkwKSAtIGh0dHBzOi8vc2tldGNoYXBwLmNvbSAtLT4KICAgIDx0aXRsZT5Hcm91cCAzPC90aXRsZT4KICAgIDxkZXNjPkNyZWF0ZWQgd2l0aCBTa2V0Y2guPC9kZXNjPgogICAgPGcgaWQ9IkxhbmRpbmciIHN0cm9rZT0ibm9uZSIgc3Ryb2tlLXdpZHRoPSIxIiBmaWxsPSJub25lIiBmaWxsLXJ1bGU9ImV2ZW5vZGQiPgogICAgICAgIDxnIGlkPSJBcnRib2FyZCIgdHJhbnNmb3JtPSJ0cmFuc2xhdGUoLTEyMzUuMDAwMDAwLCAtNzkuMDAwMDAwKSI+CiAgICAgICAgICAgIDxnIGlkPSJHcm91cC0zIiB0cmFuc2Zvcm09InRyYW5zbGF0ZSgxMjM1LjAwMDAwMCwgNzkuMDAwMDAwKSI+CiAgICAgICAgICAgICAgICA8cG9seWdvbiBpZD0iUGF0aC0yMCIgZmlsbD0iIzAyNjVCNCIgcG9pbnRzPSIyLjM3NjIzNzYyIDgwIDM4LjA0NzY2NjcgODAgNTcuODIxNzgyMiA3My44MDU3NTkyIDU3LjgyMTc4MjIgMzIuNzU5MjczOSAzOS4xNDAyMjc4IDMxLjY4MzE2ODMiPjwvcG9seWdvbj4KICAgICAgICAgICAgICAgIDxwYXRoIGQ9Ik0zNS4wMDc3MTgsODAgQzQyLjkwNjIwMDcsNzYuNDU0OTM1OCA0Ny41NjQ5MTY3LDcxLjU0MjI2NzEgNDguOTgzODY2LDY1LjI2MTk5MzkgQzUxLjExMjI4OTksNTUuODQxNTg0MiA0MS42NzcxNzk1LDQ5LjIxMjIyODQgMjUuNjIzOTg0Niw0OS4yMTIyMjg0IEMyNS40ODQ5Mjg5LDQ5LjEyNjg0NDggMjkuODI2MTI5Niw0My4yODM4MjQ4IDM4LjY0NzU4NjksMzEuNjgzMTY4MyBMNzIuODcxMjg3MSwzMi41NTQ0MjUgTDY1LjI4MDk3Myw2Ny42NzYzNDIxIEw1MS4xMTIyODk5LDc3LjM3NjE0NCBMMzUuMDA3NzE4LDgwIFoiIGlkPSJQYXRoLTIyIiBmaWxsPSIjMDAyODY4Ij48L3BhdGg+CiAgICAgICAgICAgICAgICA8cGF0aCBkPSJNMCwzNy43MzA0NDA1IEwyNy4xMTQ1MzcsMC4yNTcxMTE0MzYgQzYyLjM3MTUxMjMsLTEuOTkwNzE3MDEgODAsMTAuNTAwMzkyNyA4MCwzNy43MzA0NDA1IEM4MCw2NC45NjA0ODgyIDY0Ljc3NjUwMzgsNzkuMDUwMzQxNCAzNC4zMjk1MTEzLDgwIEM0Ny4wNTUzNDg5LDc3LjU2NzA4MDggNTMuNDE4MjY3Nyw3MC4zMTM2MTAzIDUzLjQxODI2NzcsNTguMjM5NTg4NSBDNTMuNDE4MjY3Nyw0MC4xMjg1NTU3IDM2LjMwMzk1NDQsMzcuNzMwNDQwNSAyNS4yMjc0MTcsMzcuNzMwNDQwNSBDMTcuODQzMDU4NiwzNy43MzA0NDA1IDkuNDMzOTE5NjYsMzcuNzMwNDQwNSAwLDM3LjczMDQ0MDUgWiIgaWQ9IlBhdGgtMTkiIGZpbGw9IiMzNzkzRUYiPjwvcGF0aD4KICAgICAgICAgICAgPC9nPgogICAgICAgIDwvZz4KICAgIDwvZz4KPC9zdmc+' > </img>\n",
    "Created in <span style='font-weight:600;margin-left:4px;'>Deepnote</span></a>"
   ]
  }
 ],
 "metadata": {
  "deepnote": {
   "is_reactive": false
  },
  "deepnote_execution_queue": [],
  "deepnote_notebook_id": "bb049b81-038f-480d-a316-14c81f79425f",
  "kernelspec": {
   "display_name": "Python 3",
   "language": "python",
   "name": "python3"
  },
  "language_info": {
   "codemirror_mode": {
    "name": "ipython",
    "version": 3
   },
   "file_extension": ".py",
   "mimetype": "text/x-python",
   "name": "python",
   "nbconvert_exporter": "python",
   "pygments_lexer": "ipython3",
   "version": "3.8.8"
  }
 },
 "nbformat": 4,
 "nbformat_minor": 2
}
