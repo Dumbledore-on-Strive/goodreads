{
  "cells": [
    {
      "cell_type": "markdown",
      "source": "1. Create a 2D scatterplot with `pages` on the x-axis and `num_ratings` on the y-axis.",
      "metadata": {
        "tags": [],
        "cell_id": "00000-fa715827-f7af-49ca-9bd0-e5799cf81f36",
        "deepnote_cell_type": "markdown"
      }
    },
    {
      "cell_type": "code",
      "source": "!pip install statsmodels==0.12.2",
      "metadata": {
        "tags": [],
        "cell_id": "00001-7e82cacb-94d1-4095-936a-add4dc52a5d3",
        "deepnote_to_be_reexecuted": false,
        "source_hash": null,
        "execution_start": 1618464582540,
        "execution_millis": 6113,
        "output_cleared": true,
        "deepnote_cell_type": "code"
      },
      "outputs": [],
      "execution_count": 2
    },
    {
      "cell_type": "code",
      "metadata": {
        "tags": [],
        "deepnote_to_be_reexecuted": false,
        "source_hash": "eec45bf2",
        "execution_millis": 6,
        "cell_id": "00001-2b2cfe1d-1902-47e5-a9c9-74bac1522043",
        "execution_start": 1618468697178,
        "deepnote_cell_type": "code"
      },
      "source": "import numpy as np\nimport pandas as pd\nimport seaborn as sns\nimport matplotlib.pyplot as plt\nfrom matplotlib import rcParams\nfrom sklearn.preprocessing import MinMaxScaler\n%matplotlib inline\nimport warnings\nimport scipy.stats as st\nimport statsmodels as sm\nimport matplotlib\n",
      "execution_count": 47,
      "outputs": []
    },
    {
      "cell_type": "code",
      "metadata": {
        "tags": [],
        "cell_id": "00002-fcfb64df-190d-4675-941b-351ba1f1ed29",
        "deepnote_to_be_reexecuted": false,
        "source_hash": "9c9a17e1",
        "execution_millis": 29,
        "execution_start": 1618468757190,
        "deepnote_cell_type": "code"
      },
      "source": "df = pd.read_csv(\"preprocess_data.csv\")\ndf=df.drop(['Unnamed: 0'],axis=1)\n",
      "execution_count": 53,
      "outputs": []
    },
    {
      "cell_type": "code",
      "source": "df.shape[0]",
      "metadata": {
        "tags": [],
        "cell_id": "00004-747be216-0480-4d67-8a4a-108db071e102",
        "deepnote_to_be_reexecuted": false,
        "source_hash": "783ae11d",
        "execution_start": 1618468788220,
        "execution_millis": 7,
        "deepnote_cell_type": "code"
      },
      "outputs": [
        {
          "output_type": "execute_result",
          "execution_count": 56,
          "data": {
            "text/plain": "956"
          },
          "metadata": {}
        }
      ],
      "execution_count": 56
    },
    {
      "cell_type": "markdown",
      "source": "Data cleaning before Nan",
      "metadata": {
        "tags": [],
        "cell_id": "00002-dc53cd17-96d1-4183-adbd-99d9c0b5ed59",
        "deepnote_cell_type": "markdown"
      }
    },
    {
      "cell_type": "code",
      "metadata": {
        "tags": [],
        "deepnote_to_be_reexecuted": false,
        "source_hash": "23bb1528",
        "execution_millis": 187,
        "cell_id": "00004-8b033457-d965-4661-bc9a-87449a8c588e",
        "execution_start": 1618468760827,
        "deepnote_cell_type": "code"
      },
      "source": "df.plot.scatter('num_pages' ,'num_rating',color = 'k', edgecolor = 'r')\nplt.xlabel('num_pages')\nplt.ylabel('num_rating')\nplt.title('2D Scatter plot')\n#plt.legend()\nplt.grid()\nplt.show()",
      "execution_count": 54,
      "outputs": [
        {
          "data": {
            "text/plain": "<Figure size 432x288 with 1 Axes>",
            "image/png": "[encoded data removed]"
          },
          "metadata": {
            "needs_background": "light"
          },
          "output_type": "display_data"
        }
      ]
    },
    {
      "cell_type": "markdown",
      "source": "2. Can you compute numerically the correlation coefficient of these two columns?",
      "metadata": {
        "tags": [],
        "cell_id": "00005-b1756853-cc5e-4cfc-b777-9daa674c1cc3",
        "deepnote_cell_type": "markdown"
      }
    },
    {
      "cell_type": "code",
      "metadata": {
        "tags": [],
        "cell_id": "00006-ce521ae1-fe47-41c8-987e-08ca1fafe6c2",
        "deepnote_to_be_reexecuted": false,
        "source_hash": "1c582b66",
        "execution_millis": 7,
        "execution_start": 1618468764832,
        "deepnote_cell_type": "code"
      },
      "source": "x=df['num_pages']\ny=df['num_rating']\nst.pearsonr(x, y)    # Pearson's r",
      "execution_count": 55,
      "outputs": [
        {
          "output_type": "execute_result",
          "execution_count": 55,
          "data": {
            "text/plain": "(0.1356184197899446, 2.585711907202622e-05)"
          },
          "metadata": {}
        }
      ]
    },
    {
      "cell_type": "code",
      "metadata": {
        "tags": [],
        "cell_id": "00007-9f631eaf-749a-44b8-8c4a-fe18a2338726",
        "deepnote_to_be_reexecuted": false,
        "source_hash": "e2ad61af",
        "execution_millis": 71,
        "execution_start": 1618464614302,
        "deepnote_cell_type": "code"
      },
      "source": "st.spearmanr(x, y)",
      "execution_count": 7,
      "outputs": [
        {
          "output_type": "execute_result",
          "execution_count": 7,
          "data": {
            "text/plain": "SpearmanrResult(correlation=0.33264323580363264, pvalue=3.9248537090833536e-26)"
          },
          "metadata": {}
        }
      ]
    },
    {
      "cell_type": "code",
      "metadata": {
        "tags": [],
        "cell_id": "00008-f1668640-caf1-4be7-a898-93ac9b6f46db",
        "deepnote_to_be_reexecuted": false,
        "source_hash": "86cce567",
        "execution_millis": 13,
        "execution_start": 1618464618162,
        "deepnote_cell_type": "code"
      },
      "source": "st.kendalltau(x, y)",
      "execution_count": 8,
      "outputs": [
        {
          "output_type": "execute_result",
          "execution_count": 8,
          "data": {
            "text/plain": "KendalltauResult(correlation=0.22928196475597376, pvalue=3.2236608073956275e-26)"
          },
          "metadata": {}
        }
      ]
    },
    {
      "cell_type": "code",
      "metadata": {
        "tags": [],
        "deepnote_to_be_reexecuted": false,
        "source_hash": "97dfe827",
        "execution_millis": 14,
        "cell_id": "00006-59a3e71f-2a95-4cf2-b27e-bcd9309d9504",
        "execution_start": 1618464621589,
        "deepnote_cell_type": "code"
      },
      "source": "df['num_pages'].corr(df['num_rating'])",
      "execution_count": 9,
      "outputs": [
        {
          "output_type": "execute_result",
          "execution_count": 9,
          "data": {
            "text/plain": "0.1356184197899447"
          },
          "metadata": {}
        }
      ]
    },
    {
      "cell_type": "markdown",
      "source": "3. Visualise the `avg_rating` distribution.",
      "metadata": {
        "tags": [],
        "cell_id": "00007-90b812a0-4676-4b77-a757-65cab10da08d",
        "deepnote_cell_type": "markdown"
      }
    },
    {
      "cell_type": "code",
      "metadata": {
        "tags": [],
        "deepnote_to_be_reexecuted": false,
        "source_hash": "5d590fce",
        "execution_millis": 200,
        "cell_id": "00008-dbe0d9bd-eba9-4d9f-98c2-3470c4ec2cb2",
        "execution_start": 1618468707103,
        "deepnote_cell_type": "code"
      },
      "source": "plt.hist(df.avg_rating, edgecolor = \"white\")\nplt.xlabel(\"Averge Rating\")\nplt.ylabel(\"Number of books with rating\")\nplt.grid()\nplt.title('Distribution of avg_rating', color='r')\nplt.show()\n",
      "execution_count": 50,
      "outputs": [
        {
          "data": {
            "text/plain": "<Figure size 432x288 with 1 Axes>",
            "image/png": "[encoded data removed]"
          },
          "metadata": {
            "needs_background": "light"
          },
          "output_type": "display_data"
        }
      ]
    },
    {
      "cell_type": "markdown",
      "source": "4. Visualise the `minmax_norm_rating` distribution.",
      "metadata": {
        "tags": [],
        "cell_id": "00009-01945046-2794-499c-983d-ba67fd01463f",
        "deepnote_cell_type": "markdown"
      }
    },
    {
      "cell_type": "code",
      "metadata": {
        "tags": [],
        "deepnote_to_be_reexecuted": false,
        "source_hash": "c48e4d4",
        "execution_millis": 25,
        "cell_id": "00010-4246421e-91e9-4d34-a34b-24f5d02b681a",
        "execution_start": 1618464630447,
        "deepnote_cell_type": "code"
      },
      "source": "#minmax_norm_ratings\ndef minmax_norm(data_column_name):\n    x = data_column_name\n    mean_norm_ratings=1+((x-x.min())/(x.max()-x.min()))*9\n    return mean_norm_ratings\nminmax_norm_ratings = minmax_norm(df[\"avg_rating\"])\n#print(minmax_norm_ratings#)",
      "execution_count": 11,
      "outputs": []
    },
    {
      "cell_type": "code",
      "metadata": {
        "tags": [],
        "deepnote_to_be_reexecuted": false,
        "source_hash": "d693f24b",
        "execution_millis": 158,
        "cell_id": "00011-4e9e4f1b-79ed-47b1-ae62-df0968d529be",
        "execution_start": 1618464632931,
        "deepnote_cell_type": "code"
      },
      "source": "#Visualisation\nplt.hist(minmax_norm_ratings, edgecolor = \"white\")\nplt.xlabel(\"minmax_norm Rating\")\nplt.ylabel(\"Frequency\")\nplt.grid()\nplt.title('Distribution of minmax_norm_ratings', color='r')\nplt.show()\n\n",
      "execution_count": 12,
      "outputs": [
        {
          "data": {
            "text/plain": "<Figure size 432x288 with 1 Axes>",
            "image/png": "[encoded data removed]"
          },
          "metadata": {
            "needs_background": "light"
          },
          "output_type": "display_data"
        }
      ]
    },
    {
      "cell_type": "markdown",
      "source": "5. Visualise the `mean_norm_rating` distribution.",
      "metadata": {
        "tags": [],
        "cell_id": "00012-88c4961c-6aaf-4c79-974c-8f757af0fdfa",
        "deepnote_cell_type": "markdown"
      }
    },
    {
      "cell_type": "code",
      "metadata": {
        "tags": [],
        "deepnote_to_be_reexecuted": false,
        "source_hash": "3b76979e",
        "execution_millis": 1,
        "cell_id": "00013-d68cb2eb-5616-447f-bb91-b80fc093dbf8",
        "execution_start": 1618464636228,
        "deepnote_cell_type": "code"
      },
      "source": "def mean_norm(data_column_name):\n    x = data_column_name\n    mean_norm_ratings=1+((x-x.mean())/(x.max()-x.min()))*9\n    return mean_norm_ratings\nmean_norm_ratings = mean_norm(df[\"avg_rating\"])\n#print(mean_norm_ratings)",
      "execution_count": 13,
      "outputs": []
    },
    {
      "cell_type": "code",
      "metadata": {
        "tags": [],
        "deepnote_to_be_reexecuted": false,
        "source_hash": "df3e7027",
        "execution_millis": 147,
        "cell_id": "00014-1892ae80-736e-4245-8869-72f9f2e28cbe",
        "execution_start": 1618464638707,
        "deepnote_cell_type": "code"
      },
      "source": "#Visualization\nplt.hist(mean_norm_ratings, edgecolor = \"white\")\nplt.xlabel(\"mean_norm Rating\")\nplt.ylabel(\"Frequency\")\nplt.grid()\nplt.title('Distribution of mean_norm_ratings', color='r')\nplt.show()",
      "execution_count": 14,
      "outputs": [
        {
          "data": {
            "text/plain": "<Figure size 432x288 with 1 Axes>",
            "image/png": "[encoded data removed]"
          },
          "metadata": {
            "needs_background": "light"
          },
          "output_type": "display_data"
        }
      ]
    },
    {
      "cell_type": "markdown",
      "source": "6. Create one graph that represents in the same figure both `minmax_norm_rating` and `mean_norm_rating`distributions.",
      "metadata": {
        "tags": [],
        "cell_id": "00015-22400582-eb66-4163-bcf4-519ee0d88130",
        "deepnote_cell_type": "markdown"
      }
    },
    {
      "cell_type": "code",
      "metadata": {
        "tags": [],
        "deepnote_to_be_reexecuted": false,
        "source_hash": "fca9b912",
        "execution_millis": 298,
        "cell_id": "00016-c835032a-21cc-4e5c-9518-3c98c49afcc0",
        "execution_start": 1618464649355,
        "deepnote_cell_type": "code"
      },
      "source": "plt.style.use('seaborn-deep')\n\nx = minmax_norm_ratings\ny = mean_norm_ratings\nbins = np.linspace(-10, 10, 30)\n\nplt.hist([x, y], bins, label=['minmax_norm', 'mean_norm'])\nplt.xlabel('norm_ratings')\nplt.ylabel('frequency')\nplt.title('Norm_rating distributions', color='red')\nplt.legend(loc='upper left'minmax_norm_ratings)\nplt.show()",
      "execution_count": 16,
      "outputs": [
        {
          "data": {
            "text/plain": "<Figure size 432x288 with 1 Axes>",
            "image/png": "[encoded data removed]"
          },
          "metadata": {
            "needs_background": "light"
          },
          "output_type": "display_data"
        }
      ]
    },
    {
      "cell_type": "markdown",
      "source": "7. What is the best fit in terms of a distribution (normal, chi-squared...) to represent each of those graphs? \n    - You can use `Scipy-Stats` [Library](https://docs.scipy.org/doc/scipy/reference/stats.html) to figure out the best fitting distribution like in this [example](https://stackoverflow.com/questions/6620471/fitting-empirical-distribution-to-theoretical-ones-with-scipy-python).",
      "metadata": {
        "tags": [],
        "cell_id": "00017-a6494b82-db9d-488e-8ada-56564a46a35c",
        "deepnote_cell_type": "markdown"
      }
    },
    {
      "cell_type": "code",
      "metadata": {
        "tags": [],
        "deepnote_to_be_reexecuted": false,
        "source_hash": "23c168ce",
        "execution_millis": 613639,
        "cell_id": "00018-146376b9-5565-40b7-b161-24d05841a7ed",
        "execution_start": 1618464652890,
        "deepnote_cell_type": "code"
      },
      "source": "\n\nmatplotlib.rcParams['figure.figsize'] = (16.0, 12.0)\nmatplotlib.style.use('ggplot')\n\n# Create models from data\ndef best_fit_distribution(data, bins=200, ax=None):\n    \"\"\"Model data by finding best fit distribution to data\"\"\"\n    # Get histogram of original data\n    y, x = np.histogram(data, bins=bins, density=True)\n    x = (x + np.roll(x, -1))[:-1] / 2.0\n\n    # Distributions to check\n    DISTRIBUTIONS = [        \n        st.alpha,st.anglit,st.arcsine,st.beta,st.betaprime,st.bradford,st.burr,st.cauchy,st.chi,st.chi2,st.cosine,\n        st.dgamma,st.dweibull,st.erlang,st.expon,st.exponnorm,st.exponweib,st.exponpow,st.f,st.fatiguelife,st.fisk,\n        #st.foldcauchy,st.foldnorm,st.frechet_r,st.frechet_l,st.genlogistic,st.genpareto,st.gennorm,st.genexpon,\n        st.genextreme,st.gausshyper,st.gamma,st.gengamma,st.genhalflogistic,st.gilbrat,st.gompertz,st.gumbel_r,\n        st.gumbel_l,st.halfcauchy,st.halflogistic,st.halfnorm,st.halfgennorm,st.hypsecant,st.invgamma,st.invgauss,\n        st.invweibull,st.johnsonsb,st.johnsonsu,st.ksone,st.kstwobign,st.laplace,st.levy,st.levy_l,st.levy_stable,\n        st.logistic,st.loggamma,st.loglaplace,st.lognorm,st.lomax,st.maxwell,st.mielke,st.nakagami,st.ncx2,st.ncf,\n        st.nct,st.norm,st.pareto,st.pearson3,st.powerlaw,st.powerlognorm,st.powernorm,st.rdist,st.reciprocal,\n        st.rayleigh,st.rice,st.recipinvgauss,st.semicircular,st.t,st.triang,st.truncexpon,st.truncnorm,st.tukeylambda,\n        st.uniform,st.vonmises,st.vonmises_line,st.wald,st.weibull_min,st.weibull_max,st.wrapcauchy\n    ]\n\n    # Best holders\n    best_distribution = st.norm\n    best_params = (0.0, 1.0)\n    best_sse = np.inf\n\n    # Estimate distribution parameters from data\n    for distribution in DISTRIBUTIONS:\n\n        # Try to fit the distribution\n        try:\n            # Ignore warnings from data that can't be fit\n            with warnings.catch_warnings():\n                warnings.filterwarnings('ignore')\n\n                # fit dist to data\n                params = distribution.fit(data)\n\n                # Separate parts of parameters\n                arg = params[:-2]\n                loc = params[-2]\n                scale = params[-1]\n\n                # Calculate fitted PDF and error with fit in distribution\n                pdf = distribution.pdf(x, loc=loc, scale=scale, *arg)\n                sse = np.sum(np.power(y - pdf, 2.0))\n\n                # if axis pass in add to plot\n                try:\n                    if ax:\n                        pd.Series(pdf, x).plot(ax=ax)\n                    end\n                except Exception:\n                    pass\n\n                # identify if this distribution is better\n                if best_sse > sse > 0:\n                    best_distribution = distribution\n                    best_params = params\n                    best_sse = sse\n\n        except Exception:\n            pass\n\n    return (best_distribution.name, best_params)\n\ndef make_pdf(dist, params, size=10000):\n    \"\"\"Generate distributions's Probability Distribution Function \"\"\"\n\n    # Separate parts of parameters\n    arg = params[:-2]\n    loc = params[-2]\n    scale = params[-1]\n\n    # Get sane start and end points of distribution\n    start = dist.ppf(0.01, *arg, loc=loc, scale=scale) if arg else dist.ppf(0.01, loc=loc, scale=scale)\n    end = dist.ppf(0.99, *arg, loc=loc, scale=scale) if arg else dist.ppf(0.99, loc=loc, scale=scale)\n\n    # Build PDF and turn into pandas Series\n    x = np.linspace(start, end, size)\n    y = dist.pdf(x, loc=loc, scale=scale, *arg)\n    pdf = pd.Series(y, x)\n\n    return pdf\n\n# Load data from statsmodels datasets\n#data = preprocess_data.csv\n\n# Plot for comparison\nplt.figure(figsize=(12,8))\n#ax = data.plot(kind='hist', bins=50, normed=True, alpha=0.5, color=plt.rcParams['axes.color_cycle'][1])\nax = df.minmax_norm_ratings.hist(bins=20, alpha=0.5, density=True, color='blue', edgecolor = 'white')\n# Save plot limits\ndataYLim = ax.get_ylim()\n\n# Find best fit distribution\nbest_fit_name, best_fit_params = best_fit_distribution(df.minmax_norm_ratings, 200, ax)\nbest_dist = getattr(st, best_fit_name)\n\n# Update plots\nax.set_ylim(dataYLim)\nax.set_title(u'Minmax norm rating')\nax.set_xlabel(u'Frequency')\nax.set_ylabel('Frequency')\n\n# Make PDF with best params \npdf = make_pdf(best_dist, best_fit_params)\n\n# Display\nplt.figure(figsize=(12,8))\nax = pdf.plot(lw=2, label='PDF', legend=True)\ndf.minmax_norm_ratings.plot(kind='hist', bins=50, density=True, alpha=0.5, label='Data', legend=True, ax=ax)\n\nparam_names = (best_dist.shapes + ', loc, scale').split(', ') if best_dist.shapes else ['loc', 'scale']\nparam_str = ', '.join(['{}={:0.2f}'.format(k,v) for k,v in zip(param_names, best_fit_params)])\ndist_str = '{}({})'.format(best_fit_name, param_str)\n\nax.set_title(u'minmax_norm with best fit distribution \\n' + dist_str)\nax.set_xlabel(u'norm_ratings')\nax.set_ylabel('Frequency')",
      "execution_count": 17,
      "outputs": [
        {
          "output_type": "execute_result",
          "execution_count": 17,
          "data": {
            "text/plain": "Text(0, 0.5, 'Frequency')"
          },
          "metadata": {}
        },
        {
          "data": {
            "text/plain": "<Figure size 864x576 with 1 Axes>",
            "image/png": "[encoded data removed]"
          },
          "metadata": {},
          "output_type": "display_data"
        },
        {
          "data": {
            "text/plain": "<Figure size 864x576 with 1 Axes>",
            "image/png": "[encoded data removed]"
          },
          "metadata": {},
          "output_type": "display_data"
        }
      ]
    },
    {
      "cell_type": "code",
      "metadata": {
        "tags": [],
        "cell_id": "00025-bec94e3b-7429-4cc7-8fb9-b9006a6bbdb6",
        "deepnote_cell_type": "code"
      },
      "source": "",
      "execution_count": null,
      "outputs": []
    },
    {
      "cell_type": "code",
      "metadata": {
        "tags": [],
        "cell_id": "00026-552419dd-6a9a-4f22-a056-ee66ab554fa4",
        "deepnote_to_be_reexecuted": false,
        "source_hash": "f30f989a",
        "execution_millis": 86,
        "execution_start": 1618465333979,
        "deepnote_cell_type": "code"
      },
      "source": "df.head(10)",
      "execution_count": 18,
      "outputs": [
        {
          "output_type": "execute_result",
          "execution_count": 18,
          "data": {
            "application/vnd.deepnote.dataframe.v2+json": {
              "row_count": 10,
              "column_count": 12,
              "columns": [
                {
                  "name": "title",
                  "dtype": "object",
                  "stats": {
                    "unique_count": 10,
                    "nan_count": 0,
                    "categories": [
                      {
                        "name": "City of Ashes",
                        "count": 1
                      },
                      {
                        "name": "Hush, Hush",
                        "count": 1
                      },
                      {
                        "name": "8 others",
                        "count": 8
                      }
                    ]
                  }
                },
                {
                  "name": "author",
                  "dtype": "object",
                  "stats": {
                    "unique_count": 8,
                    "nan_count": 0,
                    "categories": [
                      {
                        "name": "Cassandra Clare",
                        "count": 3
                      },
                      {
                        "name": "Becca Fitzpatrick",
                        "count": 1
                      },
                      {
                        "name": "6 others",
                        "count": 6
                      }
                    ]
                  }
                },
                {
                  "name": "num_rating",
                  "dtype": "int64",
                  "stats": {
                    "unique_count": 10,
                    "nan_count": 0,
                    "min": "180538",
                    "max": "834607",
                    "histogram": [
                      {
                        "bin_start": 180538,
                        "bin_end": 245944.9,
                        "count": 1
                      },
                      {
                        "bin_start": 245944.9,
                        "bin_end": 311351.8,
                        "count": 0
                      },
                      {
                        "bin_start": 311351.8,
                        "bin_end": 376758.7,
                        "count": 1
                      },
                      {
                        "bin_start": 376758.7,
                        "bin_end": 442165.6,
                        "count": 1
                      },
                      {
                        "bin_start": 442165.6,
                        "bin_end": 507572.5,
                        "count": 2
                      },
                      {
                        "bin_start": 507572.5,
                        "bin_end": 572979.4,
                        "count": 0
                      },
                      {
                        "bin_start": 572979.4,
                        "bin_end": 638386.3,
                        "count": 1
                      },
                      {
                        "bin_start": 638386.3,
                        "bin_end": 703793.2,
                        "count": 1
                      },
                      {
                        "bin_start": 703793.2,
                        "bin_end": 769200.1,
                        "count": 1
                      },
                      {
                        "bin_start": 769200.1,
                        "bin_end": 834607,
                        "count": 2
                      }
                    ]
                  }
                },
                {
                  "name": "num_reviews",
                  "dtype": "int64",
                  "stats": {
                    "unique_count": 10,
                    "nan_count": 0,
                    "min": "7608",
                    "max": "33615",
                    "histogram": [
                      {
                        "bin_start": 7608,
                        "bin_end": 10208.7,
                        "count": 1
                      },
                      {
                        "bin_start": 10208.7,
                        "bin_end": 12809.4,
                        "count": 1
                      },
                      {
                        "bin_start": 12809.4,
                        "bin_end": 15410.099999999999,
                        "count": 1
                      },
                      {
                        "bin_start": 15410.099999999999,
                        "bin_end": 18010.8,
                        "count": 0
                      },
                      {
                        "bin_start": 18010.8,
                        "bin_end": 20611.5,
                        "count": 0
                      },
                      {
                        "bin_start": 20611.5,
                        "bin_end": 23212.199999999997,
                        "count": 1
                      },
                      {
                        "bin_start": 23212.199999999997,
                        "bin_end": 25812.899999999998,
                        "count": 2
                      },
                      {
                        "bin_start": 25812.899999999998,
                        "bin_end": 28413.6,
                        "count": 0
                      },
                      {
                        "bin_start": 28413.6,
                        "bin_end": 31014.3,
                        "count": 2
                      },
                      {
                        "bin_start": 31014.3,
                        "bin_end": 33615,
                        "count": 2
                      }
                    ]
                  }
                },
                {
                  "name": "avg_rating",
                  "dtype": "float64",
                  "stats": {
                    "unique_count": 10,
                    "nan_count": 0,
                    "min": "3.65",
                    "max": "4.31",
                    "histogram": [
                      {
                        "bin_start": 3.65,
                        "bin_end": 3.7159999999999997,
                        "count": 1
                      },
                      {
                        "bin_start": 3.7159999999999997,
                        "bin_end": 3.782,
                        "count": 1
                      },
                      {
                        "bin_start": 3.782,
                        "bin_end": 3.848,
                        "count": 2
                      },
                      {
                        "bin_start": 3.848,
                        "bin_end": 3.9139999999999997,
                        "count": 0
                      },
                      {
                        "bin_start": 3.9139999999999997,
                        "bin_end": 3.9799999999999995,
                        "count": 1
                      },
                      {
                        "bin_start": 3.9799999999999995,
                        "bin_end": 4.045999999999999,
                        "count": 0
                      },
                      {
                        "bin_start": 4.045999999999999,
                        "bin_end": 4.112,
                        "count": 1
                      },
                      {
                        "bin_start": 4.112,
                        "bin_end": 4.178,
                        "count": 1
                      },
                      {
                        "bin_start": 4.178,
                        "bin_end": 4.244,
                        "count": 0
                      },
                      {
                        "bin_start": 4.244,
                        "bin_end": 4.31,
                        "count": 3
                      }
                    ]
                  }
                },
                {
                  "name": "num_pages",
                  "dtype": "int64",
                  "stats": {
                    "unique_count": 10,
                    "nan_count": 0,
                    "min": "284",
                    "max": "541",
                    "histogram": [
                      {
                        "bin_start": 284,
                        "bin_end": 309.7,
                        "count": 2
                      },
                      {
                        "bin_start": 309.7,
                        "bin_end": 335.4,
                        "count": 1
                      },
                      {
                        "bin_start": 335.4,
                        "bin_end": 361.1,
                        "count": 0
                      },
                      {
                        "bin_start": 361.1,
                        "bin_end": 386.8,
                        "count": 1
                      },
                      {
                        "bin_start": 386.8,
                        "bin_end": 412.5,
                        "count": 2
                      },
                      {
                        "bin_start": 412.5,
                        "bin_end": 438.2,
                        "count": 0
                      },
                      {
                        "bin_start": 438.2,
                        "bin_end": 463.9,
                        "count": 1
                      },
                      {
                        "bin_start": 463.9,
                        "bin_end": 489.6,
                        "count": 2
                      },
                      {
                        "bin_start": 489.6,
                        "bin_end": 515.3,
                        "count": 0
                      },
                      {
                        "bin_start": 515.3,
                        "bin_end": 541,
                        "count": 1
                      }
                    ]
                  }
                },
                {
                  "name": "original_publish_year",
                  "dtype": "int64",
                  "stats": {
                    "unique_count": 5,
                    "nan_count": 0,
                    "min": "2006",
                    "max": "2010",
                    "histogram": [
                      {
                        "bin_start": 2006,
                        "bin_end": 2006.4,
                        "count": 1
                      },
                      {
                        "bin_start": 2006.4,
                        "bin_end": 2006.8,
                        "count": 0
                      },
                      {
                        "bin_start": 2006.8,
                        "bin_end": 2007.2,
                        "count": 1
                      },
                      {
                        "bin_start": 2007.2,
                        "bin_end": 2007.6,
                        "count": 0
                      },
                      {
                        "bin_start": 2007.6,
                        "bin_end": 2008,
                        "count": 0
                      },
                      {
                        "bin_start": 2008,
                        "bin_end": 2008.4,
                        "count": 3
                      },
                      {
                        "bin_start": 2008.4,
                        "bin_end": 2008.8,
                        "count": 0
                      },
                      {
                        "bin_start": 2008.8,
                        "bin_end": 2009.2,
                        "count": 3
                      },
                      {
                        "bin_start": 2009.2,
                        "bin_end": 2009.6,
                        "count": 0
                      },
                      {
                        "bin_start": 2009.6,
                        "bin_end": 2010,
                        "count": 2
                      }
                    ]
                  }
                },
                {
                  "name": "series",
                  "dtype": "bool",
                  "stats": {
                    "unique_count": 1,
                    "nan_count": 0,
                    "categories": [
                      {
                        "name": "True",
                        "count": 10
                      }
                    ]
                  }
                },
                {
                  "name": "genres",
                  "dtype": "object",
                  "stats": {
                    "unique_count": 10,
                    "nan_count": 0,
                    "categories": [
                      {
                        "name": "['Fantasy', 'Young Adult', 'Fantasy Paranormal', 'Romance', 'Fantasy Urban Fantasy', 'Paranormal Vampires', 'Fiction', 'Fantasy Supernatural', 'Paranormal Angels', 'Fantasy Magic']",
                        "count": 1
                      },
                      {
                        "name": "['Young Adult', 'Fantasy', 'Romance', 'Fantasy Paranormal', 'Paranormal Angels', 'Romance Paranormal Romance', 'Fantasy Supernatural', 'Fiction', 'Fantasy Urban Fantasy', 'Young Adult Young Adult Fantasy']",
                        "count": 1
                      },
                      {
                        "name": "8 others",
                        "count": 8
                      }
                    ]
                  }
                },
                {
                  "name": "award",
                  "dtype": "int64",
                  "stats": {
                    "unique_count": 8,
                    "nan_count": 0,
                    "min": "0",
                    "max": "18",
                    "histogram": [
                      {
                        "bin_start": 0,
                        "bin_end": 1.8,
                        "count": 3
                      },
                      {
                        "bin_start": 1.8,
                        "bin_end": 3.6,
                        "count": 3
                      },
                      {
                        "bin_start": 3.6,
                        "bin_end": 5.4,
                        "count": 0
                      },
                      {
                        "bin_start": 5.4,
                        "bin_end": 7.2,
                        "count": 0
                      },
                      {
                        "bin_start": 7.2,
                        "bin_end": 9,
                        "count": 0
                      },
                      {
                        "bin_start": 9,
                        "bin_end": 10.8,
                        "count": 1
                      },
                      {
                        "bin_start": 10.8,
                        "bin_end": 12.6,
                        "count": 2
                      },
                      {
                        "bin_start": 12.6,
                        "bin_end": 14.4,
                        "count": 0
                      },
                      {
                        "bin_start": 14.4,
                        "bin_end": 16.2,
                        "count": 0
                      },
                      {
                        "bin_start": 16.2,
                        "bin_end": 18,
                        "count": 1
                      }
                    ]
                  }
                },
                {
                  "name": "minmax_norm_ratings",
                  "dtype": "float64",
                  "stats": {
                    "unique_count": 10,
                    "nan_count": 0,
                    "min": "3.43",
                    "max": "6.84",
                    "histogram": [
                      {
                        "bin_start": 3.43,
                        "bin_end": 3.771,
                        "count": 1
                      },
                      {
                        "bin_start": 3.771,
                        "bin_end": 4.112,
                        "count": 1
                      },
                      {
                        "bin_start": 4.112,
                        "bin_end": 4.453,
                        "count": 2
                      },
                      {
                        "bin_start": 4.453,
                        "bin_end": 4.7940000000000005,
                        "count": 0
                      },
                      {
                        "bin_start": 4.7940000000000005,
                        "bin_end": 5.135,
                        "count": 1
                      },
                      {
                        "bin_start": 5.135,
                        "bin_end": 5.476,
                        "count": 0
                      },
                      {
                        "bin_start": 5.476,
                        "bin_end": 5.817,
                        "count": 1
                      },
                      {
                        "bin_start": 5.817,
                        "bin_end": 6.1579999999999995,
                        "count": 1
                      },
                      {
                        "bin_start": 6.1579999999999995,
                        "bin_end": 6.4990000000000006,
                        "count": 0
                      },
                      {
                        "bin_start": 6.4990000000000006,
                        "bin_end": 6.84,
                        "count": 3
                      }
                    ]
                  }
                },
                {
                  "name": "mean_norm_ratings",
                  "dtype": "float64",
                  "stats": {
                    "unique_count": 10,
                    "nan_count": 0,
                    "min": "-1.06",
                    "max": "2.36",
                    "histogram": [
                      {
                        "bin_start": -1.06,
                        "bin_end": -0.7180000000000001,
                        "count": 1
                      },
                      {
                        "bin_start": -0.7180000000000001,
                        "bin_end": -0.3760000000000001,
                        "count": 1
                      },
                      {
                        "bin_start": -0.3760000000000001,
                        "bin_end": -0.03400000000000025,
                        "count": 2
                      },
                      {
                        "bin_start": -0.03400000000000025,
                        "bin_end": 0.30799999999999983,
                        "count": 0
                      },
                      {
                        "bin_start": 0.30799999999999983,
                        "bin_end": 0.6499999999999999,
                        "count": 1
                      },
                      {
                        "bin_start": 0.6499999999999999,
                        "bin_end": 0.9919999999999995,
                        "count": 0
                      },
                      {
                        "bin_start": 0.9919999999999995,
                        "bin_end": 1.3339999999999996,
                        "count": 1
                      },
                      {
                        "bin_start": 1.3339999999999996,
                        "bin_end": 1.6759999999999997,
                        "count": 1
                      },
                      {
                        "bin_start": 1.6759999999999997,
                        "bin_end": 2.018,
                        "count": 0
                      },
                      {
                        "bin_start": 2.018,
                        "bin_end": 2.36,
                        "count": 3
                      }
                    ]
                  }
                },
                {
                  "name": "_deepnote_index_column",
                  "dtype": "int64"
                }
              ],
              "rows_top": [
                {
                  "title": "City of Ashes",
                  "author": "Cassandra Clare",
                  "num_rating": 790027,
                  "num_reviews": 30438,
                  "avg_rating": 4.15,
                  "num_pages": 453,
                  "original_publish_year": 2008,
                  "series": true,
                  "genres": "['Fantasy', 'Young Adult', 'Fantasy Paranormal', 'Romance', 'Fantasy Urban Fantasy', 'Paranormal Vampires', 'Fiction', 'Fantasy Supernatural', 'Paranormal Angels', 'Fantasy Magic']",
                  "award": 2,
                  "minmax_norm_ratings": 6.02,
                  "mean_norm_ratings": 1.53,
                  "_deepnote_index_column": 0
                },
                {
                  "title": "Hush, Hush",
                  "author": "Becca Fitzpatrick",
                  "num_rating": 604902,
                  "num_reviews": 25701,
                  "avg_rating": 3.95,
                  "num_pages": 391,
                  "original_publish_year": 2009,
                  "series": true,
                  "genres": "['Young Adult', 'Fantasy', 'Romance', 'Fantasy Paranormal', 'Paranormal Angels', 'Romance Paranormal Romance', 'Fantasy Supernatural', 'Fiction', 'Fantasy Urban Fantasy', 'Young Adult Young Adult Fantasy']",
                  "award": 1,
                  "minmax_norm_ratings": 4.98,
                  "mean_norm_ratings": 0.5,
                  "_deepnote_index_column": 1
                },
                {
                  "title": "City of Glass",
                  "author": "Cassandra Clare",
                  "num_rating": 834607,
                  "num_reviews": 29071,
                  "avg_rating": 4.3,
                  "num_pages": 541,
                  "original_publish_year": 2009,
                  "series": true,
                  "genres": "['Fantasy', 'Young Adult', 'Fantasy Paranormal', 'Romance', 'Fantasy Urban Fantasy', 'Paranormal Vampires', 'Fiction', 'Paranormal Angels', 'Fantasy Supernatural', 'Fantasy Magic']",
                  "award": 3,
                  "minmax_norm_ratings": 6.79,
                  "mean_norm_ratings": 2.31,
                  "_deepnote_index_column": 2
                },
                {
                  "title": "Clockwork Angel",
                  "author": "Cassandra Clare",
                  "num_rating": 709807,
                  "num_reviews": 33615,
                  "avg_rating": 4.31,
                  "num_pages": 479,
                  "original_publish_year": 2010,
                  "series": true,
                  "genres": "['Fantasy', 'Young Adult', 'Romance', 'Fantasy Paranormal', 'Science Fiction Steampunk', 'Historical Historical Fiction', 'Fiction', 'Fantasy Urban Fantasy', 'Paranormal Vampires', 'Paranormal Angels']",
                  "award": 10,
                  "minmax_norm_ratings": 6.84,
                  "mean_norm_ratings": 2.36,
                  "_deepnote_index_column": 3
                },
                {
                  "title": "Marked",
                  "author": "P.C. Cast",
                  "num_rating": 448105,
                  "num_reviews": 14504,
                  "avg_rating": 3.8,
                  "num_pages": 306,
                  "original_publish_year": 2007,
                  "series": true,
                  "genres": "['Young Adult', 'Fantasy', 'Paranormal Vampires', 'Fantasy Paranormal', 'Romance', 'Fiction', 'Fantasy Supernatural', 'Fantasy Urban Fantasy', 'Romance Paranormal Romance', 'Young Adult Teen']",
                  "award": 1,
                  "minmax_norm_ratings": 4.21,
                  "mean_norm_ratings": -0.28,
                  "_deepnote_index_column": 4
                },
                {
                  "title": "Graceling",
                  "author": "Kristin Cashore",
                  "num_rating": 405433,
                  "num_reviews": 23013,
                  "avg_rating": 4.07,
                  "num_pages": 471,
                  "original_publish_year": 2008,
                  "series": true,
                  "genres": "['Fantasy', 'Young Adult', 'Romance', 'Fiction', 'Adventure', 'Young Adult Young Adult Fantasy', 'Fantasy Magic', 'Fantasy High Fantasy', 'Young Adult Teen', 'Fantasy Paranormal']",
                  "award": 18,
                  "minmax_norm_ratings": 5.6,
                  "mean_norm_ratings": 1.12,
                  "_deepnote_index_column": 5
                },
                {
                  "title": "Shiver",
                  "author": "Maggie Stiefvater",
                  "num_rating": 448203,
                  "num_reviews": 23237,
                  "avg_rating": 3.76,
                  "num_pages": 392,
                  "original_publish_year": 2009,
                  "series": true,
                  "genres": "['Young Adult', 'Fantasy', 'Romance', 'Fantasy Paranormal', 'Shapeshifters Werewolves', 'Fiction', 'Romance Paranormal Romance', 'Fantasy Supernatural', 'Fantasy Urban Fantasy', 'Young Adult Teen']",
                  "award": 12,
                  "minmax_norm_ratings": 4,
                  "mean_norm_ratings": -0.49,
                  "_deepnote_index_column": 6
                },
                {
                  "title": "Frostbite",
                  "author": "Richelle Mead",
                  "num_rating": 324067,
                  "num_reviews": 11587,
                  "avg_rating": 4.26,
                  "num_pages": 327,
                  "original_publish_year": 2008,
                  "series": true,
                  "genres": "['Young Adult', 'Paranormal Vampires', 'Fantasy', 'Fantasy Paranormal', 'Romance', 'Fantasy Urban Fantasy', 'Romance Paranormal Romance', 'Fantasy Supernatural', 'Fiction', 'Fantasy Magic']",
                  "award": 0,
                  "minmax_norm_ratings": 6.59,
                  "mean_norm_ratings": 2.1,
                  "_deepnote_index_column": 7
                },
                {
                  "title": "I'd Tell You I Love You, But Then I'd Have to Kill You",
                  "author": "Ally Carter",
                  "num_rating": 180538,
                  "num_reviews": 7608,
                  "avg_rating": 3.82,
                  "num_pages": 284,
                  "original_publish_year": 2006,
                  "series": true,
                  "genres": "['Young Adult', 'Romance', 'Mystery', 'Contemporary', 'Fiction', 'Spy Thriller Espionage', 'Womens Fiction Chick Lit', 'Adventure', 'Young Adult Teen', 'Realistic Fiction']",
                  "award": 2,
                  "minmax_norm_ratings": 4.31,
                  "mean_norm_ratings": -0.18,
                  "_deepnote_index_column": 8
                },
                {
                  "title": "Matched",
                  "author": "Ally Condie",
                  "num_rating": 681163,
                  "num_reviews": 33513,
                  "avg_rating": 3.65,
                  "num_pages": 369,
                  "original_publish_year": 2010,
                  "series": true,
                  "genres": "['Young Adult', 'Science Fiction Dystopia', 'Romance', 'Science Fiction', 'Fiction', 'Fantasy', 'Young Adult Teen', 'Audiobook', 'Futuristic', 'Apocalyptic Post Apocalyptic']",
                  "award": 11,
                  "minmax_norm_ratings": 3.43,
                  "mean_norm_ratings": -1.06,
                  "_deepnote_index_column": 9
                }
              ],
              "rows_bottom": null
            },
            "text/plain": "                                               title             author  \\\n0                                      City of Ashes    Cassandra Clare   \n1                                         Hush, Hush  Becca Fitzpatrick   \n2                                      City of Glass    Cassandra Clare   \n3                                    Clockwork Angel    Cassandra Clare   \n4                                             Marked          P.C. Cast   \n5                                          Graceling    Kristin Cashore   \n6                                             Shiver  Maggie Stiefvater   \n7                                          Frostbite      Richelle Mead   \n8  I'd Tell You I Love You, But Then I'd Have to ...        Ally Carter   \n9                                            Matched        Ally Condie   \n\n   num_rating  num_reviews  avg_rating  num_pages  original_publish_year  \\\n0      790027        30438        4.15        453                   2008   \n1      604902        25701        3.95        391                   2009   \n2      834607        29071        4.30        541                   2009   \n3      709807        33615        4.31        479                   2010   \n4      448105        14504        3.80        306                   2007   \n5      405433        23013        4.07        471                   2008   \n6      448203        23237        3.76        392                   2009   \n7      324067        11587        4.26        327                   2008   \n8      180538         7608        3.82        284                   2006   \n9      681163        33513        3.65        369                   2010   \n\n   series                                             genres  award  \\\n0    True  ['Fantasy', 'Young Adult', 'Fantasy Paranormal...      2   \n1    True  ['Young Adult', 'Fantasy', 'Romance', 'Fantasy...      1   \n2    True  ['Fantasy', 'Young Adult', 'Fantasy Paranormal...      3   \n3    True  ['Fantasy', 'Young Adult', 'Romance', 'Fantasy...     10   \n4    True  ['Young Adult', 'Fantasy', 'Paranormal Vampire...      1   \n5    True  ['Fantasy', 'Young Adult', 'Romance', 'Fiction...     18   \n6    True  ['Young Adult', 'Fantasy', 'Romance', 'Fantasy...     12   \n7    True  ['Young Adult', 'Paranormal Vampires', 'Fantas...      0   \n8    True  ['Young Adult', 'Romance', 'Mystery', 'Contemp...      2   \n9    True  ['Young Adult', 'Science Fiction Dystopia', 'R...     11   \n\n   minmax_norm_ratings  mean_norm_ratings  \n0                 6.02               1.53  \n1                 4.98               0.50  \n2                 6.79               2.31  \n3                 6.84               2.36  \n4                 4.21              -0.28  \n5                 5.60               1.12  \n6                 4.00              -0.49  \n7                 6.59               2.10  \n8                 4.31              -0.18  \n9                 3.43              -1.06  ",
            "text/html": "<div>\n<style scoped>\n    .dataframe tbody tr th:only-of-type {\n        vertical-align: middle;\n    }\n\n    .dataframe tbody tr th {\n        vertical-align: top;\n    }\n\n    .dataframe thead th {\n        text-align: right;\n    }\n</style>\n<table border=\"1\" class=\"dataframe\">\n  <thead>\n    <tr style=\"text-align: right;\">\n      <th></th>\n      <th>title</th>\n      <th>author</th>\n      <th>num_rating</th>\n      <th>num_reviews</th>\n      <th>avg_rating</th>\n      <th>num_pages</th>\n      <th>original_publish_year</th>\n      <th>series</th>\n      <th>genres</th>\n      <th>award</th>\n      <th>minmax_norm_ratings</th>\n      <th>mean_norm_ratings</th>\n    </tr>\n  </thead>\n  <tbody>\n    <tr>\n      <th>0</th>\n      <td>City of Ashes</td>\n      <td>Cassandra Clare</td>\n      <td>790027</td>\n      <td>30438</td>\n      <td>4.15</td>\n      <td>453</td>\n      <td>2008</td>\n      <td>True</td>\n      <td>['Fantasy', 'Young Adult', 'Fantasy Paranormal...</td>\n      <td>2</td>\n      <td>6.02</td>\n      <td>1.53</td>\n    </tr>\n    <tr>\n      <th>1</th>\n      <td>Hush, Hush</td>\n      <td>Becca Fitzpatrick</td>\n      <td>604902</td>\n      <td>25701</td>\n      <td>3.95</td>\n      <td>391</td>\n      <td>2009</td>\n      <td>True</td>\n      <td>['Young Adult', 'Fantasy', 'Romance', 'Fantasy...</td>\n      <td>1</td>\n      <td>4.98</td>\n      <td>0.50</td>\n    </tr>\n    <tr>\n      <th>2</th>\n      <td>City of Glass</td>\n      <td>Cassandra Clare</td>\n      <td>834607</td>\n      <td>29071</td>\n      <td>4.30</td>\n      <td>541</td>\n      <td>2009</td>\n      <td>True</td>\n      <td>['Fantasy', 'Young Adult', 'Fantasy Paranormal...</td>\n      <td>3</td>\n      <td>6.79</td>\n      <td>2.31</td>\n    </tr>\n    <tr>\n      <th>3</th>\n      <td>Clockwork Angel</td>\n      <td>Cassandra Clare</td>\n      <td>709807</td>\n      <td>33615</td>\n      <td>4.31</td>\n      <td>479</td>\n      <td>2010</td>\n      <td>True</td>\n      <td>['Fantasy', 'Young Adult', 'Romance', 'Fantasy...</td>\n      <td>10</td>\n      <td>6.84</td>\n      <td>2.36</td>\n    </tr>\n    <tr>\n      <th>4</th>\n      <td>Marked</td>\n      <td>P.C. Cast</td>\n      <td>448105</td>\n      <td>14504</td>\n      <td>3.80</td>\n      <td>306</td>\n      <td>2007</td>\n      <td>True</td>\n      <td>['Young Adult', 'Fantasy', 'Paranormal Vampire...</td>\n      <td>1</td>\n      <td>4.21</td>\n      <td>-0.28</td>\n    </tr>\n    <tr>\n      <th>5</th>\n      <td>Graceling</td>\n      <td>Kristin Cashore</td>\n      <td>405433</td>\n      <td>23013</td>\n      <td>4.07</td>\n      <td>471</td>\n      <td>2008</td>\n      <td>True</td>\n      <td>['Fantasy', 'Young Adult', 'Romance', 'Fiction...</td>\n      <td>18</td>\n      <td>5.60</td>\n      <td>1.12</td>\n    </tr>\n    <tr>\n      <th>6</th>\n      <td>Shiver</td>\n      <td>Maggie Stiefvater</td>\n      <td>448203</td>\n      <td>23237</td>\n      <td>3.76</td>\n      <td>392</td>\n      <td>2009</td>\n      <td>True</td>\n      <td>['Young Adult', 'Fantasy', 'Romance', 'Fantasy...</td>\n      <td>12</td>\n      <td>4.00</td>\n      <td>-0.49</td>\n    </tr>\n    <tr>\n      <th>7</th>\n      <td>Frostbite</td>\n      <td>Richelle Mead</td>\n      <td>324067</td>\n      <td>11587</td>\n      <td>4.26</td>\n      <td>327</td>\n      <td>2008</td>\n      <td>True</td>\n      <td>['Young Adult', 'Paranormal Vampires', 'Fantas...</td>\n      <td>0</td>\n      <td>6.59</td>\n      <td>2.10</td>\n    </tr>\n    <tr>\n      <th>8</th>\n      <td>I'd Tell You I Love You, But Then I'd Have to ...</td>\n      <td>Ally Carter</td>\n      <td>180538</td>\n      <td>7608</td>\n      <td>3.82</td>\n      <td>284</td>\n      <td>2006</td>\n      <td>True</td>\n      <td>['Young Adult', 'Romance', 'Mystery', 'Contemp...</td>\n      <td>2</td>\n      <td>4.31</td>\n      <td>-0.18</td>\n    </tr>\n    <tr>\n      <th>9</th>\n      <td>Matched</td>\n      <td>Ally Condie</td>\n      <td>681163</td>\n      <td>33513</td>\n      <td>3.65</td>\n      <td>369</td>\n      <td>2010</td>\n      <td>True</td>\n      <td>['Young Adult', 'Science Fiction Dystopia', 'R...</td>\n      <td>11</td>\n      <td>3.43</td>\n      <td>-1.06</td>\n    </tr>\n  </tbody>\n</table>\n</div>"
          },
          "metadata": {}
        }
      ]
    },
    {
      "cell_type": "code",
      "metadata": {
        "tags": [],
        "cell_id": "00024-79f15826-a9e8-4446-a5c8-7df5ec3a399f",
        "deepnote_to_be_reexecuted": false,
        "source_hash": "bac2578a",
        "execution_millis": 32,
        "execution_start": 1618465338767,
        "deepnote_cell_type": "code"
      },
      "source": "df.groupby('author').size().reset_index(name='books')\n",
      "execution_count": 19,
      "outputs": [
        {
          "output_type": "execute_result",
          "execution_count": 19,
          "data": {
            "application/vnd.deepnote.dataframe.v2+json": {
              "row_count": 447,
              "column_count": 2,
              "columns": [
                {
                  "name": "author",
                  "dtype": "object",
                  "stats": {
                    "unique_count": 447,
                    "nan_count": 0,
                    "categories": [
                      {
                        "name": "A.G. Howard",
                        "count": 1
                      },
                      {
                        "name": "A.V. Davina",
                        "count": 1
                      },
                      {
                        "name": "445 others",
                        "count": 445
                      }
                    ]
                  }
                },
                {
                  "name": "books",
                  "dtype": "int64",
                  "stats": {
                    "unique_count": 12,
                    "nan_count": 0,
                    "min": "1",
                    "max": "13",
                    "histogram": [
                      {
                        "bin_start": 1,
                        "bin_end": 2.2,
                        "count": 349
                      },
                      {
                        "bin_start": 2.2,
                        "bin_end": 3.4,
                        "count": 43
                      },
                      {
                        "bin_start": 3.4,
                        "bin_end": 4.6,
                        "count": 18
                      },
                      {
                        "bin_start": 4.6,
                        "bin_end": 5.8,
                        "count": 12
                      },
                      {
                        "bin_start": 5.8,
                        "bin_end": 7,
                        "count": 11
                      },
                      {
                        "bin_start": 7,
                        "bin_end": 8.2,
                        "count": 7
                      },
                      {
                        "bin_start": 8.2,
                        "bin_end": 9.4,
                        "count": 1
                      },
                      {
                        "bin_start": 9.4,
                        "bin_end": 10.6,
                        "count": 3
                      },
                      {
                        "bin_start": 10.6,
                        "bin_end": 11.799999999999999,
                        "count": 2
                      },
                      {
                        "bin_start": 11.799999999999999,
                        "bin_end": 13,
                        "count": 1
                      }
                    ]
                  }
                },
                {
                  "name": "_deepnote_index_column",
                  "dtype": "int64"
                }
              ],
              "rows_top": [
                {
                  "author": "A.G. Howard",
                  "books": 1,
                  "_deepnote_index_column": 0
                },
                {
                  "author": "A.V. Davina",
                  "books": 2,
                  "_deepnote_index_column": 1
                },
                {
                  "author": "Abbi Glines",
                  "books": 6,
                  "_deepnote_index_column": 2
                },
                {
                  "author": "Abraham   Verghese",
                  "books": 2,
                  "_deepnote_index_column": 3
                },
                {
                  "author": "Adam Glendon Sidwell",
                  "books": 2,
                  "_deepnote_index_column": 4
                },
                {
                  "author": "Addison Moore",
                  "books": 2,
                  "_deepnote_index_column": 5
                },
                {
                  "author": "Adrienne Woods",
                  "books": 2,
                  "_deepnote_index_column": 6
                },
                {
                  "author": "Afroz  Alam",
                  "books": 1,
                  "_deepnote_index_column": 7
                },
                {
                  "author": "Aimee Carter",
                  "books": 1,
                  "_deepnote_index_column": 8
                },
                {
                  "author": "Alexander Gordon Smith",
                  "books": 2,
                  "_deepnote_index_column": 9
                },
                {
                  "author": "Alexandra Adornetto",
                  "books": 2,
                  "_deepnote_index_column": 10
                },
                {
                  "author": "Alice Clayton",
                  "books": 1,
                  "_deepnote_index_column": 11
                },
                {
                  "author": "Alison Goodman",
                  "books": 2,
                  "_deepnote_index_column": 12
                },
                {
                  "author": "Ally Carter",
                  "books": 8,
                  "_deepnote_index_column": 13
                },
                {
                  "author": "Ally Condie",
                  "books": 3,
                  "_deepnote_index_column": 14
                },
                {
                  "author": "Alyson Noel",
                  "books": 5,
                  "_deepnote_index_column": 15
                },
                {
                  "author": "Alyxandra Harvey",
                  "books": 2,
                  "_deepnote_index_column": 16
                },
                {
                  "author": "Amanda Hocking",
                  "books": 6,
                  "_deepnote_index_column": 17
                },
                {
                  "author": "Amie Kaufman",
                  "books": 3,
                  "_deepnote_index_column": 18
                },
                {
                  "author": "Amish Tripathi",
                  "books": 2,
                  "_deepnote_index_column": 19
                },
                {
                  "author": "Ammar Habib",
                  "books": 2,
                  "_deepnote_index_column": 20
                },
                {
                  "author": "Amy A. Bartol",
                  "books": 3,
                  "_deepnote_index_column": 21
                },
                {
                  "author": "Amy Harmon",
                  "books": 2,
                  "_deepnote_index_column": 22
                },
                {
                  "author": "Amy Plum",
                  "books": 1,
                  "_deepnote_index_column": 23
                },
                {
                  "author": "Anastacia Moore",
                  "books": 2,
                  "_deepnote_index_column": 24
                },
                {
                  "author": "Andrea Cremer",
                  "books": 2,
                  "_deepnote_index_column": 25
                },
                {
                  "author": "Andrew     Mann",
                  "books": 1,
                  "_deepnote_index_column": 26
                },
                {
                  "author": "Andrew Clements",
                  "books": 1,
                  "_deepnote_index_column": 27
                },
                {
                  "author": "Andrew Davidson",
                  "books": 1,
                  "_deepnote_index_column": 28
                },
                {
                  "author": "Angelo Tsanatelis",
                  "books": 2,
                  "_deepnote_index_column": 29
                },
                {
                  "author": "Angie Sage",
                  "books": 1,
                  "_deepnote_index_column": 30
                },
                {
                  "author": "Ann Aguirre",
                  "books": 1,
                  "_deepnote_index_column": 31
                },
                {
                  "author": "Ann Patchett",
                  "books": 1,
                  "_deepnote_index_column": 32
                },
                {
                  "author": "Anna Godbersen",
                  "books": 1,
                  "_deepnote_index_column": 33
                },
                {
                  "author": "Anne  Willow",
                  "books": 2,
                  "_deepnote_index_column": 34
                },
                {
                  "author": "Anne McCaffrey",
                  "books": 1,
                  "_deepnote_index_column": 35
                },
                {
                  "author": "Anne Rice",
                  "books": 2,
                  "_deepnote_index_column": 36
                },
                {
                  "author": "Anthony Doerr",
                  "books": 1,
                  "_deepnote_index_column": 37
                },
                {
                  "author": "Anya Seton",
                  "books": 1,
                  "_deepnote_index_column": 38
                },
                {
                  "author": "Aprilynne Pike",
                  "books": 1,
                  "_deepnote_index_column": 39
                },
                {
                  "author": "Ariana Franklin",
                  "books": 1,
                  "_deepnote_index_column": 40
                },
                {
                  "author": "Arthur C. Clarke",
                  "books": 3,
                  "_deepnote_index_column": 41
                },
                {
                  "author": "Austin Star",
                  "books": 1,
                  "_deepnote_index_column": 42
                },
                {
                  "author": "Avi",
                  "books": 1,
                  "_deepnote_index_column": 43
                },
                {
                  "author": "Barbara Kingsolver",
                  "books": 1,
                  "_deepnote_index_column": 44
                },
                {
                  "author": "Beatrice Sparks",
                  "books": 1,
                  "_deepnote_index_column": 45
                },
                {
                  "author": "Becca Fitzpatrick",
                  "books": 4,
                  "_deepnote_index_column": 46
                },
                {
                  "author": "Ben Peller",
                  "books": 1,
                  "_deepnote_index_column": 47
                },
                {
                  "author": "Beth Fantaskey",
                  "books": 1,
                  "_deepnote_index_column": 48
                },
                {
                  "author": "Beth Revis",
                  "books": 1,
                  "_deepnote_index_column": 49
                },
                {
                  "author": "Bev Stout",
                  "books": 2,
                  "_deepnote_index_column": 50
                },
                {
                  "author": "Brandon Mull",
                  "books": 5,
                  "_deepnote_index_column": 51
                },
                {
                  "author": "Brandon Sanderson",
                  "books": 6,
                  "_deepnote_index_column": 52
                },
                {
                  "author": "Brent Weeks",
                  "books": 1,
                  "_deepnote_index_column": 53
                },
                {
                  "author": "Brodi Ashton",
                  "books": 2,
                  "_deepnote_index_column": 54
                },
                {
                  "author": "C. Michaels",
                  "books": 3,
                  "_deepnote_index_column": 55
                },
                {
                  "author": "C.C. Hunter",
                  "books": 3,
                  "_deepnote_index_column": 56
                },
                {
                  "author": "C.J. Sansom",
                  "books": 2,
                  "_deepnote_index_column": 57
                },
                {
                  "author": "C.S. Lewis",
                  "books": 3,
                  "_deepnote_index_column": 58
                },
                {
                  "author": "Caleb Carr",
                  "books": 1,
                  "_deepnote_index_column": 59
                },
                {
                  "author": "Caragh M. O'Brien",
                  "books": 2,
                  "_deepnote_index_column": 60
                },
                {
                  "author": "Carlos Ruiz Zafón",
                  "books": 1,
                  "_deepnote_index_column": 61
                },
                {
                  "author": "Carrie Jones",
                  "books": 1,
                  "_deepnote_index_column": 62
                },
                {
                  "author": "Carrie Ryan",
                  "books": 3,
                  "_deepnote_index_column": 63
                },
                {
                  "author": "Cassandra Clare",
                  "books": 7,
                  "_deepnote_index_column": 64
                },
                {
                  "author": "Catherine Fisher",
                  "books": 1,
                  "_deepnote_index_column": 65
                },
                {
                  "author": "Cecelia Ahern",
                  "books": 2,
                  "_deepnote_index_column": 66
                },
                {
                  "author": "Celeste Fletcher McHale",
                  "books": 1,
                  "_deepnote_index_column": 67
                },
                {
                  "author": "Chelsea Cain",
                  "books": 2,
                  "_deepnote_index_column": 68
                },
                {
                  "author": "Cherie Colyer",
                  "books": 1,
                  "_deepnote_index_column": 69
                },
                {
                  "author": "Cheryl Kaye Tardif",
                  "books": 1,
                  "_deepnote_index_column": 70
                },
                {
                  "author": "China Miéville",
                  "books": 2,
                  "_deepnote_index_column": 71
                },
                {
                  "author": "Chloe Neill",
                  "books": 1,
                  "_deepnote_index_column": 72
                },
                {
                  "author": "Christine Dzidrums",
                  "books": 1,
                  "_deepnote_index_column": 73
                },
                {
                  "author": "Christine M. Knight",
                  "books": 2,
                  "_deepnote_index_column": 74
                },
                {
                  "author": "Christopher  Shields",
                  "books": 2,
                  "_deepnote_index_column": 75
                },
                {
                  "author": "Christopher Moore",
                  "books": 5,
                  "_deepnote_index_column": 76
                },
                {
                  "author": "Christopher Paolini",
                  "books": 3,
                  "_deepnote_index_column": 77
                },
                {
                  "author": "Christopher Pike",
                  "books": 1,
                  "_deepnote_index_column": 78
                },
                {
                  "author": "Chuck Palahniuk",
                  "books": 4,
                  "_deepnote_index_column": 79
                },
                {
                  "author": "Cinda Williams Chima",
                  "books": 6,
                  "_deepnote_index_column": 80
                },
                {
                  "author": "Claudia Gray",
                  "books": 3,
                  "_deepnote_index_column": 81
                },
                {
                  "author": "Clive Barker",
                  "books": 2,
                  "_deepnote_index_column": 82
                },
                {
                  "author": "Colleen Hoover",
                  "books": 4,
                  "_deepnote_index_column": 83
                },
                {
                  "author": "Colleen Houck",
                  "books": 2,
                  "_deepnote_index_column": 84
                },
                {
                  "author": "Cornelia Funke",
                  "books": 2,
                  "_deepnote_index_column": 85
                },
                {
                  "author": "Courtney Allison Moulton",
                  "books": 1,
                  "_deepnote_index_column": 86
                },
                {
                  "author": "Cynthia Hand",
                  "books": 2,
                  "_deepnote_index_column": 87
                },
                {
                  "author": "Cynthia Kadohata",
                  "books": 1,
                  "_deepnote_index_column": 88
                },
                {
                  "author": "D.J. MacHale",
                  "books": 1,
                  "_deepnote_index_column": 89
                },
                {
                  "author": "Dan Brown",
                  "books": 1,
                  "_deepnote_index_column": 90
                },
                {
                  "author": "Dan Simmons",
                  "books": 1,
                  "_deepnote_index_column": 91
                },
                {
                  "author": "Dan Wells",
                  "books": 1,
                  "_deepnote_index_column": 92
                },
                {
                  "author": "Danielle  Paige",
                  "books": 2,
                  "_deepnote_index_column": 93
                },
                {
                  "author": "Darynda Jones",
                  "books": 2,
                  "_deepnote_index_column": 94
                },
                {
                  "author": "Dave Barry",
                  "books": 1,
                  "_deepnote_index_column": 95
                },
                {
                  "author": "David Benioff",
                  "books": 1,
                  "_deepnote_index_column": 96
                },
                {
                  "author": "David Clement-Davies",
                  "books": 2,
                  "_deepnote_index_column": 97
                },
                {
                  "author": "David Eddings",
                  "books": 1,
                  "_deepnote_index_column": 98
                },
                {
                  "author": "David Gemmell",
                  "books": 2,
                  "_deepnote_index_column": 99
                },
                {
                  "author": "Dean F. Wilson",
                  "books": 1,
                  "_deepnote_index_column": 100
                },
                {
                  "author": "Deborah Harkness",
                  "books": 1,
                  "_deepnote_index_column": 101
                },
                {
                  "author": "Derek Landy",
                  "books": 1,
                  "_deepnote_index_column": 102
                },
                {
                  "author": "Dermot Davis",
                  "books": 5,
                  "_deepnote_index_column": 103
                },
                {
                  "author": "Diana   Forbes",
                  "books": 1,
                  "_deepnote_index_column": 104
                },
                {
                  "author": "Diana Gabaldon",
                  "books": 2,
                  "_deepnote_index_column": 105
                },
                {
                  "author": "Donna Hatch",
                  "books": 2,
                  "_deepnote_index_column": 106
                },
                {
                  "author": "Donna Tartt",
                  "books": 3,
                  "_deepnote_index_column": 107
                },
                {
                  "author": "E. Lockhart",
                  "books": 1,
                  "_deepnote_index_column": 108
                },
                {
                  "author": "Elie Wiesel",
                  "books": 1,
                  "_deepnote_index_column": 109
                },
                {
                  "author": "Elisa S. Amore",
                  "books": 1,
                  "_deepnote_index_column": 110
                },
                {
                  "author": "Elizabeth Chandler",
                  "books": 1,
                  "_deepnote_index_column": 111
                },
                {
                  "author": "Elizabeth George Speare",
                  "books": 1,
                  "_deepnote_index_column": 112
                },
                {
                  "author": "Elizabeth Kostova",
                  "books": 1,
                  "_deepnote_index_column": 113
                },
                {
                  "author": "Elizabeth Peters",
                  "books": 1,
                  "_deepnote_index_column": 114
                },
                {
                  "author": "Ellen Hopkins",
                  "books": 3,
                  "_deepnote_index_column": 115
                },
                {
                  "author": "Ellen Schreiber",
                  "books": 3,
                  "_deepnote_index_column": 116
                },
                {
                  "author": "Eloise Jarvis McGraw",
                  "books": 2,
                  "_deepnote_index_column": 117
                },
                {
                  "author": "Emily Giffin",
                  "books": 1,
                  "_deepnote_index_column": 118
                },
                {
                  "author": "Emma Chase",
                  "books": 2,
                  "_deepnote_index_column": 119
                },
                {
                  "author": "Eowyn Ivey",
                  "books": 2,
                  "_deepnote_index_column": 120
                },
                {
                  "author": "Erik Larson",
                  "books": 1,
                  "_deepnote_index_column": 121
                },
                {
                  "author": "Erin Hunter",
                  "books": 1,
                  "_deepnote_index_column": 122
                },
                {
                  "author": "Erin Morgenstern",
                  "books": 1,
                  "_deepnote_index_column": 123
                },
                {
                  "author": "Francine Rivers",
                  "books": 1,
                  "_deepnote_index_column": 124
                },
                {
                  "author": "Frank Beddor",
                  "books": 1,
                  "_deepnote_index_column": 125
                },
                {
                  "author": "Frank E. Peretti",
                  "books": 2,
                  "_deepnote_index_column": 126
                },
                {
                  "author": "Frank Miller",
                  "books": 2,
                  "_deepnote_index_column": 127
                },
                {
                  "author": "Gabriel García Márquez",
                  "books": 1,
                  "_deepnote_index_column": 128
                },
                {
                  "author": "Gabrielle Zevin",
                  "books": 1,
                  "_deepnote_index_column": 129
                },
                {
                  "author": "Gail Carriger",
                  "books": 1,
                  "_deepnote_index_column": 130
                },
                {
                  "author": "Gail Carson Levine",
                  "books": 3,
                  "_deepnote_index_column": 131
                },
                {
                  "author": "Garth Nix",
                  "books": 4,
                  "_deepnote_index_column": 132
                },
                {
                  "author": "Garth Stein",
                  "books": 1,
                  "_deepnote_index_column": 133
                },
                {
                  "author": "Gayle Forman",
                  "books": 1,
                  "_deepnote_index_column": 134
                },
                {
                  "author": "Gemma Malley",
                  "books": 2,
                  "_deepnote_index_column": 135
                },
                {
                  "author": "Gena Showalter",
                  "books": 2,
                  "_deepnote_index_column": 136
                },
                {
                  "author": "Graeme Simsion",
                  "books": 2,
                  "_deepnote_index_column": 137
                },
                {
                  "author": "Gregory David Roberts",
                  "books": 1,
                  "_deepnote_index_column": 138
                },
                {
                  "author": "Haruki Murakami",
                  "books": 2,
                  "_deepnote_index_column": 139
                },
                {
                  "author": "Heath Sommer",
                  "books": 3,
                  "_deepnote_index_column": 140
                },
                {
                  "author": "Heather Brewer",
                  "books": 5,
                  "_deepnote_index_column": 141
                },
                {
                  "author": "Helene Wecker",
                  "books": 2,
                  "_deepnote_index_column": 142
                },
                {
                  "author": "Holly Black",
                  "books": 1,
                  "_deepnote_index_column": 143
                },
                {
                  "author": "Hugh Howey",
                  "books": 3,
                  "_deepnote_index_column": 144
                },
                {
                  "author": "I.K. Spencer",
                  "books": 2,
                  "_deepnote_index_column": 145
                },
                {
                  "author": "Ilona Andrews",
                  "books": 3,
                  "_deepnote_index_column": 146
                },
                {
                  "author": "Ingrid Law",
                  "books": 2,
                  "_deepnote_index_column": 147
                },
                {
                  "author": "Isaac Asimov",
                  "books": 3,
                  "_deepnote_index_column": 148
                },
                {
                  "author": "Isobelle Carmody",
                  "books": 2,
                  "_deepnote_index_column": 149
                },
                {
                  "author": "J. Bartell",
                  "books": 1,
                  "_deepnote_index_column": 150
                },
                {
                  "author": "J. Jaye Gold",
                  "books": 2,
                  "_deepnote_index_column": 151
                },
                {
                  "author": "J.A. Redmerski",
                  "books": 1,
                  "_deepnote_index_column": 152
                },
                {
                  "author": "J.D. Robb",
                  "books": 1,
                  "_deepnote_index_column": 153
                },
                {
                  "author": "J.D. Salinger",
                  "books": 1,
                  "_deepnote_index_column": 154
                },
                {
                  "author": "J.K. Accinni",
                  "books": 2,
                  "_deepnote_index_column": 155
                },
                {
                  "author": "J.M. Darhower",
                  "books": 2,
                  "_deepnote_index_column": 156
                },
                {
                  "author": "J.R. Ward",
                  "books": 11,
                  "_deepnote_index_column": 157
                },
                {
                  "author": "J.R.R. Tolkien",
                  "books": 1,
                  "_deepnote_index_column": 158
                },
                {
                  "author": "Jack   Dougherty",
                  "books": 1,
                  "_deepnote_index_column": 159
                },
                {
                  "author": "Jacqueline Carey",
                  "books": 1,
                  "_deepnote_index_column": 160
                },
                {
                  "author": "James   Howell",
                  "books": 4,
                  "_deepnote_index_column": 161
                },
                {
                  "author": "James Dashner",
                  "books": 1,
                  "_deepnote_index_column": 162
                },
                {
                  "author": "James Fahy",
                  "books": 4,
                  "_deepnote_index_column": 163
                },
                {
                  "author": "James Patterson",
                  "books": 11,
                  "_deepnote_index_column": 164
                },
                {
                  "author": "James Rollins",
                  "books": 2,
                  "_deepnote_index_column": 165
                },
                {
                  "author": "Jami Brumfield",
                  "books": 1,
                  "_deepnote_index_column": 166
                },
                {
                  "author": "Jamie McGuire",
                  "books": 2,
                  "_deepnote_index_column": 167
                },
                {
                  "author": "Jana Oliver",
                  "books": 2,
                  "_deepnote_index_column": 168
                },
                {
                  "author": "Jana Petken",
                  "books": 1,
                  "_deepnote_index_column": 169
                },
                {
                  "author": "Janet Evanovich",
                  "books": 4,
                  "_deepnote_index_column": 170
                },
                {
                  "author": "Janna Yeshanova",
                  "books": 1,
                  "_deepnote_index_column": 171
                },
                {
                  "author": "Jasper Fforde",
                  "books": 1,
                  "_deepnote_index_column": 172
                },
                {
                  "author": "Jeaniene Frost",
                  "books": 7,
                  "_deepnote_index_column": 173
                },
                {
                  "author": "Jeanne DuPrau",
                  "books": 1,
                  "_deepnote_index_column": 174
                },
                {
                  "author": "Jeannette Walls",
                  "books": 1,
                  "_deepnote_index_column": 175
                },
                {
                  "author": "Jeff Smith",
                  "books": 1,
                  "_deepnote_index_column": 176
                },
                {
                  "author": "Jeffrey Eugenides",
                  "books": 1,
                  "_deepnote_index_column": 177
                },
                {
                  "author": "Jennifer A. Nielsen",
                  "books": 1,
                  "_deepnote_index_column": 178
                },
                {
                  "author": "Jennifer Crusie",
                  "books": 1,
                  "_deepnote_index_column": 179
                },
                {
                  "author": "Jennifer Echols",
                  "books": 2,
                  "_deepnote_index_column": 180
                },
                {
                  "author": "Jennifer Estep",
                  "books": 2,
                  "_deepnote_index_column": 181
                },
                {
                  "author": "Jennifer L. Armentrout",
                  "books": 8,
                  "_deepnote_index_column": 182
                },
                {
                  "author": "Jennifer Niven",
                  "books": 1,
                  "_deepnote_index_column": 183
                },
                {
                  "author": "Jennifer Weiner",
                  "books": 1,
                  "_deepnote_index_column": 184
                },
                {
                  "author": "Jenny Carroll",
                  "books": 1,
                  "_deepnote_index_column": 185
                },
                {
                  "author": "Jenny Han",
                  "books": 1,
                  "_deepnote_index_column": 186
                },
                {
                  "author": "Jenny Nimmo",
                  "books": 1,
                  "_deepnote_index_column": 187
                },
                {
                  "author": "Jessica Sorensen",
                  "books": 2,
                  "_deepnote_index_column": 188
                },
                {
                  "author": "Jez Jones",
                  "books": 1,
                  "_deepnote_index_column": 189
                },
                {
                  "author": "Jim Butcher",
                  "books": 2,
                  "_deepnote_index_column": 190
                },
                {
                  "author": "Jodi Ellen Malpas",
                  "books": 2,
                  "_deepnote_index_column": 191
                },
                {
                  "author": "Jodi Lynn Anderson",
                  "books": 2,
                  "_deepnote_index_column": 192
                },
                {
                  "author": "Jodi Meadows",
                  "books": 2,
                  "_deepnote_index_column": 193
                },
                {
                  "author": "Jodi Picoult",
                  "books": 3,
                  "_deepnote_index_column": 194
                },
                {
                  "author": "Joe Haldeman",
                  "books": 2,
                  "_deepnote_index_column": 195
                },
                {
                  "author": "Joe Hill",
                  "books": 1,
                  "_deepnote_index_column": 196
                },
                {
                  "author": "John Connolly",
                  "books": 1,
                  "_deepnote_index_column": 197
                },
                {
                  "author": "John Flanagan",
                  "books": 1,
                  "_deepnote_index_column": 198
                },
                {
                  "author": "John Green",
                  "books": 2,
                  "_deepnote_index_column": 199
                },
                {
                  "author": "John J.  Davis",
                  "books": 1,
                  "_deepnote_index_column": 200
                },
                {
                  "author": "John Kennedy Toole",
                  "books": 1,
                  "_deepnote_index_column": 201
                },
                {
                  "author": "John Scalzi",
                  "books": 1,
                  "_deepnote_index_column": 202
                },
                {
                  "author": "Jonathan Maberry",
                  "books": 2,
                  "_deepnote_index_column": 203
                },
                {
                  "author": "Jonathan Stroud",
                  "books": 5,
                  "_deepnote_index_column": 204
                },
                {
                  "author": "Josephine Angelini",
                  "books": 3,
                  "_deepnote_index_column": 205
                },
                {
                  "author": "Jude Deveraux",
                  "books": 2,
                  "_deepnote_index_column": 206
                },
                {
                  "author": "Julia Hoban",
                  "books": 2,
                  "_deepnote_index_column": 207
                },
                {
                  "author": "Julie James",
                  "books": 2,
                  "_deepnote_index_column": 208
                },
                {
                  "author": "Julie Kagawa",
                  "books": 5,
                  "_deepnote_index_column": 209
                },
                {
                  "author": "Juliet Marillier",
                  "books": 1,
                  "_deepnote_index_column": 210
                },
                {
                  "author": "Justin Cronin",
                  "books": 1,
                  "_deepnote_index_column": 211
                },
                {
                  "author": "K.C. Hilton",
                  "books": 4,
                  "_deepnote_index_column": 212
                },
                {
                  "author": "Kami Garcia",
                  "books": 2,
                  "_deepnote_index_column": 213
                },
                {
                  "author": "Karen  Lynch",
                  "books": 2,
                  "_deepnote_index_column": 214
                },
                {
                  "author": "Karen  Prince",
                  "books": 1,
                  "_deepnote_index_column": 215
                },
                {
                  "author": "Karen Glista",
                  "books": 1,
                  "_deepnote_index_column": 216
                },
                {
                  "author": "Karen Marie Moning",
                  "books": 5,
                  "_deepnote_index_column": 217
                },
                {
                  "author": "Kate Atkinson",
                  "books": 2,
                  "_deepnote_index_column": 218
                },
                {
                  "author": "Kate Brian",
                  "books": 2,
                  "_deepnote_index_column": 219
                },
                {
                  "author": "Kate Morton",
                  "books": 1,
                  "_deepnote_index_column": 220
                },
                {
                  "author": "Katherine Howe",
                  "books": 1,
                  "_deepnote_index_column": 221
                },
                {
                  "author": "Katherine Neville",
                  "books": 2,
                  "_deepnote_index_column": 222
                },
                {
                  "author": "Kathleen Grissom",
                  "books": 2,
                  "_deepnote_index_column": 223
                },
                {
                  "author": "Kathy Reichs",
                  "books": 2,
                  "_deepnote_index_column": 224
                },
                {
                  "author": "Kelley Armstrong",
                  "books": 5,
                  "_deepnote_index_column": 225
                },
                {
                  "author": "Kelly Creagh",
                  "books": 1,
                  "_deepnote_index_column": 226
                },
                {
                  "author": "Kelly Moran",
                  "books": 1,
                  "_deepnote_index_column": 227
                },
                {
                  "author": "Ken Follett",
                  "books": 2,
                  "_deepnote_index_column": 228
                },
                {
                  "author": "Ken Grimwood",
                  "books": 2,
                  "_deepnote_index_column": 229
                },
                {
                  "author": "Kendare Blake",
                  "books": 1,
                  "_deepnote_index_column": 230
                },
                {
                  "author": "Kenneth   Thomas",
                  "books": 2,
                  "_deepnote_index_column": 231
                },
                {
                  "author": "Kenneth Jarrett Singleton",
                  "books": 2,
                  "_deepnote_index_column": 232
                },
                {
                  "author": "Kerstin Gier",
                  "books": 4,
                  "_deepnote_index_column": 233
                },
                {
                  "author": "Khaled Hosseini",
                  "books": 1,
                  "_deepnote_index_column": 234
                },
                {
                  "author": "Ki Longfellow",
                  "books": 1,
                  "_deepnote_index_column": 235
                },
                {
                  "author": "Kia Carrington-Russell",
                  "books": 3,
                  "_deepnote_index_column": 236
                },
                {
                  "author": "Kiera Cass",
                  "books": 6,
                  "_deepnote_index_column": 237
                },
                {
                  "author": "Kiersten White",
                  "books": 1,
                  "_deepnote_index_column": 238
                },
                {
                  "author": "Kim Harrison",
                  "books": 3,
                  "_deepnote_index_column": 239
                },
                {
                  "author": "Kim Stanley Robinson",
                  "books": 2,
                  "_deepnote_index_column": 240
                },
                {
                  "author": "Kimberly Derting",
                  "books": 1,
                  "_deepnote_index_column": 241
                },
                {
                  "author": "Kimberly Kinrade",
                  "books": 2,
                  "_deepnote_index_column": 242
                },
                {
                  "author": "Kirsty Moseley",
                  "books": 1,
                  "_deepnote_index_column": 243
                },
                {
                  "author": "Kresley Cole",
                  "books": 2,
                  "_deepnote_index_column": 244
                },
                {
                  "author": "Kristen Hope Mazzola",
                  "books": 2,
                  "_deepnote_index_column": 245
                },
                {
                  "author": "Kristin Cashore",
                  "books": 3,
                  "_deepnote_index_column": 246
                },
                {
                  "author": "Kurt Vonnegut Jr.",
                  "books": 2,
                  "_deepnote_index_column": 247
                },
                {
                  "author": "Kyle Keyes",
                  "books": 2,
                  "_deepnote_index_column": 248
                },
                {
                  "author": "L.A. Meyer",
                  "books": 1,
                  "_deepnote_index_column": 249
                },
                {
                  "author": "L.A. Weatherly",
                  "books": 1,
                  "_deepnote_index_column": 250
                },
                {
                  "author": "L.J. Smith",
                  "books": 5,
                  "_deepnote_index_column": 251
                },
                {
                  "author": "Laini Taylor",
                  "books": 3,
                  "_deepnote_index_column": 252
                },
                {
                  "author": "Lara Adrian",
                  "books": 1,
                  "_deepnote_index_column": 253
                },
                {
                  "author": "Larry Niven",
                  "books": 2,
                  "_deepnote_index_column": 254
                },
                {
                  "author": "Laura Whitcomb",
                  "books": 1,
                  "_deepnote_index_column": 255
                },
                {
                  "author": "Laurell K. Hamilton",
                  "books": 2,
                  "_deepnote_index_column": 256
                },
                {
                  "author": "Lauren DeStefano",
                  "books": 1,
                  "_deepnote_index_column": 257
                },
                {
                  "author": "Lauren Kate",
                  "books": 4,
                  "_deepnote_index_column": 258
                },
                {
                  "author": "Lauren Oliver",
                  "books": 3,
                  "_deepnote_index_column": 259
                },
                {
                  "author": "Laurie Faria Stolarz",
                  "books": 1,
                  "_deepnote_index_column": 260
                },
                {
                  "author": "Laurie Halse Anderson",
                  "books": 1,
                  "_deepnote_index_column": 261
                },
                {
                  "author": "Laurie R. King",
                  "books": 2,
                  "_deepnote_index_column": 262
                },
                {
                  "author": "Lawrence H.  Sola",
                  "books": 1,
                  "_deepnote_index_column": 263
                },
                {
                  "author": "Lee Child",
                  "books": 1,
                  "_deepnote_index_column": 264
                },
                {
                  "author": "Leigh Bardugo",
                  "books": 2,
                  "_deepnote_index_column": 265
                },
                {
                  "author": "Libba Bray",
                  "books": 5,
                  "_deepnote_index_column": 266
                },
                {
                  "author": "Lili St. Crow",
                  "books": 3,
                  "_deepnote_index_column": 267
                },
                {
                  "author": "Linda    Armstrong",
                  "books": 2,
                  "_deepnote_index_column": 268
                },
                {
                  "author": "Linda  Watkins",
                  "books": 2,
                  "_deepnote_index_column": 269
                },
                {
                  "author": "Lisa Ann Sandell",
                  "books": 1,
                  "_deepnote_index_column": 270
                },
                {
                  "author": "Lisa Desrochers",
                  "books": 2,
                  "_deepnote_index_column": 271
                },
                {
                  "author": "Lisa Kleypas",
                  "books": 2,
                  "_deepnote_index_column": 272
                },
                {
                  "author": "Lisa Lutz",
                  "books": 1,
                  "_deepnote_index_column": 273
                },
                {
                  "author": "Lisa McMann",
                  "books": 2,
                  "_deepnote_index_column": 274
                },
                {
                  "author": "Lissa Price",
                  "books": 1,
                  "_deepnote_index_column": 275
                },
                {
                  "author": "Liz Rosenberg",
                  "books": 2,
                  "_deepnote_index_column": 276
                },
                {
                  "author": "Lloyd Alexander",
                  "books": 1,
                  "_deepnote_index_column": 277
                },
                {
                  "author": "Lois Lowry",
                  "books": 2,
                  "_deepnote_index_column": 278
                },
                {
                  "author": "Lorenzo Carcaterra",
                  "books": 1,
                  "_deepnote_index_column": 279
                },
                {
                  "author": "Lucy Christopher",
                  "books": 1,
                  "_deepnote_index_column": 280
                },
                {
                  "author": "Lynessa Layne",
                  "books": 1,
                  "_deepnote_index_column": 281
                },
                {
                  "author": "Lynn Flewelling",
                  "books": 2,
                  "_deepnote_index_column": 282
                },
                {
                  "author": "M.G. Wells",
                  "books": 2,
                  "_deepnote_index_column": 283
                },
                {
                  "author": "M.L. Stedman",
                  "books": 1,
                  "_deepnote_index_column": 284
                },
                {
                  "author": "Maggie Stiefvater",
                  "books": 6,
                  "_deepnote_index_column": 285
                },
                {
                  "author": "Mahbod Seraji",
                  "books": 2,
                  "_deepnote_index_column": 286
                },
                {
                  "author": "Malorie Blackman",
                  "books": 1,
                  "_deepnote_index_column": 287
                },
                {
                  "author": "Mandy Stadtmiller",
                  "books": 2,
                  "_deepnote_index_column": 288
                },
                {
                  "author": "Marcus Alexander",
                  "books": 1,
                  "_deepnote_index_column": 289
                },
                {
                  "author": "Margaret Atwood",
                  "books": 1,
                  "_deepnote_index_column": 290
                },
                {
                  "author": "Margaret Peterson Haddix",
                  "books": 6,
                  "_deepnote_index_column": 291
                },
                {
                  "author": "Margaret Weis",
                  "books": 1,
                  "_deepnote_index_column": 292
                },
                {
                  "author": "Maria V. Snyder",
                  "books": 3,
                  "_deepnote_index_column": 293
                },
                {
                  "author": "Marie Lu",
                  "books": 3,
                  "_deepnote_index_column": 294
                },
                {
                  "author": "Marie Rutkoski",
                  "books": 2,
                  "_deepnote_index_column": 295
                },
                {
                  "author": "Marissa Meyer",
                  "books": 3,
                  "_deepnote_index_column": 296
                },
                {
                  "author": "Mark Haddon",
                  "books": 1,
                  "_deepnote_index_column": 297
                },
                {
                  "author": "Markus Zusak",
                  "books": 1,
                  "_deepnote_index_column": 298
                },
                {
                  "author": "Martha Emms",
                  "books": 1,
                  "_deepnote_index_column": 299
                },
                {
                  "author": "Mary E. Pearson",
                  "books": 4,
                  "_deepnote_index_column": 300
                },
                {
                  "author": "MaryJanice Davidson",
                  "books": 1,
                  "_deepnote_index_column": 301
                },
                {
                  "author": "Matthew Reilly",
                  "books": 2,
                  "_deepnote_index_column": 302
                },
                {
                  "author": "Maureen Johnson",
                  "books": 1,
                  "_deepnote_index_column": 303
                },
                {
                  "author": "Meg Cabot",
                  "books": 3,
                  "_deepnote_index_column": 304
                },
                {
                  "author": "Megan Whalen Turner",
                  "books": 3,
                  "_deepnote_index_column": 305
                },
                {
                  "author": "Melina Marchetta",
                  "books": 1,
                  "_deepnote_index_column": 306
                },
                {
                  "author": "Melissa Marr",
                  "books": 3,
                  "_deepnote_index_column": 307
                },
                {
                  "author": "Melissa de la Cruz",
                  "books": 6,
                  "_deepnote_index_column": 308
                },
                {
                  "author": "Melodie Ramone",
                  "books": 1,
                  "_deepnote_index_column": 309
                },
                {
                  "author": "Michael  Grant",
                  "books": 4,
                  "_deepnote_index_column": 310
                },
                {
                  "author": "Michael Buckley",
                  "books": 1,
                  "_deepnote_index_column": 311
                },
                {
                  "author": "Michael Chabon",
                  "books": 1,
                  "_deepnote_index_column": 312
                },
                {
                  "author": "Michael G. Kramer",
                  "books": 1,
                  "_deepnote_index_column": 313
                },
                {
                  "author": "Michael J. Sullivan",
                  "books": 2,
                  "_deepnote_index_column": 314
                },
                {
                  "author": "Michael James Gallagher",
                  "books": 2,
                  "_deepnote_index_column": 315
                },
                {
                  "author": "Michael Scott",
                  "books": 1,
                  "_deepnote_index_column": 316
                },
                {
                  "author": "Michelle Browne",
                  "books": 1,
                  "_deepnote_index_column": 317
                },
                {
                  "author": "Michelle Hodkin",
                  "books": 3,
                  "_deepnote_index_column": 318
                },
                {
                  "author": "Michelle Moran",
                  "books": 4,
                  "_deepnote_index_column": 319
                },
                {
                  "author": "Michelle Zink",
                  "books": 1,
                  "_deepnote_index_column": 320
                },
                {
                  "author": "Mimi Jean Pamfiloff",
                  "books": 2,
                  "_deepnote_index_column": 321
                },
                {
                  "author": "Mira Grant",
                  "books": 1,
                  "_deepnote_index_column": 322
                },
                {
                  "author": "Moira Young",
                  "books": 1,
                  "_deepnote_index_column": 323
                },
                {
                  "author": "Morgan Rhodes",
                  "books": 2,
                  "_deepnote_index_column": 324
                },
                {
                  "author": "Mya Robarts",
                  "books": 2,
                  "_deepnote_index_column": 325
                },
                {
                  "author": "N.M. Silber",
                  "books": 1,
                  "_deepnote_index_column": 326
                },
                {
                  "author": "Nalini Singh",
                  "books": 3,
                  "_deepnote_index_column": 327
                },
                {
                  "author": "Nancy E. Turner",
                  "books": 2,
                  "_deepnote_index_column": 328
                },
                {
                  "author": "Nancy Farmer",
                  "books": 1,
                  "_deepnote_index_column": 329
                },
                {
                  "author": "Naomi Novik",
                  "books": 1,
                  "_deepnote_index_column": 330
                },
                {
                  "author": "Neal Shusterman",
                  "books": 6,
                  "_deepnote_index_column": 331
                },
                {
                  "author": "Neal Stephenson",
                  "books": 1,
                  "_deepnote_index_column": 332
                },
                {
                  "author": "Neil Gaiman",
                  "books": 5,
                  "_deepnote_index_column": 333
                },
                {
                  "author": "Nely Cab",
                  "books": 1,
                  "_deepnote_index_column": 334
                },
                {
                  "author": "Nick Shamhart",
                  "books": 1,
                  "_deepnote_index_column": 335
                },
                {
                  "author": "Nora Roberts",
                  "books": 2,
                  "_deepnote_index_column": 336
                },
                {
                  "author": "Obert Skye",
                  "books": 1,
                  "_deepnote_index_column": 337
                },
                {
                  "author": "Octavia E. Butler",
                  "books": 2,
                  "_deepnote_index_column": 338
                },
                {
                  "author": "Olivia Lara",
                  "books": 2,
                  "_deepnote_index_column": 339
                },
                {
                  "author": "Orson Scott Card",
                  "books": 2,
                  "_deepnote_index_column": 340
                },
                {
                  "author": "P.C. Cast",
                  "books": 9,
                  "_deepnote_index_column": 341
                },
                {
                  "author": "Patricia Briggs",
                  "books": 6,
                  "_deepnote_index_column": 342
                },
                {
                  "author": "Patricia C. Wrede",
                  "books": 1,
                  "_deepnote_index_column": 343
                },
                {
                  "author": "Patrick Ness",
                  "books": 1,
                  "_deepnote_index_column": 344
                },
                {
                  "author": "Patrick Rothfuss",
                  "books": 2,
                  "_deepnote_index_column": 345
                },
                {
                  "author": "Paullina Simons",
                  "books": 1,
                  "_deepnote_index_column": 346
                },
                {
                  "author": "Paulo Coelho",
                  "books": 1,
                  "_deepnote_index_column": 347
                },
                {
                  "author": "Philip Pullman",
                  "books": 2,
                  "_deepnote_index_column": 348
                },
                {
                  "author": "Pierce Brown",
                  "books": 1,
                  "_deepnote_index_column": 349
                },
                {
                  "author": "Pittacus Lore",
                  "books": 2,
                  "_deepnote_index_column": 350
                },
                {
                  "author": "Pseudonymous Bosch",
                  "books": 1,
                  "_deepnote_index_column": 351
                },
                {
                  "author": "Quinn Loftis",
                  "books": 1,
                  "_deepnote_index_column": 352
                },
                {
                  "author": "Rachel Caine",
                  "books": 8,
                  "_deepnote_index_column": 353
                },
                {
                  "author": "Rachel Hawkins",
                  "books": 2,
                  "_deepnote_index_column": 354
                },
                {
                  "author": "Rachel Higginson",
                  "books": 2,
                  "_deepnote_index_column": 355
                },
                {
                  "author": "Rachel M. Greenebaum Moretti",
                  "books": 1,
                  "_deepnote_index_column": 356
                },
                {
                  "author": "Rachel Vincent",
                  "books": 2,
                  "_deepnote_index_column": 357
                },
                {
                  "author": "Rainbow Rowell",
                  "books": 2,
                  "_deepnote_index_column": 358
                },
                {
                  "author": "Rebecca    Donovan",
                  "books": 3,
                  "_deepnote_index_column": 359
                },
                {
                  "author": "Renée Ahdieh",
                  "books": 1,
                  "_deepnote_index_column": 360
                },
                {
                  "author": "Richard Paul Evans",
                  "books": 2,
                  "_deepnote_index_column": 361
                },
                {
                  "author": "Richelle Mead",
                  "books": 10,
                  "_deepnote_index_column": 362
                },
                {
                  "author": "Rick Riordan",
                  "books": 13,
                  "_deepnote_index_column": 363
                },
                {
                  "author": "Ridley Pearson",
                  "books": 1,
                  "_deepnote_index_column": 364
                },
                {
                  "author": "Riley Banks",
                  "books": 2,
                  "_deepnote_index_column": 365
                },
                {
                  "author": "Robert   Shaw",
                  "books": 2,
                  "_deepnote_index_column": 366
                },
                {
                  "author": "Robert A. Heinlein",
                  "books": 3,
                  "_deepnote_index_column": 367
                },
                {
                  "author": "Robert Jordan",
                  "books": 1,
                  "_deepnote_index_column": 368
                },
                {
                  "author": "Robin Hobb",
                  "books": 1,
                  "_deepnote_index_column": 369
                },
                {
                  "author": "Robin Wasserman",
                  "books": 2,
                  "_deepnote_index_column": 370
                },
                {
                  "author": "Robyn Mundell",
                  "books": 1,
                  "_deepnote_index_column": 371
                },
                {
                  "author": "Roger Zelazny",
                  "books": 2,
                  "_deepnote_index_column": 372
                },
                {
                  "author": "Rohinton Mistry",
                  "books": 2,
                  "_deepnote_index_column": 373
                },
                {
                  "author": "Russel Lazega",
                  "books": 2,
                  "_deepnote_index_column": 374
                },
                {
                  "author": "Ruta Sepetys",
                  "books": 1,
                  "_deepnote_index_column": 375
                },
                {
                  "author": "S.C. Stephens",
                  "books": 2,
                  "_deepnote_index_column": 376
                },
                {
                  "author": "S.L. Naeole",
                  "books": 1,
                  "_deepnote_index_column": 377
                },
                {
                  "author": "Sabaa Tahir",
                  "books": 1,
                  "_deepnote_index_column": 378
                },
                {
                  "author": "Sally Green",
                  "books": 2,
                  "_deepnote_index_column": 379
                },
                {
                  "author": "Samantha Young",
                  "books": 1,
                  "_deepnote_index_column": 380
                },
                {
                  "author": "Sarah Addison Allen",
                  "books": 1,
                  "_deepnote_index_column": 381
                },
                {
                  "author": "Sarah Dessen",
                  "books": 6,
                  "_deepnote_index_column": 382
                },
                {
                  "author": "Sarah J. Maas",
                  "books": 8,
                  "_deepnote_index_column": 383
                },
                {
                  "author": "Sarah Ockler",
                  "books": 1,
                  "_deepnote_index_column": 384
                },
                {
                  "author": "Sarah Weeks",
                  "books": 2,
                  "_deepnote_index_column": 385
                },
                {
                  "author": "Scott Lynch",
                  "books": 1,
                  "_deepnote_index_column": 386
                },
                {
                  "author": "Scott Westerfeld",
                  "books": 10,
                  "_deepnote_index_column": 387
                },
                {
                  "author": "Sergio Cobo",
                  "books": 1,
                  "_deepnote_index_column": 388
                },
                {
                  "author": "Shanna Ehrlich",
                  "books": 2,
                  "_deepnote_index_column": 389
                },
                {
                  "author": "Shannon Hale",
                  "books": 3,
                  "_deepnote_index_column": 390
                },
                {
                  "author": "Shannon Messenger",
                  "books": 2,
                  "_deepnote_index_column": 391
                },
                {
                  "author": "Sharon Creech",
                  "books": 2,
                  "_deepnote_index_column": 392
                },
                {
                  "author": "Sharon M. Draper",
                  "books": 1,
                  "_deepnote_index_column": 393
                },
                {
                  "author": "Shelly Crane",
                  "books": 3,
                  "_deepnote_index_column": 394
                },
                {
                  "author": "Sherrilyn Kenyon",
                  "books": 4,
                  "_deepnote_index_column": 395
                },
                {
                  "author": "Simon Holt",
                  "books": 2,
                  "_deepnote_index_column": 396
                },
                {
                  "author": "Simone Elkeles",
                  "books": 4,
                  "_deepnote_index_column": 397
                },
                {
                  "author": "Snehlata Agarwala",
                  "books": 4,
                  "_deepnote_index_column": 398
                },
                {
                  "author": "Sophie Jordan",
                  "books": 1,
                  "_deepnote_index_column": 399
                },
                {
                  "author": "Sophie Kinsella",
                  "books": 4,
                  "_deepnote_index_column": 400
                },
                {
                  "author": "Stephanie Perkins",
                  "books": 2,
                  "_deepnote_index_column": 401
                },
                {
                  "author": "Stephen King",
                  "books": 10,
                  "_deepnote_index_column": 402
                },
                {
                  "author": "Steve Bevil",
                  "books": 2,
                  "_deepnote_index_column": 403
                },
                {
                  "author": "Susan Beth Pfeffer",
                  "books": 1,
                  "_deepnote_index_column": 404
                },
                {
                  "author": "Susan Ee",
                  "books": 4,
                  "_deepnote_index_column": 405
                },
                {
                  "author": "Suzanne Boisvert",
                  "books": 2,
                  "_deepnote_index_column": 406
                },
                {
                  "author": "Suzanne Collins",
                  "books": 1,
                  "_deepnote_index_column": 407
                },
                {
                  "author": "Sylvain Reynard",
                  "books": 2,
                  "_deepnote_index_column": 408
                },
                {
                  "author": "Sylvia Day",
                  "books": 2,
                  "_deepnote_index_column": 409
                },
                {
                  "author": "T.K. Leigh",
                  "books": 2,
                  "_deepnote_index_column": 410
                },
                {
                  "author": "Tahereh Mafi",
                  "books": 3,
                  "_deepnote_index_column": 411
                },
                {
                  "author": "Tammara Webber",
                  "books": 1,
                  "_deepnote_index_column": 412
                },
                {
                  "author": "Tamora Pierce",
                  "books": 8,
                  "_deepnote_index_column": 413
                },
                {
                  "author": "Tana French",
                  "books": 2,
                  "_deepnote_index_column": 414
                },
                {
                  "author": "Taylor Ann Bunker",
                  "books": 2,
                  "_deepnote_index_column": 415
                },
                {
                  "author": "Terry Pratchett",
                  "books": 1,
                  "_deepnote_index_column": 416
                },
                {
                  "author": "Thom  Stark",
                  "books": 2,
                  "_deepnote_index_column": 417
                },
                {
                  "author": "Thomas Ferreolus",
                  "books": 2,
                  "_deepnote_index_column": 418
                },
                {
                  "author": "Tia Shurina",
                  "books": 2,
                  "_deepnote_index_column": 419
                },
                {
                  "author": "Timothy   Miller",
                  "books": 2,
                  "_deepnote_index_column": 420
                },
                {
                  "author": "Tina Reber",
                  "books": 3,
                  "_deepnote_index_column": 421
                },
                {
                  "author": "Tina Traverse",
                  "books": 2,
                  "_deepnote_index_column": 422
                },
                {
                  "author": "Tom Clancy",
                  "books": 2,
                  "_deepnote_index_column": 423
                },
                {
                  "author": "Toni Morrison",
                  "books": 1,
                  "_deepnote_index_column": 424
                },
                {
                  "author": "Tonya Hurley",
                  "books": 2,
                  "_deepnote_index_column": 425
                },
                {
                  "author": "Tracey Garvis Graves",
                  "books": 1,
                  "_deepnote_index_column": 426
                },
                {
                  "author": "Travis Luedke",
                  "books": 2,
                  "_deepnote_index_column": 427
                },
                {
                  "author": "Trenton Lee Stewart",
                  "books": 2,
                  "_deepnote_index_column": 428
                },
                {
                  "author": "Trevor Alan Foris",
                  "books": 2,
                  "_deepnote_index_column": 429
                },
                {
                  "author": "Trudi Canavan",
                  "books": 3,
                  "_deepnote_index_column": 430
                },
                {
                  "author": "Tyler Edwards",
                  "books": 1,
                  "_deepnote_index_column": 431
                },
                {
                  "author": "Ursula K. Le Guin",
                  "books": 1,
                  "_deepnote_index_column": 432
                },
                {
                  "author": "V.E. Schwab",
                  "books": 1,
                  "_deepnote_index_column": 433
                },
                {
                  "author": "Veronica Rossi",
                  "books": 1,
                  "_deepnote_index_column": 434
                },
                {
                  "author": "Vicki Myron",
                  "books": 1,
                  "_deepnote_index_column": 435
                },
                {
                  "author": "Victoria Aveyard",
                  "books": 3,
                  "_deepnote_index_column": 436
                },
                {
                  "author": "Victoria Dougherty",
                  "books": 1,
                  "_deepnote_index_column": 437
                },
                {
                  "author": "Wally Lamb",
                  "books": 3,
                  "_deepnote_index_column": 438
                },
                {
                  "author": "Walt Gleeson",
                  "books": 1,
                  "_deepnote_index_column": 439
                },
                {
                  "author": "Wendy Higgins",
                  "books": 1,
                  "_deepnote_index_column": 440
                },
                {
                  "author": "Wendy Mass",
                  "books": 1,
                  "_deepnote_index_column": 441
                },
                {
                  "author": "Wilbur Smith",
                  "books": 2,
                  "_deepnote_index_column": 442
                },
                {
                  "author": "William Gibson",
                  "books": 1,
                  "_deepnote_index_column": 443
                },
                {
                  "author": "William Paul Young",
                  "books": 1,
                  "_deepnote_index_column": 444
                },
                {
                  "author": "Yuehai Xiao",
                  "books": 1,
                  "_deepnote_index_column": 445
                },
                {
                  "author": "Zack Love",
                  "books": 1,
                  "_deepnote_index_column": 446
                }
              ],
              "rows_bottom": null
            },
            "text/plain": "                   author  books\n0             A.G. Howard      1\n1             A.V. Davina      2\n2             Abbi Glines      6\n3      Abraham   Verghese      2\n4    Adam Glendon Sidwell      2\n..                    ...    ...\n442          Wilbur Smith      2\n443        William Gibson      1\n444    William Paul Young      1\n445           Yuehai Xiao      1\n446             Zack Love      1\n\n[447 rows x 2 columns]",
            "text/html": "<div>\n<style scoped>\n    .dataframe tbody tr th:only-of-type {\n        vertical-align: middle;\n    }\n\n    .dataframe tbody tr th {\n        vertical-align: top;\n    }\n\n    .dataframe thead th {\n        text-align: right;\n    }\n</style>\n<table border=\"1\" class=\"dataframe\">\n  <thead>\n    <tr style=\"text-align: right;\">\n      <th></th>\n      <th>author</th>\n      <th>books</th>\n    </tr>\n  </thead>\n  <tbody>\n    <tr>\n      <th>0</th>\n      <td>A.G. Howard</td>\n      <td>1</td>\n    </tr>\n    <tr>\n      <th>1</th>\n      <td>A.V. Davina</td>\n      <td>2</td>\n    </tr>\n    <tr>\n      <th>2</th>\n      <td>Abbi Glines</td>\n      <td>6</td>\n    </tr>\n    <tr>\n      <th>3</th>\n      <td>Abraham   Verghese</td>\n      <td>2</td>\n    </tr>\n    <tr>\n      <th>4</th>\n      <td>Adam Glendon Sidwell</td>\n      <td>2</td>\n    </tr>\n    <tr>\n      <th>...</th>\n      <td>...</td>\n      <td>...</td>\n    </tr>\n    <tr>\n      <th>442</th>\n      <td>Wilbur Smith</td>\n      <td>2</td>\n    </tr>\n    <tr>\n      <th>443</th>\n      <td>William Gibson</td>\n      <td>1</td>\n    </tr>\n    <tr>\n      <th>444</th>\n      <td>William Paul Young</td>\n      <td>1</td>\n    </tr>\n    <tr>\n      <th>445</th>\n      <td>Yuehai Xiao</td>\n      <td>1</td>\n    </tr>\n    <tr>\n      <th>446</th>\n      <td>Zack Love</td>\n      <td>1</td>\n    </tr>\n  </tbody>\n</table>\n<p>447 rows × 2 columns</p>\n</div>"
          },
          "metadata": {}
        }
      ]
    },
    {
      "cell_type": "markdown",
      "source": "8. Visualize the `awards` distribution in a **boxplot** and **aggregated bars**. Decide which of these representations gives us more information and in which cases they should be used.",
      "metadata": {
        "tags": [],
        "cell_id": "00019-f7ccfbc4-7b1e-49ac-bfee-f75c030f10d6",
        "deepnote_cell_type": "markdown"
      }
    },
    {
      "cell_type": "code",
      "metadata": {
        "tags": [],
        "cell_id": "00026-57809a29-b983-423c-87d2-48dab0a104e2",
        "deepnote_to_be_reexecuted": false,
        "source_hash": "d735d388",
        "execution_millis": 231,
        "execution_start": 1618468717353,
        "deepnote_cell_type": "code"
      },
      "source": "plt.figure();\n\ndf['award'].hist(color=\"r\", alpha=0.5, bins=50,figsize=(10,5));\nplt.xlabel('Number of awards')\nplt.ylabel('frequeny')\nplt.title('Boxplot visualization for awards')\n",
      "execution_count": 51,
      "outputs": [
        {
          "output_type": "execute_result",
          "execution_count": 51,
          "data": {
            "text/plain": "Text(0.5, 1.0, 'Boxplot visualization for awards')"
          },
          "metadata": {}
        },
        {
          "data": {
            "text/plain": "<Figure size 720x360 with 1 Axes>",
            "image/png": "[encoded data removed]"
          },
          "metadata": {
            "needs_background": "light"
          },
          "output_type": "display_data"
        }
      ]
    },
    {
      "cell_type": "code",
      "metadata": {
        "tags": [],
        "cell_id": "00027-18411082-596e-4e49-826d-b321ab3dd9d4",
        "deepnote_to_be_reexecuted": false,
        "source_hash": "44352b20",
        "execution_millis": 396,
        "execution_start": 1618468538577,
        "deepnote_cell_type": "code"
      },
      "source": "df.groupby('original_publish_year')['award'].agg('max','mean').plot(kind='bar' ,color=['r','pink'],legend='',figsize=(25,5))\nplt.legend(loc='best')\nplt.xlabel(\"original_publish_year \")\nplt.ylabel(\"Total awards\")\nplt.title(\"Aggregation plot for awards\")",
      "execution_count": 42,
      "outputs": [
        {
          "output_type": "execute_result",
          "execution_count": 42,
          "data": {
            "text/plain": "Text(0.5, 1.0, 'Aggregation plot for awards')"
          },
          "metadata": {}
        },
        {
          "data": {
            "text/plain": "<Figure size 1800x360 with 1 Axes>",
            "image/png": "[encoded data removed]"
          },
          "metadata": {},
          "output_type": "display_data"
        }
      ]
    },
    {
      "cell_type": "code",
      "metadata": {
        "tags": [],
        "deepnote_to_be_reexecuted": false,
        "source_hash": "2c2cbc0f",
        "cell_id": "00020-3f31d97b-b5e0-4a8a-840e-3eb0647add26",
        "execution_millis": 116,
        "execution_start": 1618466658802,
        "deepnote_cell_type": "code"
      },
      "source": "color = {\n....: \"boxes\": \"DarkGreen\",\n....: \"whiskers\": \"DarkOrange\",\n....: \"medians\": \"DarkBlue\",\n....: \"caps\": \"Gray\",\n....: }\n....:\n\ndf['award'].plot.box(color=color, sym=\"r+\",figsize=(10,10))",
      "execution_count": 25,
      "outputs": [
        {
          "output_type": "execute_result",
          "execution_count": 25,
          "data": {
            "text/plain": "<AxesSubplot:>"
          },
          "metadata": {}
        },
        {
          "data": {
            "text/plain": "<Figure size 720x720 with 1 Axes>",
            "image/png": "[encoded data removed]"
          },
          "metadata": {},
          "output_type": "display_data"
        }
      ]
    },
    {
      "cell_type": "markdown",
      "source": "9. Yesterday we asked you this:\n    - \"Group the books by `original_publish_year` and get the mean of the `minmax_norm_ratings` of the groups.\"\n    - Now, make a **simple plot** to visualise the ratings w.r.t. the years!",
      "metadata": {
        "tags": [],
        "cell_id": "00021-e16b0a41-15a3-496b-9541-b76bd4e10e57",
        "deepnote_cell_type": "markdown"
      }
    },
    {
      "cell_type": "code",
      "source": "adf=df.groupby(\"original_publish_year\")['minmax_norm_ratings'].mean().round(decimals=2)\nadf.plot(kind='line' ,legend='',figsize=(10,10))",
      "metadata": {
        "tags": [],
        "cell_id": "00031-1b5a9252-d428-470f-9e56-e4b07919109a",
        "deepnote_to_be_reexecuted": false,
        "source_hash": "3dc988be",
        "execution_millis": 159,
        "execution_start": 1618468567723,
        "deepnote_cell_type": "code"
      },
      "outputs": [
        {
          "output_type": "execute_result",
          "execution_count": 44,
          "data": {
            "text/plain": "<AxesSubplot:xlabel='original_publish_year'>"
          },
          "metadata": {}
        },
        {
          "data": {
            "text/plain": "<Figure size 720x720 with 1 Axes>",
            "image/png": "[encoded data removed]"
          },
          "metadata": {},
          "output_type": "display_data"
        }
      ],
      "execution_count": 44
    },
    {
      "cell_type": "code",
      "metadata": {
        "tags": [],
        "deepnote_to_be_reexecuted": true,
        "source_hash": "216697fa",
        "cell_id": "00022-cb1f2237-00cc-472e-a7be-32d65d8bd74b",
        "deepnote_cell_type": "code"
      },
      "source": "# Need to to analyze part",
      "execution_count": null,
      "outputs": []
    },
    {
      "cell_type": "markdown",
      "source": "10. Make a scatterplot to represent  `minmax_norm_ratings` in function of the number of awards won by the book.\n    - Is there another representation that displays this in a more clear manner?\n    - Optional: Can you plot a best fit linear regression line to represent the relationship?",
      "metadata": {
        "tags": [],
        "cell_id": "00023-4382a1ef-aee6-4225-9332-72fddc431051",
        "deepnote_cell_type": "markdown"
      }
    },
    {
      "cell_type": "code",
      "source": "b_df=df.sort_values(by=['award']).tail(25)\nb_df",
      "metadata": {
        "tags": [],
        "cell_id": "00034-83bbeccf-579d-49e8-994a-2d6a335cfe25",
        "deepnote_to_be_reexecuted": false,
        "source_hash": "74fdf684",
        "execution_millis": 49,
        "execution_start": 1618468952358,
        "deepnote_cell_type": "code"
      },
      "outputs": [
        {
          "output_type": "execute_result",
          "execution_count": 60,
          "data": {
            "application/vnd.deepnote.dataframe.v2+json": {
              "row_count": 25,
              "column_count": 12,
              "columns": [
                {
                  "name": "title",
                  "dtype": "object",
                  "stats": {
                    "unique_count": 24,
                    "nan_count": 0,
                    "categories": [
                      {
                        "name": "Managing Bubbie",
                        "count": 2
                      },
                      {
                        "name": "Scythe",
                        "count": 1
                      },
                      {
                        "name": "22 others",
                        "count": 22
                      }
                    ]
                  }
                },
                {
                  "name": "author",
                  "dtype": "object",
                  "stats": {
                    "unique_count": 22,
                    "nan_count": 0,
                    "categories": [
                      {
                        "name": "Neal Shusterman",
                        "count": 2
                      },
                      {
                        "name": "Maggie Stiefvater",
                        "count": 2
                      },
                      {
                        "name": "20 others",
                        "count": 21
                      }
                    ]
                  }
                },
                {
                  "name": "num_rating",
                  "dtype": "int64",
                  "stats": {
                    "unique_count": 24,
                    "nan_count": 0,
                    "min": "1052",
                    "max": "1245628",
                    "histogram": [
                      {
                        "bin_start": 1052,
                        "bin_end": 125509.6,
                        "count": 8
                      },
                      {
                        "bin_start": 125509.6,
                        "bin_end": 249967.2,
                        "count": 6
                      },
                      {
                        "bin_start": 249967.2,
                        "bin_end": 374424.80000000005,
                        "count": 4
                      },
                      {
                        "bin_start": 374424.80000000005,
                        "bin_end": 498882.4,
                        "count": 3
                      },
                      {
                        "bin_start": 498882.4,
                        "bin_end": 623340,
                        "count": 0
                      },
                      {
                        "bin_start": 623340,
                        "bin_end": 747797.6000000001,
                        "count": 1
                      },
                      {
                        "bin_start": 747797.6000000001,
                        "bin_end": 872255.2000000001,
                        "count": 0
                      },
                      {
                        "bin_start": 872255.2000000001,
                        "bin_end": 996712.8,
                        "count": 1
                      },
                      {
                        "bin_start": 996712.8,
                        "bin_end": 1121170.4000000001,
                        "count": 1
                      },
                      {
                        "bin_start": 1121170.4000000001,
                        "bin_end": 1245628,
                        "count": 1
                      }
                    ]
                  }
                },
                {
                  "name": "num_reviews",
                  "dtype": "int64",
                  "stats": {
                    "unique_count": 24,
                    "nan_count": 0,
                    "min": "184",
                    "max": "79134",
                    "histogram": [
                      {
                        "bin_start": 184,
                        "bin_end": 8079,
                        "count": 5
                      },
                      {
                        "bin_start": 8079,
                        "bin_end": 15974,
                        "count": 5
                      },
                      {
                        "bin_start": 15974,
                        "bin_end": 23869,
                        "count": 4
                      },
                      {
                        "bin_start": 23869,
                        "bin_end": 31764,
                        "count": 4
                      },
                      {
                        "bin_start": 31764,
                        "bin_end": 39659,
                        "count": 3
                      },
                      {
                        "bin_start": 39659,
                        "bin_end": 47554,
                        "count": 1
                      },
                      {
                        "bin_start": 47554,
                        "bin_end": 55449,
                        "count": 0
                      },
                      {
                        "bin_start": 55449,
                        "bin_end": 63344,
                        "count": 1
                      },
                      {
                        "bin_start": 63344,
                        "bin_end": 71239,
                        "count": 1
                      },
                      {
                        "bin_start": 71239,
                        "bin_end": 79134,
                        "count": 1
                      }
                    ]
                  }
                },
                {
                  "name": "avg_rating",
                  "dtype": "float64",
                  "stats": {
                    "unique_count": 20,
                    "nan_count": 0,
                    "min": "3.76",
                    "max": "4.37",
                    "histogram": [
                      {
                        "bin_start": 3.76,
                        "bin_end": 3.8209999999999997,
                        "count": 1
                      },
                      {
                        "bin_start": 3.8209999999999997,
                        "bin_end": 3.8819999999999997,
                        "count": 3
                      },
                      {
                        "bin_start": 3.8819999999999997,
                        "bin_end": 3.943,
                        "count": 4
                      },
                      {
                        "bin_start": 3.943,
                        "bin_end": 4.004,
                        "count": 2
                      },
                      {
                        "bin_start": 4.004,
                        "bin_end": 4.0649999999999995,
                        "count": 3
                      },
                      {
                        "bin_start": 4.0649999999999995,
                        "bin_end": 4.126,
                        "count": 1
                      },
                      {
                        "bin_start": 4.126,
                        "bin_end": 4.187,
                        "count": 4
                      },
                      {
                        "bin_start": 4.187,
                        "bin_end": 4.248,
                        "count": 1
                      },
                      {
                        "bin_start": 4.248,
                        "bin_end": 4.309,
                        "count": 2
                      },
                      {
                        "bin_start": 4.309,
                        "bin_end": 4.37,
                        "count": 4
                      }
                    ]
                  }
                },
                {
                  "name": "num_pages",
                  "dtype": "int64",
                  "stats": {
                    "unique_count": 23,
                    "nan_count": 0,
                    "min": "226",
                    "max": "602",
                    "histogram": [
                      {
                        "bin_start": 226,
                        "bin_end": 263.6,
                        "count": 3
                      },
                      {
                        "bin_start": 263.6,
                        "bin_end": 301.2,
                        "count": 3
                      },
                      {
                        "bin_start": 301.2,
                        "bin_end": 338.8,
                        "count": 4
                      },
                      {
                        "bin_start": 338.8,
                        "bin_end": 376.4,
                        "count": 1
                      },
                      {
                        "bin_start": 376.4,
                        "bin_end": 414,
                        "count": 5
                      },
                      {
                        "bin_start": 414,
                        "bin_end": 451.6,
                        "count": 4
                      },
                      {
                        "bin_start": 451.6,
                        "bin_end": 489.2,
                        "count": 3
                      },
                      {
                        "bin_start": 489.2,
                        "bin_end": 526.8,
                        "count": 0
                      },
                      {
                        "bin_start": 526.8,
                        "bin_end": 564.4000000000001,
                        "count": 1
                      },
                      {
                        "bin_start": 564.4000000000001,
                        "bin_end": 602,
                        "count": 1
                      }
                    ]
                  }
                },
                {
                  "name": "original_publish_year",
                  "dtype": "int64",
                  "stats": {
                    "unique_count": 14,
                    "nan_count": 0,
                    "min": "1984",
                    "max": "2016",
                    "histogram": [
                      {
                        "bin_start": 1984,
                        "bin_end": 1987.2,
                        "count": 1
                      },
                      {
                        "bin_start": 1987.2,
                        "bin_end": 1990.4,
                        "count": 1
                      },
                      {
                        "bin_start": 1990.4,
                        "bin_end": 1993.6,
                        "count": 0
                      },
                      {
                        "bin_start": 1993.6,
                        "bin_end": 1996.8,
                        "count": 0
                      },
                      {
                        "bin_start": 1996.8,
                        "bin_end": 2000,
                        "count": 0
                      },
                      {
                        "bin_start": 2000,
                        "bin_end": 2003.2,
                        "count": 0
                      },
                      {
                        "bin_start": 2003.2,
                        "bin_end": 2006.4,
                        "count": 3
                      },
                      {
                        "bin_start": 2006.4,
                        "bin_end": 2009.6,
                        "count": 6
                      },
                      {
                        "bin_start": 2009.6,
                        "bin_end": 2012.8,
                        "count": 6
                      },
                      {
                        "bin_start": 2012.8,
                        "bin_end": 2016,
                        "count": 8
                      }
                    ]
                  }
                },
                {
                  "name": "series",
                  "dtype": "bool",
                  "stats": {
                    "unique_count": 2,
                    "nan_count": 0,
                    "categories": [
                      {
                        "name": "True",
                        "count": 15
                      },
                      {
                        "name": "False",
                        "count": 10
                      }
                    ]
                  }
                },
                {
                  "name": "genres",
                  "dtype": "object",
                  "stats": {
                    "unique_count": 24,
                    "nan_count": 0,
                    "categories": [
                      {
                        "name": "['Nonfiction', 'Biography', 'Autobiography Memoir', 'World War II Holocaust', 'History', 'Family', 'Historical', 'Cultural Spain', 'North American Hi... American History', 'War World War II']",
                        "count": 2
                      },
                      {
                        "name": "['Young Adult', 'Fantasy', 'Science Fiction Dystopia', 'Science Fiction', 'Fiction', 'Audiobook', 'Young Adult Young Adult Fantasy', 'Romance', 'Young Adult Teen', 'Death']",
                        "count": 1
                      },
                      {
                        "name": "22 others",
                        "count": 22
                      }
                    ]
                  }
                },
                {
                  "name": "award",
                  "dtype": "int64",
                  "stats": {
                    "unique_count": 10,
                    "nan_count": 0,
                    "min": "11",
                    "max": "23",
                    "histogram": [
                      {
                        "bin_start": 11,
                        "bin_end": 12.2,
                        "count": 11
                      },
                      {
                        "bin_start": 12.2,
                        "bin_end": 13.4,
                        "count": 2
                      },
                      {
                        "bin_start": 13.4,
                        "bin_end": 14.6,
                        "count": 2
                      },
                      {
                        "bin_start": 14.6,
                        "bin_end": 15.8,
                        "count": 3
                      },
                      {
                        "bin_start": 15.8,
                        "bin_end": 17,
                        "count": 2
                      },
                      {
                        "bin_start": 17,
                        "bin_end": 18.2,
                        "count": 3
                      },
                      {
                        "bin_start": 18.2,
                        "bin_end": 19.4,
                        "count": 1
                      },
                      {
                        "bin_start": 19.4,
                        "bin_end": 20.6,
                        "count": 0
                      },
                      {
                        "bin_start": 20.6,
                        "bin_end": 21.799999999999997,
                        "count": 0
                      },
                      {
                        "bin_start": 21.799999999999997,
                        "bin_end": 23,
                        "count": 1
                      }
                    ]
                  }
                },
                {
                  "name": "minmax_norm_ratings",
                  "dtype": "float64",
                  "stats": {
                    "unique_count": 20,
                    "nan_count": 0,
                    "min": "4.0",
                    "max": "7.16",
                    "histogram": [
                      {
                        "bin_start": 4,
                        "bin_end": 4.316,
                        "count": 1
                      },
                      {
                        "bin_start": 4.316,
                        "bin_end": 4.632,
                        "count": 3
                      },
                      {
                        "bin_start": 4.632,
                        "bin_end": 4.948,
                        "count": 4
                      },
                      {
                        "bin_start": 4.948,
                        "bin_end": 5.264,
                        "count": 2
                      },
                      {
                        "bin_start": 5.264,
                        "bin_end": 5.58,
                        "count": 3
                      },
                      {
                        "bin_start": 5.58,
                        "bin_end": 5.896,
                        "count": 1
                      },
                      {
                        "bin_start": 5.896,
                        "bin_end": 6.212,
                        "count": 4
                      },
                      {
                        "bin_start": 6.212,
                        "bin_end": 6.5280000000000005,
                        "count": 1
                      },
                      {
                        "bin_start": 6.5280000000000005,
                        "bin_end": 6.843999999999999,
                        "count": 2
                      },
                      {
                        "bin_start": 6.843999999999999,
                        "bin_end": 7.16,
                        "count": 4
                      }
                    ]
                  }
                },
                {
                  "name": "mean_norm_ratings",
                  "dtype": "float64",
                  "stats": {
                    "unique_count": 20,
                    "nan_count": 0,
                    "min": "-0.49",
                    "max": "2.67",
                    "histogram": [
                      {
                        "bin_start": -0.49,
                        "bin_end": -0.174,
                        "count": 1
                      },
                      {
                        "bin_start": -0.174,
                        "bin_end": 0.14200000000000002,
                        "count": 3
                      },
                      {
                        "bin_start": 0.14200000000000002,
                        "bin_end": 0.45799999999999996,
                        "count": 4
                      },
                      {
                        "bin_start": 0.45799999999999996,
                        "bin_end": 0.774,
                        "count": 2
                      },
                      {
                        "bin_start": 0.774,
                        "bin_end": 1.09,
                        "count": 3
                      },
                      {
                        "bin_start": 1.09,
                        "bin_end": 1.406,
                        "count": 1
                      },
                      {
                        "bin_start": 1.406,
                        "bin_end": 1.7220000000000002,
                        "count": 4
                      },
                      {
                        "bin_start": 1.7220000000000002,
                        "bin_end": 2.0380000000000003,
                        "count": 1
                      },
                      {
                        "bin_start": 2.0380000000000003,
                        "bin_end": 2.354,
                        "count": 2
                      },
                      {
                        "bin_start": 2.354,
                        "bin_end": 2.67,
                        "count": 4
                      }
                    ]
                  }
                },
                {
                  "name": "_deepnote_index_column",
                  "dtype": "int64"
                }
              ],
              "rows_top": [
                {
                  "title": "Scythe",
                  "author": "Neal Shusterman",
                  "num_rating": 164568,
                  "num_reviews": 25191,
                  "avg_rating": 4.32,
                  "num_pages": 435,
                  "original_publish_year": 2016,
                  "series": true,
                  "genres": "['Young Adult', 'Fantasy', 'Science Fiction Dystopia', 'Science Fiction', 'Fiction', 'Audiobook', 'Young Adult Young Adult Fantasy', 'Romance', 'Young Adult Teen', 'Death']",
                  "award": 11,
                  "minmax_norm_ratings": 6.9,
                  "mean_norm_ratings": 2.41,
                  "_deepnote_index_column": 810
                },
                {
                  "title": "Cinder",
                  "author": "Marissa Meyer",
                  "num_rating": 730362,
                  "num_reviews": 56884,
                  "avg_rating": 4.13,
                  "num_pages": 400,
                  "original_publish_year": 2012,
                  "series": true,
                  "genres": "['Young Adult', 'Fantasy', 'Science Fiction', 'Romance', 'Science Fiction Dystopia', 'Retellings', 'Fiction', 'Fantasy Fairy Tales', 'Audiobook', 'Young Adult Young Adult Fantasy']",
                  "award": 12,
                  "minmax_norm_ratings": 5.91,
                  "mean_norm_ratings": 1.43,
                  "_deepnote_index_column": 12
                },
                {
                  "title": "All the Bright Places",
                  "author": "Jennifer Niven",
                  "num_rating": 338326,
                  "num_reviews": 34884,
                  "avg_rating": 4.15,
                  "num_pages": 378,
                  "original_publish_year": 2015,
                  "series": false,
                  "genres": "['Young Adult', 'Contemporary', 'Romance', 'Fiction', 'Health Mental Health', 'Mental Health Mental Illness', 'Realistic Fiction', 'Audiobook', 'Young Adult Young Adult Contemporary', 'Young Adult Teen']",
                  "award": 12,
                  "minmax_norm_ratings": 6.02,
                  "mean_norm_ratings": 1.53,
                  "_deepnote_index_column": 941
                },
                {
                  "title": "Blood Red Road",
                  "author": "Moira Young",
                  "num_rating": 61404,
                  "num_reviews": 5829,
                  "avg_rating": 3.9,
                  "num_pages": 459,
                  "original_publish_year": 2011,
                  "series": true,
                  "genres": "['Young Adult', 'Science Fiction Dystopia', 'Fantasy', 'Romance', 'Science Fiction', 'Apocalyptic Post Apocalyptic', 'Adventure', 'Fiction', 'Young Adult Teen', 'Action']",
                  "award": 12,
                  "minmax_norm_ratings": 4.72,
                  "mean_norm_ratings": 0.24,
                  "_deepnote_index_column": 262
                },
                {
                  "title": "Illuminae",
                  "author": "Amie Kaufman",
                  "num_rating": 125744,
                  "num_reviews": 26263,
                  "avg_rating": 4.27,
                  "num_pages": 602,
                  "original_publish_year": 2015,
                  "series": true,
                  "genres": "['Science Fiction', 'Young Adult', 'Romance', 'Fantasy', 'Fiction', 'Science Fiction Dystopia', 'Audiobook', 'Space', 'Adventure', 'Thriller']",
                  "award": 12,
                  "minmax_norm_ratings": 6.64,
                  "mean_norm_ratings": 2.15,
                  "_deepnote_index_column": 955
                },
                {
                  "title": "Shiver",
                  "author": "Maggie Stiefvater",
                  "num_rating": 448203,
                  "num_reviews": 23237,
                  "avg_rating": 3.76,
                  "num_pages": 392,
                  "original_publish_year": 2009,
                  "series": true,
                  "genres": "['Young Adult', 'Fantasy', 'Romance', 'Fantasy Paranormal', 'Shapeshifters Werewolves', 'Fiction', 'Romance Paranormal Romance', 'Fantasy Supernatural', 'Fantasy Urban Fantasy', 'Young Adult Teen']",
                  "award": 12,
                  "minmax_norm_ratings": 4,
                  "mean_norm_ratings": -0.49,
                  "_deepnote_index_column": 6
                },
                {
                  "title": "Life As We Knew It",
                  "author": "Susan Beth Pfeffer",
                  "num_rating": 120633,
                  "num_reviews": 9883,
                  "avg_rating": 3.87,
                  "num_pages": 337,
                  "original_publish_year": 2006,
                  "series": true,
                  "genres": "['Young Adult', 'Science Fiction Dystopia', 'Science Fiction', 'Fiction', 'Apocalyptic Post Apocalyptic', 'Adventure Survival', 'Science Fiction Apocalyptic', 'Young Adult Teen', 'Fantasy', 'Audiobook']",
                  "award": 12,
                  "minmax_norm_ratings": 4.57,
                  "mean_norm_ratings": 0.08,
                  "_deepnote_index_column": 143
                },
                {
                  "title": "The Raven Boys",
                  "author": "Maggie Stiefvater",
                  "num_rating": 293258,
                  "num_reviews": 32257,
                  "avg_rating": 4.04,
                  "num_pages": 409,
                  "original_publish_year": 2012,
                  "series": true,
                  "genres": "['Fantasy', 'Young Adult', 'Fantasy Paranormal', 'Romance', 'Fiction', 'Fantasy Urban Fantasy', 'Fantasy Magic', 'Audiobook', 'Young Adult Young Adult Fantasy', 'Fantasy Supernatural']",
                  "award": 12,
                  "minmax_norm_ratings": 5.45,
                  "mean_norm_ratings": 0.96,
                  "_deepnote_index_column": 121
                },
                {
                  "title": "Unwind",
                  "author": "Neal Shusterman",
                  "num_rating": 202236,
                  "num_reviews": 19135,
                  "avg_rating": 4.16,
                  "num_pages": 337,
                  "original_publish_year": 2007,
                  "series": true,
                  "genres": "['Young Adult', 'Science Fiction Dystopia', 'Science Fiction', 'Fiction', 'Fantasy', 'Horror', 'Young Adult Teen', 'Thriller', 'Adventure', 'Adventure Survival']",
                  "award": 12,
                  "minmax_norm_ratings": 6.07,
                  "mean_norm_ratings": 1.58,
                  "_deepnote_index_column": 70
                },
                {
                  "title": "Wintergirls",
                  "author": "Laurie Halse Anderson",
                  "num_rating": 111098,
                  "num_reviews": 9161,
                  "avg_rating": 3.96,
                  "num_pages": 278,
                  "original_publish_year": 2009,
                  "series": false,
                  "genres": "['Young Adult', 'Contemporary', 'Fiction', 'Realistic Fiction', 'Health Mental Health', 'Mental Health Mental Illness', 'Young Adult Teen', 'Death', 'Young Adult High School', 'Young Adult Young Adult Contemporary']",
                  "award": 12,
                  "minmax_norm_ratings": 5.03,
                  "mean_norm_ratings": 0.55,
                  "_deepnote_index_column": 419
                },
                {
                  "title": "Hyperion",
                  "author": "Dan Simmons",
                  "num_rating": 198935,
                  "num_reviews": 8723,
                  "avg_rating": 4.23,
                  "num_pages": 482,
                  "original_publish_year": 1990,
                  "series": true,
                  "genres": "['Science Fiction', 'Fiction', 'Fantasy', 'Space Space Opera', 'Science Fiction Fantasy', 'Audiobook', 'Science Fiction Time Travel', 'Horror', 'Space', 'Novels']",
                  "award": 12,
                  "minmax_norm_ratings": 6.43,
                  "mean_norm_ratings": 1.94,
                  "_deepnote_index_column": 447
                },
                {
                  "title": "Neuromancer",
                  "author": "William Gibson",
                  "num_rating": 272622,
                  "num_reviews": 10132,
                  "avg_rating": 3.9,
                  "num_pages": 271,
                  "original_publish_year": 1984,
                  "series": true,
                  "genres": "['Science Fiction', 'Fiction', 'Science Fiction Cyberpunk', 'Classics', 'Science Fiction Fantasy', 'Science Fiction Dystopia', 'Fantasy', 'Novels', 'Speculative Fiction', 'Audiobook']",
                  "award": 13,
                  "minmax_norm_ratings": 4.72,
                  "mean_norm_ratings": 0.24,
                  "_deepnote_index_column": 486
                },
                {
                  "title": "All the Light We Cannot See",
                  "author": "Anthony Doerr",
                  "num_rating": 1114321,
                  "num_reviews": 79134,
                  "avg_rating": 4.32,
                  "num_pages": 531,
                  "original_publish_year": 2014,
                  "series": false,
                  "genres": "['Historical Historical Fiction', 'Fiction', 'Historical', 'War', 'War World War II', 'Audiobook', 'Adult', 'Cultural France', 'Book Club', 'Adult Fiction']",
                  "award": 13,
                  "minmax_norm_ratings": 6.9,
                  "mean_norm_ratings": 2.41,
                  "_deepnote_index_column": 399
                },
                {
                  "title": "Between Shades of Gray",
                  "author": "Ruta Sepetys",
                  "num_rating": 178153,
                  "num_reviews": 22098,
                  "avg_rating": 4.35,
                  "num_pages": 344,
                  "original_publish_year": 2011,
                  "series": false,
                  "genres": "['Historical Historical Fiction', 'Young Adult', 'Fiction', 'Historical', 'War', 'War World War II', 'Cultural Russia', 'Audiobook', 'Romance', 'Young Adult Teen']",
                  "award": 14,
                  "minmax_norm_ratings": 7.05,
                  "mean_norm_ratings": 2.56,
                  "_deepnote_index_column": 949
                },
                {
                  "title": "An Ember in the Ashes",
                  "author": "Sabaa Tahir",
                  "num_rating": 206647,
                  "num_reviews": 25298,
                  "avg_rating": 4.26,
                  "num_pages": 446,
                  "original_publish_year": 2016,
                  "series": true,
                  "genres": "['Fantasy', 'Young Adult', 'Romance', 'Fiction', 'Young Adult Young Adult Fantasy', 'Science Fiction Dystopia', 'Fantasy High Fantasy', 'Audiobook', 'Adventure', 'Fantasy Magic']",
                  "award": 14,
                  "minmax_norm_ratings": 6.59,
                  "mean_norm_ratings": 2.1,
                  "_deepnote_index_column": 408
                },
                {
                  "title": "Managing Bubbie",
                  "author": "Russel Lazega",
                  "num_rating": 1052,
                  "num_reviews": 184,
                  "avg_rating": 3.85,
                  "num_pages": 237,
                  "original_publish_year": 2015,
                  "series": false,
                  "genres": "['Nonfiction', 'Biography', 'Autobiography Memoir', 'World War II Holocaust', 'History', 'Family', 'Historical', 'Cultural Spain', 'North American Hi... American History', 'War World War II']",
                  "award": 15,
                  "minmax_norm_ratings": 4.47,
                  "mean_norm_ratings": -0.02,
                  "_deepnote_index_column": 558
                },
                {
                  "title": "Managing Bubbie",
                  "author": "Russel Lazega",
                  "num_rating": 1052,
                  "num_reviews": 184,
                  "avg_rating": 3.85,
                  "num_pages": 237,
                  "original_publish_year": 2015,
                  "series": false,
                  "genres": "['Nonfiction', 'Biography', 'Autobiography Memoir', 'World War II Holocaust', 'History', 'Family', 'Historical', 'Cultural Spain', 'North American Hi... American History', 'War World War II']",
                  "award": 15,
                  "minmax_norm_ratings": 4.47,
                  "mean_norm_ratings": -0.02,
                  "_deepnote_index_column": 757
                },
                {
                  "title": "Out of My Mind",
                  "author": "Sharon M. Draper",
                  "num_rating": 118484,
                  "num_reviews": 14499,
                  "avg_rating": 4.37,
                  "num_pages": 295,
                  "original_publish_year": 2010,
                  "series": false,
                  "genres": "['Realistic Fiction', 'Young Adult', 'Childrens Middle Grade', 'Fiction', 'Contemporary', 'Childrens', 'Disability', 'Academic School', 'Childrens Juvenile', 'Family']",
                  "award": 15,
                  "minmax_norm_ratings": 7.16,
                  "mean_norm_ratings": 2.67,
                  "_deepnote_index_column": 900
                },
                {
                  "title": "The House of the Scorpion",
                  "author": "Nancy Farmer",
                  "num_rating": 85589,
                  "num_reviews": 6486,
                  "avg_rating": 4.06,
                  "num_pages": 380,
                  "original_publish_year": 2004,
                  "series": true,
                  "genres": "['Young Adult', 'Science Fiction', 'Science Fiction Dystopia', 'Fiction', 'Fantasy', 'Young Adult Teen', 'Adventure', 'Academic School', 'Childrens Middle Grade', 'Childrens']",
                  "award": 16,
                  "minmax_norm_ratings": 5.55,
                  "mean_norm_ratings": 1.06,
                  "_deepnote_index_column": 218
                },
                {
                  "title": "Daughter of Smoke & Bone",
                  "author": "Laini Taylor",
                  "num_rating": 331311,
                  "num_reviews": 30041,
                  "avg_rating": 3.99,
                  "num_pages": 418,
                  "original_publish_year": 2011,
                  "series": true,
                  "genres": "['Fantasy', 'Young Adult', 'Romance', 'Fantasy Paranormal', 'Paranormal Angels', 'Fantasy Urban Fantasy', 'Fiction', 'Fantasy Magic', 'Young Adult Young Adult Fantasy', 'Fantasy Supernatural']",
                  "award": 16,
                  "minmax_norm_ratings": 5.19,
                  "mean_norm_ratings": 0.7,
                  "_deepnote_index_column": 56
                },
                {
                  "title": "The Curious Incident of the Dog in the Night-Time",
                  "author": "Mark Haddon",
                  "num_rating": 1245628,
                  "num_reviews": 45606,
                  "avg_rating": 3.89,
                  "num_pages": 226,
                  "original_publish_year": 2004,
                  "series": false,
                  "genres": "['Fiction', 'Mystery', 'Young Adult', 'Contemporary', 'Novels', 'Classics', 'Psychology', 'Literature', 'Realistic Fiction', 'Academic School']",
                  "award": 17,
                  "minmax_norm_ratings": 4.67,
                  "mean_norm_ratings": 0.18,
                  "_deepnote_index_column": 120
                },
                {
                  "title": "The Graveyard Book",
                  "author": "Neil Gaiman",
                  "num_rating": 460950,
                  "num_reviews": 32765,
                  "avg_rating": 4.13,
                  "num_pages": 307,
                  "original_publish_year": 2008,
                  "series": false,
                  "genres": "['Fantasy', 'Young Adult', 'Fiction', 'Horror', 'Childrens Middle Grade', 'Childrens', 'Fantasy Paranormal', 'Audiobook', 'Paranormal Ghosts', 'Fantasy Supernatural']",
                  "award": 18,
                  "minmax_norm_ratings": 5.91,
                  "mean_norm_ratings": 1.43,
                  "_deepnote_index_column": 33
                },
                {
                  "title": "Graceling",
                  "author": "Kristin Cashore",
                  "num_rating": 405433,
                  "num_reviews": 23013,
                  "avg_rating": 4.07,
                  "num_pages": 471,
                  "original_publish_year": 2008,
                  "series": true,
                  "genres": "['Fantasy', 'Young Adult', 'Romance', 'Fiction', 'Adventure', 'Young Adult Young Adult Fantasy', 'Fantasy Magic', 'Fantasy High Fantasy', 'Young Adult Teen', 'Fantasy Paranormal']",
                  "award": 18,
                  "minmax_norm_ratings": 5.6,
                  "mean_norm_ratings": 1.12,
                  "_deepnote_index_column": 5
                },
                {
                  "title": "Leviathan",
                  "author": "Scott Westerfeld",
                  "num_rating": 89336,
                  "num_reviews": 7084,
                  "avg_rating": 3.9,
                  "num_pages": 440,
                  "original_publish_year": 2009,
                  "series": true,
                  "genres": "['Science Fiction Steampunk', 'Young Adult', 'Fantasy', 'Science Fiction', 'Historical Historical Fiction', 'Fiction', 'Science Fiction Alternate History', 'Adventure', 'Historical', 'Young Adult Teen']",
                  "award": 19,
                  "minmax_norm_ratings": 4.72,
                  "mean_norm_ratings": 0.24,
                  "_deepnote_index_column": 150
                },
                {
                  "title": "Eleanor & Park",
                  "author": "Rainbow Rowell",
                  "num_rating": 915675,
                  "num_reviews": 68293,
                  "avg_rating": 4.03,
                  "num_pages": 328,
                  "original_publish_year": 2013,
                  "series": false,
                  "genres": "['Young Adult', 'Romance', 'Contemporary', 'Fiction', 'Realistic Fiction', 'Audiobook', 'Young Adult Teen', 'Young Adult Coming Of Age', 'Young Adult Young Adult Contemporary', 'Young Adult High School']",
                  "award": 23,
                  "minmax_norm_ratings": 5.4,
                  "mean_norm_ratings": 0.91,
                  "_deepnote_index_column": 196
                }
              ],
              "rows_bottom": null
            },
            "text/plain": "                                                 title                 author  \\\n810                                             Scythe        Neal Shusterman   \n12                                              Cinder          Marissa Meyer   \n941                              All the Bright Places         Jennifer Niven   \n262                                     Blood Red Road            Moira Young   \n955                                          Illuminae           Amie Kaufman   \n6                                               Shiver      Maggie Stiefvater   \n143                                 Life As We Knew It     Susan Beth Pfeffer   \n121                                     The Raven Boys      Maggie Stiefvater   \n70                                              Unwind        Neal Shusterman   \n419                                        Wintergirls  Laurie Halse Anderson   \n447                                           Hyperion            Dan Simmons   \n486                                        Neuromancer         William Gibson   \n399                        All the Light We Cannot See          Anthony Doerr   \n949                             Between Shades of Gray           Ruta Sepetys   \n408                              An Ember in the Ashes            Sabaa Tahir   \n558                                    Managing Bubbie          Russel Lazega   \n757                                    Managing Bubbie          Russel Lazega   \n900                                     Out of My Mind       Sharon M. Draper   \n218                          The House of the Scorpion           Nancy Farmer   \n56                            Daughter of Smoke & Bone           Laini Taylor   \n120  The Curious Incident of the Dog in the Night-Time            Mark Haddon   \n33                                  The Graveyard Book            Neil Gaiman   \n5                                            Graceling        Kristin Cashore   \n150                                          Leviathan       Scott Westerfeld   \n196                                     Eleanor & Park         Rainbow Rowell   \n\n     num_rating  num_reviews  avg_rating  num_pages  original_publish_year  \\\n810      164568        25191        4.32        435                   2016   \n12       730362        56884        4.13        400                   2012   \n941      338326        34884        4.15        378                   2015   \n262       61404         5829        3.90        459                   2011   \n955      125744        26263        4.27        602                   2015   \n6        448203        23237        3.76        392                   2009   \n143      120633         9883        3.87        337                   2006   \n121      293258        32257        4.04        409                   2012   \n70       202236        19135        4.16        337                   2007   \n419      111098         9161        3.96        278                   2009   \n447      198935         8723        4.23        482                   1990   \n486      272622        10132        3.90        271                   1984   \n399     1114321        79134        4.32        531                   2014   \n949      178153        22098        4.35        344                   2011   \n408      206647        25298        4.26        446                   2016   \n558        1052          184        3.85        237                   2015   \n757        1052          184        3.85        237                   2015   \n900      118484        14499        4.37        295                   2010   \n218       85589         6486        4.06        380                   2004   \n56       331311        30041        3.99        418                   2011   \n120     1245628        45606        3.89        226                   2004   \n33       460950        32765        4.13        307                   2008   \n5        405433        23013        4.07        471                   2008   \n150       89336         7084        3.90        440                   2009   \n196      915675        68293        4.03        328                   2013   \n\n     series                                             genres  award  \\\n810    True  ['Young Adult', 'Fantasy', 'Science Fiction Dy...     11   \n12     True  ['Young Adult', 'Fantasy', 'Science Fiction', ...     12   \n941   False  ['Young Adult', 'Contemporary', 'Romance', 'Fi...     12   \n262    True  ['Young Adult', 'Science Fiction Dystopia', 'F...     12   \n955    True  ['Science Fiction', 'Young Adult', 'Romance', ...     12   \n6      True  ['Young Adult', 'Fantasy', 'Romance', 'Fantasy...     12   \n143    True  ['Young Adult', 'Science Fiction Dystopia', 'S...     12   \n121    True  ['Fantasy', 'Young Adult', 'Fantasy Paranormal...     12   \n70     True  ['Young Adult', 'Science Fiction Dystopia', 'S...     12   \n419   False  ['Young Adult', 'Contemporary', 'Fiction', 'Re...     12   \n447    True  ['Science Fiction', 'Fiction', 'Fantasy', 'Spa...     12   \n486    True  ['Science Fiction', 'Fiction', 'Science Fictio...     13   \n399   False  ['Historical Historical Fiction', 'Fiction', '...     13   \n949   False  ['Historical Historical Fiction', 'Young Adult...     14   \n408    True  ['Fantasy', 'Young Adult', 'Romance', 'Fiction...     14   \n558   False  ['Nonfiction', 'Biography', 'Autobiography Mem...     15   \n757   False  ['Nonfiction', 'Biography', 'Autobiography Mem...     15   \n900   False  ['Realistic Fiction', 'Young Adult', 'Children...     15   \n218    True  ['Young Adult', 'Science Fiction', 'Science Fi...     16   \n56     True  ['Fantasy', 'Young Adult', 'Romance', 'Fantasy...     16   \n120   False  ['Fiction', 'Mystery', 'Young Adult', 'Contemp...     17   \n33    False  ['Fantasy', 'Young Adult', 'Fiction', 'Horror'...     18   \n5      True  ['Fantasy', 'Young Adult', 'Romance', 'Fiction...     18   \n150    True  ['Science Fiction Steampunk', 'Young Adult', '...     19   \n196   False  ['Young Adult', 'Romance', 'Contemporary', 'Fi...     23   \n\n     minmax_norm_ratings  mean_norm_ratings  \n810                 6.90               2.41  \n12                  5.91               1.43  \n941                 6.02               1.53  \n262                 4.72               0.24  \n955                 6.64               2.15  \n6                   4.00              -0.49  \n143                 4.57               0.08  \n121                 5.45               0.96  \n70                  6.07               1.58  \n419                 5.03               0.55  \n447                 6.43               1.94  \n486                 4.72               0.24  \n399                 6.90               2.41  \n949                 7.05               2.56  \n408                 6.59               2.10  \n558                 4.47              -0.02  \n757                 4.47              -0.02  \n900                 7.16               2.67  \n218                 5.55               1.06  \n56                  5.19               0.70  \n120                 4.67               0.18  \n33                  5.91               1.43  \n5                   5.60               1.12  \n150                 4.72               0.24  \n196                 5.40               0.91  ",
            "text/html": "<div>\n<style scoped>\n    .dataframe tbody tr th:only-of-type {\n        vertical-align: middle;\n    }\n\n    .dataframe tbody tr th {\n        vertical-align: top;\n    }\n\n    .dataframe thead th {\n        text-align: right;\n    }\n</style>\n<table border=\"1\" class=\"dataframe\">\n  <thead>\n    <tr style=\"text-align: right;\">\n      <th></th>\n      <th>title</th>\n      <th>author</th>\n      <th>num_rating</th>\n      <th>num_reviews</th>\n      <th>avg_rating</th>\n      <th>num_pages</th>\n      <th>original_publish_year</th>\n      <th>series</th>\n      <th>genres</th>\n      <th>award</th>\n      <th>minmax_norm_ratings</th>\n      <th>mean_norm_ratings</th>\n    </tr>\n  </thead>\n  <tbody>\n    <tr>\n      <th>810</th>\n      <td>Scythe</td>\n      <td>Neal Shusterman</td>\n      <td>164568</td>\n      <td>25191</td>\n      <td>4.32</td>\n      <td>435</td>\n      <td>2016</td>\n      <td>True</td>\n      <td>['Young Adult', 'Fantasy', 'Science Fiction Dy...</td>\n      <td>11</td>\n      <td>6.90</td>\n      <td>2.41</td>\n    </tr>\n    <tr>\n      <th>12</th>\n      <td>Cinder</td>\n      <td>Marissa Meyer</td>\n      <td>730362</td>\n      <td>56884</td>\n      <td>4.13</td>\n      <td>400</td>\n      <td>2012</td>\n      <td>True</td>\n      <td>['Young Adult', 'Fantasy', 'Science Fiction', ...</td>\n      <td>12</td>\n      <td>5.91</td>\n      <td>1.43</td>\n    </tr>\n    <tr>\n      <th>941</th>\n      <td>All the Bright Places</td>\n      <td>Jennifer Niven</td>\n      <td>338326</td>\n      <td>34884</td>\n      <td>4.15</td>\n      <td>378</td>\n      <td>2015</td>\n      <td>False</td>\n      <td>['Young Adult', 'Contemporary', 'Romance', 'Fi...</td>\n      <td>12</td>\n      <td>6.02</td>\n      <td>1.53</td>\n    </tr>\n    <tr>\n      <th>262</th>\n      <td>Blood Red Road</td>\n      <td>Moira Young</td>\n      <td>61404</td>\n      <td>5829</td>\n      <td>3.90</td>\n      <td>459</td>\n      <td>2011</td>\n      <td>True</td>\n      <td>['Young Adult', 'Science Fiction Dystopia', 'F...</td>\n      <td>12</td>\n      <td>4.72</td>\n      <td>0.24</td>\n    </tr>\n    <tr>\n      <th>955</th>\n      <td>Illuminae</td>\n      <td>Amie Kaufman</td>\n      <td>125744</td>\n      <td>26263</td>\n      <td>4.27</td>\n      <td>602</td>\n      <td>2015</td>\n      <td>True</td>\n      <td>['Science Fiction', 'Young Adult', 'Romance', ...</td>\n      <td>12</td>\n      <td>6.64</td>\n      <td>2.15</td>\n    </tr>\n    <tr>\n      <th>6</th>\n      <td>Shiver</td>\n      <td>Maggie Stiefvater</td>\n      <td>448203</td>\n      <td>23237</td>\n      <td>3.76</td>\n      <td>392</td>\n      <td>2009</td>\n      <td>True</td>\n      <td>['Young Adult', 'Fantasy', 'Romance', 'Fantasy...</td>\n      <td>12</td>\n      <td>4.00</td>\n      <td>-0.49</td>\n    </tr>\n    <tr>\n      <th>143</th>\n      <td>Life As We Knew It</td>\n      <td>Susan Beth Pfeffer</td>\n      <td>120633</td>\n      <td>9883</td>\n      <td>3.87</td>\n      <td>337</td>\n      <td>2006</td>\n      <td>True</td>\n      <td>['Young Adult', 'Science Fiction Dystopia', 'S...</td>\n      <td>12</td>\n      <td>4.57</td>\n      <td>0.08</td>\n    </tr>\n    <tr>\n      <th>121</th>\n      <td>The Raven Boys</td>\n      <td>Maggie Stiefvater</td>\n      <td>293258</td>\n      <td>32257</td>\n      <td>4.04</td>\n      <td>409</td>\n      <td>2012</td>\n      <td>True</td>\n      <td>['Fantasy', 'Young Adult', 'Fantasy Paranormal...</td>\n      <td>12</td>\n      <td>5.45</td>\n      <td>0.96</td>\n    </tr>\n    <tr>\n      <th>70</th>\n      <td>Unwind</td>\n      <td>Neal Shusterman</td>\n      <td>202236</td>\n      <td>19135</td>\n      <td>4.16</td>\n      <td>337</td>\n      <td>2007</td>\n      <td>True</td>\n      <td>['Young Adult', 'Science Fiction Dystopia', 'S...</td>\n      <td>12</td>\n      <td>6.07</td>\n      <td>1.58</td>\n    </tr>\n    <tr>\n      <th>419</th>\n      <td>Wintergirls</td>\n      <td>Laurie Halse Anderson</td>\n      <td>111098</td>\n      <td>9161</td>\n      <td>3.96</td>\n      <td>278</td>\n      <td>2009</td>\n      <td>False</td>\n      <td>['Young Adult', 'Contemporary', 'Fiction', 'Re...</td>\n      <td>12</td>\n      <td>5.03</td>\n      <td>0.55</td>\n    </tr>\n    <tr>\n      <th>447</th>\n      <td>Hyperion</td>\n      <td>Dan Simmons</td>\n      <td>198935</td>\n      <td>8723</td>\n      <td>4.23</td>\n      <td>482</td>\n      <td>1990</td>\n      <td>True</td>\n      <td>['Science Fiction', 'Fiction', 'Fantasy', 'Spa...</td>\n      <td>12</td>\n      <td>6.43</td>\n      <td>1.94</td>\n    </tr>\n    <tr>\n      <th>486</th>\n      <td>Neuromancer</td>\n      <td>William Gibson</td>\n      <td>272622</td>\n      <td>10132</td>\n      <td>3.90</td>\n      <td>271</td>\n      <td>1984</td>\n      <td>True</td>\n      <td>['Science Fiction', 'Fiction', 'Science Fictio...</td>\n      <td>13</td>\n      <td>4.72</td>\n      <td>0.24</td>\n    </tr>\n    <tr>\n      <th>399</th>\n      <td>All the Light We Cannot See</td>\n      <td>Anthony Doerr</td>\n      <td>1114321</td>\n      <td>79134</td>\n      <td>4.32</td>\n      <td>531</td>\n      <td>2014</td>\n      <td>False</td>\n      <td>['Historical Historical Fiction', 'Fiction', '...</td>\n      <td>13</td>\n      <td>6.90</td>\n      <td>2.41</td>\n    </tr>\n    <tr>\n      <th>949</th>\n      <td>Between Shades of Gray</td>\n      <td>Ruta Sepetys</td>\n      <td>178153</td>\n      <td>22098</td>\n      <td>4.35</td>\n      <td>344</td>\n      <td>2011</td>\n      <td>False</td>\n      <td>['Historical Historical Fiction', 'Young Adult...</td>\n      <td>14</td>\n      <td>7.05</td>\n      <td>2.56</td>\n    </tr>\n    <tr>\n      <th>408</th>\n      <td>An Ember in the Ashes</td>\n      <td>Sabaa Tahir</td>\n      <td>206647</td>\n      <td>25298</td>\n      <td>4.26</td>\n      <td>446</td>\n      <td>2016</td>\n      <td>True</td>\n      <td>['Fantasy', 'Young Adult', 'Romance', 'Fiction...</td>\n      <td>14</td>\n      <td>6.59</td>\n      <td>2.10</td>\n    </tr>\n    <tr>\n      <th>558</th>\n      <td>Managing Bubbie</td>\n      <td>Russel Lazega</td>\n      <td>1052</td>\n      <td>184</td>\n      <td>3.85</td>\n      <td>237</td>\n      <td>2015</td>\n      <td>False</td>\n      <td>['Nonfiction', 'Biography', 'Autobiography Mem...</td>\n      <td>15</td>\n      <td>4.47</td>\n      <td>-0.02</td>\n    </tr>\n    <tr>\n      <th>757</th>\n      <td>Managing Bubbie</td>\n      <td>Russel Lazega</td>\n      <td>1052</td>\n      <td>184</td>\n      <td>3.85</td>\n      <td>237</td>\n      <td>2015</td>\n      <td>False</td>\n      <td>['Nonfiction', 'Biography', 'Autobiography Mem...</td>\n      <td>15</td>\n      <td>4.47</td>\n      <td>-0.02</td>\n    </tr>\n    <tr>\n      <th>900</th>\n      <td>Out of My Mind</td>\n      <td>Sharon M. Draper</td>\n      <td>118484</td>\n      <td>14499</td>\n      <td>4.37</td>\n      <td>295</td>\n      <td>2010</td>\n      <td>False</td>\n      <td>['Realistic Fiction', 'Young Adult', 'Children...</td>\n      <td>15</td>\n      <td>7.16</td>\n      <td>2.67</td>\n    </tr>\n    <tr>\n      <th>218</th>\n      <td>The House of the Scorpion</td>\n      <td>Nancy Farmer</td>\n      <td>85589</td>\n      <td>6486</td>\n      <td>4.06</td>\n      <td>380</td>\n      <td>2004</td>\n      <td>True</td>\n      <td>['Young Adult', 'Science Fiction', 'Science Fi...</td>\n      <td>16</td>\n      <td>5.55</td>\n      <td>1.06</td>\n    </tr>\n    <tr>\n      <th>56</th>\n      <td>Daughter of Smoke &amp; Bone</td>\n      <td>Laini Taylor</td>\n      <td>331311</td>\n      <td>30041</td>\n      <td>3.99</td>\n      <td>418</td>\n      <td>2011</td>\n      <td>True</td>\n      <td>['Fantasy', 'Young Adult', 'Romance', 'Fantasy...</td>\n      <td>16</td>\n      <td>5.19</td>\n      <td>0.70</td>\n    </tr>\n    <tr>\n      <th>120</th>\n      <td>The Curious Incident of the Dog in the Night-Time</td>\n      <td>Mark Haddon</td>\n      <td>1245628</td>\n      <td>45606</td>\n      <td>3.89</td>\n      <td>226</td>\n      <td>2004</td>\n      <td>False</td>\n      <td>['Fiction', 'Mystery', 'Young Adult', 'Contemp...</td>\n      <td>17</td>\n      <td>4.67</td>\n      <td>0.18</td>\n    </tr>\n    <tr>\n      <th>33</th>\n      <td>The Graveyard Book</td>\n      <td>Neil Gaiman</td>\n      <td>460950</td>\n      <td>32765</td>\n      <td>4.13</td>\n      <td>307</td>\n      <td>2008</td>\n      <td>False</td>\n      <td>['Fantasy', 'Young Adult', 'Fiction', 'Horror'...</td>\n      <td>18</td>\n      <td>5.91</td>\n      <td>1.43</td>\n    </tr>\n    <tr>\n      <th>5</th>\n      <td>Graceling</td>\n      <td>Kristin Cashore</td>\n      <td>405433</td>\n      <td>23013</td>\n      <td>4.07</td>\n      <td>471</td>\n      <td>2008</td>\n      <td>True</td>\n      <td>['Fantasy', 'Young Adult', 'Romance', 'Fiction...</td>\n      <td>18</td>\n      <td>5.60</td>\n      <td>1.12</td>\n    </tr>\n    <tr>\n      <th>150</th>\n      <td>Leviathan</td>\n      <td>Scott Westerfeld</td>\n      <td>89336</td>\n      <td>7084</td>\n      <td>3.90</td>\n      <td>440</td>\n      <td>2009</td>\n      <td>True</td>\n      <td>['Science Fiction Steampunk', 'Young Adult', '...</td>\n      <td>19</td>\n      <td>4.72</td>\n      <td>0.24</td>\n    </tr>\n    <tr>\n      <th>196</th>\n      <td>Eleanor &amp; Park</td>\n      <td>Rainbow Rowell</td>\n      <td>915675</td>\n      <td>68293</td>\n      <td>4.03</td>\n      <td>328</td>\n      <td>2013</td>\n      <td>False</td>\n      <td>['Young Adult', 'Romance', 'Contemporary', 'Fi...</td>\n      <td>23</td>\n      <td>5.40</td>\n      <td>0.91</td>\n    </tr>\n  </tbody>\n</table>\n</div>"
          },
          "metadata": {}
        }
      ],
      "execution_count": 60
    },
    {
      "cell_type": "code",
      "source": "b=b_df['minmax_norm_ratings']\nb",
      "metadata": {
        "tags": [],
        "cell_id": "00036-29c5c00f-86c8-4edf-ad0a-0f11dc3ca804",
        "deepnote_to_be_reexecuted": false,
        "source_hash": "8dbdd12d",
        "execution_millis": 12,
        "execution_start": 1618469042430,
        "deepnote_cell_type": "code"
      },
      "outputs": [
        {
          "output_type": "execute_result",
          "execution_count": 64,
          "data": {
            "text/plain": "810    6.90\n12     5.91\n941    6.02\n262    4.72\n955    6.64\n6      4.00\n143    4.57\n121    5.45\n70     6.07\n419    5.03\n447    6.43\n486    4.72\n399    6.90\n949    7.05\n408    6.59\n558    4.47\n757    4.47\n900    7.16\n218    5.55\n56     5.19\n120    4.67\n33     5.91\n5      5.60\n150    4.72\n196    5.40\nName: minmax_norm_ratings, dtype: float64"
          },
          "metadata": {}
        }
      ],
      "execution_count": 64
    },
    {
      "cell_type": "code",
      "source": "ax0=b_df.plot(kind='scatter',\n                    x='title',\n                    y='award',\n                    figsize=(14, 8),\n                    alpha=0.5,                  # transparency\n                    color='green',\n                    s=b * 100 + 10\n                    \n                   )",
      "metadata": {
        "tags": [],
        "cell_id": "00034-952ccd39-24c5-4a11-83c6-72646a549bec",
        "deepnote_to_be_reexecuted": false,
        "source_hash": "909ed88",
        "execution_millis": 329,
        "execution_start": 1618469383921,
        "deepnote_cell_type": "code"
      },
      "outputs": [
        {
          "data": {
            "text/plain": "<Figure size 1008x576 with 1 Axes>",
            "image/png": "[encoded data removed]"
          },
          "metadata": {
            "needs_background": "light"
          },
          "output_type": "display_data"
        }
      ],
      "execution_count": 69
    },
    {
      "cell_type": "markdown",
      "source": "<a style='text-decoration:none;line-height:16px;display:flex;color:#5B5B62;padding:10px;justify-content:end;' href='https://deepnote.com?utm_source=created-in-deepnote-cell&projectId=8aa7b630-9ed2-4356-9070-0a10a3a5f060' target=\"_blank\">\n<img alt='Created in deepnote.com' style='display:inline;max-height:16px;margin:0px;margin-right:7.5px;' src='data:image/svg+xml;base64,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' > </img>\nCreated in <span style='font-weight:600;margin-left:4px;'>Deepnote</span></a>",
      "metadata": {
        "tags": [],
        "created_in_deepnote_cell": true,
        "deepnote_cell_type": "markdown"
      }
    }
  ],
  "nbformat": 4,
  "nbformat_minor": 2,
  "metadata": {
    "orig_nbformat": 2,
    "deepnote": {
      "is_reactive": false
    },
    "deepnote_notebook_id": "dc1d0103-0b4b-4cfb-a4ef-9f902a0d5096",
    "deepnote_execution_queue": []
  }
}