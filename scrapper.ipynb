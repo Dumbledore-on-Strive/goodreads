{
  "cells": [
    {
      "cell_type": "code",
      "metadata": {
        "deepnote_to_be_reexecuted": false,
        "execution_millis": 4619,
        "execution_start": 1618383855820,
        "output_cleared": true,
        "source_hash": null,
        "tags": [],
        "cell_id": "00000-5e0ceef0-4518-40a5-b7c8-739858ea3a9b",
        "deepnote_cell_type": "code"
      },
      "source": "# !pip install bs4==0.0.1",
      "execution_count": null,
      "outputs": []
    },
    {
      "cell_type": "code",
      "metadata": {
        "tags": [],
        "cell_id": "00001-42f10e96-8a77-4e1c-a07b-93f13f543c98",
        "deepnote_to_be_reexecuted": false,
        "source_hash": "6c3283c9",
        "execution_start": 1618461619778,
        "execution_millis": 5402,
        "deepnote_cell_type": "code"
      },
      "source": "!pip install bs4==0.0.1",
      "outputs": [
        {
          "name": "stdout",
          "text": "Collecting bs4==0.0.1\n  Downloading bs4-0.0.1.tar.gz (1.1 kB)\nCollecting beautifulsoup4\n  Downloading beautifulsoup4-4.9.3-py3-none-any.whl (115 kB)\n\u001b[K     |████████████████████████████████| 115 kB 35.8 MB/s \n\u001b[?25hCollecting soupsieve>1.2\n  Downloading soupsieve-2.2.1-py3-none-any.whl (33 kB)\nBuilding wheels for collected packages: bs4\n  Building wheel for bs4 (setup.py) ... \u001b[?25ldone\n\u001b[?25h  Created wheel for bs4: filename=bs4-0.0.1-py3-none-any.whl size=1273 sha256=017c7ce4e82bb1ef1e2c05c2269473b7bff253fccc4e882a3fd323221f98c5f4\n  Stored in directory: /root/.cache/pip/wheels/0a/9e/ba/20e5bbc1afef3a491f0b3bb74d508f99403aabe76eda2167ca\nSuccessfully built bs4\nInstalling collected packages: soupsieve, beautifulsoup4, bs4\nSuccessfully installed beautifulsoup4-4.9.3 bs4-0.0.1 soupsieve-2.2.1\n",
          "output_type": "stream"
        }
      ],
      "execution_count": null
    },
    {
      "cell_type": "code",
      "metadata": {
        "deepnote_to_be_reexecuted": false,
        "execution_millis": 93,
        "output_cleared": false,
        "source_hash": "bc3f2178",
        "tags": [],
        "cell_id": "00001-5e1e8c8c-590b-4bdb-8b51-3cb3ee9a35f6",
        "execution_start": 1618461625182,
        "deepnote_cell_type": "code"
      },
      "source": "#important libraries\nimport numpy as np\nimport pandas as pd\nfrom bs4 import BeautifulSoup\nimport requests as rq",
      "outputs": [],
      "execution_count": null
    },
    {
      "cell_type": "markdown",
      "source": "# Web Scrapping ",
      "metadata": {
        "tags": [],
        "cell_id": "00002-b2ae7229-b226-439a-99c0-b1ea7e5b3f5b",
        "deepnote_cell_type": "text-cell-h1"
      }
    },
    {
      "cell_type": "code",
      "metadata": {
        "deepnote_to_be_reexecuted": false,
        "execution_millis": 2,
        "execution_start": 1618316200855,
        "source_hash": "70727373",
        "tags": [],
        "cell_id": "00003-ae28261e-dde9-4712-9dd0-8c6afa2d615f",
        "deepnote_cell_type": "code"
      },
      "source": "#url - str done\n # title - str done\n # author - str done \n # num_reviews - int done\n  # num_ratings - int done \n  # avg_rating - float done \n  # num_pages - int done\n  # original_publish_year - int done \n  # series - bool done \n  # genres - str doen \n  # awards - str done \n  # places str done ",
      "execution_count": null,
      "outputs": []
    },
    {
      "cell_type": "markdown",
      "source": "# ",
      "metadata": {
        "tags": [],
        "cell_id": "00004-f8421c38-1ac0-43e2-9355-c42ae65d682b",
        "deepnote_cell_type": "text-cell-h1"
      }
    },
    {
      "cell_type": "code",
      "metadata": {
        "deepnote_to_be_reexecuted": false,
        "execution_millis": 54533,
        "source_hash": "4088ee83",
        "tags": [],
        "cell_id": "00005-da2a2851-9716-4c7a-9baf-930afcf6b72d",
        "execution_start": 1618461630366,
        "deepnote_cell_type": "code"
      },
      "source": "\nbase_url = 'https://www.goodreads.com/list/show/1043.Books_That_Should_Be_Made_Into_Movies'\n\ndef get_books_url_per_page(base_url, tag, tag_class):\n\n    book_url_list = []\n    base_page = rq.get(base_url)\n    base_content = BeautifulSoup(base_page.content, 'html.parser')\n\n    for a in base_content.find_all(tag, class_= tag_class):\n        book_url_list.append('https://www.goodreads.com/' + a['href'])\n    \n    return book_url_list\n\n\ndef get_base_page_list(base_url, n):\n    base_page_list = []\n    for i in range(n):\n        base_page_list.append(base_url + str(i + 1))\n    \n    return base_page_list\n\nwhole_book_url_list = []\n\nfor link in get_base_page_list('https://www.goodreads.com/list/show/1043.Books_That_Should_Be_Made_Into_Movies?page=', 10):\n    whole_book_url_list.append(get_books_url_per_page(link, 'a', 'bookTitle'))\n\nwhole_book_url_list = [link for subs in whole_book_url_list for link in subs]",
      "outputs": [],
      "execution_count": null
    },
    {
      "cell_type": "code",
      "metadata": {
        "deepnote_to_be_reexecuted": false,
        "execution_millis": 1,
        "output_cleared": false,
        "source_hash": "a41f9446",
        "tags": [],
        "cell_id": "00006-73586788-98b6-45b1-a25c-5e8e8ac31ee9",
        "execution_start": 1618432574985,
        "deepnote_cell_type": "code"
      },
      "source": "list500=whole_book_url_list[:500]",
      "execution_count": null,
      "outputs": []
    },
    {
      "cell_type": "code",
      "metadata": {
        "tags": [],
        "cell_id": "00007-9d468c42-abda-41ed-a8d3-d7484be26c90",
        "deepnote_to_be_reexecuted": false,
        "source_hash": "e6c105aa",
        "execution_millis": 0,
        "execution_start": 1618428422239,
        "deepnote_cell_type": "code"
      },
      "source": "list200_1=whole_book_url_list[600:800]",
      "execution_count": null,
      "outputs": []
    },
    {
      "cell_type": "code",
      "metadata": {
        "tags": [],
        "cell_id": "00008-b5a6e107-82c2-449f-9846-65760132decb",
        "deepnote_to_be_reexecuted": false,
        "source_hash": "21304d58",
        "execution_millis": 1,
        "execution_start": 1618428419248,
        "deepnote_cell_type": "code"
      },
      "source": "list200_2=whole_book_url_list[800:]",
      "execution_count": null,
      "outputs": []
    },
    {
      "cell_type": "code",
      "metadata": {
        "deepnote_to_be_reexecuted": false,
        "execution_millis": 444063,
        "execution_start": 1618319644017,
        "output_cleared": false,
        "source_hash": "70a00ad8",
        "tags": [],
        "cell_id": "00008-8cd1e3b4-8bfb-4230-8846-175c33e292fa",
        "deepnote_cell_type": "code"
      },
      "source": "# get_data_frame(whole_book_url_list)",
      "execution_count": null,
      "outputs": []
    },
    {
      "cell_type": "markdown",
      "source": "for Test  ",
      "metadata": {
        "tags": [],
        "cell_id": "00010-1fd0d753-5279-455c-aeb0-e2cea5010344",
        "deepnote_cell_type": "markdown"
      }
    },
    {
      "cell_type": "code",
      "metadata": {
        "deepnote_to_be_reexecuted": false,
        "execution_millis": 5589,
        "execution_start": 1618383963459,
        "source_hash": "f976cd3a",
        "tags": [],
        "cell_id": "00011-487b98f8-9842-430c-8baa-cd6648fb974a",
        "is_code_hidden": true,
        "deepnote_cell_type": "code"
      },
      "source": "# page_html = rq.get(\"https://www.goodreads.com//book/show/1582996.City_of_Ashes\")\n# i = BeautifulSoup(page_html.content, 'html.parser')\n# print(i)\n# i=\"https://www.goodreads.com//book/show/618177.Legend\"",
      "execution_count": null,
      "outputs": []
    },
    {
      "cell_type": "code",
      "metadata": {
        "deepnote_to_be_reexecuted": false,
        "execution_millis": 0,
        "execution_start": 1618383973303,
        "source_hash": "aea2210c",
        "tags": [],
        "cell_id": "00012-5b4a8b70-fc03-4c26-8ad4-c619f9d3b4f2",
        "is_code_hidden": true,
        "deepnote_cell_type": "code"
      },
      "source": "# def getlink(i):\n    \n#     data_frame=[]\n#     page_html = rq.get(i)\n#     page_soup = BeautifulSoup(page_html.content, 'html.parser')\n#     title=get_title(page_soup)\n      \n#     author=get_author(page_soup)\n      \n#     num_rating=get_num_rating(page_soup)\n       \n#     num_reviews=get_num_reviews(page_soup)\n       \n#     avg_rating=get_avg_rating(page_soup)\n        \n#     num_pages=get_num_pages(page_soup)\n      \n#     original_publish_year=get_original_publish_year(page_soup)\n        \n#     series=get_series(page_soup)\n       \n#     genres=get_genres(page_soup)\n       \n#     award=get_award(page_soup)\n       \n#     place=get_place(page_soup)\n#     dictionary={\n#             \"title\": title,\n#             \"author\": author,\n#             \"num_rating\": num_rating,\n#             \"num_reviews\": num_reviews,\n#             \"avg_rating\": avg_rating,\n#             \"num_pages\": num_pages,\n#             \"original_publish_year\": original_publish_year,\n#             \"series\": series,\n#             \"genres\": genres,\n#             \"award\": int(award),\n#             \"place\": place,\n#             \"url\": i\n#     }\n#     data_frame.append(dictionary)\n#     return data_frame",
      "execution_count": null,
      "outputs": []
    },
    {
      "cell_type": "code",
      "metadata": {
        "deepnote_to_be_reexecuted": false,
        "execution_millis": 328,
        "execution_start": 1618384012007,
        "output_cleared": false,
        "scrolled": true,
        "source_hash": "644b5dcb",
        "tags": [],
        "cell_id": "00013-55159c78-8be9-4507-bcc3-bb2e31e363cc",
        "deepnote_cell_type": "code"
      },
      "source": "# getlink(i)",
      "execution_count": null,
      "outputs": []
    },
    {
      "cell_type": "code",
      "metadata": {
        "tags": [],
        "cell_id": "00014-a13b63fc-b65b-46e6-8c52-c566fb02c3da",
        "deepnote_cell_type": "code"
      },
      "source": "",
      "execution_count": null,
      "outputs": []
    },
    {
      "cell_type": "markdown",
      "source": "#                                                      To define all functions",
      "metadata": {
        "tags": [],
        "cell_id": "00015-589378e8-ac26-429e-ad9b-ef02666c63e4",
        "deepnote_cell_type": "text-cell-h1"
      }
    },
    {
      "cell_type": "code",
      "metadata": {
        "deepnote_to_be_reexecuted": false,
        "execution_millis": 2,
        "source_hash": "9249b9b2",
        "tags": [],
        "cell_id": "00016-f2cf4109-fdad-483a-b76e-5c346df3c65b",
        "execution_start": 1618461690072,
        "deepnote_cell_type": "code"
      },
      "source": "\ndef get_title(page_soup):\n    try :\n        title = page_soup.find('h1', {\"id\":\"bookTitle\"}).text.strip()\n        return title\n    except:\n        return np.nan\n",
      "outputs": [],
      "execution_count": null
    },
    {
      "cell_type": "code",
      "metadata": {
        "deepnote_to_be_reexecuted": false,
        "execution_millis": 1,
        "source_hash": "50641d12",
        "tags": [],
        "cell_id": "00017-a1bb902a-9c3c-4f3f-9187-c903ccc04b04",
        "execution_start": 1618461692735,
        "deepnote_cell_type": "code"
      },
      "source": "def get_author(page_soup):\n    try :\n        author = page_soup.find(\"a\", {\"class\":\"authorName\"}).text.strip()\n        return author\n    except:\n        return np.nan",
      "outputs": [],
      "execution_count": null
    },
    {
      "cell_type": "code",
      "metadata": {
        "deepnote_to_be_reexecuted": false,
        "execution_millis": 3,
        "output_cleared": false,
        "source_hash": "8c1e7b4b",
        "tags": [],
        "cell_id": "00018-6f3ba42b-3d70-44b9-ae98-0954e7c600c4",
        "execution_start": 1618461694403,
        "deepnote_cell_type": "code"
      },
      "source": "def get_num_rating(page_soup):\n    try :\n        num_rating=page_soup.find(itemprop=\"ratingCount\").text.strip().replace(\"ratings\", \"\").replace(\",\", \"\")\n        return int(num_rating)\n    except:\n        return np.nan",
      "outputs": [],
      "execution_count": null
    },
    {
      "cell_type": "code",
      "metadata": {
        "deepnote_to_be_reexecuted": false,
        "execution_millis": 0,
        "source_hash": "43934392",
        "tags": [],
        "cell_id": "00019-fa289d88-77f0-47bf-95d4-621ffcad90d1",
        "execution_start": 1618461696038,
        "deepnote_cell_type": "code"
      },
      "source": "def get_num_reviews(page_soup):\n    try :\n        num_review=page_soup.find(itemprop=\"reviewCount\").text.replace(\"reviews\", \"\").replace(\",\", \"\").strip()\n        return int(num_review)\n    except:\n        return np.nan",
      "outputs": [],
      "execution_count": null
    },
    {
      "cell_type": "code",
      "metadata": {
        "deepnote_to_be_reexecuted": false,
        "execution_millis": 0,
        "source_hash": "dac3f7ee",
        "tags": [],
        "cell_id": "00020-5b5d05cb-dcf2-4d45-abc5-cccf0cec5d4c",
        "execution_start": 1618461697740,
        "deepnote_cell_type": "code"
      },
      "source": "def get_avg_rating(page_soup):\n    try :\n        avg_rating=page_soup.find(\"span\", itemprop=\"ratingValue\").text.strip()\n        return float(avg_rating)\n    except:\n        return np.nan\n\n",
      "outputs": [],
      "execution_count": null
    },
    {
      "cell_type": "code",
      "metadata": {
        "deepnote_to_be_reexecuted": false,
        "execution_millis": 3,
        "source_hash": "c3d4a2",
        "tags": [],
        "cell_id": "00021-54b9fdb7-f5c1-4fba-b020-c9b866c4122e",
        "execution_start": 1618461699411,
        "deepnote_cell_type": "code"
      },
      "source": "def get_num_pages(page_soup):\n    try :\n        num_pages=page_soup.find(itemprop=\"numberOfPages\").text.strip().replace(\"pages\", \"\")\n        return int(num_pages)\n    except:\n        return 0\n\n\n",
      "outputs": [],
      "execution_count": null
    },
    {
      "cell_type": "code",
      "metadata": {
        "cell_id": "00022-5052db42-e493-4b3b-ad16-7320f928262b",
        "deepnote_cell_type": "code"
      },
      "source": "# i=\"https://www.goodreads.com//book/show/618177.Legend\"\n# page_html = rq.get(i)\n# page_soup = BeautifulSoup(page_html.content, 'html.parser')",
      "execution_count": null,
      "outputs": []
    },
    {
      "cell_type": "code",
      "metadata": {
        "deepnote_to_be_reexecuted": false,
        "execution_millis": 4,
        "source_hash": "b38c83c0",
        "tags": [],
        "cell_id": "00023-78689712-b132-47ab-be1c-59cfa11fc188",
        "execution_start": 1618461702444,
        "deepnote_cell_type": "code"
      },
      "source": "def get_original_publish_year(page_soup):\n    try:\n        original_publish_year=page_soup.find_all(\"div\", class_=\"row\")[1].text.split()\n        for i in original_publish_year[:]:\n            if i.isnumeric()==True:\n                return  i\n    except:\n        return  np.nan      \n            \n\n\n\n# def get_original_publish_year(page_soup):\n#     try :\n#         original_publish_year=page_soup.find_all(\"div\", class_=\"row\")[1].text.split()[3]\n#         return int (original_publish_year)\n#     except:\n#         return np.nan\n\n\n",
      "outputs": [],
      "execution_count": null
    },
    {
      "cell_type": "code",
      "metadata": {
        "deepnote_to_be_reexecuted": false,
        "execution_millis": 0,
        "source_hash": "a8a39e52",
        "tags": [],
        "cell_id": "00024-a5385e10-e2fe-4b6d-9e1f-69bc5659da13",
        "execution_start": 1618461704767,
        "deepnote_cell_type": "code"
      },
      "source": "# def get_series(page_soup):\n    \n        \n#         series = page_soup.find(id=\"bookSeries\").text.strip() \n#         if len(series)!= 0:\n#             return True\n#         else: \n#             return False\n    \ndef get_series(page_soup):\n\n        try:\n\n            series = page_soup.find(id=\"bookSeries\").text.strip() \n            if len(series)!= 0:\n                return True\n            else: \n                return False\n        except:\n            return np.nan  ",
      "outputs": [],
      "execution_count": null
    },
    {
      "cell_type": "code",
      "metadata": {
        "deepnote_to_be_reexecuted": false,
        "execution_millis": 0,
        "source_hash": "f9daa355",
        "tags": [],
        "cell_id": "00025-0c9bf235-ba79-456e-af9a-649c103d2b8b",
        "execution_start": 1618461706828,
        "deepnote_cell_type": "code"
      },
      "source": "def get_genres(page_soup):\n    try:\n        g_list=[]\n        genres = page_soup.find('div',class_=\"rightContainer\").find_all(class_=\"left\")\n        for row in genres:\n            row=row.text.replace(\">\",\"\").strip().split()\n            row=\" \".join(row)\n            g_list.append(row)\n        return g_list\n    except:\n        return np.nan    \n   \n    ",
      "outputs": [],
      "execution_count": null
    },
    {
      "cell_type": "code",
      "metadata": {
        "deepnote_to_be_reexecuted": false,
        "execution_millis": 2,
        "source_hash": "56b9a742",
        "tags": [],
        "cell_id": "00026-e048bd56-1894-4c3f-90e3-298331d572ef",
        "execution_start": 1618461708616,
        "deepnote_cell_type": "code"
      },
      "source": "def get_award(page_soup):\n    try:\n        count=0\n        awards = page_soup.find(\"div\", {\"itemprop\": \"awards\"}).find_all('a')\n        for award in awards:\n            if award!=None:\n                count+=1\n        return count\n    except:\n        return 0",
      "outputs": [],
      "execution_count": null
    },
    {
      "cell_type": "code",
      "metadata": {
        "deepnote_to_be_reexecuted": false,
        "execution_millis": 2,
        "source_hash": "4212eb78",
        "tags": [],
        "cell_id": "00027-41d0b0e9-ce0e-4cff-b8cf-303099108620",
        "execution_start": 1618461710497,
        "deepnote_cell_type": "code"
      },
      "source": "def get_place(page_soup):\n    try:\n        place = page_soup.find(\"div\", {'id':\"bookDataBox\"}).find('span',class_=\"darkGreyText\").text.replace(\"(\",\"\").replace(\")\",\"\").strip()\n        return str(place)\n    except:\n        return np.nan",
      "outputs": [],
      "execution_count": null
    },
    {
      "cell_type": "markdown",
      "source": "# End of Functions",
      "metadata": {
        "tags": [],
        "cell_id": "00028-bf152358-b9b0-4233-bd44-ef32a3500064",
        "deepnote_cell_type": "text-cell-h1"
      }
    },
    {
      "cell_type": "code",
      "metadata": {
        "tags": [],
        "cell_id": "00029-5f98f261-072a-4b85-9805-ab5ce8b61a53",
        "deepnote_to_be_reexecuted": false,
        "source_hash": "ab554dce",
        "execution_millis": 1,
        "execution_start": 1618461712717,
        "deepnote_cell_type": "code"
      },
      "source": "def get_data_frame(links):\n    data_frame=[]\n    for url  in  links:\n        page_html = rq.get(url)\n        page_soup = BeautifulSoup(page_html.content, 'html.parser')\n        title=get_title(page_soup)\n      \n        author=get_author(page_soup)\n      \n        num_rating=get_num_rating(page_soup)\n       \n        num_reviews=get_num_reviews(page_soup)\n       \n        avg_rating=get_avg_rating(page_soup)\n        \n        num_pages=get_num_pages(page_soup)\n        original_publish_year=get_original_publish_year(page_soup)\n        series=get_series(page_soup)\n       \n        genres=get_genres(page_soup)\n       \n        award=get_award(page_soup)\n       \n        place=get_place(page_soup)\n        dictionary={\n            \"title\": title,\n            \"author\": author,\n            \"num_rating\": num_rating,\n            \"num_reviews\": num_reviews,\n            \"avg_rating\": avg_rating,\n            \"num_pages\": int(num_pages),\n            \"original_publish_year\": original_publish_year,\n            \"series\": series,\n            \"genres\": genres,\n            \"award\": int(award),\n            \"place\": place,\n            \"url\": url\n        }\n        data_frame.append(dictionary)\n    return data_frame",
      "outputs": [],
      "execution_count": null
    },
    {
      "cell_type": "code",
      "metadata": {
        "tags": [],
        "cell_id": "00030-35fe5206-190e-468e-830f-df6a5a41d1fd",
        "deepnote_to_be_reexecuted": false,
        "source_hash": "999599fe",
        "execution_millis": 2,
        "execution_start": 1618461718402,
        "deepnote_cell_type": "code"
      },
      "source": "list100=whole_book_url_list[500:600]",
      "outputs": [],
      "execution_count": null
    },
    {
      "cell_type": "code",
      "metadata": {
        "tags": [],
        "cell_id": "00030-296bf1bc-35f7-4b7d-bc79-71e45d4953d4",
        "deepnote_to_be_reexecuted": false,
        "source_hash": "e8ff4bb3",
        "execution_millis": 302145,
        "execution_start": 1618461721362,
        "deepnote_cell_type": "code"
      },
      "source": "data=get_data_frame(list100)",
      "outputs": [],
      "execution_count": null
    },
    {
      "cell_type": "code",
      "metadata": {
        "tags": [],
        "cell_id": "00029-3032c98f-d9fd-4b73-bf29-37dba2541fe3",
        "deepnote_to_be_reexecuted": false,
        "source_hash": "d51dc561",
        "execution_millis": 10,
        "execution_start": 1618462040563,
        "deepnote_cell_type": "code"
      },
      "source": "df = pd.DataFrame(data)\n  \n# saving the dataframe\ndf.to_csv('100.csv')",
      "outputs": [],
      "execution_count": null
    },
    {
      "cell_type": "code",
      "source": "f1=pd.read_csv('500.csv')",
      "metadata": {
        "tags": [],
        "cell_id": "00034-18cc4e9d-b5a1-468b-9cda-5b5e55dd5152",
        "deepnote_to_be_reexecuted": false,
        "source_hash": "bf6c601d",
        "execution_start": 1618462105484,
        "execution_millis": 10,
        "deepnote_cell_type": "code"
      },
      "outputs": [],
      "execution_count": null
    },
    {
      "cell_type": "code",
      "source": "f1",
      "metadata": {
        "tags": [],
        "cell_id": "00035-8038ae22-a267-4561-a9b2-c0902aa03ec3",
        "deepnote_to_be_reexecuted": false,
        "source_hash": "b7c7a965",
        "execution_start": 1618462115184,
        "execution_millis": 68,
        "deepnote_cell_type": "code"
      },
      "outputs": [
        {
          "output_type": "execute_result",
          "execution_count": 22,
          "data": {
            "application/vnd.deepnote.dataframe.v2+json": {
              "row_count": 500,
              "column_count": 13,
              "columns": [
                {
                  "name": "Unnamed: 0",
                  "dtype": "int64",
                  "stats": {
                    "unique_count": 500,
                    "nan_count": 0,
                    "min": "0",
                    "max": "499",
                    "histogram": [
                      {
                        "bin_start": 0,
                        "bin_end": 49.9,
                        "count": 50
                      },
                      {
                        "bin_start": 49.9,
                        "bin_end": 99.8,
                        "count": 50
                      },
                      {
                        "bin_start": 99.8,
                        "bin_end": 149.7,
                        "count": 50
                      },
                      {
                        "bin_start": 149.7,
                        "bin_end": 199.6,
                        "count": 50
                      },
                      {
                        "bin_start": 199.6,
                        "bin_end": 249.5,
                        "count": 50
                      },
                      {
                        "bin_start": 249.5,
                        "bin_end": 299.4,
                        "count": 50
                      },
                      {
                        "bin_start": 299.4,
                        "bin_end": 349.3,
                        "count": 50
                      },
                      {
                        "bin_start": 349.3,
                        "bin_end": 399.2,
                        "count": 50
                      },
                      {
                        "bin_start": 399.2,
                        "bin_end": 449.09999999999997,
                        "count": 50
                      },
                      {
                        "bin_start": 449.09999999999997,
                        "bin_end": 499,
                        "count": 50
                      }
                    ]
                  }
                },
                {
                  "name": "title",
                  "dtype": "object",
                  "stats": {
                    "unique_count": 497,
                    "nan_count": 2,
                    "categories": [
                      {
                        "name": "Shadowland",
                        "count": 2
                      },
                      {
                        "name": "496 others",
                        "count": 496
                      },
                      {
                        "name": "Missing",
                        "count": 2
                      }
                    ]
                  }
                },
                {
                  "name": "author",
                  "dtype": "object",
                  "stats": {
                    "unique_count": 285,
                    "nan_count": 2,
                    "categories": [
                      {
                        "name": "Rick Riordan",
                        "count": 11
                      },
                      {
                        "name": "284 others",
                        "count": 487
                      },
                      {
                        "name": "Missing",
                        "count": 2
                      }
                    ]
                  }
                },
                {
                  "name": "num_rating",
                  "dtype": "float64",
                  "stats": {
                    "unique_count": 498,
                    "nan_count": 2,
                    "min": "68.0",
                    "max": "2857855.0",
                    "histogram": [
                      {
                        "bin_start": 68,
                        "bin_end": 285846.7,
                        "count": 405
                      },
                      {
                        "bin_start": 285846.7,
                        "bin_end": 571625.4,
                        "count": 63
                      },
                      {
                        "bin_start": 571625.4,
                        "bin_end": 857404.1000000001,
                        "count": 21
                      },
                      {
                        "bin_start": 857404.1000000001,
                        "bin_end": 1143182.8,
                        "count": 5
                      },
                      {
                        "bin_start": 1143182.8,
                        "bin_end": 1428961.5,
                        "count": 2
                      },
                      {
                        "bin_start": 1428961.5,
                        "bin_end": 1714740.2000000002,
                        "count": 0
                      },
                      {
                        "bin_start": 1714740.2000000002,
                        "bin_end": 2000518.9000000001,
                        "count": 0
                      },
                      {
                        "bin_start": 2000518.9000000001,
                        "bin_end": 2286297.6,
                        "count": 1
                      },
                      {
                        "bin_start": 2286297.6,
                        "bin_end": 2572076.3000000003,
                        "count": 0
                      },
                      {
                        "bin_start": 2572076.3000000003,
                        "bin_end": 2857855,
                        "count": 1
                      }
                    ]
                  }
                },
                {
                  "name": "num_reviews",
                  "dtype": "float64",
                  "stats": {
                    "unique_count": 486,
                    "nan_count": 2,
                    "min": "10.0",
                    "max": "85811.0",
                    "histogram": [
                      {
                        "bin_start": 10,
                        "bin_end": 8590.1,
                        "count": 317
                      },
                      {
                        "bin_start": 8590.1,
                        "bin_end": 17170.2,
                        "count": 99
                      },
                      {
                        "bin_start": 17170.2,
                        "bin_end": 25750.300000000003,
                        "count": 31
                      },
                      {
                        "bin_start": 25750.300000000003,
                        "bin_end": 34330.4,
                        "count": 27
                      },
                      {
                        "bin_start": 34330.4,
                        "bin_end": 42910.5,
                        "count": 4
                      },
                      {
                        "bin_start": 42910.5,
                        "bin_end": 51490.600000000006,
                        "count": 8
                      },
                      {
                        "bin_start": 51490.600000000006,
                        "bin_end": 60070.700000000004,
                        "count": 7
                      },
                      {
                        "bin_start": 60070.700000000004,
                        "bin_end": 68650.8,
                        "count": 2
                      },
                      {
                        "bin_start": 68650.8,
                        "bin_end": 77230.90000000001,
                        "count": 0
                      },
                      {
                        "bin_start": 77230.90000000001,
                        "bin_end": 85811,
                        "count": 3
                      }
                    ]
                  }
                },
                {
                  "name": "avg_rating",
                  "dtype": "float64",
                  "stats": {
                    "unique_count": 105,
                    "nan_count": 2,
                    "min": "3.29",
                    "max": "4.78",
                    "histogram": [
                      {
                        "bin_start": 3.29,
                        "bin_end": 3.439,
                        "count": 1
                      },
                      {
                        "bin_start": 3.439,
                        "bin_end": 3.588,
                        "count": 9
                      },
                      {
                        "bin_start": 3.588,
                        "bin_end": 3.737,
                        "count": 28
                      },
                      {
                        "bin_start": 3.737,
                        "bin_end": 3.886,
                        "count": 71
                      },
                      {
                        "bin_start": 3.886,
                        "bin_end": 4.035,
                        "count": 130
                      },
                      {
                        "bin_start": 4.035,
                        "bin_end": 4.184,
                        "count": 126
                      },
                      {
                        "bin_start": 4.184,
                        "bin_end": 4.333,
                        "count": 84
                      },
                      {
                        "bin_start": 4.333,
                        "bin_end": 4.482,
                        "count": 31
                      },
                      {
                        "bin_start": 4.482,
                        "bin_end": 4.631,
                        "count": 15
                      },
                      {
                        "bin_start": 4.631,
                        "bin_end": 4.78,
                        "count": 3
                      }
                    ]
                  }
                },
                {
                  "name": "num_pages",
                  "dtype": "int64",
                  "stats": {
                    "unique_count": 291,
                    "nan_count": 0,
                    "min": "0",
                    "max": "1207",
                    "histogram": [
                      {
                        "bin_start": 0,
                        "bin_end": 120.7,
                        "count": 13
                      },
                      {
                        "bin_start": 120.7,
                        "bin_end": 241.4,
                        "count": 37
                      },
                      {
                        "bin_start": 241.4,
                        "bin_end": 362.1,
                        "count": 188
                      },
                      {
                        "bin_start": 362.1,
                        "bin_end": 482.8,
                        "count": 162
                      },
                      {
                        "bin_start": 482.8,
                        "bin_end": 603.5,
                        "count": 63
                      },
                      {
                        "bin_start": 603.5,
                        "bin_end": 724.2,
                        "count": 19
                      },
                      {
                        "bin_start": 724.2,
                        "bin_end": 844.9,
                        "count": 10
                      },
                      {
                        "bin_start": 844.9,
                        "bin_end": 965.6,
                        "count": 4
                      },
                      {
                        "bin_start": 965.6,
                        "bin_end": 1086.3,
                        "count": 3
                      },
                      {
                        "bin_start": 1086.3,
                        "bin_end": 1207,
                        "count": 1
                      }
                    ]
                  }
                },
                {
                  "name": "original_publish_year",
                  "dtype": "float64",
                  "stats": {
                    "unique_count": 31,
                    "nan_count": 5,
                    "min": "1978.0",
                    "max": "2020.0",
                    "histogram": [
                      {
                        "bin_start": 1978,
                        "bin_end": 1982.2,
                        "count": 1
                      },
                      {
                        "bin_start": 1982.2,
                        "bin_end": 1986.4,
                        "count": 1
                      },
                      {
                        "bin_start": 1986.4,
                        "bin_end": 1990.6,
                        "count": 3
                      },
                      {
                        "bin_start": 1990.6,
                        "bin_end": 1994.8,
                        "count": 4
                      },
                      {
                        "bin_start": 1994.8,
                        "bin_end": 1999,
                        "count": 7
                      },
                      {
                        "bin_start": 1999,
                        "bin_end": 2003.2,
                        "count": 23
                      },
                      {
                        "bin_start": 2003.2,
                        "bin_end": 2007.4,
                        "count": 137
                      },
                      {
                        "bin_start": 2007.4,
                        "bin_end": 2011.6,
                        "count": 198
                      },
                      {
                        "bin_start": 2011.6,
                        "bin_end": 2015.8,
                        "count": 97
                      },
                      {
                        "bin_start": 2015.8,
                        "bin_end": 2020,
                        "count": 24
                      }
                    ]
                  }
                },
                {
                  "name": "series",
                  "dtype": "object",
                  "stats": {
                    "unique_count": 2,
                    "nan_count": 2,
                    "categories": [
                      {
                        "name": "True",
                        "count": 408
                      },
                      {
                        "name": "False",
                        "count": 90
                      },
                      {
                        "name": "Missing",
                        "count": 2
                      }
                    ]
                  }
                },
                {
                  "name": "genres",
                  "dtype": "object",
                  "stats": {
                    "unique_count": 462,
                    "nan_count": 2,
                    "categories": [
                      {
                        "name": "['Paranormal Vampires', 'Young Adult', 'Fantasy Paranormal', 'Fantasy', 'Fantasy Urban Fantasy', 'Romance', 'Fantasy Supernatural', 'Fiction', 'Romance Paranormal Romance', 'Young Adult Teen']",
                        "count": 6
                      },
                      {
                        "name": "461 others",
                        "count": 492
                      },
                      {
                        "name": "Missing",
                        "count": 2
                      }
                    ]
                  }
                },
                {
                  "name": "award",
                  "dtype": "int64",
                  "stats": {
                    "unique_count": 18,
                    "nan_count": 0,
                    "min": "0",
                    "max": "23",
                    "histogram": [
                      {
                        "bin_start": 0,
                        "bin_end": 2.3,
                        "count": 370
                      },
                      {
                        "bin_start": 2.3,
                        "bin_end": 4.6,
                        "count": 58
                      },
                      {
                        "bin_start": 4.6,
                        "bin_end": 6.8999999999999995,
                        "count": 19
                      },
                      {
                        "bin_start": 6.8999999999999995,
                        "bin_end": 9.2,
                        "count": 17
                      },
                      {
                        "bin_start": 9.2,
                        "bin_end": 11.5,
                        "count": 18
                      },
                      {
                        "bin_start": 11.5,
                        "bin_end": 13.799999999999999,
                        "count": 10
                      },
                      {
                        "bin_start": 13.799999999999999,
                        "bin_end": 16.099999999999998,
                        "count": 3
                      },
                      {
                        "bin_start": 16.099999999999998,
                        "bin_end": 18.4,
                        "count": 3
                      },
                      {
                        "bin_start": 18.4,
                        "bin_end": 20.7,
                        "count": 1
                      },
                      {
                        "bin_start": 20.7,
                        "bin_end": 23,
                        "count": 1
                      }
                    ]
                  }
                },
                {
                  "name": "place",
                  "dtype": "object",
                  "stats": {
                    "unique_count": 16,
                    "nan_count": 243,
                    "categories": [
                      {
                        "name": "United States",
                        "count": 208
                      },
                      {
                        "name": "15 others",
                        "count": 49
                      },
                      {
                        "name": "Missing",
                        "count": 243
                      }
                    ]
                  }
                },
                {
                  "name": "url",
                  "dtype": "object",
                  "stats": {
                    "unique_count": 500,
                    "nan_count": 0,
                    "categories": [
                      {
                        "name": "https://www.goodreads.com//book/show/1582996.City_of_Ashes",
                        "count": 1
                      },
                      {
                        "name": "https://www.goodreads.com//book/show/6339664-hush-hush",
                        "count": 1
                      },
                      {
                        "name": "498 others",
                        "count": 498
                      }
                    ]
                  }
                },
                {
                  "name": "_deepnote_index_column",
                  "dtype": "int64"
                }
              ],
              "rows_top": [
                {
                  "Unnamed: 0": 0,
                  "title": "City of Ashes",
                  "author": "Cassandra Clare",
                  "num_rating": 790027,
                  "num_reviews": 30438,
                  "avg_rating": 4.15,
                  "num_pages": 453,
                  "original_publish_year": 2008,
                  "series": true,
                  "genres": "['Fantasy', 'Young Adult', 'Fantasy Paranormal', 'Romance', 'Fantasy Urban Fantasy', 'Paranormal Vampires', 'Fiction', 'Fantasy Supernatural', 'Paranormal Angels', 'Fantasy Magic']",
                  "award": 2,
                  "place": "United States",
                  "url": "https://www.goodreads.com//book/show/1582996.City_of_Ashes",
                  "_deepnote_index_column": 0
                },
                {
                  "Unnamed: 0": 1,
                  "title": "Hush, Hush",
                  "author": "Becca Fitzpatrick",
                  "num_rating": 604902,
                  "num_reviews": 25701,
                  "avg_rating": 3.95,
                  "num_pages": 391,
                  "original_publish_year": 2009,
                  "series": true,
                  "genres": "['Young Adult', 'Fantasy', 'Romance', 'Fantasy Paranormal', 'Paranormal Angels', 'Romance Paranormal Romance', 'Fantasy Supernatural', 'Fiction', 'Fantasy Urban Fantasy', 'Young Adult Young Adult Fantasy']",
                  "award": 1,
                  "place": "United States",
                  "url": "https://www.goodreads.com//book/show/6339664-hush-hush",
                  "_deepnote_index_column": 1
                },
                {
                  "Unnamed: 0": 2,
                  "title": "City of Glass",
                  "author": "Cassandra Clare",
                  "num_rating": 834607,
                  "num_reviews": 29071,
                  "avg_rating": 4.3,
                  "num_pages": 541,
                  "original_publish_year": 2009,
                  "series": true,
                  "genres": "['Fantasy', 'Young Adult', 'Fantasy Paranormal', 'Romance', 'Fantasy Urban Fantasy', 'Paranormal Vampires', 'Fiction', 'Paranormal Angels', 'Fantasy Supernatural', 'Fantasy Magic']",
                  "award": 3,
                  "place": "United States",
                  "url": "https://www.goodreads.com//book/show/3777732-city-of-glass",
                  "_deepnote_index_column": 2
                },
                {
                  "Unnamed: 0": 3,
                  "title": "Clockwork Angel",
                  "author": "Cassandra Clare",
                  "num_rating": 709807,
                  "num_reviews": 33615,
                  "avg_rating": 4.31,
                  "num_pages": 479,
                  "original_publish_year": 2010,
                  "series": true,
                  "genres": "['Fantasy', 'Young Adult', 'Romance', 'Fantasy Paranormal', 'Science Fiction Steampunk', 'Historical Historical Fiction', 'Fiction', 'Fantasy Urban Fantasy', 'Paranormal Vampires', 'Paranormal Angels']",
                  "award": 10,
                  "place": "United Kingdom",
                  "url": "https://www.goodreads.com//book/show/7171637-clockwork-angel",
                  "_deepnote_index_column": 3
                },
                {
                  "Unnamed: 0": 4,
                  "title": "Marked",
                  "author": "P.C. Cast",
                  "num_rating": 448105,
                  "num_reviews": 14504,
                  "avg_rating": 3.8,
                  "num_pages": 306,
                  "original_publish_year": 2007,
                  "series": true,
                  "genres": "['Young Adult', 'Fantasy', 'Paranormal Vampires', 'Fantasy Paranormal', 'Romance', 'Fiction', 'Fantasy Supernatural', 'Fantasy Urban Fantasy', 'Romance Paranormal Romance', 'Young Adult Teen']",
                  "award": 1,
                  "place": "United States",
                  "url": "https://www.goodreads.com//book/show/30183.Marked",
                  "_deepnote_index_column": 4
                },
                {
                  "Unnamed: 0": 5,
                  "title": "Graceling",
                  "author": "Kristin Cashore",
                  "num_rating": 405433,
                  "num_reviews": 23013,
                  "avg_rating": 4.07,
                  "num_pages": 471,
                  "original_publish_year": 2008,
                  "series": true,
                  "genres": "['Fantasy', 'Young Adult', 'Romance', 'Fiction', 'Adventure', 'Young Adult Young Adult Fantasy', 'Fantasy Magic', 'Fantasy High Fantasy', 'Young Adult Teen', 'Fantasy Paranormal']",
                  "award": 18,
                  "place": "nan",
                  "url": "https://www.goodreads.com//book/show/3236307-graceling",
                  "_deepnote_index_column": 5
                },
                {
                  "Unnamed: 0": 6,
                  "title": "Shiver",
                  "author": "Maggie Stiefvater",
                  "num_rating": 448203,
                  "num_reviews": 23237,
                  "avg_rating": 3.76,
                  "num_pages": 392,
                  "original_publish_year": 2009,
                  "series": true,
                  "genres": "['Young Adult', 'Fantasy', 'Romance', 'Fantasy Paranormal', 'Shapeshifters Werewolves', 'Fiction', 'Romance Paranormal Romance', 'Fantasy Supernatural', 'Fantasy Urban Fantasy', 'Young Adult Teen']",
                  "award": 12,
                  "place": "United States",
                  "url": "https://www.goodreads.com//book/show/6068551-shiver",
                  "_deepnote_index_column": 6
                },
                {
                  "Unnamed: 0": 7,
                  "title": "Frostbite",
                  "author": "Richelle Mead",
                  "num_rating": 324067,
                  "num_reviews": 11587,
                  "avg_rating": 4.26,
                  "num_pages": 327,
                  "original_publish_year": 2008,
                  "series": true,
                  "genres": "['Young Adult', 'Paranormal Vampires', 'Fantasy', 'Fantasy Paranormal', 'Romance', 'Fantasy Urban Fantasy', 'Romance Paranormal Romance', 'Fantasy Supernatural', 'Fiction', 'Fantasy Magic']",
                  "award": 0,
                  "place": "United States",
                  "url": "https://www.goodreads.com//book/show/2282133.Frostbite",
                  "_deepnote_index_column": 7
                },
                {
                  "Unnamed: 0": 8,
                  "title": "I'd Tell You I Love You, But Then I'd Have to Kill You",
                  "author": "Ally Carter",
                  "num_rating": 180538,
                  "num_reviews": 7608,
                  "avg_rating": 3.82,
                  "num_pages": 284,
                  "original_publish_year": 2006,
                  "series": true,
                  "genres": "['Young Adult', 'Romance', 'Mystery', 'Contemporary', 'Fiction', 'Spy Thriller Espionage', 'Womens Fiction Chick Lit', 'Adventure', 'Young Adult Teen', 'Realistic Fiction']",
                  "award": 2,
                  "place": "United States",
                  "url": "https://www.goodreads.com//book/show/852470.I_d_Tell_You_I_Love_You_But_Then_I_d_Have_to_Kill_You",
                  "_deepnote_index_column": 8
                },
                {
                  "Unnamed: 0": 9,
                  "title": "Matched",
                  "author": "Ally Condie",
                  "num_rating": 681163,
                  "num_reviews": 33513,
                  "avg_rating": 3.65,
                  "num_pages": 369,
                  "original_publish_year": 2010,
                  "series": true,
                  "genres": "['Young Adult', 'Science Fiction Dystopia', 'Romance', 'Science Fiction', 'Fiction', 'Fantasy', 'Young Adult Teen', 'Audiobook', 'Futuristic', 'Apocalyptic Post Apocalyptic']",
                  "award": 11,
                  "place": "nan",
                  "url": "https://www.goodreads.com//book/show/7735333-matched",
                  "_deepnote_index_column": 9
                },
                {
                  "Unnamed: 0": 10,
                  "title": "The Last Olympian",
                  "author": "Rick Riordan",
                  "num_rating": 717920,
                  "num_reviews": 25250,
                  "avg_rating": 4.5,
                  "num_pages": 381,
                  "original_publish_year": 2009,
                  "series": true,
                  "genres": "['Fantasy', 'Young Adult', 'Fantasy Mythology', 'Fiction', 'Childrens Middle Grade', 'Adventure', 'Childrens', 'Mythology Greek Mythology', 'Fantasy Urban Fantasy', 'Fantasy Magic']",
                  "award": 4,
                  "place": "United States",
                  "url": "https://www.goodreads.com//book/show/4556058-the-last-olympian",
                  "_deepnote_index_column": 10
                },
                {
                  "Unnamed: 0": 11,
                  "title": "The Angel Experiment",
                  "author": "James Patterson",
                  "num_rating": 211710,
                  "num_reviews": 9431,
                  "avg_rating": 4.07,
                  "num_pages": 445,
                  "original_publish_year": 2006,
                  "series": true,
                  "genres": "['Young Adult', 'Fantasy', 'Science Fiction', 'Fiction', 'Adventure', 'Fantasy Paranormal', 'Young Adult Teen', 'Action', 'Mystery', 'Fantasy Urban Fantasy']",
                  "award": 2,
                  "place": "United States",
                  "url": "https://www.goodreads.com//book/show/13152.The_Angel_Experiment",
                  "_deepnote_index_column": 11
                },
                {
                  "Unnamed: 0": 12,
                  "title": "Cinder",
                  "author": "Marissa Meyer",
                  "num_rating": 730362,
                  "num_reviews": 56884,
                  "avg_rating": 4.13,
                  "num_pages": 400,
                  "original_publish_year": 2012,
                  "series": true,
                  "genres": "['Young Adult', 'Fantasy', 'Science Fiction', 'Romance', 'Science Fiction Dystopia', 'Retellings', 'Fiction', 'Fantasy Fairy Tales', 'Audiobook', 'Young Adult Young Adult Fantasy']",
                  "award": 12,
                  "place": "nan",
                  "url": "https://www.goodreads.com//book/show/36381037-cinder",
                  "_deepnote_index_column": 12
                },
                {
                  "Unnamed: 0": 13,
                  "title": "The Titan's Curse",
                  "author": "Rick Riordan",
                  "num_rating": 739560,
                  "num_reviews": 22826,
                  "avg_rating": 4.34,
                  "num_pages": 320,
                  "original_publish_year": 2007,
                  "series": true,
                  "genres": "['Fantasy', 'Young Adult', 'Fantasy Mythology', 'Fiction', 'Childrens Middle Grade', 'Adventure', 'Childrens', 'Mythology Greek Mythology', 'Fantasy Urban Fantasy', 'Fantasy Magic']",
                  "award": 1,
                  "place": "nan",
                  "url": "https://www.goodreads.com//book/show/561456.The_Titan_s_Curse",
                  "_deepnote_index_column": 13
                },
                {
                  "Unnamed: 0": 14,
                  "title": "Shadow Kiss",
                  "author": "Richelle Mead",
                  "num_rating": 338805,
                  "num_reviews": 11508,
                  "avg_rating": 4.33,
                  "num_pages": 443,
                  "original_publish_year": 2008,
                  "series": true,
                  "genres": "['Young Adult', 'Paranormal Vampires', 'Fantasy', 'Fantasy Paranormal', 'Romance', 'Fantasy Urban Fantasy', 'Romance Paranormal Romance', 'Fantasy Supernatural', 'Fiction', 'Fantasy Magic']",
                  "award": 1,
                  "place": "United States",
                  "url": "https://www.goodreads.com//book/show/2802316-shadow-kiss",
                  "_deepnote_index_column": 14
                },
                {
                  "Unnamed: 0": 15,
                  "title": "The Battle of the Labyrinth",
                  "author": "Rick Riordan",
                  "num_rating": 791286,
                  "num_reviews": 20899,
                  "avg_rating": 4.39,
                  "num_pages": 361,
                  "original_publish_year": 2008,
                  "series": true,
                  "genres": "['Fantasy', 'Young Adult', 'Fantasy Mythology', 'Fiction', 'Childrens Middle Grade', 'Adventure', 'Childrens', 'Mythology Greek Mythology', 'Fantasy Urban Fantasy', 'Fantasy Magic']",
                  "award": 0,
                  "place": "nan",
                  "url": "https://www.goodreads.com//book/show/2120932.The_Battle_of_the_Labyrinth",
                  "_deepnote_index_column": 15
                },
                {
                  "Unnamed: 0": 16,
                  "title": "Blood Promise",
                  "author": "Richelle Mead",
                  "num_rating": 289284,
                  "num_reviews": 9958,
                  "avg_rating": 4.3,
                  "num_pages": 503,
                  "original_publish_year": 2009,
                  "series": true,
                  "genres": "['Young Adult', 'Paranormal Vampires', 'Fantasy', 'Fantasy Paranormal', 'Romance', 'Fantasy Urban Fantasy', 'Romance Paranormal Romance', 'Fantasy Supernatural', 'Fiction', 'Fantasy Magic']",
                  "award": 2,
                  "place": "United States",
                  "url": "https://www.goodreads.com//book/show/5996153-blood-promise",
                  "_deepnote_index_column": 16
                },
                {
                  "Unnamed: 0": 17,
                  "title": "The Lost Hero",
                  "author": "Rick Riordan",
                  "num_rating": 665841,
                  "num_reviews": 23142,
                  "avg_rating": 4.32,
                  "num_pages": 553,
                  "original_publish_year": 2010,
                  "series": true,
                  "genres": "['Fantasy', 'Young Adult', 'Fantasy Mythology', 'Fiction', 'Childrens Middle Grade', 'Adventure', 'Childrens', 'Mythology Greek Mythology', 'Fantasy Urban Fantasy', 'Young Adult Young Adult Fantasy']",
                  "award": 3,
                  "place": "United States",
                  "url": "https://www.goodreads.com//book/show/7736182-the-lost-hero",
                  "_deepnote_index_column": 17
                },
                {
                  "Unnamed: 0": 18,
                  "title": "The Selection",
                  "author": "Kiera Cass",
                  "num_rating": 991843,
                  "num_reviews": 53206,
                  "avg_rating": 4.12,
                  "num_pages": 336,
                  "original_publish_year": 2012,
                  "series": true,
                  "genres": "['Young Adult', 'Romance', 'Science Fiction Dystopia', 'Fantasy', 'Fiction', 'Science Fiction', 'Audiobook', 'Young Adult Teen', 'Womens Fiction Chick Lit', 'Young Adult Young Adult Fantasy']",
                  "award": 2,
                  "place": "nan",
                  "url": "https://www.goodreads.com//book/show/10507293-the-selection",
                  "_deepnote_index_column": 18
                },
                {
                  "Unnamed: 0": 19,
                  "title": "Pretties",
                  "author": "Scott Westerfeld",
                  "num_rating": 239844,
                  "num_reviews": 10408,
                  "avg_rating": 3.84,
                  "num_pages": 370,
                  "original_publish_year": 2005,
                  "series": true,
                  "genres": "['Young Adult', 'Science Fiction Dystopia', 'Science Fiction', 'Fiction', 'Fantasy', 'Romance', 'Young Adult Teen', 'Adventure', 'Apocalyptic Post Apocalyptic', 'Science Fiction Fantasy']",
                  "award": 0,
                  "place": "nan",
                  "url": "https://www.goodreads.com//book/show/24768.Pretties",
                  "_deepnote_index_column": 19
                },
                {
                  "Unnamed: 0": 20,
                  "title": "Eldest",
                  "author": "Christopher Paolini",
                  "num_rating": 376274,
                  "num_reviews": 9883,
                  "avg_rating": 3.99,
                  "num_pages": 704,
                  "original_publish_year": 2007,
                  "series": true,
                  "genres": "['Fantasy', 'Young Adult', 'Fiction', 'Fantasy Dragons', 'Adventure', 'Fantasy Magic', 'Fantasy High Fantasy', 'Fantasy Epic Fantasy', 'Science Fiction Fantasy', 'Young Adult Young Adult Fantasy']",
                  "award": 4,
                  "place": "nan",
                  "url": "https://www.goodreads.com//book/show/45978.Eldest",
                  "_deepnote_index_column": 20
                },
                {
                  "Unnamed: 0": 21,
                  "title": "Legend",
                  "author": "Marie Lu",
                  "num_rating": 435349,
                  "num_reviews": 29895,
                  "avg_rating": 4.16,
                  "num_pages": 305,
                  "original_publish_year": 2011,
                  "series": true,
                  "genres": "['Young Adult', 'Science Fiction Dystopia', 'Science Fiction', 'Romance', 'Fantasy', 'Fiction', 'Adventure', 'Young Adult Teen', 'Audiobook', 'Action']",
                  "award": 10,
                  "place": "nan",
                  "url": "https://www.goodreads.com//book/show/9275658-legend",
                  "_deepnote_index_column": 21
                },
                {
                  "Unnamed: 0": 22,
                  "title": "Evermore",
                  "author": "Alyson Noel",
                  "num_rating": 273259,
                  "num_reviews": 9854,
                  "avg_rating": 3.59,
                  "num_pages": 301,
                  "original_publish_year": 2009,
                  "series": true,
                  "genres": "['Young Adult', 'Fantasy', 'Fantasy Paranormal', 'Romance', 'Romance Paranormal Romance', 'Fantasy Supernatural', 'Fiction', 'Fantasy Urban Fantasy', 'Paranormal Vampires', 'Fantasy Magic']",
                  "award": 2,
                  "place": "United States",
                  "url": "https://www.goodreads.com//book/show/3975774-evermore",
                  "_deepnote_index_column": 22
                },
                {
                  "Unnamed: 0": 23,
                  "title": "The Summoning",
                  "author": "Kelley Armstrong",
                  "num_rating": 163305,
                  "num_reviews": 6316,
                  "avg_rating": 4,
                  "num_pages": 390,
                  "original_publish_year": 2008,
                  "series": true,
                  "genres": "['Young Adult', 'Fantasy', 'Fantasy Paranormal', 'Fantasy Urban Fantasy', 'Fantasy Supernatural', 'Fantasy Magic', 'Romance', 'Paranormal Ghosts', 'Shapeshifters Werewolves', 'Fiction']",
                  "award": 1,
                  "place": "United States",
                  "url": "https://www.goodreads.com//book/show/2800905-the-summoning",
                  "_deepnote_index_column": 23
                },
                {
                  "Unnamed: 0": 24,
                  "title": "Gone",
                  "author": "Michael  Grant",
                  "num_rating": 185303,
                  "num_reviews": 10987,
                  "avg_rating": 3.86,
                  "num_pages": 560,
                  "original_publish_year": 2008,
                  "series": true,
                  "genres": "['Young Adult', 'Science Fiction Dystopia', 'Science Fiction', 'Fantasy', 'Fiction', 'Fantasy Paranormal', 'Romance', 'Adventure', 'Fantasy Supernatural', 'Young Adult Teen']",
                  "award": 1,
                  "place": "United States",
                  "url": "https://www.goodreads.com//book/show/2536134.Gone",
                  "_deepnote_index_column": 24
                },
                {
                  "Unnamed: 0": 25,
                  "title": "Spirit Bound",
                  "author": "Richelle Mead",
                  "num_rating": 270310,
                  "num_reviews": 9050,
                  "avg_rating": 4.33,
                  "num_pages": 489,
                  "original_publish_year": 2010,
                  "series": true,
                  "genres": "['Young Adult', 'Paranormal Vampires', 'Fantasy', 'Fantasy Paranormal', 'Romance', 'Fantasy Urban Fantasy', 'Romance Paranormal Romance', 'Fantasy Supernatural', 'Fiction', 'Fantasy Magic']",
                  "award": 3,
                  "place": "United States",
                  "url": "https://www.goodreads.com//book/show/6479259-spirit-bound",
                  "_deepnote_index_column": 25
                },
                {
                  "Unnamed: 0": 26,
                  "title": "A Great and Terrible Beauty",
                  "author": "Libba Bray",
                  "num_rating": 218264,
                  "num_reviews": 9972,
                  "avg_rating": 3.78,
                  "num_pages": 403,
                  "original_publish_year": 2003,
                  "series": true,
                  "genres": "['Fantasy', 'Young Adult', 'Historical Historical Fiction', 'Fiction', 'Historical', 'Fantasy Paranormal', 'Romance', 'Fantasy Magic', 'Young Adult Teen', 'Young Adult Young Adult Fantasy']",
                  "award": 2,
                  "place": "United Kingdom",
                  "url": "https://www.goodreads.com//book/show/3682.A_Great_and_Terrible_Beauty",
                  "_deepnote_index_column": 26
                },
                {
                  "Unnamed: 0": 27,
                  "title": "The Iron King",
                  "author": "Julie Kagawa",
                  "num_rating": 202575,
                  "num_reviews": 12119,
                  "avg_rating": 3.89,
                  "num_pages": 363,
                  "original_publish_year": 2010,
                  "series": true,
                  "genres": "['Fantasy', 'Young Adult', 'Romance', 'Fantasy Paranormal', 'Fairies Fae', 'Paranormal Fairies', 'Fantasy Magic', 'Fantasy Urban Fantasy', 'Fiction', 'Young Adult Young Adult Fantasy']",
                  "award": 2,
                  "place": "United States",
                  "url": "https://www.goodreads.com//book/show/6644117-the-iron-king",
                  "_deepnote_index_column": 27
                },
                {
                  "Unnamed: 0": 28,
                  "title": "Last Sacrifice",
                  "author": "Richelle Mead",
                  "num_rating": 264884,
                  "num_reviews": 11399,
                  "avg_rating": 4.37,
                  "num_pages": 594,
                  "original_publish_year": 2010,
                  "series": true,
                  "genres": "['Young Adult', 'Paranormal Vampires', 'Fantasy', 'Fantasy Paranormal', 'Romance', 'Fantasy Urban Fantasy', 'Romance Paranormal Romance', 'Fantasy Supernatural', 'Fiction', 'Fantasy Magic']",
                  "award": 1,
                  "place": "United States",
                  "url": "https://www.goodreads.com//book/show/6527740-last-sacrifice",
                  "_deepnote_index_column": 28
                },
                {
                  "Unnamed: 0": 29,
                  "title": "The Night Circus",
                  "author": "Erin Morgenstern",
                  "num_rating": 733222,
                  "num_reviews": 77446,
                  "avg_rating": 4.03,
                  "num_pages": 391,
                  "original_publish_year": 2011,
                  "series": false,
                  "genres": "['Fantasy', 'Fiction', 'Romance', 'Historical Historical Fiction', 'Fantasy Magic', 'Young Adult', 'Magical Realism', 'Adult', 'Audiobook', 'Historical']",
                  "award": 11,
                  "place": "United Kingdom",
                  "url": "https://www.goodreads.com//book/show/9361589-the-night-circus",
                  "_deepnote_index_column": 29
                },
                {
                  "Unnamed: 0": 30,
                  "title": "Betrayed",
                  "author": "P.C. Cast",
                  "num_rating": 248937,
                  "num_reviews": 5571,
                  "avg_rating": 3.92,
                  "num_pages": 310,
                  "original_publish_year": 2007,
                  "series": true,
                  "genres": "['Young Adult', 'Paranormal Vampires', 'Fantasy', 'Fantasy Paranormal', 'Romance', 'Fiction', 'Fantasy Supernatural', 'Fantasy Urban Fantasy', 'Romance Paranormal Romance', 'Fantasy Magic']",
                  "award": 0,
                  "place": "United States",
                  "url": "https://www.goodreads.com//book/show/676924.Betrayed",
                  "_deepnote_index_column": 30
                },
                {
                  "Unnamed: 0": 31,
                  "title": "Wicked Lovely",
                  "author": "Melissa Marr",
                  "num_rating": 162302,
                  "num_reviews": 7137,
                  "avg_rating": 3.69,
                  "num_pages": 328,
                  "original_publish_year": 2007,
                  "series": true,
                  "genres": "['Fantasy', 'Young Adult', 'Romance', 'Fantasy Paranormal', 'Fantasy Urban Fantasy', 'Paranormal Fairies', 'Fairies Fae', 'Fiction', 'Romance Paranormal Romance', 'Fantasy Magic']",
                  "award": 3,
                  "place": "United States",
                  "url": "https://www.goodreads.com//book/show/305234.Wicked_Lovely",
                  "_deepnote_index_column": 31
                },
                {
                  "Unnamed: 0": 32,
                  "title": "Chosen",
                  "author": "P.C. Cast",
                  "num_rating": 227800,
                  "num_reviews": 4437,
                  "avg_rating": 3.91,
                  "num_pages": 307,
                  "original_publish_year": 2008,
                  "series": true,
                  "genres": "['Young Adult', 'Paranormal Vampires', 'Fantasy', 'Fantasy Paranormal', 'Romance', 'Fiction', 'Fantasy Supernatural', 'Romance Paranormal Romance', 'Fantasy Urban Fantasy', 'Fantasy Magic']",
                  "award": 0,
                  "place": "United States",
                  "url": "https://www.goodreads.com//book/show/1326258.Chosen",
                  "_deepnote_index_column": 32
                },
                {
                  "Unnamed: 0": 33,
                  "title": "The Graveyard Book",
                  "author": "Neil Gaiman",
                  "num_rating": 460950,
                  "num_reviews": 32765,
                  "avg_rating": 4.13,
                  "num_pages": 307,
                  "original_publish_year": 2008,
                  "series": false,
                  "genres": "['Fantasy', 'Young Adult', 'Fiction', 'Horror', 'Childrens Middle Grade', 'Childrens', 'Fantasy Paranormal', 'Audiobook', 'Paranormal Ghosts', 'Fantasy Supernatural']",
                  "award": 18,
                  "place": "United Kingdom",
                  "url": "https://www.goodreads.com//book/show/2213661.The_Graveyard_Book",
                  "_deepnote_index_column": 33
                },
                {
                  "Unnamed: 0": 34,
                  "title": "City of Fallen Angels",
                  "author": "Cassandra Clare",
                  "num_rating": 511335,
                  "num_reviews": 23768,
                  "avg_rating": 4.11,
                  "num_pages": 425,
                  "original_publish_year": 2011,
                  "series": true,
                  "genres": "['Fantasy', 'Young Adult', 'Fantasy Paranormal', 'Romance', 'Fantasy Urban Fantasy', 'Paranormal Vampires', 'Fiction', 'Paranormal Angels', 'Fantasy Supernatural', 'Fantasy Magic']",
                  "award": 1,
                  "place": "United States",
                  "url": "https://www.goodreads.com//book/show/6752378-city-of-fallen-angels",
                  "_deepnote_index_column": 34
                },
                {
                  "Unnamed: 0": 35,
                  "title": "Untamed",
                  "author": "P.C. Cast",
                  "num_rating": 221854,
                  "num_reviews": 3669,
                  "avg_rating": 3.94,
                  "num_pages": 338,
                  "original_publish_year": 2008,
                  "series": true,
                  "genres": "['Young Adult', 'Paranormal Vampires', 'Fantasy', 'Fantasy Paranormal', 'Romance', 'Fiction', 'Fantasy Supernatural', 'Fantasy Urban Fantasy', 'Romance Paranormal Romance', 'Fantasy Magic']",
                  "award": 0,
                  "place": "United States",
                  "url": "https://www.goodreads.com//book/show/2866718-untamed",
                  "_deepnote_index_column": 35
                },
                {
                  "Unnamed: 0": 36,
                  "title": "Shatter Me",
                  "author": "Tahereh Mafi",
                  "num_rating": 317468,
                  "num_reviews": 30702,
                  "avg_rating": 3.93,
                  "num_pages": 338,
                  "original_publish_year": 2011,
                  "series": true,
                  "genres": "['Young Adult', 'Science Fiction Dystopia', 'Fantasy', 'Romance', 'Science Fiction', 'Fantasy Paranormal', 'Fiction', 'Young Adult Young Adult Fantasy', 'Fantasy Supernatural', 'Audiobook']",
                  "award": 1,
                  "place": "nan",
                  "url": "https://www.goodreads.com//book/show/10429045-shatter-me",
                  "_deepnote_index_column": 36
                },
                {
                  "Unnamed: 0": 37,
                  "title": "The Alchemyst",
                  "author": "Michael Scott",
                  "num_rating": 148697,
                  "num_reviews": 8510,
                  "avg_rating": 3.84,
                  "num_pages": 369,
                  "original_publish_year": 2008,
                  "series": true,
                  "genres": "['Fantasy', 'Young Adult', 'Fiction', 'Fantasy Magic', 'Adventure', 'Fantasy Mythology', 'Childrens Middle Grade', 'Fantasy Urban Fantasy', 'Childrens', 'Young Adult Young Adult Fantasy']",
                  "award": 3,
                  "place": "United States",
                  "url": "https://www.goodreads.com//book/show/3168250-the-alchemyst",
                  "_deepnote_index_column": 37
                }
              ],
              "rows_bottom": [
                {
                  "Unnamed: 0": 462,
                  "title": "A Mango-Shaped Space",
                  "author": "Wendy Mass",
                  "num_rating": 29484,
                  "num_reviews": 2895,
                  "avg_rating": 4.22,
                  "num_pages": 221,
                  "original_publish_year": 2005,
                  "series": false,
                  "genres": "['Young Adult', 'Realistic Fiction', 'Fiction', 'Childrens Middle Grade', 'Contemporary', 'Childrens', 'Young Adult Coming Of Age', 'Young Adult Teen', 'Animals', 'Academic School']",
                  "award": 1,
                  "place": "United States",
                  "url": "https://www.goodreads.com//book/show/171020.A_Mango_Shaped_Space",
                  "_deepnote_index_column": 462
                },
                {
                  "Unnamed: 0": 463,
                  "title": "Covet",
                  "author": "J.R. Ward",
                  "num_rating": 48361,
                  "num_reviews": 2786,
                  "avg_rating": 3.9,
                  "num_pages": 474,
                  "original_publish_year": 2009,
                  "series": true,
                  "genres": "['Fantasy Paranormal', 'Romance Paranormal Romance', 'Romance', 'Paranormal Angels', 'Fantasy', 'Fantasy Urban Fantasy', 'Paranormal Demons', 'Adult', 'Fiction', 'Fantasy Supernatural']",
                  "award": 1,
                  "place": "United States",
                  "url": "https://www.goodreads.com//book/show/6289920-covet",
                  "_deepnote_index_column": 463
                },
                {
                  "Unnamed: 0": 464,
                  "title": "The Way of Kings",
                  "author": "Brandon Sanderson",
                  "num_rating": 334556,
                  "num_reviews": 22174,
                  "avg_rating": 4.61,
                  "num_pages": 1007,
                  "original_publish_year": 2010,
                  "series": true,
                  "genres": "['Fantasy', 'Fiction', 'Fantasy Epic Fantasy', 'Fantasy High Fantasy', 'Audiobook', 'Adult', 'Science Fiction Fantasy', 'Epic', 'Fantasy Magic', 'Adventure']",
                  "award": 4,
                  "place": "nan",
                  "url": "https://www.goodreads.com//book/show/7235533-the-way-of-kings",
                  "_deepnote_index_column": 464
                },
                {
                  "Unnamed: 0": 465,
                  "title": "Ana Rocha: Shadows of Justice",
                  "author": "Ammar Habib",
                  "num_rating": 5309,
                  "num_reviews": 642,
                  "avg_rating": 4.23,
                  "num_pages": 218,
                  "original_publish_year": 2018,
                  "series": false,
                  "genres": "['Thriller', 'Mystery Crime', 'Action', 'Emergency Services Police', 'Fiction', 'Mystery']",
                  "award": 0,
                  "place": "United States",
                  "url": "https://www.goodreads.com//book/show/38726615-ana-rocha",
                  "_deepnote_index_column": 465
                },
                {
                  "Unnamed: 0": 466,
                  "title": "Mistress Suffragette",
                  "author": "Diana   Forbes",
                  "num_rating": 10145,
                  "num_reviews": 98,
                  "avg_rating": 4.32,
                  "num_pages": 333,
                  "original_publish_year": 2017,
                  "series": false,
                  "genres": "['Fiction', 'Novels', 'Historical Historical Fiction', 'Drama', 'Contemporary', 'New Adult', 'Historical', 'Adult', 'Romance', 'Young Adult']",
                  "award": 0,
                  "place": "nan",
                  "url": "https://www.goodreads.com//book/show/34521870-mistress-suffragette",
                  "_deepnote_index_column": 466
                },
                {
                  "Unnamed: 0": 467,
                  "title": "Demonglass",
                  "author": "Rachel Hawkins",
                  "num_rating": 91797,
                  "num_reviews": 4840,
                  "avg_rating": 4.08,
                  "num_pages": 359,
                  "original_publish_year": 2011,
                  "series": true,
                  "genres": "['Young Adult', 'Fantasy', 'Fantasy Paranormal', 'Romance', 'Fantasy Magic', 'Paranormal Vampires', 'Paranormal Witches', 'Fantasy Supernatural', 'Paranormal Demons', 'Fantasy Urban Fantasy']",
                  "award": 1,
                  "place": "United States",
                  "url": "https://www.goodreads.com//book/show/8428064-demonglass",
                  "_deepnote_index_column": 467
                },
                {
                  "Unnamed: 0": 468,
                  "title": "Adhaata Asao's Liege",
                  "author": "Afroz  Alam",
                  "num_rating": 128,
                  "num_reviews": 87,
                  "avg_rating": 4.66,
                  "num_pages": 174,
                  "original_publish_year": 2020,
                  "series": false,
                  "genres": "['Fantasy']",
                  "award": 0,
                  "place": "nan",
                  "url": "https://www.goodreads.com//book/show/51476294-adhaata-asao-s-liege",
                  "_deepnote_index_column": 468
                },
                {
                  "Unnamed: 0": 469,
                  "title": "Remember Me?",
                  "author": "Sophie Kinsella",
                  "num_rating": 226585,
                  "num_reviews": 8021,
                  "avg_rating": 3.79,
                  "num_pages": 352,
                  "original_publish_year": 2008,
                  "series": false,
                  "genres": "['Womens Fiction Chick Lit', 'Romance', 'Fiction', 'Contemporary', 'Adult', 'Humor', 'Romance Contemporary Romance', 'Adult Fiction', 'Audiobook', 'European Literature British Literature']",
                  "award": 0,
                  "place": "United Kingdom",
                  "url": "https://www.goodreads.com//book/show/1358844.Remember_Me_",
                  "_deepnote_index_column": 469
                },
                {
                  "Unnamed: 0": 470,
                  "title": "Twelfth Grade Kills",
                  "author": "Heather Brewer",
                  "num_rating": 15830,
                  "num_reviews": 741,
                  "avg_rating": 4.33,
                  "num_pages": 325,
                  "original_publish_year": 2010,
                  "series": true,
                  "genres": "['Paranormal Vampires', 'Young Adult', 'Fantasy', 'Fantasy Paranormal', 'Fiction', 'Fantasy Supernatural', 'Horror', 'Fantasy Urban Fantasy', 'Young Adult Teen', 'Romance']",
                  "award": 1,
                  "place": "nan",
                  "url": "https://www.goodreads.com//book/show/7818881-twelfth-grade-kills",
                  "_deepnote_index_column": 470
                },
                {
                  "Unnamed: 0": 471,
                  "title": "Fire Study",
                  "author": "Maria V. Snyder",
                  "num_rating": 60210,
                  "num_reviews": 3925,
                  "avg_rating": 3.91,
                  "num_pages": 441,
                  "original_publish_year": 2008,
                  "series": true,
                  "genres": "['Fantasy', 'Young Adult', 'Fantasy Magic', 'Romance', 'Fiction', 'Adventure', 'Fantasy High Fantasy', 'Fantasy Paranormal', 'Young Adult Young Adult Fantasy', 'Adult']",
                  "award": 0,
                  "place": "nan",
                  "url": "https://www.goodreads.com//book/show/1966969.Fire_Study",
                  "_deepnote_index_column": 471
                },
                {
                  "Unnamed: 0": 472,
                  "title": "Faefever",
                  "author": "Karen Marie Moning",
                  "num_rating": 94615,
                  "num_reviews": 4769,
                  "avg_rating": 4.3,
                  "num_pages": 327,
                  "original_publish_year": 2008,
                  "series": true,
                  "genres": "['Fantasy Urban Fantasy', 'Fantasy Paranormal', 'Fantasy', 'Fairies Fae', 'Romance Paranormal Romance', 'Romance', 'Adult', 'Fantasy Magic', 'Paranormal Fairies', 'Fantasy Supernatural']",
                  "award": 0,
                  "place": "Ireland",
                  "url": "https://www.goodreads.com//book/show/2702704-faefever",
                  "_deepnote_index_column": 472
                },
                {
                  "Unnamed: 0": 473,
                  "title": "The Undomestic Goddess",
                  "author": "Sophie Kinsella",
                  "num_rating": 265844,
                  "num_reviews": 8487,
                  "avg_rating": 3.84,
                  "num_pages": 404,
                  "original_publish_year": 2006,
                  "series": false,
                  "genres": "['Womens Fiction Chick Lit', 'Romance', 'Fiction', 'Contemporary', 'Humor', 'Adult', 'Romance Contemporary Romance', 'Adult Fiction', 'Audiobook', 'Humor Comedy']",
                  "award": 0,
                  "place": "nan",
                  "url": "https://www.goodreads.com//book/show/33722.The_Undomestic_Goddess",
                  "_deepnote_index_column": 473
                },
                {
                  "Unnamed: 0": 474,
                  "title": "My Soul to Take",
                  "author": "Rachel Vincent",
                  "num_rating": 42187,
                  "num_reviews": 2683,
                  "avg_rating": 3.87,
                  "num_pages": 279,
                  "original_publish_year": 2009,
                  "series": true,
                  "genres": "['Young Adult', 'Fantasy Paranormal', 'Fantasy', 'Romance', 'Fantasy Urban Fantasy', 'Romance Paranormal Romance', 'Fantasy Supernatural', 'Mystery', 'Fiction', 'Paranormal Ghosts']",
                  "award": 0,
                  "place": "United States",
                  "url": "https://www.goodreads.com//book/show/6315602-my-soul-to-take",
                  "_deepnote_index_column": 474
                },
                {
                  "Unnamed: 0": 475,
                  "title": "The Darkest Night",
                  "author": "Gena Showalter",
                  "num_rating": 79217,
                  "num_reviews": 3504,
                  "avg_rating": 4.06,
                  "num_pages": 379,
                  "original_publish_year": 2008,
                  "series": true,
                  "genres": "['Fantasy Paranormal', 'Romance Paranormal Romance', 'Romance', 'Fantasy', 'Paranormal Demons', 'Adult', 'Fantasy Urban Fantasy', 'Fantasy Mythology', 'Fantasy Supernatural', 'Fiction']",
                  "award": 1,
                  "place": "Hungary",
                  "url": "https://www.goodreads.com//book/show/476543.The_Darkest_Night",
                  "_deepnote_index_column": 475
                },
                {
                  "Unnamed: 0": 476,
                  "title": "The Changeling",
                  "author": "Christopher  Shields",
                  "num_rating": 337,
                  "num_reviews": 28,
                  "avg_rating": 4.13,
                  "num_pages": 300,
                  "original_publish_year": 2012,
                  "series": true,
                  "genres": "['Fantasy', 'Fairies Fae', 'Fantasy Urban Fantasy', 'Young Adult', 'Fantasy Paranormal', 'Paranormal Fairies', 'Fantasy Magic', 'Action', 'Romance', 'Suspense']",
                  "award": 0,
                  "place": "nan",
                  "url": "https://www.goodreads.com//book/show/16162553-the-changeling",
                  "_deepnote_index_column": 476
                },
                {
                  "Unnamed: 0": 477,
                  "title": "The Light of Cabo Rojo",
                  "author": "Austin Star",
                  "num_rating": 135,
                  "num_reviews": 37,
                  "avg_rating": 4.63,
                  "num_pages": 134,
                  "original_publish_year": 2019,
                  "series": false,
                  "genres": "['Horror']",
                  "award": 0,
                  "place": "nan",
                  "url": "https://www.goodreads.com//book/show/43487599-the-light-of-cabo-rojo",
                  "_deepnote_index_column": 477
                },
                {
                  "Unnamed: 0": 478,
                  "title": "Lola and the Boy Next Door",
                  "author": "Stephanie Perkins",
                  "num_rating": 152551,
                  "num_reviews": 14583,
                  "avg_rating": 3.94,
                  "num_pages": 338,
                  "original_publish_year": 2011,
                  "series": true,
                  "genres": "['Young Adult', 'Romance', 'Contemporary', 'Womens Fiction Chick Lit', 'Fiction', 'Realistic Fiction', 'Young Adult Young Adult Contemporary', 'Young Adult Young Adult Romance', 'Romance Contemporary Romance', 'Young Adult Teen']",
                  "award": 2,
                  "place": "United States",
                  "url": "https://www.goodreads.com//book/show/9961796-lola-and-the-boy-next-door",
                  "_deepnote_index_column": 478
                },
                {
                  "Unnamed: 0": 479,
                  "title": "Witch & Wizard",
                  "author": "James Patterson",
                  "num_rating": 53733,
                  "num_reviews": 4742,
                  "avg_rating": 3.56,
                  "num_pages": 314,
                  "original_publish_year": 2009,
                  "series": true,
                  "genres": "['Fantasy', 'Young Adult', 'Fiction', 'Fantasy Magic', 'Science Fiction Dystopia', 'Fantasy Paranormal', 'Paranormal Witches', 'Adventure', 'Fantasy Supernatural', 'Young Adult Teen']",
                  "award": 0,
                  "place": "nan",
                  "url": "https://www.goodreads.com//book/show/6387565-witch-wizard",
                  "_deepnote_index_column": 479
                },
                {
                  "Unnamed: 0": 480,
                  "title": "Brainwalker",
                  "author": "Robyn Mundell",
                  "num_rating": 21693,
                  "num_reviews": 245,
                  "avg_rating": 4.36,
                  "num_pages": 0,
                  "original_publish_year": 2016,
                  "series": false,
                  "genres": "['Fantasy', 'Young Adult', 'Childrens', 'Childrens Middle Grade', 'Adventure', 'Science Fiction Fantasy', 'Young Adult Young Adult Fantasy', 'Fiction', 'Drama', 'New Adult']",
                  "award": 0,
                  "place": "nan",
                  "url": "https://www.goodreads.com//book/show/30346601-brainwalker",
                  "_deepnote_index_column": 480
                },
                {
                  "Unnamed: 0": 481,
                  "title": "The Rise of Nine",
                  "author": "Pittacus Lore",
                  "num_rating": 98953,
                  "num_reviews": 4726,
                  "avg_rating": 4.18,
                  "num_pages": 372,
                  "original_publish_year": 2012,
                  "series": true,
                  "genres": "['Young Adult', 'Fantasy', 'Science Fiction', 'Science Fiction Aliens', 'Fiction', 'Adventure', 'Fantasy Paranormal', 'Romance', 'Action', 'Young Adult Teen']",
                  "award": 1,
                  "place": "nan",
                  "url": "https://www.goodreads.com//book/show/12971616-the-rise-of-nine",
                  "_deepnote_index_column": 481
                },
                {
                  "Unnamed: 0": 482,
                  "title": "Point of Retreat",
                  "author": "Colleen Hoover",
                  "num_rating": 144051,
                  "num_reviews": 8936,
                  "avg_rating": 4.27,
                  "num_pages": 230,
                  "original_publish_year": 2012,
                  "series": true,
                  "genres": "['Romance', 'New Adult', 'Young Adult', 'Contemporary', 'Romance Contemporary Romance', 'Fiction', 'Womens Fiction Chick Lit', 'Academic College', 'Love', 'Drama']",
                  "award": 0,
                  "place": "United States",
                  "url": "https://www.goodreads.com//book/show/13496084-point-of-retreat",
                  "_deepnote_index_column": 482
                },
                {
                  "Unnamed: 0": 483,
                  "title": "Rendezvous with Rama",
                  "author": "Arthur C. Clarke",
                  "num_rating": 139119,
                  "num_reviews": 4224,
                  "avg_rating": 4.1,
                  "num_pages": 243,
                  "original_publish_year": 2000,
                  "series": true,
                  "genres": "['Science Fiction', 'Fiction', 'Classics', 'Science Fiction Fantasy', 'Space', 'Science Fiction Aliens', 'Hugo Awards', 'Novels', 'Audiobook', 'Fantasy']",
                  "award": 9,
                  "place": "nan",
                  "url": "https://www.goodreads.com//book/show/112537.Rendezvous_with_Rama",
                  "_deepnote_index_column": 483
                },
                {
                  "Unnamed: 0": 484,
                  "title": "Prince of Wolves",
                  "author": "Quinn Loftis",
                  "num_rating": 36993,
                  "num_reviews": 2775,
                  "avg_rating": 4.03,
                  "num_pages": 230,
                  "original_publish_year": 2011,
                  "series": true,
                  "genres": "['Fantasy Paranormal', 'Young Adult', 'Shapeshifters Werewolves', 'Fantasy', 'Romance', 'Romance Paranormal Romance', 'Paranormal Shapeshifters', 'Fantasy Supernatural', 'Animals Wolves', 'Fantasy Urban Fantasy']",
                  "award": 0,
                  "place": "United States",
                  "url": "https://www.goodreads.com//book/show/11947156-prince-of-wolves",
                  "_deepnote_index_column": 484
                },
                {
                  "Unnamed: 0": 485,
                  "title": "A Breath of Snow and Ashes",
                  "author": "Diana Gabaldon",
                  "num_rating": 147261,
                  "num_reviews": 5666,
                  "avg_rating": 4.42,
                  "num_pages": 993,
                  "original_publish_year": 2006,
                  "series": true,
                  "genres": "['Historical Historical Fiction', 'Romance', 'Fiction', 'Fantasy', 'Science Fiction Time Travel', 'Historical', 'Romance Historical Romance', 'Audiobook', 'Adult', 'Adventure']",
                  "award": 3,
                  "place": "United States",
                  "url": "https://www.goodreads.com//book/show/10965.A_Breath_of_Snow_and_Ashes",
                  "_deepnote_index_column": 485
                },
                {
                  "Unnamed: 0": 486,
                  "title": "The Wee Free Men",
                  "author": "Terry Pratchett",
                  "num_rating": 99789,
                  "num_reviews": 4454,
                  "avg_rating": 4.25,
                  "num_pages": 375,
                  "original_publish_year": 2004,
                  "series": true,
                  "genres": "['Fantasy', 'Young Adult', 'Fiction', 'Humor', 'Childrens', 'Adventure', 'Childrens Middle Grade', 'Humor Comedy', 'Science Fiction Fantasy', 'Fantasy Magic']",
                  "award": 8,
                  "place": "nan",
                  "url": "https://www.goodreads.com//book/show/34494.The_Wee_Free_Men",
                  "_deepnote_index_column": 486
                },
                {
                  "Unnamed: 0": 487,
                  "title": "Gabriel's Rapture",
                  "author": "Sylvain Reynard",
                  "num_rating": 109968,
                  "num_reviews": 3809,
                  "avg_rating": 4.22,
                  "num_pages": 386,
                  "original_publish_year": 2012,
                  "series": true,
                  "genres": "['Romance', 'Romance Contemporary Romance', 'Adult Fiction Erotica', 'Contemporary', 'Adult', 'New Adult', 'Academic College', 'Romance Erotic Romance', 'Fiction', 'Womens Fiction Chick Lit']",
                  "award": 1,
                  "place": "Italy",
                  "url": "https://www.goodreads.com//book/show/13639050-gabriel-s-rapture",
                  "_deepnote_index_column": 487
                },
                {
                  "Unnamed: 0": 488,
                  "title": "Kira-Kira",
                  "author": "Cynthia Kadohata",
                  "num_rating": 23574,
                  "num_reviews": 2774,
                  "avg_rating": 3.93,
                  "num_pages": 272,
                  "original_publish_year": 2006,
                  "series": false,
                  "genres": "['Young Adult', 'Historical Historical Fiction', 'Fiction', 'Childrens Middle Grade', 'Realistic Fiction', 'Childrens', 'Historical', 'Family', 'Cultural', 'Childrens Juvenile']",
                  "award": 3,
                  "place": "United States",
                  "url": "https://www.goodreads.com//book/show/89731.Kira_Kira",
                  "_deepnote_index_column": 488
                },
                {
                  "Unnamed: 0": 489,
                  "title": "Old Man's War",
                  "author": "John Scalzi",
                  "num_rating": 171891,
                  "num_reviews": 9870,
                  "avg_rating": 4.2,
                  "num_pages": 332,
                  "original_publish_year": 2007,
                  "series": true,
                  "genres": "['Science Fiction', 'Fiction', 'Space Space Opera', 'War Military Fiction', 'Science Fiction Fantasy', 'War', 'Space', 'Audiobook', 'Fantasy', 'Adventure']",
                  "award": 3,
                  "place": "nan",
                  "url": "https://www.goodreads.com//book/show/36510196-old-man-s-war",
                  "_deepnote_index_column": 489
                },
                {
                  "Unnamed: 0": 490,
                  "title": "At Grave's End",
                  "author": "Jeaniene Frost",
                  "num_rating": 84163,
                  "num_reviews": 2795,
                  "avg_rating": 4.29,
                  "num_pages": 342,
                  "original_publish_year": 2009,
                  "series": true,
                  "genres": "['Paranormal Vampires', 'Fantasy Paranormal', 'Fantasy Urban Fantasy', 'Romance Paranormal Romance', 'Romance', 'Fantasy', 'Adult', 'Fantasy Supernatural', 'Fiction', 'Fantasy Magic']",
                  "award": 0,
                  "place": "United States",
                  "url": "https://www.goodreads.com//book/show/3570231-at-grave-s-end",
                  "_deepnote_index_column": 490
                },
                {
                  "Unnamed: 0": 491,
                  "title": "Neuromancer",
                  "author": "William Gibson",
                  "num_rating": 272622,
                  "num_reviews": 10132,
                  "avg_rating": 3.9,
                  "num_pages": 271,
                  "original_publish_year": 1984,
                  "series": true,
                  "genres": "['Science Fiction', 'Fiction', 'Science Fiction Cyberpunk', 'Classics', 'Science Fiction Fantasy', 'Science Fiction Dystopia', 'Fantasy', 'Novels', 'Speculative Fiction', 'Audiobook']",
                  "award": 13,
                  "place": "Japan",
                  "url": "https://www.goodreads.com//book/show/22328.Neuromancer",
                  "_deepnote_index_column": 491
                },
                {
                  "Unnamed: 0": 492,
                  "title": "Elantris",
                  "author": "Brandon Sanderson",
                  "num_rating": 191104,
                  "num_reviews": 11738,
                  "avg_rating": 4.17,
                  "num_pages": 638,
                  "original_publish_year": 2006,
                  "series": true,
                  "genres": "['Fantasy', 'Fiction', 'Fantasy Epic Fantasy', 'Fantasy High Fantasy', 'Adult', 'Audiobook', 'Fantasy Magic', 'Science Fiction Fantasy', 'Romance', 'Young Adult']",
                  "award": 0,
                  "place": "nan",
                  "url": "https://www.goodreads.com//book/show/68427.Elantris",
                  "_deepnote_index_column": 492
                },
                {
                  "Unnamed: 0": 493,
                  "title": "City of Thieves",
                  "author": "David Benioff",
                  "num_rating": 125786,
                  "num_reviews": 11745,
                  "avg_rating": 4.26,
                  "num_pages": 258,
                  "original_publish_year": 2008,
                  "series": false,
                  "genres": "['Historical Historical Fiction', 'Fiction', 'War', 'Cultural Russia', 'Historical', 'War World War II', 'Audiobook', 'Adventure', 'Adult', 'Book Club']",
                  "award": 2,
                  "place": "Russian Federation",
                  "url": "https://www.goodreads.com//book/show/1971304.City_of_Thieves",
                  "_deepnote_index_column": 493
                },
                {
                  "Unnamed: 0": 494,
                  "title": "Hallowed",
                  "author": "Cynthia Hand",
                  "num_rating": 75598,
                  "num_reviews": 4268,
                  "avg_rating": 4.08,
                  "num_pages": 403,
                  "original_publish_year": 2012,
                  "series": true,
                  "genres": "['Young Adult', 'Paranormal Angels', 'Fantasy', 'Fantasy Paranormal', 'Romance', 'Romance Paranormal Romance', 'Fantasy Supernatural', 'Fantasy Urban Fantasy', 'Fiction', 'Young Adult Young Adult Fantasy']",
                  "award": 1,
                  "place": "United States",
                  "url": "https://www.goodreads.com//book/show/11563110-hallowed",
                  "_deepnote_index_column": 494
                },
                {
                  "Unnamed: 0": 495,
                  "title": "Love Unscripted",
                  "author": "Tina Reber",
                  "num_rating": 67319,
                  "num_reviews": 3476,
                  "avg_rating": 4.02,
                  "num_pages": 668,
                  "original_publish_year": 2010,
                  "series": true,
                  "genres": "['Romance', 'Contemporary', 'Romance Contemporary Romance', 'New Adult', 'Adult', 'Womens Fiction Chick Lit', 'Love', 'Adult Fiction Erotica', 'Fiction', 'Young Adult']",
                  "award": 0,
                  "place": "United States",
                  "url": "https://www.goodreads.com//book/show/8204005-love-unscripted",
                  "_deepnote_index_column": 495
                },
                {
                  "Unnamed: 0": 496,
                  "title": "Embrace",
                  "author": "Cherie Colyer",
                  "num_rating": 335,
                  "num_reviews": 116,
                  "avg_rating": 3.9,
                  "num_pages": 190,
                  "original_publish_year": 2011,
                  "series": true,
                  "genres": "['Young Adult', 'Fantasy', 'Romance Paranormal Romance', 'Paranormal Witches', 'Fantasy Magic', 'Fantasy Paranormal', 'Fantasy Supernatural', 'Mystery', 'Young Adult Young Adult Paranormal', 'Fiction']",
                  "award": 0,
                  "place": "nan",
                  "url": "https://www.goodreads.com//book/show/12931061-embrace",
                  "_deepnote_index_column": 496
                },
                {
                  "Unnamed: 0": 497,
                  "title": "The Light Between Oceans",
                  "author": "M.L. Stedman",
                  "num_rating": 412803,
                  "num_reviews": 35315,
                  "avg_rating": 4.03,
                  "num_pages": 362,
                  "original_publish_year": 2012,
                  "series": false,
                  "genres": "['Fiction', 'Historical Historical Fiction', 'Cultural Australia', 'Historical', 'Book Club', 'Romance', 'Adult Fiction', 'Adult', 'Audiobook', 'Drama']",
                  "award": 5,
                  "place": "nan",
                  "url": "https://www.goodreads.com//book/show/13158800-the-light-between-oceans",
                  "_deepnote_index_column": 497
                },
                {
                  "Unnamed: 0": 498,
                  "title": "Fables of the Reconstruction",
                  "author": "Jez Jones",
                  "num_rating": 140,
                  "num_reviews": 39,
                  "avg_rating": 4.19,
                  "num_pages": 54,
                  "original_publish_year": 2015,
                  "series": false,
                  "genres": "['Horror Zombies', 'Short Stories', 'Fantasy Paranormal', 'Horror', 'Science Fiction Steampunk', 'Adult Fiction Erotica', 'Fantasy']",
                  "award": 0,
                  "place": "United States",
                  "url": "https://www.goodreads.com//book/show/16100516-fables-of-the-reconstruction",
                  "_deepnote_index_column": 498
                },
                {
                  "Unnamed: 0": 499,
                  "title": "Plague",
                  "author": "Michael  Grant",
                  "num_rating": 50085,
                  "num_reviews": 2110,
                  "avg_rating": 4.18,
                  "num_pages": 494,
                  "original_publish_year": 2011,
                  "series": true,
                  "genres": "['Young Adult', 'Science Fiction Dystopia', 'Science Fiction', 'Fantasy', 'Fiction', 'Horror', 'Fantasy Paranormal', 'Fantasy Supernatural', 'Romance', 'Adventure']",
                  "award": 0,
                  "place": "United States",
                  "url": "https://www.goodreads.com//book/show/6686101-plague",
                  "_deepnote_index_column": 499
                }
              ]
            },
            "text/plain": "     Unnamed: 0                         title             author  num_rating  \\\n0             0                 City of Ashes    Cassandra Clare    790027.0   \n1             1                    Hush, Hush  Becca Fitzpatrick    604902.0   \n2             2                 City of Glass    Cassandra Clare    834607.0   \n3             3               Clockwork Angel    Cassandra Clare    709807.0   \n4             4                        Marked          P.C. Cast    448105.0   \n..          ...                           ...                ...         ...   \n495         495               Love Unscripted         Tina Reber     67319.0   \n496         496                       Embrace      Cherie Colyer       335.0   \n497         497      The Light Between Oceans       M.L. Stedman    412803.0   \n498         498  Fables of the Reconstruction          Jez Jones       140.0   \n499         499                        Plague     Michael  Grant     50085.0   \n\n     num_reviews  avg_rating  num_pages  original_publish_year series  \\\n0        30438.0        4.15        453                 2008.0   True   \n1        25701.0        3.95        391                 2009.0   True   \n2        29071.0        4.30        541                 2009.0   True   \n3        33615.0        4.31        479                 2010.0   True   \n4        14504.0        3.80        306                 2007.0   True   \n..           ...         ...        ...                    ...    ...   \n495       3476.0        4.02        668                 2010.0   True   \n496        116.0        3.90        190                 2011.0   True   \n497      35315.0        4.03        362                 2012.0  False   \n498         39.0        4.19         54                 2015.0  False   \n499       2110.0        4.18        494                 2011.0   True   \n\n                                                genres  award           place  \\\n0    ['Fantasy', 'Young Adult', 'Fantasy Paranormal...      2   United States   \n1    ['Young Adult', 'Fantasy', 'Romance', 'Fantasy...      1   United States   \n2    ['Fantasy', 'Young Adult', 'Fantasy Paranormal...      3   United States   \n3    ['Fantasy', 'Young Adult', 'Romance', 'Fantasy...     10  United Kingdom   \n4    ['Young Adult', 'Fantasy', 'Paranormal Vampire...      1   United States   \n..                                                 ...    ...             ...   \n495  ['Romance', 'Contemporary', 'Romance Contempor...      0   United States   \n496  ['Young Adult', 'Fantasy', 'Romance Paranormal...      0             NaN   \n497  ['Fiction', 'Historical Historical Fiction', '...      5             NaN   \n498  ['Horror Zombies', 'Short Stories', 'Fantasy P...      0   United States   \n499  ['Young Adult', 'Science Fiction Dystopia', 'S...      0   United States   \n\n                                                   url  \n0    https://www.goodreads.com//book/show/1582996.C...  \n1    https://www.goodreads.com//book/show/6339664-h...  \n2    https://www.goodreads.com//book/show/3777732-c...  \n3    https://www.goodreads.com//book/show/7171637-c...  \n4    https://www.goodreads.com//book/show/30183.Marked  \n..                                                 ...  \n495  https://www.goodreads.com//book/show/8204005-l...  \n496  https://www.goodreads.com//book/show/12931061-...  \n497  https://www.goodreads.com//book/show/13158800-...  \n498  https://www.goodreads.com//book/show/16100516-...  \n499  https://www.goodreads.com//book/show/6686101-p...  \n\n[500 rows x 13 columns]",
            "text/html": "<div>\n<style scoped>\n    .dataframe tbody tr th:only-of-type {\n        vertical-align: middle;\n    }\n\n    .dataframe tbody tr th {\n        vertical-align: top;\n    }\n\n    .dataframe thead th {\n        text-align: right;\n    }\n</style>\n<table border=\"1\" class=\"dataframe\">\n  <thead>\n    <tr style=\"text-align: right;\">\n      <th></th>\n      <th>Unnamed: 0</th>\n      <th>title</th>\n      <th>author</th>\n      <th>num_rating</th>\n      <th>num_reviews</th>\n      <th>avg_rating</th>\n      <th>num_pages</th>\n      <th>original_publish_year</th>\n      <th>series</th>\n      <th>genres</th>\n      <th>award</th>\n      <th>place</th>\n      <th>url</th>\n    </tr>\n  </thead>\n  <tbody>\n    <tr>\n      <th>0</th>\n      <td>0</td>\n      <td>City of Ashes</td>\n      <td>Cassandra Clare</td>\n      <td>790027.0</td>\n      <td>30438.0</td>\n      <td>4.15</td>\n      <td>453</td>\n      <td>2008.0</td>\n      <td>True</td>\n      <td>['Fantasy', 'Young Adult', 'Fantasy Paranormal...</td>\n      <td>2</td>\n      <td>United States</td>\n      <td>https://www.goodreads.com//book/show/1582996.C...</td>\n    </tr>\n    <tr>\n      <th>1</th>\n      <td>1</td>\n      <td>Hush, Hush</td>\n      <td>Becca Fitzpatrick</td>\n      <td>604902.0</td>\n      <td>25701.0</td>\n      <td>3.95</td>\n      <td>391</td>\n      <td>2009.0</td>\n      <td>True</td>\n      <td>['Young Adult', 'Fantasy', 'Romance', 'Fantasy...</td>\n      <td>1</td>\n      <td>United States</td>\n      <td>https://www.goodreads.com//book/show/6339664-h...</td>\n    </tr>\n    <tr>\n      <th>2</th>\n      <td>2</td>\n      <td>City of Glass</td>\n      <td>Cassandra Clare</td>\n      <td>834607.0</td>\n      <td>29071.0</td>\n      <td>4.30</td>\n      <td>541</td>\n      <td>2009.0</td>\n      <td>True</td>\n      <td>['Fantasy', 'Young Adult', 'Fantasy Paranormal...</td>\n      <td>3</td>\n      <td>United States</td>\n      <td>https://www.goodreads.com//book/show/3777732-c...</td>\n    </tr>\n    <tr>\n      <th>3</th>\n      <td>3</td>\n      <td>Clockwork Angel</td>\n      <td>Cassandra Clare</td>\n      <td>709807.0</td>\n      <td>33615.0</td>\n      <td>4.31</td>\n      <td>479</td>\n      <td>2010.0</td>\n      <td>True</td>\n      <td>['Fantasy', 'Young Adult', 'Romance', 'Fantasy...</td>\n      <td>10</td>\n      <td>United Kingdom</td>\n      <td>https://www.goodreads.com//book/show/7171637-c...</td>\n    </tr>\n    <tr>\n      <th>4</th>\n      <td>4</td>\n      <td>Marked</td>\n      <td>P.C. Cast</td>\n      <td>448105.0</td>\n      <td>14504.0</td>\n      <td>3.80</td>\n      <td>306</td>\n      <td>2007.0</td>\n      <td>True</td>\n      <td>['Young Adult', 'Fantasy', 'Paranormal Vampire...</td>\n      <td>1</td>\n      <td>United States</td>\n      <td>https://www.goodreads.com//book/show/30183.Marked</td>\n    </tr>\n    <tr>\n      <th>...</th>\n      <td>...</td>\n      <td>...</td>\n      <td>...</td>\n      <td>...</td>\n      <td>...</td>\n      <td>...</td>\n      <td>...</td>\n      <td>...</td>\n      <td>...</td>\n      <td>...</td>\n      <td>...</td>\n      <td>...</td>\n      <td>...</td>\n    </tr>\n    <tr>\n      <th>495</th>\n      <td>495</td>\n      <td>Love Unscripted</td>\n      <td>Tina Reber</td>\n      <td>67319.0</td>\n      <td>3476.0</td>\n      <td>4.02</td>\n      <td>668</td>\n      <td>2010.0</td>\n      <td>True</td>\n      <td>['Romance', 'Contemporary', 'Romance Contempor...</td>\n      <td>0</td>\n      <td>United States</td>\n      <td>https://www.goodreads.com//book/show/8204005-l...</td>\n    </tr>\n    <tr>\n      <th>496</th>\n      <td>496</td>\n      <td>Embrace</td>\n      <td>Cherie Colyer</td>\n      <td>335.0</td>\n      <td>116.0</td>\n      <td>3.90</td>\n      <td>190</td>\n      <td>2011.0</td>\n      <td>True</td>\n      <td>['Young Adult', 'Fantasy', 'Romance Paranormal...</td>\n      <td>0</td>\n      <td>NaN</td>\n      <td>https://www.goodreads.com//book/show/12931061-...</td>\n    </tr>\n    <tr>\n      <th>497</th>\n      <td>497</td>\n      <td>The Light Between Oceans</td>\n      <td>M.L. Stedman</td>\n      <td>412803.0</td>\n      <td>35315.0</td>\n      <td>4.03</td>\n      <td>362</td>\n      <td>2012.0</td>\n      <td>False</td>\n      <td>['Fiction', 'Historical Historical Fiction', '...</td>\n      <td>5</td>\n      <td>NaN</td>\n      <td>https://www.goodreads.com//book/show/13158800-...</td>\n    </tr>\n    <tr>\n      <th>498</th>\n      <td>498</td>\n      <td>Fables of the Reconstruction</td>\n      <td>Jez Jones</td>\n      <td>140.0</td>\n      <td>39.0</td>\n      <td>4.19</td>\n      <td>54</td>\n      <td>2015.0</td>\n      <td>False</td>\n      <td>['Horror Zombies', 'Short Stories', 'Fantasy P...</td>\n      <td>0</td>\n      <td>United States</td>\n      <td>https://www.goodreads.com//book/show/16100516-...</td>\n    </tr>\n    <tr>\n      <th>499</th>\n      <td>499</td>\n      <td>Plague</td>\n      <td>Michael  Grant</td>\n      <td>50085.0</td>\n      <td>2110.0</td>\n      <td>4.18</td>\n      <td>494</td>\n      <td>2011.0</td>\n      <td>True</td>\n      <td>['Young Adult', 'Science Fiction Dystopia', 'S...</td>\n      <td>0</td>\n      <td>United States</td>\n      <td>https://www.goodreads.com//book/show/6686101-p...</td>\n    </tr>\n  </tbody>\n</table>\n<p>500 rows × 13 columns</p>\n</div>"
          },
          "metadata": {}
        }
      ],
      "execution_count": null
    },
    {
      "cell_type": "markdown",
      "source": "#Data frame creation",
      "metadata": {
        "tags": [],
        "cell_id": "00029-e3d67210-8aba-45ad-87ff-9f6c9ddf18fb",
        "deepnote_cell_type": "text-cell-h1"
      }
    },
    {
      "cell_type": "code",
      "source": "f2=pd.read_csv('last_600.csv')\nf2",
      "metadata": {
        "tags": [],
        "cell_id": "00037-b4a80e46-00ca-4125-b4fb-aba20ef279ab",
        "deepnote_to_be_reexecuted": false,
        "source_hash": "cb2be1a3",
        "execution_start": 1618462874853,
        "execution_millis": 219,
        "deepnote_cell_type": "code"
      },
      "outputs": [
        {
          "output_type": "execute_result",
          "execution_count": 23,
          "data": {
            "application/vnd.deepnote.dataframe.v2+json": {
              "row_count": 200,
              "column_count": 13,
              "columns": [
                {
                  "name": "Unnamed: 0",
                  "dtype": "int64",
                  "stats": {
                    "unique_count": 200,
                    "nan_count": 0,
                    "min": "0",
                    "max": "199",
                    "histogram": [
                      {
                        "bin_start": 0,
                        "bin_end": 19.9,
                        "count": 20
                      },
                      {
                        "bin_start": 19.9,
                        "bin_end": 39.8,
                        "count": 20
                      },
                      {
                        "bin_start": 39.8,
                        "bin_end": 59.699999999999996,
                        "count": 20
                      },
                      {
                        "bin_start": 59.699999999999996,
                        "bin_end": 79.6,
                        "count": 20
                      },
                      {
                        "bin_start": 79.6,
                        "bin_end": 99.5,
                        "count": 20
                      },
                      {
                        "bin_start": 99.5,
                        "bin_end": 119.39999999999999,
                        "count": 20
                      },
                      {
                        "bin_start": 119.39999999999999,
                        "bin_end": 139.29999999999998,
                        "count": 20
                      },
                      {
                        "bin_start": 139.29999999999998,
                        "bin_end": 159.2,
                        "count": 20
                      },
                      {
                        "bin_start": 159.2,
                        "bin_end": 179.1,
                        "count": 20
                      },
                      {
                        "bin_start": 179.1,
                        "bin_end": 199,
                        "count": 20
                      }
                    ]
                  }
                },
                {
                  "name": "title",
                  "dtype": "object",
                  "stats": {
                    "unique_count": 200,
                    "nan_count": 0,
                    "categories": [
                      {
                        "name": "Airborn",
                        "count": 1
                      },
                      {
                        "name": "My Life Next Door",
                        "count": 1
                      },
                      {
                        "name": "198 others",
                        "count": 198
                      }
                    ]
                  }
                },
                {
                  "name": "author",
                  "dtype": "object",
                  "stats": {
                    "unique_count": 177,
                    "nan_count": 0,
                    "categories": [
                      {
                        "name": "Janet Evanovich",
                        "count": 6
                      },
                      {
                        "name": "Rick Copper",
                        "count": 3
                      },
                      {
                        "name": "175 others",
                        "count": 191
                      }
                    ]
                  }
                },
                {
                  "name": "num_rating",
                  "dtype": "int64",
                  "stats": {
                    "unique_count": 198,
                    "nan_count": 0,
                    "min": "6",
                    "max": "618749",
                    "histogram": [
                      {
                        "bin_start": 6,
                        "bin_end": 61880.3,
                        "count": 111
                      },
                      {
                        "bin_start": 61880.3,
                        "bin_end": 123754.6,
                        "count": 58
                      },
                      {
                        "bin_start": 123754.6,
                        "bin_end": 185628.90000000002,
                        "count": 13
                      },
                      {
                        "bin_start": 185628.90000000002,
                        "bin_end": 247503.2,
                        "count": 7
                      },
                      {
                        "bin_start": 247503.2,
                        "bin_end": 309377.5,
                        "count": 5
                      },
                      {
                        "bin_start": 309377.5,
                        "bin_end": 371251.80000000005,
                        "count": 1
                      },
                      {
                        "bin_start": 371251.80000000005,
                        "bin_end": 433126.10000000003,
                        "count": 1
                      },
                      {
                        "bin_start": 433126.10000000003,
                        "bin_end": 495000.4,
                        "count": 1
                      },
                      {
                        "bin_start": 495000.4,
                        "bin_end": 556874.7000000001,
                        "count": 1
                      },
                      {
                        "bin_start": 556874.7000000001,
                        "bin_end": 618749,
                        "count": 2
                      }
                    ]
                  }
                },
                {
                  "name": "num_reviews",
                  "dtype": "int64",
                  "stats": {
                    "unique_count": 193,
                    "nan_count": 0,
                    "min": "2",
                    "max": "38826",
                    "histogram": [
                      {
                        "bin_start": 2,
                        "bin_end": 3884.4,
                        "count": 124
                      },
                      {
                        "bin_start": 3884.4,
                        "bin_end": 7766.8,
                        "count": 31
                      },
                      {
                        "bin_start": 7766.8,
                        "bin_end": 11649.2,
                        "count": 21
                      },
                      {
                        "bin_start": 11649.2,
                        "bin_end": 15531.6,
                        "count": 4
                      },
                      {
                        "bin_start": 15531.6,
                        "bin_end": 19414,
                        "count": 5
                      },
                      {
                        "bin_start": 19414,
                        "bin_end": 23296.4,
                        "count": 5
                      },
                      {
                        "bin_start": 23296.4,
                        "bin_end": 27178.8,
                        "count": 4
                      },
                      {
                        "bin_start": 27178.8,
                        "bin_end": 31061.2,
                        "count": 3
                      },
                      {
                        "bin_start": 31061.2,
                        "bin_end": 34943.6,
                        "count": 0
                      },
                      {
                        "bin_start": 34943.6,
                        "bin_end": 38826,
                        "count": 3
                      }
                    ]
                  }
                },
                {
                  "name": "avg_rating",
                  "dtype": "float64",
                  "stats": {
                    "unique_count": 80,
                    "nan_count": 0,
                    "min": "3.43",
                    "max": "4.63",
                    "histogram": [
                      {
                        "bin_start": 3.43,
                        "bin_end": 3.5500000000000003,
                        "count": 6
                      },
                      {
                        "bin_start": 3.5500000000000003,
                        "bin_end": 3.67,
                        "count": 3
                      },
                      {
                        "bin_start": 3.67,
                        "bin_end": 3.79,
                        "count": 20
                      },
                      {
                        "bin_start": 3.79,
                        "bin_end": 3.91,
                        "count": 24
                      },
                      {
                        "bin_start": 3.91,
                        "bin_end": 4.03,
                        "count": 39
                      },
                      {
                        "bin_start": 4.03,
                        "bin_end": 4.15,
                        "count": 36
                      },
                      {
                        "bin_start": 4.15,
                        "bin_end": 4.27,
                        "count": 41
                      },
                      {
                        "bin_start": 4.27,
                        "bin_end": 4.39,
                        "count": 21
                      },
                      {
                        "bin_start": 4.39,
                        "bin_end": 4.51,
                        "count": 8
                      },
                      {
                        "bin_start": 4.51,
                        "bin_end": 4.63,
                        "count": 2
                      }
                    ]
                  }
                },
                {
                  "name": "num_pages",
                  "dtype": "int64",
                  "stats": {
                    "unique_count": 146,
                    "nan_count": 0,
                    "min": "0",
                    "max": "956",
                    "histogram": [
                      {
                        "bin_start": 0,
                        "bin_end": 95.6,
                        "count": 4
                      },
                      {
                        "bin_start": 95.6,
                        "bin_end": 191.2,
                        "count": 6
                      },
                      {
                        "bin_start": 191.2,
                        "bin_end": 286.79999999999995,
                        "count": 36
                      },
                      {
                        "bin_start": 286.79999999999995,
                        "bin_end": 382.4,
                        "count": 75
                      },
                      {
                        "bin_start": 382.4,
                        "bin_end": 478,
                        "count": 40
                      },
                      {
                        "bin_start": 478,
                        "bin_end": 573.5999999999999,
                        "count": 20
                      },
                      {
                        "bin_start": 573.5999999999999,
                        "bin_end": 669.1999999999999,
                        "count": 9
                      },
                      {
                        "bin_start": 669.1999999999999,
                        "bin_end": 764.8,
                        "count": 6
                      },
                      {
                        "bin_start": 764.8,
                        "bin_end": 860.4,
                        "count": 2
                      },
                      {
                        "bin_start": 860.4,
                        "bin_end": 956,
                        "count": 2
                      }
                    ]
                  }
                },
                {
                  "name": "original_publish_year",
                  "dtype": "float64",
                  "stats": {
                    "unique_count": 31,
                    "nan_count": 1,
                    "min": "1987.0",
                    "max": "2019.0",
                    "histogram": [
                      {
                        "bin_start": 1987,
                        "bin_end": 1990.2,
                        "count": 4
                      },
                      {
                        "bin_start": 1990.2,
                        "bin_end": 1993.4,
                        "count": 3
                      },
                      {
                        "bin_start": 1993.4,
                        "bin_end": 1996.6,
                        "count": 3
                      },
                      {
                        "bin_start": 1996.6,
                        "bin_end": 1999.8,
                        "count": 4
                      },
                      {
                        "bin_start": 1999.8,
                        "bin_end": 2003,
                        "count": 8
                      },
                      {
                        "bin_start": 2003,
                        "bin_end": 2006.2,
                        "count": 33
                      },
                      {
                        "bin_start": 2006.2,
                        "bin_end": 2009.4,
                        "count": 34
                      },
                      {
                        "bin_start": 2009.4,
                        "bin_end": 2012.6,
                        "count": 64
                      },
                      {
                        "bin_start": 2012.6,
                        "bin_end": 2015.8,
                        "count": 31
                      },
                      {
                        "bin_start": 2015.8,
                        "bin_end": 2019,
                        "count": 15
                      }
                    ]
                  }
                },
                {
                  "name": "series",
                  "dtype": "bool",
                  "stats": {
                    "unique_count": 2,
                    "nan_count": 0,
                    "categories": [
                      {
                        "name": "True",
                        "count": 132
                      },
                      {
                        "name": "False",
                        "count": 68
                      }
                    ]
                  }
                },
                {
                  "name": "genres",
                  "dtype": "object",
                  "stats": {
                    "unique_count": 194,
                    "nan_count": 0,
                    "categories": [
                      {
                        "name": "[]",
                        "count": 5
                      },
                      {
                        "name": "['Mystery', 'Fiction', 'Humor', 'Womens Fiction Chick Lit', 'Romance', 'Mystery Crime', 'Humor Comedy', 'Thriller Mystery Thriller', 'Contemporary', 'Adult']",
                        "count": 3
                      },
                      {
                        "name": "192 others",
                        "count": 192
                      }
                    ]
                  }
                },
                {
                  "name": "award",
                  "dtype": "int64",
                  "stats": {
                    "unique_count": 15,
                    "nan_count": 0,
                    "min": "0",
                    "max": "18",
                    "histogram": [
                      {
                        "bin_start": 0,
                        "bin_end": 1.8,
                        "count": 138
                      },
                      {
                        "bin_start": 1.8,
                        "bin_end": 3.6,
                        "count": 35
                      },
                      {
                        "bin_start": 3.6,
                        "bin_end": 5.4,
                        "count": 12
                      },
                      {
                        "bin_start": 5.4,
                        "bin_end": 7.2,
                        "count": 0
                      },
                      {
                        "bin_start": 7.2,
                        "bin_end": 9,
                        "count": 3
                      },
                      {
                        "bin_start": 9,
                        "bin_end": 10.8,
                        "count": 5
                      },
                      {
                        "bin_start": 10.8,
                        "bin_end": 12.6,
                        "count": 3
                      },
                      {
                        "bin_start": 12.6,
                        "bin_end": 14.4,
                        "count": 1
                      },
                      {
                        "bin_start": 14.4,
                        "bin_end": 16.2,
                        "count": 2
                      },
                      {
                        "bin_start": 16.2,
                        "bin_end": 18,
                        "count": 1
                      }
                    ]
                  }
                },
                {
                  "name": "place",
                  "dtype": "object",
                  "stats": {
                    "unique_count": 9,
                    "nan_count": 111,
                    "categories": [
                      {
                        "name": "United States",
                        "count": 66
                      },
                      {
                        "name": "8 others",
                        "count": 23
                      },
                      {
                        "name": "Missing",
                        "count": 111
                      }
                    ]
                  }
                },
                {
                  "name": "url",
                  "dtype": "object",
                  "stats": {
                    "unique_count": 200,
                    "nan_count": 0,
                    "categories": [
                      {
                        "name": "https://www.goodreads.com//book/show/428042.Airborn",
                        "count": 1
                      },
                      {
                        "name": "https://www.goodreads.com//book/show/12294652-my-life-next-door",
                        "count": 1
                      },
                      {
                        "name": "198 others",
                        "count": 198
                      }
                    ]
                  }
                },
                {
                  "name": "_deepnote_index_column",
                  "dtype": "int64"
                }
              ],
              "rows_top": [
                {
                  "Unnamed: 0": 0,
                  "title": "Airborn",
                  "author": "Kenneth Oppel",
                  "num_rating": 23697,
                  "num_reviews": 1991,
                  "avg_rating": 4.17,
                  "num_pages": 501,
                  "original_publish_year": 2005,
                  "series": true,
                  "genres": "['Science Fiction Steampunk', 'Fantasy', 'Young Adult', 'Science Fiction', 'Adventure', 'Fiction', 'Young Adult Teen', 'Adventure Pirates', 'Audiobook', 'Childrens Middle Grade']",
                  "award": 11,
                  "place": "nan",
                  "url": "https://www.goodreads.com//book/show/428042.Airborn",
                  "_deepnote_index_column": 0
                },
                {
                  "Unnamed: 0": 1,
                  "title": "My Life Next Door",
                  "author": "Huntley Fitzpatrick",
                  "num_rating": 139278,
                  "num_reviews": 9673,
                  "avg_rating": 3.99,
                  "num_pages": 394,
                  "original_publish_year": 2012,
                  "series": false,
                  "genres": "['Young Adult', 'Romance', 'Contemporary', 'Fiction', 'Womens Fiction Chick Lit', 'Realistic Fiction', 'Young Adult Young Adult Contemporary', 'Romance Contemporary Romance', 'Young Adult Young Adult Romance', 'Young Adult High School']",
                  "award": 2,
                  "place": "United States",
                  "url": "https://www.goodreads.com//book/show/12294652-my-life-next-door",
                  "_deepnote_index_column": 1
                },
                {
                  "Unnamed: 0": 2,
                  "title": "Double Identity",
                  "author": "Margaret Peterson Haddix",
                  "num_rating": 15407,
                  "num_reviews": 1404,
                  "avg_rating": 4.02,
                  "num_pages": 218,
                  "original_publish_year": 2007,
                  "series": false,
                  "genres": "['Young Adult', 'Science Fiction', 'Fiction', 'Mystery', 'Fantasy', 'Childrens Middle Grade', 'Childrens', 'Young Adult Teen', 'Adventure', 'Realistic Fiction']",
                  "award": 0,
                  "place": "nan",
                  "url": "https://www.goodreads.com//book/show/155370.Double_Identity",
                  "_deepnote_index_column": 2
                },
                {
                  "Unnamed: 0": 3,
                  "title": "Uncommon Criminals",
                  "author": "Ally Carter",
                  "num_rating": 41225,
                  "num_reviews": 2368,
                  "avg_rating": 4.13,
                  "num_pages": 298,
                  "original_publish_year": 2011,
                  "series": true,
                  "genres": "['Young Adult', 'Mystery', 'Contemporary', 'Romance', 'Fiction', 'Adventure', 'Young Adult Teen', 'Mystery Crime', 'Womens Fiction Chick Lit', 'Realistic Fiction']",
                  "award": 1,
                  "place": "United States",
                  "url": "https://www.goodreads.com//book/show/10327303-uncommon-criminals",
                  "_deepnote_index_column": 3
                },
                {
                  "Unnamed: 0": 4,
                  "title": "House Rules",
                  "author": "Jodi Picoult",
                  "num_rating": 152691,
                  "num_reviews": 11481,
                  "avg_rating": 4.02,
                  "num_pages": 532,
                  "original_publish_year": 2010,
                  "series": false,
                  "genres": "['Fiction', 'Mystery', 'Contemporary', 'Adult Fiction', 'Adult', 'Womens Fiction Chick Lit', 'Drama', 'Family', 'Realistic Fiction', 'Health Aspergers']",
                  "award": 1,
                  "place": "United States",
                  "url": "https://www.goodreads.com//book/show/6614960-house-rules",
                  "_deepnote_index_column": 4
                },
                {
                  "Unnamed: 0": 5,
                  "title": "Code Name Verity",
                  "author": "Elizabeth Wein",
                  "num_rating": 102876,
                  "num_reviews": 14674,
                  "avg_rating": 4.02,
                  "num_pages": 452,
                  "original_publish_year": 2012,
                  "series": true,
                  "genres": "['Historical Historical Fiction', 'Young Adult', 'Fiction', 'Historical', 'War', 'War World War II', 'Audiobook', 'Young Adult Teen', 'Mystery', 'Adventure']",
                  "award": 15,
                  "place": "nan",
                  "url": "https://www.goodreads.com//book/show/11925514-code-name-verity",
                  "_deepnote_index_column": 5
                },
                {
                  "Unnamed: 0": 6,
                  "title": "Lips of a Mastodon",
                  "author": "Ted Bernal Guevara",
                  "num_rating": 3825,
                  "num_reviews": 27,
                  "avg_rating": 3.5,
                  "num_pages": 226,
                  "original_publish_year": 2015,
                  "series": false,
                  "genres": "['Drama', 'Mystery', 'Fiction', 'Mystery Crime', 'Thriller', 'Suspense', 'Thriller Psychological Thriller', 'Adult Fiction', 'Novels', 'Adventure']",
                  "award": 0,
                  "place": "nan",
                  "url": "https://www.goodreads.com//book/show/26004546-lips-of-a-mastodon",
                  "_deepnote_index_column": 6
                },
                {
                  "Unnamed: 0": 7,
                  "title": "Juliet",
                  "author": "Anne Fortier",
                  "num_rating": 25919,
                  "num_reviews": 3835,
                  "avg_rating": 3.91,
                  "num_pages": 447,
                  "original_publish_year": 2010,
                  "series": false,
                  "genres": "['Historical Historical Fiction', 'Romance', 'Fiction', 'Mystery', 'Historical', 'Cultural Italy', 'Contemporary', 'Adult', 'Womens Fiction Chick Lit', 'Adult Fiction']",
                  "award": 1,
                  "place": "Italy",
                  "url": "https://www.goodreads.com//book/show/6718608-juliet",
                  "_deepnote_index_column": 7
                },
                {
                  "Unnamed: 0": 8,
                  "title": "The Young Elites",
                  "author": "Marie Lu",
                  "num_rating": 118100,
                  "num_reviews": 13349,
                  "avg_rating": 3.88,
                  "num_pages": 355,
                  "original_publish_year": 2014,
                  "series": true,
                  "genres": "['Fantasy', 'Young Adult', 'Science Fiction Dystopia', 'Romance', 'Fantasy Magic', 'Fiction', 'Young Adult Young Adult Fantasy', 'Science Fiction', 'Fantasy High Fantasy', 'Fantasy Paranormal']",
                  "award": 2,
                  "place": "nan",
                  "url": "https://www.goodreads.com//book/show/20821111-the-young-elites",
                  "_deepnote_index_column": 8
                },
                {
                  "Unnamed: 0": 9,
                  "title": "Reckless",
                  "author": "S.C. Stephens",
                  "num_rating": 76241,
                  "num_reviews": 5390,
                  "avg_rating": 4.41,
                  "num_pages": 546,
                  "original_publish_year": 2013,
                  "series": true,
                  "genres": "['Romance', 'New Adult', 'Contemporary', 'Romance Contemporary Romance', 'Music', 'Adult', 'Adult Fiction Erotica', 'Womens Fiction Chick Lit', 'Young Adult', 'Love']",
                  "award": 1,
                  "place": "nan",
                  "url": "https://www.goodreads.com//book/show/13600318-reckless",
                  "_deepnote_index_column": 9
                },
                {
                  "Unnamed: 0": 10,
                  "title": "The Sugar Queen",
                  "author": "Sarah Addison Allen",
                  "num_rating": 50141,
                  "num_reviews": 5658,
                  "avg_rating": 3.98,
                  "num_pages": 276,
                  "original_publish_year": 2008,
                  "series": false,
                  "genres": "['Fiction', 'Magical Realism', 'Romance', 'Womens Fiction Chick Lit', 'Fantasy', 'Contemporary', 'Fantasy Magic', 'Adult', 'Adult Fiction', 'American Southern']",
                  "award": 1,
                  "place": "United States",
                  "url": "https://www.goodreads.com//book/show/2200877.The_Sugar_Queen",
                  "_deepnote_index_column": 10
                },
                {
                  "Unnamed: 0": 11,
                  "title": "Ice in My Veins",
                  "author": "Kelli Sullivan",
                  "num_rating": 263,
                  "num_reviews": 36,
                  "avg_rating": 3.81,
                  "num_pages": 272,
                  "original_publish_year": 2010,
                  "series": false,
                  "genres": "['Young Adult', 'Sports Sports', 'Romance', 'Fiction', 'New Adult', 'Contemporary', 'Contemporary Romance Sports Romance', 'Young Adult Young Adult Romance']",
                  "award": 0,
                  "place": "nan",
                  "url": "https://www.goodreads.com//book/show/9838977-ice-in-my-veins",
                  "_deepnote_index_column": 11
                },
                {
                  "Unnamed: 0": 12,
                  "title": "Blue is for Nightmares",
                  "author": "Laurie Faria Stolarz",
                  "num_rating": 18130,
                  "num_reviews": 955,
                  "avg_rating": 3.82,
                  "num_pages": 284,
                  "original_publish_year": 2003,
                  "series": true,
                  "genres": "['Young Adult', 'Fantasy', 'Fantasy Paranormal', 'Mystery', 'Fantasy Magic', 'Paranormal Witches', 'Fiction', 'Romance', 'Fantasy Supernatural', 'Young Adult Teen']",
                  "award": 0,
                  "place": "nan",
                  "url": "https://www.goodreads.com//book/show/477338.Blue_is_for_Nightmares",
                  "_deepnote_index_column": 12
                },
                {
                  "Unnamed: 0": 13,
                  "title": "A Child Called \"It\"",
                  "author": "Dave Pelzer",
                  "num_rating": 389750,
                  "num_reviews": 16159,
                  "avg_rating": 4.11,
                  "num_pages": 184,
                  "original_publish_year": 1995,
                  "series": true,
                  "genres": "['Nonfiction', 'Autobiography Memoir', 'Biography', 'Psychology', 'Biography Autobiography', 'Sociology Abuse', 'Biography Memoir', 'Adult', 'Crime True Crime', 'True Story']",
                  "award": 3,
                  "place": "nan",
                  "url": "https://www.goodreads.com//book/show/60748.A_Child_Called_It_",
                  "_deepnote_index_column": 13
                },
                {
                  "Unnamed: 0": 14,
                  "title": "Carnal: Somewhere Over 40 Winks",
                  "author": "Rom LcO'Feer",
                  "num_rating": 2788,
                  "num_reviews": 17,
                  "avg_rating": 3.45,
                  "num_pages": 222,
                  "original_publish_year": 2009,
                  "series": false,
                  "genres": "['Psychology', 'Contemporary', 'Fiction', 'Drama']",
                  "award": 0,
                  "place": "nan",
                  "url": "https://www.goodreads.com//book/show/7673244-carnal",
                  "_deepnote_index_column": 14
                },
                {
                  "Unnamed: 0": 15,
                  "title": "Dream Caster",
                  "author": "Najeev Raj Nadarajah",
                  "num_rating": 195,
                  "num_reviews": 83,
                  "avg_rating": 4.15,
                  "num_pages": 362,
                  "original_publish_year": 2012,
                  "series": true,
                  "genres": "['Fantasy', 'Young Adult', 'Science Fiction', 'Science Fiction Dystopia', 'Apocalyptic Post Apocalyptic', 'Fantasy Paranormal', 'Fiction', 'Action']",
                  "award": 0,
                  "place": "nan",
                  "url": "https://www.goodreads.com//book/show/16077824-dream-caster",
                  "_deepnote_index_column": 15
                },
                {
                  "Unnamed: 0": 16,
                  "title": "September Ends",
                  "author": "Hunter S. Jones",
                  "num_rating": 478,
                  "num_reviews": 157,
                  "avg_rating": 3.99,
                  "num_pages": 274,
                  "original_publish_year": 2013,
                  "series": true,
                  "genres": "['Romance', 'Poetry', 'Romance Love Story', 'Romance Contemporary Romance', 'Fantasy Paranormal', 'Fantasy', 'Contemporary', 'New Adult', 'Fiction', 'Adult']",
                  "award": 1,
                  "place": "United Kingdom",
                  "url": "https://www.goodreads.com//book/show/18586895-september-ends",
                  "_deepnote_index_column": 16
                },
                {
                  "Unnamed: 0": 17,
                  "title": "Half Magic",
                  "author": "Edward Eager",
                  "num_rating": 36226,
                  "num_reviews": 1634,
                  "avg_rating": 3.93,
                  "num_pages": 192,
                  "original_publish_year": 1999,
                  "series": true,
                  "genres": "['Fantasy', 'Childrens', 'Fiction', 'Childrens Middle Grade', 'Young Adult', 'Classics', 'Fantasy Magic', 'Adventure', 'Childrens Juvenile', 'Humor']",
                  "award": 0,
                  "place": "nan",
                  "url": "https://www.goodreads.com//book/show/225038.Half_Magic",
                  "_deepnote_index_column": 17
                },
                {
                  "Unnamed: 0": 18,
                  "title": "Once Upon a Marigold",
                  "author": "Jean Ferris",
                  "num_rating": 24039,
                  "num_reviews": 1595,
                  "avg_rating": 4,
                  "num_pages": 271,
                  "original_publish_year": 2004,
                  "series": true,
                  "genres": "['Fantasy', 'Young Adult', 'Romance', 'Fantasy Fairy Tales', 'Childrens Middle Grade', 'Fiction', 'Childrens', 'Humor', 'Adventure', 'Childrens Juvenile']",
                  "award": 3,
                  "place": "nan",
                  "url": "https://www.goodreads.com//book/show/157055.Once_Upon_a_Marigold",
                  "_deepnote_index_column": 18
                },
                {
                  "Unnamed: 0": 19,
                  "title": "Hotel on the Corner of Bitter and Sweet",
                  "author": "Jamie Ford",
                  "num_rating": 271484,
                  "num_reviews": 20906,
                  "avg_rating": 4.02,
                  "num_pages": 290,
                  "original_publish_year": 2009,
                  "series": false,
                  "genres": "['Historical Historical Fiction', 'Fiction', 'Historical', 'Romance', 'War World War II', 'Book Club', 'Adult Fiction', 'Adult', 'War', 'Audiobook']",
                  "award": 4,
                  "place": "United States",
                  "url": "https://www.goodreads.com//book/show/3367956-hotel-on-the-corner-of-bitter-and-sweet",
                  "_deepnote_index_column": 19
                },
                {
                  "Unnamed: 0": 20,
                  "title": "Spells",
                  "author": "Aprilynne Pike",
                  "num_rating": 39542,
                  "num_reviews": 2004,
                  "avg_rating": 3.98,
                  "num_pages": 359,
                  "original_publish_year": 2010,
                  "series": true,
                  "genres": "['Fantasy', 'Young Adult', 'Romance', 'Fantasy Paranormal', 'Paranormal Fairies', 'Fantasy Magic', 'Fairies Fae', 'Fiction', 'Fantasy Urban Fantasy', 'Romance Paranormal Romance']",
                  "award": 0,
                  "place": "United States",
                  "url": "https://www.goodreads.com//book/show/6801582-spells",
                  "_deepnote_index_column": 20
                },
                {
                  "Unnamed: 0": 21,
                  "title": "Eve",
                  "author": "Anna Carey",
                  "num_rating": 41892,
                  "num_reviews": 3522,
                  "avg_rating": 3.69,
                  "num_pages": 336,
                  "original_publish_year": 2011,
                  "series": true,
                  "genres": "['Science Fiction Dystopia', 'Young Adult', 'Romance', 'Science Fiction', 'Fantasy', 'Apocalyptic Post Apocalyptic', 'Fiction', 'Adventure', 'Young Adult Teen', 'Adventure Survival']",
                  "award": 0,
                  "place": "United States",
                  "url": "https://www.goodreads.com//book/show/9297774-eve",
                  "_deepnote_index_column": 21
                },
                {
                  "Unnamed: 0": 22,
                  "title": "Farsighted",
                  "author": "Emlyn Chand",
                  "num_rating": 886,
                  "num_reviews": 319,
                  "avg_rating": 3.7,
                  "num_pages": 206,
                  "original_publish_year": 2011,
                  "series": true,
                  "genres": "['Fantasy Urban Fantasy', 'Fantasy Paranormal', 'Young Adult', 'Young Adult Teen', 'Thriller', 'Young Adult Young Adult Fantasy', 'Disability', 'Romance Paranormal Romance', 'Contemporary', 'Mystery']",
                  "award": 5,
                  "place": "nan",
                  "url": "https://www.goodreads.com//book/show/12368303-farsighted",
                  "_deepnote_index_column": 22
                },
                {
                  "Unnamed: 0": 23,
                  "title": "The Cruel Prince",
                  "author": "Holly Black",
                  "num_rating": 301217,
                  "num_reviews": 35232,
                  "avg_rating": 4.1,
                  "num_pages": 370,
                  "original_publish_year": 2018,
                  "series": true,
                  "genres": "['Fantasy', 'Young Adult', 'Romance', 'Young Adult Young Adult Fantasy', 'Fairies Fae', 'Fiction', 'Fantasy Magic', 'Audiobook', 'Paranormal Fairies', 'Fantasy Paranormal']",
                  "award": 3,
                  "place": "nan",
                  "url": "https://www.goodreads.com//book/show/26032825-the-cruel-prince",
                  "_deepnote_index_column": 23
                },
                {
                  "Unnamed: 0": 24,
                  "title": "The Sweetness at the Bottom of the Pie",
                  "author": "Alan Bradley",
                  "num_rating": 152038,
                  "num_reviews": 16539,
                  "avg_rating": 3.82,
                  "num_pages": 386,
                  "original_publish_year": 2009,
                  "series": true,
                  "genres": "['Mystery', 'Fiction', 'Historical Historical Fiction', 'Young Adult', 'Audiobook', 'Thriller Mystery Thriller', 'Mystery Crime', 'Historical', 'Adult', 'European Literature British Literature']",
                  "award": 10,
                  "place": "United Kingdom",
                  "url": "https://www.goodreads.com//book/show/40605285-the-sweetness-at-the-bottom-of-the-pie",
                  "_deepnote_index_column": 24
                },
                {
                  "Unnamed: 0": 25,
                  "title": "Chasing the Red Queen",
                  "author": "Karen Glista",
                  "num_rating": 2075,
                  "num_reviews": 83,
                  "avg_rating": 4.27,
                  "num_pages": 277,
                  "original_publish_year": 2018,
                  "series": false,
                  "genres": "['Fiction', 'Novels', 'Contemporary', 'New Adult', 'Young Adult', 'Adult', 'Romance', 'Fantasy', 'Romance Love Story', 'Book Club']",
                  "award": 0,
                  "place": "nan",
                  "url": "https://www.goodreads.com//book/show/38343303-chasing-the-red-queen",
                  "_deepnote_index_column": 25
                },
                {
                  "Unnamed: 0": 26,
                  "title": "Angel",
                  "author": "James Patterson",
                  "num_rating": 48538,
                  "num_reviews": 1992,
                  "avg_rating": 4.01,
                  "num_pages": 298,
                  "original_publish_year": 2011,
                  "series": true,
                  "genres": "['Young Adult', 'Fantasy', 'Science Fiction', 'Fiction', 'Adventure', 'Romance', 'Fantasy Paranormal', 'Action', 'Young Adult Teen', 'Fantasy Supernatural']",
                  "award": 0,
                  "place": "France",
                  "url": "https://www.goodreads.com//book/show/7201913-angel",
                  "_deepnote_index_column": 26
                },
                {
                  "Unnamed: 0": 27,
                  "title": "Size 12 Is Not Fat",
                  "author": "Meg Cabot",
                  "num_rating": 81465,
                  "num_reviews": 2738,
                  "avg_rating": 3.75,
                  "num_pages": 345,
                  "original_publish_year": 2005,
                  "series": true,
                  "genres": "['Womens Fiction Chick Lit', 'Mystery', 'Fiction', 'Romance', 'Contemporary', 'Adult', 'Young Adult', 'Humor', 'Adult Fiction', 'Mystery Crime']",
                  "award": 0,
                  "place": "United States",
                  "url": "https://www.goodreads.com//book/show/23220.Size_12_Is_Not_Fat",
                  "_deepnote_index_column": 27
                },
                {
                  "Unnamed: 0": 28,
                  "title": "Bloodrose",
                  "author": "Andrea Cremer",
                  "num_rating": 27506,
                  "num_reviews": 2283,
                  "avg_rating": 4.06,
                  "num_pages": 406,
                  "original_publish_year": 2012,
                  "series": true,
                  "genres": "['Young Adult', 'Fantasy', 'Fantasy Paranormal', 'Shapeshifters Werewolves', 'Romance', 'Fantasy Supernatural', 'Romance Paranormal Romance', 'Fantasy Magic', 'Paranormal Shapeshifters', 'Animals Wolves']",
                  "award": 0,
                  "place": "nan",
                  "url": "https://www.goodreads.com//book/show/8130839-bloodrose",
                  "_deepnote_index_column": 28
                },
                {
                  "Unnamed: 0": 29,
                  "title": "The Chosen",
                  "author": "Andrea Buginsky",
                  "num_rating": 60,
                  "num_reviews": 18,
                  "avg_rating": 3.97,
                  "num_pages": 114,
                  "original_publish_year": 2010,
                  "series": false,
                  "genres": "['Young Adult', 'Fantasy']",
                  "award": 0,
                  "place": "nan",
                  "url": "https://www.goodreads.com//book/show/9931985-the-chosen",
                  "_deepnote_index_column": 29
                },
                {
                  "Unnamed: 0": 30,
                  "title": "Wolf Brother",
                  "author": "Michelle Paver",
                  "num_rating": 23029,
                  "num_reviews": 1586,
                  "avg_rating": 4.18,
                  "num_pages": 295,
                  "original_publish_year": 2006,
                  "series": true,
                  "genres": "['Fantasy', 'Young Adult', 'Fiction', 'Adventure', 'Historical Historical Fiction', 'Childrens Middle Grade', 'Historical', 'Childrens', 'Animals', 'Fantasy Magic']",
                  "award": 2,
                  "place": "nan",
                  "url": "https://www.goodreads.com//book/show/295305.Wolf_Brother",
                  "_deepnote_index_column": 30
                },
                {
                  "Unnamed: 0": 31,
                  "title": "Beautiful Bastard",
                  "author": "Christina Lauren",
                  "num_rating": 160582,
                  "num_reviews": 9342,
                  "avg_rating": 4,
                  "num_pages": 272,
                  "original_publish_year": 2013,
                  "series": true,
                  "genres": "['Romance', 'Contemporary', 'Romance Contemporary Romance', 'Adult Fiction Erotica', 'Adult', 'New Adult', 'Romance Erotic Romance', 'Womens Fiction Chick Lit', 'Fiction', 'Humor']",
                  "award": 1,
                  "place": "United States",
                  "url": "https://www.goodreads.com//book/show/16102004-beautiful-bastard",
                  "_deepnote_index_column": 31
                },
                {
                  "Unnamed: 0": 32,
                  "title": "Alien Species Intervention",
                  "author": "J.K. Accinni",
                  "num_rating": 1013,
                  "num_reviews": 196,
                  "avg_rating": 3.83,
                  "num_pages": 518,
                  "original_publish_year": 2013,
                  "series": true,
                  "genres": "['Science Fiction', 'Horror', 'Fantasy Paranormal', 'Science Fiction Aliens', 'Science Fiction Dystopia', 'Fantasy', 'Dark', 'Thriller', 'Young Adult', 'Wildlife']",
                  "award": 0,
                  "place": "nan",
                  "url": "https://www.goodreads.com//book/show/18874565-alien-species-intervention",
                  "_deepnote_index_column": 32
                },
                {
                  "Unnamed: 0": 33,
                  "title": "The Tea Rose",
                  "author": "Jennifer Donnelly",
                  "num_rating": 33645,
                  "num_reviews": 3051,
                  "avg_rating": 4.19,
                  "num_pages": 675,
                  "original_publish_year": 2006,
                  "series": true,
                  "genres": "['Historical Historical Fiction', 'Romance', 'Fiction', 'Historical', 'Romance Historical Romance', 'Adult', 'European Literature British Literature', 'Mystery', 'Womens Fiction Chick Lit', 'Literature 19th Century']",
                  "award": 0,
                  "place": "United Kingdom",
                  "url": "https://www.goodreads.com//book/show/261331.The_Tea_Rose",
                  "_deepnote_index_column": 33
                },
                {
                  "Unnamed: 0": 34,
                  "title": "God of Wine",
                  "author": "Mimi Jean Pamfiloff",
                  "num_rating": 958,
                  "num_reviews": 110,
                  "avg_rating": 4.22,
                  "num_pages": 0,
                  "original_publish_year": 2016,
                  "series": true,
                  "genres": "['Fantasy Paranormal', 'Romance Paranormal Romance', 'Romance', 'Fantasy Mythology', 'Fantasy', 'Humor', 'Fantasy Supernatural', 'Paranormal Vampires', 'Mythology Gods', 'Romance Fantasy Romance']",
                  "award": 0,
                  "place": "nan",
                  "url": "https://www.goodreads.com//book/show/32273412-god-of-wine",
                  "_deepnote_index_column": 34
                },
                {
                  "Unnamed: 0": 35,
                  "title": "The Blue Castle",
                  "author": "L.M. Montgomery",
                  "num_rating": 31490,
                  "num_reviews": 4393,
                  "avg_rating": 4.27,
                  "num_pages": 218,
                  "original_publish_year": 1989,
                  "series": false,
                  "genres": "['Classics', 'Fiction', 'Romance', 'Historical Historical Fiction', 'Young Adult', 'Historical', 'Cultural Canada', 'Romance Historical Romance', 'Adult', 'Adult Fiction']",
                  "award": 0,
                  "place": "Canada",
                  "url": "https://www.goodreads.com//book/show/95693.The_Blue_Castle",
                  "_deepnote_index_column": 35
                },
                {
                  "Unnamed: 0": 36,
                  "title": "Embrace",
                  "author": "Jessica Shirvington",
                  "num_rating": 25610,
                  "num_reviews": 2093,
                  "avg_rating": 4.01,
                  "num_pages": 382,
                  "original_publish_year": 2010,
                  "series": true,
                  "genres": "['Young Adult', 'Paranormal Angels', 'Fantasy', 'Fantasy Paranormal', 'Romance', 'Romance Paranormal Romance', 'Fantasy Supernatural', 'Fantasy Urban Fantasy', 'Fiction', 'Fantasy Magic']",
                  "award": 0,
                  "place": "nan",
                  "url": "https://www.goodreads.com//book/show/8635145-embrace",
                  "_deepnote_index_column": 36
                },
                {
                  "Unnamed: 0": 37,
                  "title": "The Drake House",
                  "author": "Kelly Moran",
                  "num_rating": 193,
                  "num_reviews": 53,
                  "avg_rating": 4.04,
                  "num_pages": 352,
                  "original_publish_year": 2015,
                  "series": false,
                  "genres": "['Romance', 'Fantasy Paranormal', 'Mystery', 'Romance Romantic Suspense', 'Horror Ghost Stories', 'Romance Contemporary Romance', 'Paranormal Ghosts', 'Horror', 'Suspense', 'Romance Paranormal Romance']",
                  "award": 0,
                  "place": "nan",
                  "url": "https://www.goodreads.com//book/show/16135468-the-drake-house",
                  "_deepnote_index_column": 37
                }
              ],
              "rows_bottom": [
                {
                  "Unnamed: 0": 162,
                  "title": "Siege and Storm",
                  "author": "Leigh Bardugo",
                  "num_rating": 253224,
                  "num_reviews": 27510,
                  "avg_rating": 3.93,
                  "num_pages": 435,
                  "original_publish_year": 2013,
                  "series": true,
                  "genres": "['Fantasy', 'Young Adult', 'Romance', 'Young Adult Young Adult Fantasy', 'Fantasy Magic', 'Fiction', 'Fantasy High Fantasy', 'Adventure', 'Audiobook', 'Fantasy Paranormal']",
                  "award": 1,
                  "place": "nan",
                  "url": "https://www.goodreads.com//book/show/14061955-siege-and-storm",
                  "_deepnote_index_column": 162
                },
                {
                  "Unnamed: 0": 163,
                  "title": "Carry On",
                  "author": "Rainbow Rowell",
                  "num_rating": 230549,
                  "num_reviews": 28967,
                  "avg_rating": 4.21,
                  "num_pages": 522,
                  "original_publish_year": 2017,
                  "series": true,
                  "genres": "['Fantasy', 'Young Adult', 'LGBT', 'Romance', 'Fiction', 'Fantasy Magic', 'GLBT Queer', 'Paranormal Vampires', 'Audiobook', 'Young Adult Young Adult Fantasy']",
                  "award": 3,
                  "place": "nan",
                  "url": "https://www.goodreads.com//book/show/32768522-carry-on",
                  "_deepnote_index_column": 163
                },
                {
                  "Unnamed: 0": 164,
                  "title": "Keeping Faith",
                  "author": "Jodi Picoult",
                  "num_rating": 78956,
                  "num_reviews": 3831,
                  "avg_rating": 3.8,
                  "num_pages": 422,
                  "original_publish_year": 2006,
                  "series": false,
                  "genres": "['Fiction', 'Contemporary', 'Womens Fiction Chick Lit', 'Drama', 'Adult Fiction', 'Adult', 'Religion', 'Romance', 'Novels', 'Family']",
                  "award": 0,
                  "place": "United States",
                  "url": "https://www.goodreads.com//book/show/10913.Keeping_Faith",
                  "_deepnote_index_column": 164
                },
                {
                  "Unnamed: 0": 165,
                  "title": "It's Not Summer Without You",
                  "author": "Jenny Han",
                  "num_rating": 116198,
                  "num_reviews": 5698,
                  "avg_rating": 4.08,
                  "num_pages": 275,
                  "original_publish_year": 2010,
                  "series": true,
                  "genres": "['Young Adult', 'Romance', 'Contemporary', 'Fiction', 'Womens Fiction Chick Lit', 'Realistic Fiction', 'Young Adult Young Adult Contemporary', 'Young Adult Teen', 'Young Adult Young Adult Romance', 'Romance Contemporary Romance']",
                  "award": 1,
                  "place": "United States",
                  "url": "https://www.goodreads.com//book/show/6584188-it-s-not-summer-without-you",
                  "_deepnote_index_column": 165
                },
                {
                  "Unnamed: 0": 166,
                  "title": "Bunnicula",
                  "author": "Deborah Howe",
                  "num_rating": 63824,
                  "num_reviews": 2557,
                  "avg_rating": 3.86,
                  "num_pages": 98,
                  "original_publish_year": 2006,
                  "series": true,
                  "genres": "['Childrens', 'Fiction', 'Fantasy', 'Mystery', 'Horror', 'Animals', 'Childrens Middle Grade', 'Young Adult', 'Humor', 'Paranormal Vampires']",
                  "award": 12,
                  "place": "nan",
                  "url": "https://www.goodreads.com//book/show/281235.Bunnicula",
                  "_deepnote_index_column": 166
                },
                {
                  "Unnamed: 0": 167,
                  "title": "Beauty: A Retelling of the Story of Beauty and the Beast",
                  "author": "Robin McKinley",
                  "num_rating": 74899,
                  "num_reviews": 5244,
                  "avg_rating": 4.05,
                  "num_pages": 256,
                  "original_publish_year": 1993,
                  "series": true,
                  "genres": "['Fantasy', 'Young Adult', 'Romance', 'Fantasy Fairy Tales', 'Fiction', 'Retellings', 'Fairy Tales Beauty and The Beast', 'Fairy Tales Fairy Tale Retellings', 'Fantasy Magic', 'Young Adult Young Adult Fantasy']",
                  "award": 1,
                  "place": "nan",
                  "url": "https://www.goodreads.com//book/show/41424.Beauty",
                  "_deepnote_index_column": 167
                },
                {
                  "Unnamed: 0": 168,
                  "title": "The Diviners",
                  "author": "Libba Bray",
                  "num_rating": 90640,
                  "num_reviews": 12553,
                  "avg_rating": 3.93,
                  "num_pages": 578,
                  "original_publish_year": 2012,
                  "series": true,
                  "genres": "['Fantasy', 'Young Adult', 'Historical Historical Fiction', 'Fantasy Paranormal', 'Mystery', 'Historical', 'Horror', 'Fiction', 'Audiobook', 'Fantasy Supernatural']",
                  "award": 8,
                  "place": "United States",
                  "url": "https://www.goodreads.com//book/show/7728889-the-diviners",
                  "_deepnote_index_column": 168
                },
                {
                  "Unnamed: 0": 169,
                  "title": "A is for Alibi",
                  "author": "Sue Grafton",
                  "num_rating": 166904,
                  "num_reviews": 4893,
                  "avg_rating": 3.86,
                  "num_pages": 308,
                  "original_publish_year": 2005,
                  "series": true,
                  "genres": "['Mystery', 'Fiction', 'Mystery Crime', 'Thriller Mystery Thriller', 'Thriller', 'Mystery Detective', 'Audiobook', 'Suspense', 'Adult', 'Mystery Murder Mystery']",
                  "award": 1,
                  "place": "United States",
                  "url": "https://www.goodreads.com//book/show/64863.A_is_for_Alibi",
                  "_deepnote_index_column": 169
                },
                {
                  "Unnamed: 0": 170,
                  "title": "Wood, Talc and Mr. J",
                  "author": "Chris   Rose",
                  "num_rating": 165,
                  "num_reviews": 28,
                  "avg_rating": 4.35,
                  "num_pages": 275,
                  "original_publish_year": 2014,
                  "series": false,
                  "genres": "['Fiction', 'Music', 'Politics', 'Literature', 'Young Adult Coming Of Age', 'Unfinished', 'Literary Fiction', 'Humor', 'Adventure', 'Cities Urbanism']",
                  "award": 0,
                  "place": "nan",
                  "url": "https://www.goodreads.com//book/show/22752404-wood-talc-and-mr-j",
                  "_deepnote_index_column": 170
                },
                {
                  "Unnamed: 0": 171,
                  "title": "Archangel's Kiss",
                  "author": "Nalini Singh",
                  "num_rating": 52466,
                  "num_reviews": 2328,
                  "avg_rating": 4.2,
                  "num_pages": 323,
                  "original_publish_year": 2010,
                  "series": true,
                  "genres": "['Fantasy Paranormal', 'Fantasy Urban Fantasy', 'Romance Paranormal Romance', 'Romance', 'Paranormal Angels', 'Fantasy', 'Paranormal Vampires', 'Adult', 'Fantasy Supernatural', 'Fiction']",
                  "award": 2,
                  "place": "nan",
                  "url": "https://www.goodreads.com//book/show/6582637-archangel-s-kiss",
                  "_deepnote_index_column": 171
                },
                {
                  "Unnamed: 0": 172,
                  "title": "Amy & Roger's Epic Detour",
                  "author": "Morgan Matson",
                  "num_rating": 91228,
                  "num_reviews": 8716,
                  "avg_rating": 3.99,
                  "num_pages": 343,
                  "original_publish_year": 2010,
                  "series": false,
                  "genres": "['Young Adult', 'Contemporary', 'Romance', 'Fiction', 'Travel Road Trip', 'Realistic Fiction', 'Young Adult Young Adult Contemporary', 'Travel', 'Womens Fiction Chick Lit', 'Young Adult Young Adult Romance']",
                  "award": 3,
                  "place": "nan",
                  "url": "https://www.goodreads.com//book/show/7664334-amy-roger-s-epic-detour",
                  "_deepnote_index_column": 172
                },
                {
                  "Unnamed: 0": 173,
                  "title": "The Master and Margarita",
                  "author": "Mikhail Bulgakov",
                  "num_rating": 260022,
                  "num_reviews": 12682,
                  "avg_rating": 4.29,
                  "num_pages": 372,
                  "original_publish_year": 1996,
                  "series": false,
                  "genres": "['Classics', 'Fiction', 'Cultural Russia', 'Fantasy', 'Literature Russian Literature', 'Magical Realism', 'Literature', 'Novels', 'Historical Historical Fiction', 'Literature 20th Century']",
                  "award": 0,
                  "place": "Russian Federation",
                  "url": "https://www.goodreads.com//book/show/117833.The_Master_and_Margarita",
                  "_deepnote_index_column": 173
                },
                {
                  "Unnamed: 0": 174,
                  "title": "Seraphina",
                  "author": "Rachel Hartman",
                  "num_rating": 85337,
                  "num_reviews": 8251,
                  "avg_rating": 3.93,
                  "num_pages": 499,
                  "original_publish_year": 2013,
                  "series": true,
                  "genres": "['Fantasy', 'Young Adult', 'Fantasy Dragons', 'Fiction', 'Romance', 'Young Adult Young Adult Fantasy', 'Fantasy High Fantasy', 'Adventure', 'Mystery', 'Fantasy Magic']",
                  "award": 18,
                  "place": "nan",
                  "url": "https://www.goodreads.com//book/show/19549841-seraphina",
                  "_deepnote_index_column": 174
                },
                {
                  "Unnamed: 0": 175,
                  "title": "Make Love! the Bruce Campbell Way",
                  "author": "Bruce Campbell",
                  "num_rating": 3316,
                  "num_reviews": 285,
                  "avg_rating": 3.68,
                  "num_pages": 353,
                  "original_publish_year": 2006,
                  "series": false,
                  "genres": "['Humor', 'Fiction', 'Humor Comedy', 'Culture Film', 'Audiobook', 'Adult Fiction', 'Media Tie In', 'Novels', 'Literature American', 'Unfinished']",
                  "award": 0,
                  "place": "nan",
                  "url": "https://www.goodreads.com//book/show/92184.Make_Love_the_Bruce_Campbell_Way",
                  "_deepnote_index_column": 175
                },
                {
                  "Unnamed: 0": 176,
                  "title": "Hard Eight",
                  "author": "Janet Evanovich",
                  "num_rating": 117069,
                  "num_reviews": 2264,
                  "avg_rating": 4.16,
                  "num_pages": 326,
                  "original_publish_year": 2003,
                  "series": true,
                  "genres": "['Mystery', 'Fiction', 'Humor', 'Womens Fiction Chick Lit', 'Romance', 'Mystery Crime', 'Humor Comedy', 'Thriller Mystery Thriller', 'Contemporary', 'Adult']",
                  "award": 2,
                  "place": "United States",
                  "url": "https://www.goodreads.com//book/show/6425.Hard_Eight",
                  "_deepnote_index_column": 176
                },
                {
                  "Unnamed: 0": 177,
                  "title": "Eleven on Top",
                  "author": "Janet Evanovich",
                  "num_rating": 101347,
                  "num_reviews": 2077,
                  "avg_rating": 4.16,
                  "num_pages": 321,
                  "original_publish_year": 2006,
                  "series": true,
                  "genres": "['Mystery', 'Fiction', 'Humor', 'Womens Fiction Chick Lit', 'Romance', 'Mystery Crime', 'Humor Comedy', 'Thriller Mystery Thriller', 'Contemporary', 'Adult']",
                  "award": 0,
                  "place": "United States",
                  "url": "https://www.goodreads.com//book/show/11003.Eleven_on_Top",
                  "_deepnote_index_column": 177
                },
                {
                  "Unnamed: 0": 178,
                  "title": "Denali Skies",
                  "author": "Danielle Rohr",
                  "num_rating": 106,
                  "num_reviews": 34,
                  "avg_rating": 3.73,
                  "num_pages": 216,
                  "original_publish_year": 2013,
                  "series": false,
                  "genres": "['Travel', 'New Adult', 'Fiction', 'Fantasy']",
                  "award": 0,
                  "place": "nan",
                  "url": "https://www.goodreads.com//book/show/17413424-denali-skies",
                  "_deepnote_index_column": 178
                },
                {
                  "Unnamed: 0": 179,
                  "title": "Every Moment After",
                  "author": "Joseph Moldover",
                  "num_rating": 613,
                  "num_reviews": 123,
                  "avg_rating": 3.76,
                  "num_pages": 364,
                  "original_publish_year": 2019,
                  "series": false,
                  "genres": "['Contemporary', 'Young Adult', 'Fiction', 'Realistic Fiction', 'Young Adult Young Adult Contemporary', 'Romance', 'Health Mental Health', 'LGBT', 'Young Adult Coming Of Age', 'Young Adult Teen']",
                  "award": 0,
                  "place": "nan",
                  "url": "https://www.goodreads.com//book/show/40142465-every-moment-after",
                  "_deepnote_index_column": 179
                },
                {
                  "Unnamed: 0": 180,
                  "title": "White Cat",
                  "author": "Holly Black",
                  "num_rating": 44741,
                  "num_reviews": 4668,
                  "avg_rating": 3.78,
                  "num_pages": 310,
                  "original_publish_year": 2010,
                  "series": true,
                  "genres": "['Fantasy', 'Young Adult', 'Fantasy Urban Fantasy', 'Fantasy Paranormal', 'Fantasy Magic', 'Fiction', 'Mystery', 'Romance', 'Young Adult Young Adult Fantasy', 'Fantasy Supernatural']",
                  "award": 2,
                  "place": "nan",
                  "url": "https://www.goodreads.com//book/show/6087756-white-cat",
                  "_deepnote_index_column": 180
                },
                {
                  "Unnamed: 0": 181,
                  "title": "Beautiful Redemption",
                  "author": "Kami Garcia",
                  "num_rating": 66961,
                  "num_reviews": 4293,
                  "avg_rating": 3.92,
                  "num_pages": 456,
                  "original_publish_year": 2012,
                  "series": true,
                  "genres": "['Fantasy', 'Young Adult', 'Fantasy Paranormal', 'Romance', 'Fantasy Magic', 'Fiction', 'Fantasy Supernatural', 'Paranormal Witches', 'Romance Paranormal Romance', 'Fantasy Urban Fantasy']",
                  "award": 0,
                  "place": "United States",
                  "url": "https://www.goodreads.com//book/show/7930335-beautiful-redemption",
                  "_deepnote_index_column": 181
                },
                {
                  "Unnamed: 0": 182,
                  "title": "Ethereal Fury",
                  "author": "Jessica O'Gorek",
                  "num_rating": 215,
                  "num_reviews": 114,
                  "avg_rating": 3.98,
                  "num_pages": 263,
                  "original_publish_year": 2013,
                  "series": true,
                  "genres": "['Fantasy Paranormal', 'Fantasy', 'Young Adult', 'Science Fiction', 'Romance', 'Science Fiction Dystopia', 'Romance Paranormal Romance', 'Fiction', 'Paranormal Demons']",
                  "award": 0,
                  "place": "nan",
                  "url": "https://www.goodreads.com//book/show/17977415-ethereal-fury",
                  "_deepnote_index_column": 182
                },
                {
                  "Unnamed: 0": 183,
                  "title": "The Bone Season",
                  "author": "Samantha Shannon",
                  "num_rating": 65212,
                  "num_reviews": 8713,
                  "avg_rating": 3.77,
                  "num_pages": 466,
                  "original_publish_year": 2013,
                  "series": true,
                  "genres": "['Fantasy', 'Young Adult', 'Science Fiction Dystopia', 'Fiction', 'Science Fiction', 'Fantasy Paranormal', 'Fantasy Urban Fantasy', 'Romance', 'Adult', 'Audiobook']",
                  "award": 2,
                  "place": "United Kingdom",
                  "url": "https://www.goodreads.com//book/show/17199504-the-bone-season",
                  "_deepnote_index_column": 183
                },
                {
                  "Unnamed: 0": 184,
                  "title": "Trust: A New Beginning",
                  "author": "Cristiane Serruya",
                  "num_rating": 3359,
                  "num_reviews": 146,
                  "avg_rating": 3.52,
                  "num_pages": 464,
                  "original_publish_year": 2012,
                  "series": true,
                  "genres": "['Romance', 'Adult Fiction Erotica', 'Contemporary', 'Romance Contemporary Romance', 'Dark', 'Fiction', 'Suspense', 'Adult', 'Business Amazon', 'Romance Erotic Romance']",
                  "award": 1,
                  "place": "nan",
                  "url": "https://www.goodreads.com//book/show/16160314-trust",
                  "_deepnote_index_column": 184
                },
                {
                  "Unnamed: 0": 185,
                  "title": "Natural Born Charmer",
                  "author": "Susan Elizabeth Phillips",
                  "num_rating": 33016,
                  "num_reviews": 1644,
                  "avg_rating": 4.15,
                  "num_pages": 400,
                  "original_publish_year": 2007,
                  "series": true,
                  "genres": "['Romance', 'Romance Contemporary Romance', 'Contemporary', 'Womens Fiction Chick Lit', 'Sports Sports', 'Contemporary Romance Sports Romance', 'Fiction', 'Humor', 'Adult', 'Audiobook']",
                  "award": 1,
                  "place": "United States",
                  "url": "https://www.goodreads.com//book/show/73064.Natural_Born_Charmer",
                  "_deepnote_index_column": 185
                },
                {
                  "Unnamed: 0": 186,
                  "title": "Life Song",
                  "author": "Christine M. Knight",
                  "num_rating": 77,
                  "num_reviews": 56,
                  "avg_rating": 4.19,
                  "num_pages": 338,
                  "original_publish_year": 2013,
                  "series": false,
                  "genres": "[]",
                  "award": 0,
                  "place": "nan",
                  "url": "https://www.goodreads.com//book/show/18251020-life-song",
                  "_deepnote_index_column": 186
                },
                {
                  "Unnamed: 0": 187,
                  "title": "Vicious",
                  "author": "V.E. Schwab",
                  "num_rating": 120599,
                  "num_reviews": 18903,
                  "avg_rating": 4.2,
                  "num_pages": 366,
                  "original_publish_year": 2013,
                  "series": true,
                  "genres": "['Fantasy', 'Science Fiction', 'Fiction', 'Adult', 'Fantasy Paranormal', 'Young Adult', 'Fantasy Urban Fantasy', 'Comics Superheroes', 'Adult Fiction', 'Fantasy Supernatural']",
                  "award": 1,
                  "place": "nan",
                  "url": "https://www.goodreads.com//book/show/40874032-vicious",
                  "_deepnote_index_column": 187
                },
                {
                  "Unnamed: 0": 188,
                  "title": "Rot & Ruin",
                  "author": "Jonathan Maberry",
                  "num_rating": 32852,
                  "num_reviews": 3732,
                  "avg_rating": 4.1,
                  "num_pages": 458,
                  "original_publish_year": 2010,
                  "series": true,
                  "genres": "['Horror Zombies', 'Young Adult', 'Horror', 'Science Fiction Dystopia', 'Apocalyptic Post Apocalyptic', 'Fiction', 'Science Fiction', 'Fantasy', 'Fantasy Paranormal', 'Young Adult Teen']",
                  "award": 4,
                  "place": "United States",
                  "url": "https://www.goodreads.com//book/show/7157310-rot-ruin",
                  "_deepnote_index_column": 188
                },
                {
                  "Unnamed: 0": 189,
                  "title": "Memories Of My Future",
                  "author": "Ammar Habib",
                  "num_rating": 6500,
                  "num_reviews": 801,
                  "avg_rating": 4.33,
                  "num_pages": 310,
                  "original_publish_year": 2016,
                  "series": false,
                  "genres": "['Historical Historical Fiction', 'Historical', 'Fiction', 'Cultural India', 'Cultural Pakistan', 'Health Medicine', 'Medical', 'Inspirational', 'Cultural', 'Romance M M Romance']",
                  "award": 0,
                  "place": "nan",
                  "url": "https://www.goodreads.com//book/show/31408159-memories-of-my-future",
                  "_deepnote_index_column": 189
                },
                {
                  "Unnamed: 0": 190,
                  "title": "The School for Good and Evil",
                  "author": "Soman Chainani",
                  "num_rating": 70441,
                  "num_reviews": 7896,
                  "avg_rating": 4.02,
                  "num_pages": 544,
                  "original_publish_year": 2018,
                  "series": true,
                  "genres": "['Fantasy', 'Childrens Middle Grade', 'Young Adult', 'Fantasy Magic', 'Fantasy Fairy Tales', 'Fiction', 'Romance', 'Childrens', 'Adventure', 'Audiobook']",
                  "award": 2,
                  "place": "nan",
                  "url": "https://www.goodreads.com//book/show/42080479-the-school-for-good-and-evil",
                  "_deepnote_index_column": 190
                },
                {
                  "Unnamed: 0": 191,
                  "title": "Theft of Swords",
                  "author": "Michael J. Sullivan",
                  "num_rating": 60324,
                  "num_reviews": 3932,
                  "avg_rating": 4.18,
                  "num_pages": 649,
                  "original_publish_year": 2011,
                  "series": true,
                  "genres": "['Fantasy', 'Fiction', 'Fantasy Epic Fantasy', 'Adventure', 'Fantasy High Fantasy', 'Audiobook', 'Adult', 'Young Adult', 'Fantasy Magic', 'Science Fiction Fantasy']",
                  "award": 1,
                  "place": "nan",
                  "url": "https://www.goodreads.com//book/show/10790290-theft-of-swords",
                  "_deepnote_index_column": 191
                },
                {
                  "Unnamed: 0": 192,
                  "title": "A Northern Light",
                  "author": "Jennifer Donnelly",
                  "num_rating": 42220,
                  "num_reviews": 3635,
                  "avg_rating": 3.81,
                  "num_pages": 396,
                  "original_publish_year": 2004,
                  "series": false,
                  "genres": "['Historical Historical Fiction', 'Young Adult', 'Fiction', 'Mystery', 'Historical', 'Romance', 'Young Adult Teen', 'Young Adult Coming Of Age', 'Audiobook', 'Young Adult Young Adult Historical Fiction']",
                  "award": 10,
                  "place": "United States",
                  "url": "https://www.goodreads.com//book/show/64481.A_Northern_Light",
                  "_deepnote_index_column": 192
                },
                {
                  "Unnamed: 0": 193,
                  "title": "Kitty and the Midnight Hour",
                  "author": "Carrie Vaughn",
                  "num_rating": 31946,
                  "num_reviews": 1764,
                  "avg_rating": 3.67,
                  "num_pages": 259,
                  "original_publish_year": 2005,
                  "series": true,
                  "genres": "['Fantasy Urban Fantasy', 'Fantasy', 'Fantasy Paranormal', 'Shapeshifters Werewolves', 'Paranormal Vampires', 'Fiction', 'Paranormal Shapeshifters', 'Romance Paranormal Romance', 'Romance', 'Fantasy Supernatural']",
                  "award": 0,
                  "place": "United States",
                  "url": "https://www.goodreads.com//book/show/14461.Kitty_and_the_Midnight_Hour",
                  "_deepnote_index_column": 193
                },
                {
                  "Unnamed: 0": 194,
                  "title": "Tunnels",
                  "author": "Roderick Gordon",
                  "num_rating": 15955,
                  "num_reviews": 1585,
                  "avg_rating": 3.61,
                  "num_pages": 464,
                  "original_publish_year": 2007,
                  "series": true,
                  "genres": "['Fantasy', 'Young Adult', 'Adventure', 'Fiction', 'Science Fiction', 'Mystery', 'Childrens Middle Grade', 'Childrens', 'Young Adult Teen', 'Science Fiction Dystopia']",
                  "award": 0,
                  "place": "United Kingdom",
                  "url": "https://www.goodreads.com//book/show/1175893.Tunnels",
                  "_deepnote_index_column": 194
                },
                {
                  "Unnamed: 0": 195,
                  "title": "Revelations",
                  "author": "Lindsay Anne Kendal",
                  "num_rating": 271,
                  "num_reviews": 12,
                  "avg_rating": 4.04,
                  "num_pages": 300,
                  "original_publish_year": 2013,
                  "series": true,
                  "genres": "['Paranormal Vampires', 'Young Adult', 'Horror', 'Fantasy', 'Fantasy Paranormal', 'Paranormal Angels', 'Romance', 'Paranormal Witches', 'Paranormal Demons', 'Romance Paranormal Romance']",
                  "award": 0,
                  "place": "nan",
                  "url": "https://www.goodreads.com//book/show/11733930-revelations",
                  "_deepnote_index_column": 195
                },
                {
                  "Unnamed: 0": 196,
                  "title": "Bad Girls Don't Die",
                  "author": "Katie Alender",
                  "num_rating": 26411,
                  "num_reviews": 2704,
                  "avg_rating": 4.03,
                  "num_pages": 346,
                  "original_publish_year": 2009,
                  "series": true,
                  "genres": "['Young Adult', 'Horror', 'Fantasy Paranormal', 'Fantasy', 'Mystery', 'Fantasy Supernatural', 'Paranormal Ghosts', 'Fiction', 'Romance', 'Thriller']",
                  "award": 0,
                  "place": "nan",
                  "url": "https://www.goodreads.com//book/show/3678651-bad-girls-don-t-die",
                  "_deepnote_index_column": 196
                },
                {
                  "Unnamed: 0": 197,
                  "title": "Torment",
                  "author": "Lindsay Anne Kendal",
                  "num_rating": 335,
                  "num_reviews": 32,
                  "avg_rating": 3.97,
                  "num_pages": 308,
                  "original_publish_year": 2011,
                  "series": true,
                  "genres": "['Paranormal Vampires', 'Fantasy', 'Fantasy Paranormal', 'Horror', 'Young Adult', 'Romance', 'Paranormal Witches', 'Paranormal Demons', 'Paranormal Angels', 'Romance Paranormal Romance']",
                  "award": 0,
                  "place": "nan",
                  "url": "https://www.goodreads.com//book/show/11733898-torment",
                  "_deepnote_index_column": 197
                },
                {
                  "Unnamed: 0": 198,
                  "title": "Envy",
                  "author": "Anna Godbersen",
                  "num_rating": 24361,
                  "num_reviews": 1319,
                  "avg_rating": 3.9,
                  "num_pages": 405,
                  "original_publish_year": 2009,
                  "series": true,
                  "genres": "['Historical Historical Fiction', 'Young Adult', 'Romance', 'Historical', 'Fiction', 'Womens Fiction Chick Lit', 'Romance Historical Romance', 'Young Adult Teen', 'Drama', 'Young Adult Young Adult Romance']",
                  "award": 0,
                  "place": "nan",
                  "url": "https://www.goodreads.com//book/show/3347892-envy",
                  "_deepnote_index_column": 198
                },
                {
                  "Unnamed: 0": 199,
                  "title": "Galactic Energies",
                  "author": "Luca  Rossi",
                  "num_rating": 480,
                  "num_reviews": 127,
                  "avg_rating": 3.95,
                  "num_pages": 236,
                  "original_publish_year": 2013,
                  "series": false,
                  "genres": "['Science Fiction', 'Short Stories', 'Fantasy', 'Romance', 'Science Fiction Cyberpunk', 'Adult Fiction Erotica', 'Adventure', 'Anthologies', 'Fiction', 'Philosophy Metaphysics']",
                  "award": 0,
                  "place": "nan",
                  "url": "https://www.goodreads.com//book/show/18224520-galactic-energies",
                  "_deepnote_index_column": 199
                }
              ]
            },
            "text/plain": "     Unnamed: 0                title                    author  num_rating  \\\n0             0              Airborn             Kenneth Oppel       23697   \n1             1    My Life Next Door       Huntley Fitzpatrick      139278   \n2             2      Double Identity  Margaret Peterson Haddix       15407   \n3             3   Uncommon Criminals               Ally Carter       41225   \n4             4          House Rules              Jodi Picoult      152691   \n..          ...                  ...                       ...         ...   \n195         195          Revelations       Lindsay Anne Kendal         271   \n196         196  Bad Girls Don't Die             Katie Alender       26411   \n197         197              Torment       Lindsay Anne Kendal         335   \n198         198                 Envy            Anna Godbersen       24361   \n199         199    Galactic Energies               Luca  Rossi         480   \n\n     num_reviews  avg_rating  num_pages  original_publish_year  series  \\\n0           1991        4.17        501                 2005.0    True   \n1           9673        3.99        394                 2012.0   False   \n2           1404        4.02        218                 2007.0   False   \n3           2368        4.13        298                 2011.0    True   \n4          11481        4.02        532                 2010.0   False   \n..           ...         ...        ...                    ...     ...   \n195           12        4.04        300                 2013.0    True   \n196         2704        4.03        346                 2009.0    True   \n197           32        3.97        308                 2011.0    True   \n198         1319        3.90        405                 2009.0    True   \n199          127        3.95        236                 2013.0   False   \n\n                                                genres  award          place  \\\n0    ['Science Fiction Steampunk', 'Fantasy', 'Youn...     11            NaN   \n1    ['Young Adult', 'Romance', 'Contemporary', 'Fi...      2  United States   \n2    ['Young Adult', 'Science Fiction', 'Fiction', ...      0            NaN   \n3    ['Young Adult', 'Mystery', 'Contemporary', 'Ro...      1  United States   \n4    ['Fiction', 'Mystery', 'Contemporary', 'Adult ...      1  United States   \n..                                                 ...    ...            ...   \n195  ['Paranormal Vampires', 'Young Adult', 'Horror...      0            NaN   \n196  ['Young Adult', 'Horror', 'Fantasy Paranormal'...      0            NaN   \n197  ['Paranormal Vampires', 'Fantasy', 'Fantasy Pa...      0            NaN   \n198  ['Historical Historical Fiction', 'Young Adult...      0            NaN   \n199  ['Science Fiction', 'Short Stories', 'Fantasy'...      0            NaN   \n\n                                                   url  \n0    https://www.goodreads.com//book/show/428042.Ai...  \n1    https://www.goodreads.com//book/show/12294652-...  \n2    https://www.goodreads.com//book/show/155370.Do...  \n3    https://www.goodreads.com//book/show/10327303-...  \n4    https://www.goodreads.com//book/show/6614960-h...  \n..                                                 ...  \n195  https://www.goodreads.com//book/show/11733930-...  \n196  https://www.goodreads.com//book/show/3678651-b...  \n197  https://www.goodreads.com//book/show/11733898-...  \n198  https://www.goodreads.com//book/show/3347892-envy  \n199  https://www.goodreads.com//book/show/18224520-...  \n\n[200 rows x 13 columns]",
            "text/html": "<div>\n<style scoped>\n    .dataframe tbody tr th:only-of-type {\n        vertical-align: middle;\n    }\n\n    .dataframe tbody tr th {\n        vertical-align: top;\n    }\n\n    .dataframe thead th {\n        text-align: right;\n    }\n</style>\n<table border=\"1\" class=\"dataframe\">\n  <thead>\n    <tr style=\"text-align: right;\">\n      <th></th>\n      <th>Unnamed: 0</th>\n      <th>title</th>\n      <th>author</th>\n      <th>num_rating</th>\n      <th>num_reviews</th>\n      <th>avg_rating</th>\n      <th>num_pages</th>\n      <th>original_publish_year</th>\n      <th>series</th>\n      <th>genres</th>\n      <th>award</th>\n      <th>place</th>\n      <th>url</th>\n    </tr>\n  </thead>\n  <tbody>\n    <tr>\n      <th>0</th>\n      <td>0</td>\n      <td>Airborn</td>\n      <td>Kenneth Oppel</td>\n      <td>23697</td>\n      <td>1991</td>\n      <td>4.17</td>\n      <td>501</td>\n      <td>2005.0</td>\n      <td>True</td>\n      <td>['Science Fiction Steampunk', 'Fantasy', 'Youn...</td>\n      <td>11</td>\n      <td>NaN</td>\n      <td>https://www.goodreads.com//book/show/428042.Ai...</td>\n    </tr>\n    <tr>\n      <th>1</th>\n      <td>1</td>\n      <td>My Life Next Door</td>\n      <td>Huntley Fitzpatrick</td>\n      <td>139278</td>\n      <td>9673</td>\n      <td>3.99</td>\n      <td>394</td>\n      <td>2012.0</td>\n      <td>False</td>\n      <td>['Young Adult', 'Romance', 'Contemporary', 'Fi...</td>\n      <td>2</td>\n      <td>United States</td>\n      <td>https://www.goodreads.com//book/show/12294652-...</td>\n    </tr>\n    <tr>\n      <th>2</th>\n      <td>2</td>\n      <td>Double Identity</td>\n      <td>Margaret Peterson Haddix</td>\n      <td>15407</td>\n      <td>1404</td>\n      <td>4.02</td>\n      <td>218</td>\n      <td>2007.0</td>\n      <td>False</td>\n      <td>['Young Adult', 'Science Fiction', 'Fiction', ...</td>\n      <td>0</td>\n      <td>NaN</td>\n      <td>https://www.goodreads.com//book/show/155370.Do...</td>\n    </tr>\n    <tr>\n      <th>3</th>\n      <td>3</td>\n      <td>Uncommon Criminals</td>\n      <td>Ally Carter</td>\n      <td>41225</td>\n      <td>2368</td>\n      <td>4.13</td>\n      <td>298</td>\n      <td>2011.0</td>\n      <td>True</td>\n      <td>['Young Adult', 'Mystery', 'Contemporary', 'Ro...</td>\n      <td>1</td>\n      <td>United States</td>\n      <td>https://www.goodreads.com//book/show/10327303-...</td>\n    </tr>\n    <tr>\n      <th>4</th>\n      <td>4</td>\n      <td>House Rules</td>\n      <td>Jodi Picoult</td>\n      <td>152691</td>\n      <td>11481</td>\n      <td>4.02</td>\n      <td>532</td>\n      <td>2010.0</td>\n      <td>False</td>\n      <td>['Fiction', 'Mystery', 'Contemporary', 'Adult ...</td>\n      <td>1</td>\n      <td>United States</td>\n      <td>https://www.goodreads.com//book/show/6614960-h...</td>\n    </tr>\n    <tr>\n      <th>...</th>\n      <td>...</td>\n      <td>...</td>\n      <td>...</td>\n      <td>...</td>\n      <td>...</td>\n      <td>...</td>\n      <td>...</td>\n      <td>...</td>\n      <td>...</td>\n      <td>...</td>\n      <td>...</td>\n      <td>...</td>\n      <td>...</td>\n    </tr>\n    <tr>\n      <th>195</th>\n      <td>195</td>\n      <td>Revelations</td>\n      <td>Lindsay Anne Kendal</td>\n      <td>271</td>\n      <td>12</td>\n      <td>4.04</td>\n      <td>300</td>\n      <td>2013.0</td>\n      <td>True</td>\n      <td>['Paranormal Vampires', 'Young Adult', 'Horror...</td>\n      <td>0</td>\n      <td>NaN</td>\n      <td>https://www.goodreads.com//book/show/11733930-...</td>\n    </tr>\n    <tr>\n      <th>196</th>\n      <td>196</td>\n      <td>Bad Girls Don't Die</td>\n      <td>Katie Alender</td>\n      <td>26411</td>\n      <td>2704</td>\n      <td>4.03</td>\n      <td>346</td>\n      <td>2009.0</td>\n      <td>True</td>\n      <td>['Young Adult', 'Horror', 'Fantasy Paranormal'...</td>\n      <td>0</td>\n      <td>NaN</td>\n      <td>https://www.goodreads.com//book/show/3678651-b...</td>\n    </tr>\n    <tr>\n      <th>197</th>\n      <td>197</td>\n      <td>Torment</td>\n      <td>Lindsay Anne Kendal</td>\n      <td>335</td>\n      <td>32</td>\n      <td>3.97</td>\n      <td>308</td>\n      <td>2011.0</td>\n      <td>True</td>\n      <td>['Paranormal Vampires', 'Fantasy', 'Fantasy Pa...</td>\n      <td>0</td>\n      <td>NaN</td>\n      <td>https://www.goodreads.com//book/show/11733898-...</td>\n    </tr>\n    <tr>\n      <th>198</th>\n      <td>198</td>\n      <td>Envy</td>\n      <td>Anna Godbersen</td>\n      <td>24361</td>\n      <td>1319</td>\n      <td>3.90</td>\n      <td>405</td>\n      <td>2009.0</td>\n      <td>True</td>\n      <td>['Historical Historical Fiction', 'Young Adult...</td>\n      <td>0</td>\n      <td>NaN</td>\n      <td>https://www.goodreads.com//book/show/3347892-envy</td>\n    </tr>\n    <tr>\n      <th>199</th>\n      <td>199</td>\n      <td>Galactic Energies</td>\n      <td>Luca  Rossi</td>\n      <td>480</td>\n      <td>127</td>\n      <td>3.95</td>\n      <td>236</td>\n      <td>2013.0</td>\n      <td>False</td>\n      <td>['Science Fiction', 'Short Stories', 'Fantasy'...</td>\n      <td>0</td>\n      <td>NaN</td>\n      <td>https://www.goodreads.com//book/show/18224520-...</td>\n    </tr>\n  </tbody>\n</table>\n<p>200 rows × 13 columns</p>\n</div>"
          },
          "metadata": {}
        }
      ],
      "execution_count": null
    },
    {
      "cell_type": "code",
      "source": "f3=f2=pd.read_csv('last_800.csv')\nf3",
      "metadata": {
        "tags": [],
        "cell_id": "00038-e70cd64d-d516-4d78-ae40-24074ec4837b",
        "deepnote_to_be_reexecuted": false,
        "source_hash": "aa79e7e4",
        "execution_millis": 74,
        "execution_start": 1618462901592,
        "deepnote_cell_type": "code"
      },
      "outputs": [
        {
          "output_type": "execute_result",
          "execution_count": 25,
          "data": {
            "application/vnd.deepnote.dataframe.v2+json": {
              "row_count": 200,
              "column_count": 13,
              "columns": [
                {
                  "name": "Unnamed: 0",
                  "dtype": "int64",
                  "stats": {
                    "unique_count": 200,
                    "nan_count": 0,
                    "min": "0",
                    "max": "199",
                    "histogram": [
                      {
                        "bin_start": 0,
                        "bin_end": 19.9,
                        "count": 20
                      },
                      {
                        "bin_start": 19.9,
                        "bin_end": 39.8,
                        "count": 20
                      },
                      {
                        "bin_start": 39.8,
                        "bin_end": 59.699999999999996,
                        "count": 20
                      },
                      {
                        "bin_start": 59.699999999999996,
                        "bin_end": 79.6,
                        "count": 20
                      },
                      {
                        "bin_start": 79.6,
                        "bin_end": 99.5,
                        "count": 20
                      },
                      {
                        "bin_start": 99.5,
                        "bin_end": 119.39999999999999,
                        "count": 20
                      },
                      {
                        "bin_start": 119.39999999999999,
                        "bin_end": 139.29999999999998,
                        "count": 20
                      },
                      {
                        "bin_start": 139.29999999999998,
                        "bin_end": 159.2,
                        "count": 20
                      },
                      {
                        "bin_start": 159.2,
                        "bin_end": 179.1,
                        "count": 20
                      },
                      {
                        "bin_start": 179.1,
                        "bin_end": 199,
                        "count": 20
                      }
                    ]
                  }
                },
                {
                  "name": "title",
                  "dtype": "object",
                  "stats": {
                    "unique_count": 200,
                    "nan_count": 0,
                    "categories": [
                      {
                        "name": "Burned",
                        "count": 1
                      },
                      {
                        "name": "Kafka on the Shore",
                        "count": 1
                      },
                      {
                        "name": "198 others",
                        "count": 198
                      }
                    ]
                  }
                },
                {
                  "name": "author",
                  "dtype": "object",
                  "stats": {
                    "unique_count": 183,
                    "nan_count": 0,
                    "categories": [
                      {
                        "name": "James Patterson",
                        "count": 2
                      },
                      {
                        "name": "Jennifer L. Armentrout",
                        "count": 2
                      },
                      {
                        "name": "181 others",
                        "count": 196
                      }
                    ]
                  }
                },
                {
                  "name": "num_rating",
                  "dtype": "int64",
                  "stats": {
                    "unique_count": 199,
                    "nan_count": 0,
                    "min": "24",
                    "max": "757390",
                    "histogram": [
                      {
                        "bin_start": 24,
                        "bin_end": 75760.6,
                        "count": 148
                      },
                      {
                        "bin_start": 75760.6,
                        "bin_end": 151497.2,
                        "count": 32
                      },
                      {
                        "bin_start": 151497.2,
                        "bin_end": 227233.80000000002,
                        "count": 10
                      },
                      {
                        "bin_start": 227233.80000000002,
                        "bin_end": 302970.4,
                        "count": 4
                      },
                      {
                        "bin_start": 302970.4,
                        "bin_end": 378707,
                        "count": 4
                      },
                      {
                        "bin_start": 378707,
                        "bin_end": 454443.60000000003,
                        "count": 0
                      },
                      {
                        "bin_start": 454443.60000000003,
                        "bin_end": 530180.2000000001,
                        "count": 1
                      },
                      {
                        "bin_start": 530180.2000000001,
                        "bin_end": 605916.8,
                        "count": 0
                      },
                      {
                        "bin_start": 605916.8,
                        "bin_end": 681653.4,
                        "count": 0
                      },
                      {
                        "bin_start": 681653.4,
                        "bin_end": 757390,
                        "count": 1
                      }
                    ]
                  }
                },
                {
                  "name": "num_reviews",
                  "dtype": "float64",
                  "stats": {
                    "unique_count": 190,
                    "nan_count": 1,
                    "min": "4.0",
                    "max": "63108.0",
                    "histogram": [
                      {
                        "bin_start": 4,
                        "bin_end": 6314.4,
                        "count": 160
                      },
                      {
                        "bin_start": 6314.4,
                        "bin_end": 12624.8,
                        "count": 22
                      },
                      {
                        "bin_start": 12624.8,
                        "bin_end": 18935.199999999997,
                        "count": 9
                      },
                      {
                        "bin_start": 18935.199999999997,
                        "bin_end": 25245.6,
                        "count": 5
                      },
                      {
                        "bin_start": 25245.6,
                        "bin_end": 31556,
                        "count": 1
                      },
                      {
                        "bin_start": 31556,
                        "bin_end": 37866.399999999994,
                        "count": 0
                      },
                      {
                        "bin_start": 37866.399999999994,
                        "bin_end": 44176.799999999996,
                        "count": 1
                      },
                      {
                        "bin_start": 44176.799999999996,
                        "bin_end": 50487.2,
                        "count": 0
                      },
                      {
                        "bin_start": 50487.2,
                        "bin_end": 56797.6,
                        "count": 0
                      },
                      {
                        "bin_start": 56797.6,
                        "bin_end": 63108,
                        "count": 1
                      }
                    ]
                  }
                },
                {
                  "name": "avg_rating",
                  "dtype": "float64",
                  "stats": {
                    "unique_count": 85,
                    "nan_count": 0,
                    "min": "3.18",
                    "max": "4.92",
                    "histogram": [
                      {
                        "bin_start": 3.18,
                        "bin_end": 3.354,
                        "count": 2
                      },
                      {
                        "bin_start": 3.354,
                        "bin_end": 3.528,
                        "count": 4
                      },
                      {
                        "bin_start": 3.528,
                        "bin_end": 3.702,
                        "count": 11
                      },
                      {
                        "bin_start": 3.702,
                        "bin_end": 3.8760000000000003,
                        "count": 27
                      },
                      {
                        "bin_start": 3.8760000000000003,
                        "bin_end": 4.05,
                        "count": 49
                      },
                      {
                        "bin_start": 4.05,
                        "bin_end": 4.224,
                        "count": 59
                      },
                      {
                        "bin_start": 4.224,
                        "bin_end": 4.398,
                        "count": 40
                      },
                      {
                        "bin_start": 4.398,
                        "bin_end": 4.572,
                        "count": 4
                      },
                      {
                        "bin_start": 4.572,
                        "bin_end": 4.746,
                        "count": 2
                      },
                      {
                        "bin_start": 4.746,
                        "bin_end": 4.92,
                        "count": 2
                      }
                    ]
                  }
                },
                {
                  "name": "num_pages",
                  "dtype": "int64",
                  "stats": {
                    "unique_count": 157,
                    "nan_count": 0,
                    "min": "0",
                    "max": "985",
                    "histogram": [
                      {
                        "bin_start": 0,
                        "bin_end": 98.5,
                        "count": 6
                      },
                      {
                        "bin_start": 98.5,
                        "bin_end": 197,
                        "count": 11
                      },
                      {
                        "bin_start": 197,
                        "bin_end": 295.5,
                        "count": 42
                      },
                      {
                        "bin_start": 295.5,
                        "bin_end": 394,
                        "count": 76
                      },
                      {
                        "bin_start": 394,
                        "bin_end": 492.5,
                        "count": 33
                      },
                      {
                        "bin_start": 492.5,
                        "bin_end": 591,
                        "count": 18
                      },
                      {
                        "bin_start": 591,
                        "bin_end": 689.5,
                        "count": 7
                      },
                      {
                        "bin_start": 689.5,
                        "bin_end": 788,
                        "count": 3
                      },
                      {
                        "bin_start": 788,
                        "bin_end": 886.5,
                        "count": 0
                      },
                      {
                        "bin_start": 886.5,
                        "bin_end": 985,
                        "count": 4
                      }
                    ]
                  }
                },
                {
                  "name": "original_publish_year",
                  "dtype": "int64",
                  "stats": {
                    "unique_count": 33,
                    "nan_count": 0,
                    "min": "1974",
                    "max": "2020",
                    "histogram": [
                      {
                        "bin_start": 1974,
                        "bin_end": 1978.6,
                        "count": 1
                      },
                      {
                        "bin_start": 1978.6,
                        "bin_end": 1983.2,
                        "count": 0
                      },
                      {
                        "bin_start": 1983.2,
                        "bin_end": 1987.8,
                        "count": 3
                      },
                      {
                        "bin_start": 1987.8,
                        "bin_end": 1992.4,
                        "count": 2
                      },
                      {
                        "bin_start": 1992.4,
                        "bin_end": 1997,
                        "count": 6
                      },
                      {
                        "bin_start": 1997,
                        "bin_end": 2001.6,
                        "count": 9
                      },
                      {
                        "bin_start": 2001.6,
                        "bin_end": 2006.2,
                        "count": 32
                      },
                      {
                        "bin_start": 2006.2,
                        "bin_end": 2010.8,
                        "count": 44
                      },
                      {
                        "bin_start": 2010.8,
                        "bin_end": 2015.4,
                        "count": 84
                      },
                      {
                        "bin_start": 2015.4,
                        "bin_end": 2020,
                        "count": 19
                      }
                    ]
                  }
                },
                {
                  "name": "series",
                  "dtype": "bool",
                  "stats": {
                    "unique_count": 2,
                    "nan_count": 0,
                    "categories": [
                      {
                        "name": "True",
                        "count": 141
                      },
                      {
                        "name": "False",
                        "count": 59
                      }
                    ]
                  }
                },
                {
                  "name": "genres",
                  "dtype": "object",
                  "stats": {
                    "unique_count": 193,
                    "nan_count": 0,
                    "categories": [
                      {
                        "name": "[]",
                        "count": 6
                      },
                      {
                        "name": "['Fantasy', 'Young Adult', 'Fantasy Paranormal', 'Fantasy Mythology', 'Romance', 'Romance Paranormal Romance', 'Mythology Greek Mythology', 'Fantasy Urban Fantasy', 'Fantasy Supernatural', 'Fantasy Magic']",
                        "count": 2
                      },
                      {
                        "name": "191 others",
                        "count": 192
                      }
                    ]
                  }
                },
                {
                  "name": "award",
                  "dtype": "int64",
                  "stats": {
                    "unique_count": 11,
                    "nan_count": 0,
                    "min": "0",
                    "max": "15",
                    "histogram": [
                      {
                        "bin_start": 0,
                        "bin_end": 1.5,
                        "count": 157
                      },
                      {
                        "bin_start": 1.5,
                        "bin_end": 3,
                        "count": 8
                      },
                      {
                        "bin_start": 3,
                        "bin_end": 4.5,
                        "count": 16
                      },
                      {
                        "bin_start": 4.5,
                        "bin_end": 6,
                        "count": 4
                      },
                      {
                        "bin_start": 6,
                        "bin_end": 7.5,
                        "count": 0
                      },
                      {
                        "bin_start": 7.5,
                        "bin_end": 9,
                        "count": 4
                      },
                      {
                        "bin_start": 9,
                        "bin_end": 10.5,
                        "count": 8
                      },
                      {
                        "bin_start": 10.5,
                        "bin_end": 12,
                        "count": 2
                      },
                      {
                        "bin_start": 12,
                        "bin_end": 13.5,
                        "count": 0
                      },
                      {
                        "bin_start": 13.5,
                        "bin_end": 15,
                        "count": 1
                      }
                    ]
                  }
                },
                {
                  "name": "place",
                  "dtype": "object",
                  "stats": {
                    "unique_count": 12,
                    "nan_count": 136,
                    "categories": [
                      {
                        "name": "United States",
                        "count": 46
                      },
                      {
                        "name": "11 others",
                        "count": 18
                      },
                      {
                        "name": "Missing",
                        "count": 136
                      }
                    ]
                  }
                },
                {
                  "name": "url",
                  "dtype": "object",
                  "stats": {
                    "unique_count": 200,
                    "nan_count": 0,
                    "categories": [
                      {
                        "name": "https://www.goodreads.com//book/show/270807.Burned",
                        "count": 1
                      },
                      {
                        "name": "https://www.goodreads.com//book/show/4929.Kafka_on_the_Shore",
                        "count": 1
                      },
                      {
                        "name": "198 others",
                        "count": 198
                      }
                    ]
                  }
                },
                {
                  "name": "_deepnote_index_column",
                  "dtype": "int64"
                }
              ],
              "rows_top": [
                {
                  "Unnamed: 0": 0,
                  "title": "Burned",
                  "author": "Ellen Hopkins",
                  "num_rating": 58384,
                  "num_reviews": 3828,
                  "avg_rating": 4.25,
                  "num_pages": 431,
                  "original_publish_year": 2006,
                  "series": true,
                  "genres": "['Young Adult', 'Poetry', 'Fiction', 'Contemporary', 'Romance', 'Realistic Fiction', 'Sociology Abuse', 'Young Adult Teen', 'Religion', 'Young Adult High School']",
                  "award": 0,
                  "place": "United States",
                  "url": "https://www.goodreads.com//book/show/270807.Burned",
                  "_deepnote_index_column": 0
                },
                {
                  "Unnamed: 0": 1,
                  "title": "Kafka on the Shore",
                  "author": "Haruki Murakami",
                  "num_rating": 330576,
                  "num_reviews": 23431,
                  "avg_rating": 4.13,
                  "num_pages": 467,
                  "original_publish_year": 2006,
                  "series": false,
                  "genres": "['Fiction', 'Magical Realism', 'Fantasy', 'Cultural Japan', 'Asian Literature Japanese Literature', 'Contemporary', 'Novels', 'Literature', 'Literary Fiction', 'Cultural Asia']",
                  "award": 9,
                  "place": "Japan",
                  "url": "https://www.goodreads.com//book/show/4929.Kafka_on_the_Shore",
                  "_deepnote_index_column": 1
                },
                {
                  "Unnamed: 0": 2,
                  "title": "Night Pleasures",
                  "author": "Sherrilyn Kenyon",
                  "num_rating": 74029,
                  "num_reviews": 2859,
                  "avg_rating": 4.2,
                  "num_pages": 309,
                  "original_publish_year": 2009,
                  "series": true,
                  "genres": "['Fantasy Paranormal', 'Romance', 'Romance Paranormal Romance', 'Fantasy', 'Paranormal Vampires', 'Fantasy Urban Fantasy', 'Adult', 'Fantasy Mythology', 'Fiction', 'Fantasy Supernatural']",
                  "award": 3,
                  "place": "United States",
                  "url": "https://www.goodreads.com//book/show/6944032-night-pleasures",
                  "_deepnote_index_column": 2
                },
                {
                  "Unnamed: 0": 3,
                  "title": "Survivor",
                  "author": "Chuck Palahniuk",
                  "num_rating": 111185,
                  "num_reviews": 3688,
                  "avg_rating": 3.91,
                  "num_pages": 304,
                  "original_publish_year": 2018,
                  "series": false,
                  "genres": "['Fiction', 'Contemporary', 'Thriller', 'Novels', 'Humor', 'Dark', 'Literature', 'Literature American', 'Adult', 'Audiobook']",
                  "award": 1,
                  "place": "nan",
                  "url": "https://www.goodreads.com//book/show/36236123-survivor",
                  "_deepnote_index_column": 3
                },
                {
                  "Unnamed: 0": 4,
                  "title": "The Crown Conspiracy",
                  "author": "Michael J. Sullivan",
                  "num_rating": 19759,
                  "num_reviews": 1055,
                  "avg_rating": 4.19,
                  "num_pages": 296,
                  "original_publish_year": 2008,
                  "series": true,
                  "genres": "['Fantasy', 'Fiction', 'Fantasy Epic Fantasy', 'Fantasy High Fantasy', 'Adventure', 'Fantasy Magic', 'Audiobook', 'Adult', 'Science Fiction Fantasy', 'Young Adult']",
                  "award": 0,
                  "place": "nan",
                  "url": "https://www.goodreads.com//book/show/4345290-the-crown-conspiracy",
                  "_deepnote_index_column": 4
                },
                {
                  "Unnamed: 0": 5,
                  "title": "Dorothy Must Die",
                  "author": "Danielle  Paige",
                  "num_rating": 71729,
                  "num_reviews": 10105,
                  "avg_rating": 3.81,
                  "num_pages": 452,
                  "original_publish_year": 2014,
                  "series": true,
                  "genres": "['Fantasy', 'Young Adult', 'Retellings', 'Fiction', 'Fantasy Magic', 'Fantasy Fairy Tales', 'Adventure', 'Young Adult Young Adult Fantasy', 'Audiobook', 'Young Adult Teen']",
                  "award": 1,
                  "place": "nan",
                  "url": "https://www.goodreads.com//book/show/18053060-dorothy-must-die",
                  "_deepnote_index_column": 5
                },
                {
                  "Unnamed: 0": 6,
                  "title": "Forsaken",
                  "author": "Jana Oliver",
                  "num_rating": 18123,
                  "num_reviews": 1504,
                  "avg_rating": 3.99,
                  "num_pages": 422,
                  "original_publish_year": 2011,
                  "series": true,
                  "genres": "['Young Adult', 'Fantasy Paranormal', 'Fantasy', 'Paranormal Demons', 'Fantasy Urban Fantasy', 'Paranormal Angels', 'Romance', 'Fantasy Supernatural', 'Fantasy Magic', 'Romance Paranormal Romance']",
                  "award": 0,
                  "place": "United States",
                  "url": "https://www.goodreads.com//book/show/8534899-forsaken",
                  "_deepnote_index_column": 6
                },
                {
                  "Unnamed: 0": 7,
                  "title": "The Foundation Trilogy",
                  "author": "Isaac Asimov",
                  "num_rating": 91751,
                  "num_reviews": 1607,
                  "avg_rating": 4.41,
                  "num_pages": 679,
                  "original_publish_year": 1974,
                  "series": true,
                  "genres": "['Science Fiction', 'Fiction', 'Classics', 'Science Fiction Fantasy', 'Fantasy', 'Space Space Opera', 'Literature', 'Novels', 'Speculative Fiction', 'Space']",
                  "award": 1,
                  "place": "nan",
                  "url": "https://www.goodreads.com//book/show/46654.The_Foundation_Trilogy",
                  "_deepnote_index_column": 7
                },
                {
                  "Unnamed: 0": 8,
                  "title": "The Beach House",
                  "author": "James Patterson",
                  "num_rating": 80795,
                  "num_reviews": 2038,
                  "avg_rating": 3.85,
                  "num_pages": 356,
                  "original_publish_year": 2003,
                  "series": false,
                  "genres": "['Mystery', 'Fiction', 'Thriller', 'Mystery Crime', 'Suspense', 'Thriller Mystery Thriller', 'Mystery Murder Mystery', 'Adult', 'Adult Fiction', 'Audiobook']",
                  "award": 0,
                  "place": "nan",
                  "url": "https://www.goodreads.com//book/show/7510.The_Beach_House",
                  "_deepnote_index_column": 8
                },
                {
                  "Unnamed: 0": 9,
                  "title": "Cutting for Stone",
                  "author": "Abraham   Verghese",
                  "num_rating": 345392,
                  "num_reviews": 25914,
                  "avg_rating": 4.29,
                  "num_pages": 541,
                  "original_publish_year": 2009,
                  "series": false,
                  "genres": "['Fiction', 'Historical Historical Fiction', 'Cultural Africa', 'Book Club', 'Health Medicine', 'Eastern Africa Ethiopia', 'Medical', 'Novels', 'Literary Fiction', 'Contemporary']",
                  "award": 8,
                  "place": "Ethiopia",
                  "url": "https://www.goodreads.com//book/show/3591262-cutting-for-stone",
                  "_deepnote_index_column": 9
                },
                {
                  "Unnamed: 0": 10,
                  "title": "Evertaster",
                  "author": "Adam Glendon Sidwell",
                  "num_rating": 504,
                  "num_reviews": 132,
                  "avg_rating": 3.89,
                  "num_pages": 304,
                  "original_publish_year": 2012,
                  "series": true,
                  "genres": "['Fantasy', 'Young Adult', 'Childrens Middle Grade', 'Adventure', 'Childrens', 'Childrens Juvenile', 'Fiction', 'Childrens Chapter Books', 'Food and Drink Food']",
                  "award": 0,
                  "place": "nan",
                  "url": "https://www.goodreads.com//book/show/13633002-evertaster",
                  "_deepnote_index_column": 10
                },
                {
                  "Unnamed: 0": 11,
                  "title": "Slave to Sensation",
                  "author": "Nalini Singh",
                  "num_rating": 65725,
                  "num_reviews": 4141,
                  "avg_rating": 4.08,
                  "num_pages": 334,
                  "original_publish_year": 2006,
                  "series": true,
                  "genres": "['Romance', 'Fantasy Paranormal', 'Romance Paranormal Romance', 'Fantasy', 'Fantasy Urban Fantasy', 'Paranormal Shapeshifters', 'Adult', 'Science Fiction', 'Fiction', 'Fantasy Supernatural']",
                  "award": 0,
                  "place": "United States",
                  "url": "https://www.goodreads.com//book/show/178476.Slave_to_Sensation",
                  "_deepnote_index_column": 11
                },
                {
                  "Unnamed: 0": 12,
                  "title": "Days of Blood & Starlight",
                  "author": "Laini Taylor",
                  "num_rating": 148587,
                  "num_reviews": 13824,
                  "avg_rating": 4.14,
                  "num_pages": 517,
                  "original_publish_year": 2012,
                  "series": true,
                  "genres": "['Fantasy', 'Young Adult', 'Romance', 'Fantasy Paranormal', 'Paranormal Angels', 'Fantasy Urban Fantasy', 'Fiction', 'Fantasy Magic', 'Young Adult Young Adult Fantasy', 'Audiobook']",
                  "award": 1,
                  "place": "Morocco",
                  "url": "https://www.goodreads.com//book/show/12812550-days-of-blood-starlight",
                  "_deepnote_index_column": 12
                },
                {
                  "Unnamed: 0": 13,
                  "title": "Jewels of the Sun",
                  "author": "Nora Roberts",
                  "num_rating": 60571,
                  "num_reviews": 1352,
                  "avg_rating": 4.22,
                  "num_pages": 347,
                  "original_publish_year": 1999,
                  "series": true,
                  "genres": "['Romance', 'Romance Contemporary Romance', 'Fiction', 'Fantasy', 'Contemporary', 'Fantasy Paranormal', 'Cultural Ireland', 'Romance Paranormal Romance', 'Womens Fiction Chick Lit', 'Adult']",
                  "award": 0,
                  "place": "Ireland",
                  "url": "https://www.goodreads.com//book/show/59810.Jewels_of_the_Sun",
                  "_deepnote_index_column": 13
                },
                {
                  "Unnamed: 0": 14,
                  "title": "The Forever War",
                  "author": "Joe Haldeman",
                  "num_rating": 145516,
                  "num_reviews": 6098,
                  "avg_rating": 4.14,
                  "num_pages": 278,
                  "original_publish_year": 2003,
                  "series": true,
                  "genres": "['Science Fiction', 'Fiction', 'War', 'War Military Fiction', 'Science Fiction Fantasy', 'Space Space Opera', 'Classics', 'Science Fiction Time Travel', 'Space', 'Speculative Fiction']",
                  "award": 4,
                  "place": "nan",
                  "url": "https://www.goodreads.com//book/show/21611.The_Forever_War",
                  "_deepnote_index_column": 14
                },
                {
                  "Unnamed: 0": 15,
                  "title": "River God",
                  "author": "Wilbur Smith",
                  "num_rating": 35205,
                  "num_reviews": 1541,
                  "avg_rating": 4.19,
                  "num_pages": 664,
                  "original_publish_year": 1995,
                  "series": true,
                  "genres": "['Historical Historical Fiction', 'Fiction', 'Historical', 'Northern Africa Egypt', 'Fantasy', 'Adventure', 'Cultural Africa', 'Thriller', 'Romance', 'Mystery']",
                  "award": 0,
                  "place": "nan",
                  "url": "https://www.goodreads.com//book/show/429138.River_God",
                  "_deepnote_index_column": 15
                },
                {
                  "Unnamed: 0": 16,
                  "title": "In the Woods",
                  "author": "Tana French",
                  "num_rating": 328190,
                  "num_reviews": 22818,
                  "avg_rating": 3.77,
                  "num_pages": 429,
                  "original_publish_year": 2007,
                  "series": true,
                  "genres": "['Mystery', 'Fiction', 'Thriller', 'Mystery Crime', 'Thriller Mystery Thriller', 'Cultural Ireland', 'Suspense', 'Adult', 'Audiobook', 'Contemporary']",
                  "award": 4,
                  "place": "Ireland",
                  "url": "https://www.goodreads.com//book/show/237209.In_the_Woods",
                  "_deepnote_index_column": 16
                },
                {
                  "Unnamed: 0": 17,
                  "title": "Possession of My Heart",
                  "author": "Kia Carrington-Russell",
                  "num_rating": 2798,
                  "num_reviews": 25,
                  "avg_rating": 3.47,
                  "num_pages": 258,
                  "original_publish_year": 2014,
                  "series": true,
                  "genres": "[]",
                  "award": 0,
                  "place": "nan",
                  "url": "https://www.goodreads.com//book/show/23291161-possession-of-my-heart",
                  "_deepnote_index_column": 17
                },
                {
                  "Unnamed: 0": 18,
                  "title": "The Moon Is a Harsh Mistress",
                  "author": "Robert A. Heinlein",
                  "num_rating": 119882,
                  "num_reviews": 3982,
                  "avg_rating": 4.15,
                  "num_pages": 288,
                  "original_publish_year": 2005,
                  "series": false,
                  "genres": "['Science Fiction', 'Fiction', 'Classics', 'Science Fiction Fantasy', 'Fantasy', 'Audiobook', 'Politics', 'Novels', 'Space', 'Speculative Fiction']",
                  "award": 3,
                  "place": "nan",
                  "url": "https://www.goodreads.com//book/show/16690.The_Moon_Is_a_Harsh_Mistress",
                  "_deepnote_index_column": 18
                },
                {
                  "Unnamed: 0": 19,
                  "title": "Deity",
                  "author": "Jennifer L. Armentrout",
                  "num_rating": 56005,
                  "num_reviews": 3605,
                  "avg_rating": 4.35,
                  "num_pages": 330,
                  "original_publish_year": 2012,
                  "series": true,
                  "genres": "['Fantasy', 'Young Adult', 'Fantasy Paranormal', 'Fantasy Mythology', 'Romance', 'Romance Paranormal Romance', 'Mythology Greek Mythology', 'Fantasy Urban Fantasy', 'Fantasy Supernatural', 'Fantasy Magic']",
                  "award": 0,
                  "place": "nan",
                  "url": "https://www.goodreads.com//book/show/9761778-deity",
                  "_deepnote_index_column": 19
                },
                {
                  "Unnamed: 0": 20,
                  "title": "The Exiled Queen",
                  "author": "Cinda Williams Chima",
                  "num_rating": 46284,
                  "num_reviews": 2691,
                  "avg_rating": 4.33,
                  "num_pages": 586,
                  "original_publish_year": 2010,
                  "series": true,
                  "genres": "['Fantasy', 'Young Adult', 'Fantasy Magic', 'Romance', 'Fantasy High Fantasy', 'Young Adult Young Adult Fantasy', 'Fiction', 'Adventure', 'Fantasy Epic Fantasy', 'Young Adult Teen']",
                  "award": 1,
                  "place": "nan",
                  "url": "https://www.goodreads.com//book/show/7801229-the-exiled-queen",
                  "_deepnote_index_column": 20
                },
                {
                  "Unnamed: 0": 21,
                  "title": "Savvy",
                  "author": "Ingrid Law",
                  "num_rating": 45561,
                  "num_reviews": 3992,
                  "avg_rating": 3.98,
                  "num_pages": 342,
                  "original_publish_year": 2008,
                  "series": true,
                  "genres": "['Fantasy', 'Childrens Middle Grade', 'Young Adult', 'Fiction', 'Childrens', 'Adventure', 'Fantasy Magic', 'Childrens Juvenile', 'Family', 'Young Adult Coming Of Age']",
                  "award": 9,
                  "place": "nan",
                  "url": "https://www.goodreads.com//book/show/2133795.Savvy",
                  "_deepnote_index_column": 21
                },
                {
                  "Unnamed: 0": 22,
                  "title": "First Grave on the Right",
                  "author": "Darynda Jones",
                  "num_rating": 78792,
                  "num_reviews": 7895,
                  "avg_rating": 4.02,
                  "num_pages": 310,
                  "original_publish_year": 2011,
                  "series": true,
                  "genres": "['Fantasy Paranormal', 'Fantasy Urban Fantasy', 'Fantasy', 'Romance', 'Mystery', 'Romance Paranormal Romance', 'Paranormal Ghosts', 'Adult', 'Fiction', 'Fantasy Supernatural']",
                  "award": 3,
                  "place": "United States",
                  "url": "https://www.goodreads.com//book/show/8788554-first-grave-on-the-right",
                  "_deepnote_index_column": 22
                },
                {
                  "Unnamed: 0": 23,
                  "title": "Nine Princes in Amber",
                  "author": "Roger Zelazny",
                  "num_rating": 55197,
                  "num_reviews": 1993,
                  "avg_rating": 4.05,
                  "num_pages": 175,
                  "original_publish_year": 1986,
                  "series": true,
                  "genres": "['Fantasy', 'Fiction', 'Science Fiction', 'Science Fiction Fantasy', 'Adventure', 'Young Adult', 'Childrens', 'Classics', 'Fantasy Epic Fantasy', 'Fantasy High Fantasy']",
                  "award": 1,
                  "place": "nan",
                  "url": "https://www.goodreads.com//book/show/92121.Nine_Princes_in_Amber",
                  "_deepnote_index_column": 23
                },
                {
                  "Unnamed: 0": 24,
                  "title": "Kindred",
                  "author": "Octavia E. Butler",
                  "num_rating": 116119,
                  "num_reviews": 13194,
                  "avg_rating": 4.27,
                  "num_pages": 287,
                  "original_publish_year": 2004,
                  "series": false,
                  "genres": "['Historical Historical Fiction', 'Fiction', 'Science Fiction', 'Fantasy', 'Science Fiction Time Travel', 'Historical', 'Classics', 'Cultural African American', 'Science Fiction Fantasy', 'Race']",
                  "award": 1,
                  "place": "United States",
                  "url": "https://www.goodreads.com//book/show/60931.Kindred",
                  "_deepnote_index_column": 24
                },
                {
                  "Unnamed: 0": 25,
                  "title": "Virals",
                  "author": "Kathy Reichs",
                  "num_rating": 36445,
                  "num_reviews": 2940,
                  "avg_rating": 3.94,
                  "num_pages": 454,
                  "original_publish_year": 2010,
                  "series": true,
                  "genres": "['Young Adult', 'Mystery', 'Science Fiction', 'Fiction', 'Fantasy', 'Adventure', 'Fantasy Paranormal', 'Mystery Crime', 'Thriller', 'Young Adult Teen']",
                  "award": 1,
                  "place": "United States",
                  "url": "https://www.goodreads.com//book/show/7800188-virals",
                  "_deepnote_index_column": 25
                },
                {
                  "Unnamed: 0": 26,
                  "title": "Ringworld",
                  "author": "Larry Niven",
                  "num_rating": 107792,
                  "num_reviews": 3615,
                  "avg_rating": 3.96,
                  "num_pages": 288,
                  "original_publish_year": 2005,
                  "series": true,
                  "genres": "['Science Fiction', 'Fiction', 'Science Fiction Fantasy', 'Classics', 'Fantasy', 'Space Space Opera', 'Audiobook', 'Space', 'Hugo Awards', 'Adventure']",
                  "award": 4,
                  "place": "nan",
                  "url": "https://www.goodreads.com//book/show/61179.Ringworld",
                  "_deepnote_index_column": 26
                },
                {
                  "Unnamed: 0": 27,
                  "title": "A Disturbed Girl's Guide to Curing Boredom",
                  "author": "James   Howell",
                  "num_rating": 153,
                  "num_reviews": 20,
                  "avg_rating": 3.69,
                  "num_pages": 238,
                  "original_publish_year": 2011,
                  "series": true,
                  "genres": "['Fiction', 'Thriller', 'Dark']",
                  "award": 0,
                  "place": "nan",
                  "url": "https://www.goodreads.com//book/show/11968674-a-disturbed-girl-s-guide-to-curing-boredom",
                  "_deepnote_index_column": 27
                },
                {
                  "Unnamed: 0": 28,
                  "title": "Witch in the Woods",
                  "author": "Taylor Ann Bunker",
                  "num_rating": 129,
                  "num_reviews": 26,
                  "avg_rating": 3.74,
                  "num_pages": 204,
                  "original_publish_year": 2013,
                  "series": true,
                  "genres": "['Fantasy', 'Fantasy Paranormal', 'Paranormal Witches', 'Young Adult', 'Fiction', 'Fantasy Supernatural', 'The United States Of America', 'Historical Historical Fiction', 'Fantasy Magic', 'Horror']",
                  "award": 0,
                  "place": "nan",
                  "url": "https://www.goodreads.com//book/show/19464292-witch-in-the-woods",
                  "_deepnote_index_column": 28
                },
                {
                  "Unnamed: 0": 29,
                  "title": "A Beautiful Mess",
                  "author": "T.K. Leigh",
                  "num_rating": 11759,
                  "num_reviews": 1081,
                  "avg_rating": 4,
                  "num_pages": 323,
                  "original_publish_year": 2013,
                  "series": true,
                  "genres": "['Romance', 'New Adult', 'Romance Contemporary Romance', 'Suspense', 'Contemporary', 'Adult Fiction Erotica', 'Mystery', 'Adult', 'Romance Romantic Suspense', 'Business Amazon']",
                  "award": 0,
                  "place": "United States",
                  "url": "https://www.goodreads.com//book/show/18194292-a-beautiful-mess",
                  "_deepnote_index_column": 29
                },
                {
                  "Unnamed: 0": 30,
                  "title": "Heartsick",
                  "author": "Chelsea Cain",
                  "num_rating": 40885,
                  "num_reviews": 2971,
                  "avg_rating": 3.94,
                  "num_pages": 326,
                  "original_publish_year": 2007,
                  "series": true,
                  "genres": "['Mystery', 'Thriller', 'Fiction', 'Mystery Crime', 'Suspense', 'Thriller Mystery Thriller', 'Horror', 'Drama', 'Adult', 'Adult Fiction']",
                  "award": 0,
                  "place": "United States",
                  "url": "https://www.goodreads.com//book/show/657034.Heartsick",
                  "_deepnote_index_column": 30
                },
                {
                  "Unnamed: 0": 31,
                  "title": "To the Nines",
                  "author": "Janet Evanovich",
                  "num_rating": 112218,
                  "num_reviews": 2114,
                  "avg_rating": 4.15,
                  "num_pages": 352,
                  "original_publish_year": 2004,
                  "series": true,
                  "genres": "['Mystery', 'Fiction', 'Humor', 'Womens Fiction Chick Lit', 'Romance', 'Mystery Crime', 'Humor Comedy', 'Thriller Mystery Thriller', 'Contemporary', 'Adult']",
                  "award": 0,
                  "place": "United States",
                  "url": "https://www.goodreads.com//book/show/40331.To_the_Nines",
                  "_deepnote_index_column": 31
                },
                {
                  "Unnamed: 0": 32,
                  "title": "The Adoration of Jenna Fox",
                  "author": "Mary E. Pearson",
                  "num_rating": 50543,
                  "num_reviews": 4828,
                  "avg_rating": 3.69,
                  "num_pages": 266,
                  "original_publish_year": 2008,
                  "series": true,
                  "genres": "['Young Adult', 'Science Fiction', 'Science Fiction Dystopia', 'Fiction', 'Young Adult Teen', 'Fantasy', 'Mystery', 'Romance', 'Audiobook', 'Futuristic']",
                  "award": 10,
                  "place": "nan",
                  "url": "https://www.goodreads.com//book/show/1902241.The_Adoration_of_Jenna_Fox",
                  "_deepnote_index_column": 32
                },
                {
                  "Unnamed: 0": 33,
                  "title": "Megan Meade's Guide to the McGowan Boys",
                  "author": "Kate Brian",
                  "num_rating": 32293,
                  "num_reviews": 1408,
                  "avg_rating": 3.92,
                  "num_pages": 268,
                  "original_publish_year": 2006,
                  "series": false,
                  "genres": "['Young Adult', 'Romance', 'Contemporary', 'Womens Fiction Chick Lit', 'Young Adult High School', 'Young Adult Teen', 'Realistic Fiction', 'Young Adult Young Adult Romance', 'Fiction', 'Young Adult Young Adult Contemporary']",
                  "award": 0,
                  "place": "United States",
                  "url": "https://www.goodreads.com//book/show/238360.Megan_Meade_s_Guide_to_the_McGowan_Boys",
                  "_deepnote_index_column": 33
                },
                {
                  "Unnamed: 0": 34,
                  "title": "Ethereal",
                  "author": "Addison Moore",
                  "num_rating": 13700,
                  "num_reviews": 955,
                  "avg_rating": 3.75,
                  "num_pages": 225,
                  "original_publish_year": 2011,
                  "series": true,
                  "genres": "['Fantasy Paranormal', 'Young Adult', 'Paranormal Angels', 'Fantasy', 'Romance', 'Romance Paranormal Romance', 'Fantasy Supernatural', 'Fantasy Magic', 'Fantasy Urban Fantasy', 'Science Fiction Time Travel']",
                  "award": 0,
                  "place": "nan",
                  "url": "https://www.goodreads.com//book/show/10941624-ethereal",
                  "_deepnote_index_column": 34
                },
                {
                  "Unnamed: 0": 35,
                  "title": "Mister Monday",
                  "author": "Garth Nix",
                  "num_rating": 35686,
                  "num_reviews": 1551,
                  "avg_rating": 3.79,
                  "num_pages": 384,
                  "original_publish_year": 2006,
                  "series": true,
                  "genres": "['Fantasy', 'Young Adult', 'Fiction', 'Childrens', 'Adventure', 'Childrens Middle Grade', 'Fantasy Magic', 'Young Adult Young Adult Fantasy', 'Science Fiction Fantasy', 'Science Fiction']",
                  "award": 1,
                  "place": "nan",
                  "url": "https://www.goodreads.com//book/show/47613.Mister_Monday",
                  "_deepnote_index_column": 35
                },
                {
                  "Unnamed: 0": 36,
                  "title": "Rooftops of Tehran",
                  "author": "Mahbod Seraji",
                  "num_rating": 9932,
                  "num_reviews": 934,
                  "avg_rating": 3.89,
                  "num_pages": 348,
                  "original_publish_year": 2009,
                  "series": false,
                  "genres": "['Historical Historical Fiction', 'Fiction', 'Cultural Iran', 'Romance', 'Historical', 'Cultural', 'Novels', 'Cultural Asia', 'Young Adult Coming Of Age', 'Literary Fiction']",
                  "award": 0,
                  "place": "nan",
                  "url": "https://www.goodreads.com//book/show/6001011-rooftops-of-tehran",
                  "_deepnote_index_column": 36
                },
                {
                  "Unnamed: 0": 37,
                  "title": "Rainbow Six",
                  "author": "Tom Clancy",
                  "num_rating": 50551,
                  "num_reviews": 1180,
                  "avg_rating": 4.09,
                  "num_pages": 912,
                  "original_publish_year": 1999,
                  "series": true,
                  "genres": "['Fiction', 'Thriller', 'War Military Fiction', 'Action', 'Spy Thriller Espionage', 'Adventure', 'Mystery', 'Suspense', 'Mystery Crime', 'War']",
                  "award": 0,
                  "place": "nan",
                  "url": "https://www.goodreads.com//book/show/5720.Rainbow_Six",
                  "_deepnote_index_column": 37
                }
              ],
              "rows_bottom": [
                {
                  "Unnamed: 0": 162,
                  "title": "A Fine Balance",
                  "author": "Rohinton Mistry",
                  "num_rating": 134206,
                  "num_reviews": 9351,
                  "avg_rating": 4.34,
                  "num_pages": 603,
                  "original_publish_year": 2001,
                  "series": false,
                  "genres": "['Fiction', 'Cultural India', 'Historical Historical Fiction', 'Asian Literature Indian Literature', 'Cultural Canada', 'Cultural Asia', 'Literary Fiction', 'Novels', 'Historical', 'Literature']",
                  "award": 9,
                  "place": "India",
                  "url": "https://www.goodreads.com//book/show/5211.A_Fine_Balance",
                  "_deepnote_index_column": 162
                },
                {
                  "Unnamed: 0": 163,
                  "title": "Sundays at Tiffany's",
                  "author": "James Patterson",
                  "num_rating": 66103,
                  "num_reviews": 6184,
                  "avg_rating": 3.77,
                  "num_pages": 309,
                  "original_publish_year": 2008,
                  "series": false,
                  "genres": "['Romance', 'Fiction', 'Womens Fiction Chick Lit', 'Fantasy', 'Contemporary', 'Adult', 'Adult Fiction', 'Romance Contemporary Romance', 'Fantasy Paranormal', 'Mystery']",
                  "award": 0,
                  "place": "nan",
                  "url": "https://www.goodreads.com//book/show/2029177.Sundays_at_Tiffany_s",
                  "_deepnote_index_column": 163
                },
                {
                  "Unnamed: 0": 164,
                  "title": "Unwifeable: A Memoir",
                  "author": "Mandy Stadtmiller",
                  "num_rating": 2348,
                  "num_reviews": 235,
                  "avg_rating": 3.55,
                  "num_pages": 321,
                  "original_publish_year": 2018,
                  "series": false,
                  "genres": "['Autobiography Memoir', 'Nonfiction', 'Humor', 'Biography Memoir', 'Biography Autobiography', 'Womens', 'Biography', 'Feminism', 'Relationships', 'New York']",
                  "award": 0,
                  "place": "nan",
                  "url": "https://www.goodreads.com//book/show/35297265-unwifeable",
                  "_deepnote_index_column": 164
                },
                {
                  "Unnamed: 0": 165,
                  "title": "Intuition",
                  "author": "Amy A. Bartol",
                  "num_rating": 24782,
                  "num_reviews": 953,
                  "avg_rating": 4.27,
                  "num_pages": 394,
                  "original_publish_year": 2011,
                  "series": true,
                  "genres": "['Paranormal Angels', 'Fantasy Paranormal', 'Fantasy', 'Young Adult', 'Romance', 'Romance Paranormal Romance', 'New Adult', 'Fantasy Supernatural', 'Fantasy Urban Fantasy', 'Fiction']",
                  "award": 0,
                  "place": "nan",
                  "url": "https://www.goodreads.com//book/show/13281637-intuition",
                  "_deepnote_index_column": 165
                },
                {
                  "Unnamed: 0": 166,
                  "title": "The Fallen Star",
                  "author": "Jessica Sorensen",
                  "num_rating": 28215,
                  "num_reviews": 1681,
                  "avg_rating": 3.91,
                  "num_pages": 449,
                  "original_publish_year": 2011,
                  "series": true,
                  "genres": "['Fantasy Paranormal', 'Young Adult', 'Fantasy', 'Romance', 'Paranormal Vampires', 'Romance Paranormal Romance', 'Fantasy Supernatural', 'Fantasy Magic', 'Fiction', 'Fantasy Urban Fantasy']",
                  "award": 0,
                  "place": "nan",
                  "url": "https://www.goodreads.com//book/show/11051889-the-fallen-star",
                  "_deepnote_index_column": 166
                },
                {
                  "Unnamed: 0": 167,
                  "title": "Life After Life",
                  "author": "Kate Atkinson",
                  "num_rating": 205325,
                  "num_reviews": 24662,
                  "avg_rating": 3.76,
                  "num_pages": 531,
                  "original_publish_year": 2013,
                  "series": true,
                  "genres": "['Fiction', 'Historical Historical Fiction', 'Fantasy', 'Historical', 'Science Fiction Time Travel', 'Audiobook', 'Literary Fiction', 'Adult', 'War World War II', 'War']",
                  "award": 11,
                  "place": "nan",
                  "url": "https://www.goodreads.com//book/show/15790842-life-after-life",
                  "_deepnote_index_column": 167
                },
                {
                  "Unnamed: 0": 168,
                  "title": "Peaches",
                  "author": "Jodi Lynn Anderson",
                  "num_rating": 12394,
                  "num_reviews": 868,
                  "avg_rating": 3.63,
                  "num_pages": 368,
                  "original_publish_year": 2012,
                  "series": true,
                  "genres": "['Young Adult', 'Romance', 'Contemporary', 'Fiction', 'Womens Fiction Chick Lit', 'Realistic Fiction', 'Young Adult Teen', 'Young Adult Young Adult Contemporary', 'Young Adult Coming Of Age', 'American Southern']",
                  "award": 1,
                  "place": "nan",
                  "url": "https://www.goodreads.com//book/show/163460.Peaches",
                  "_deepnote_index_column": 168
                },
                {
                  "Unnamed: 0": 169,
                  "title": "Hollowland",
                  "author": "Amanda Hocking",
                  "num_rating": 17957,
                  "num_reviews": 1596,
                  "avg_rating": 3.96,
                  "num_pages": 330,
                  "original_publish_year": 2016,
                  "series": true,
                  "genres": "['Horror Zombies', 'Young Adult', 'Science Fiction Dystopia', 'Horror', 'Fantasy Paranormal', 'Fantasy', 'Apocalyptic Post Apocalyptic', 'Romance', 'Fiction', 'Science Fiction']",
                  "award": 0,
                  "place": "nan",
                  "url": "https://www.goodreads.com//book/show/31351167-hollowland",
                  "_deepnote_index_column": 169
                },
                {
                  "Unnamed: 0": 170,
                  "title": "Among the Betrayed",
                  "author": "Margaret Peterson Haddix",
                  "num_rating": 24232,
                  "num_reviews": 1074,
                  "avg_rating": 4.07,
                  "num_pages": 160,
                  "original_publish_year": 2002,
                  "series": true,
                  "genres": "['Young Adult', 'Science Fiction Dystopia', 'Science Fiction', 'Fiction', 'Childrens Middle Grade', 'Childrens', 'Fantasy', 'Adventure', 'Childrens Juvenile', 'Young Adult Teen']",
                  "award": 0,
                  "place": "nan",
                  "url": "https://www.goodreads.com//book/show/303460.Among_the_Betrayed",
                  "_deepnote_index_column": 170
                },
                {
                  "Unnamed: 0": 171,
                  "title": "Accordance",
                  "author": "Shelly Crane",
                  "num_rating": 27950,
                  "num_reviews": 1106,
                  "avg_rating": 4.27,
                  "num_pages": 314,
                  "original_publish_year": 2011,
                  "series": true,
                  "genres": "['Fantasy Paranormal', 'Young Adult', 'Romance', 'Fantasy', 'Romance Paranormal Romance', 'Fantasy Supernatural', 'Fantasy Magic', 'New Adult', 'Contemporary', 'Young Adult Young Adult Paranormal']",
                  "award": 0,
                  "place": "nan",
                  "url": "https://www.goodreads.com//book/show/12667194-accordance",
                  "_deepnote_index_column": 171
                },
                {
                  "Unnamed: 0": 172,
                  "title": "Replay",
                  "author": "Ken Grimwood",
                  "num_rating": 33251,
                  "num_reviews": 3538,
                  "avg_rating": 4.15,
                  "num_pages": 311,
                  "original_publish_year": 1998,
                  "series": false,
                  "genres": "['Fiction', 'Science Fiction', 'Science Fiction Time Travel', 'Fantasy', 'Audiobook', 'Science Fiction Fantasy', 'Romance', 'Speculative Fiction', 'Adult', 'Novels']",
                  "award": 2,
                  "place": "nan",
                  "url": "https://www.goodreads.com//book/show/341735.Replay",
                  "_deepnote_index_column": 172
                },
                {
                  "Unnamed: 0": 173,
                  "title": "Keeper of the Lost Cities",
                  "author": "Shannon Messenger",
                  "num_rating": 36583,
                  "num_reviews": 4438,
                  "avg_rating": 4.45,
                  "num_pages": 496,
                  "original_publish_year": 2012,
                  "series": true,
                  "genres": "['Fantasy', 'Childrens Middle Grade', 'Young Adult', 'Adventure', 'Fiction', 'Childrens', 'Fantasy Magic', 'Mystery', 'Young Adult Young Adult Fantasy', 'Fantasy Elves']",
                  "award": 1,
                  "place": "United States",
                  "url": "https://www.goodreads.com//book/show/12842828-keeper-of-the-lost-cities",
                  "_deepnote_index_column": 173
                },
                {
                  "Unnamed: 0": 174,
                  "title": "I Know This Much Is True",
                  "author": "Wally Lamb",
                  "num_rating": 293863,
                  "num_reviews": 9274,
                  "avg_rating": 4.19,
                  "num_pages": 897,
                  "original_publish_year": 1999,
                  "series": false,
                  "genres": "['Fiction', 'Contemporary', 'Novels', 'Literary Fiction', 'Adult Fiction', 'Mental Health Mental Illness', 'Adult', 'Psychology', 'Drama', 'Literature']",
                  "award": 1,
                  "place": "nan",
                  "url": "https://www.goodreads.com//book/show/227711.I_Know_This_Much_Is_True",
                  "_deepnote_index_column": 174
                },
                {
                  "Unnamed: 0": 175,
                  "title": "Betrayals",
                  "author": "Lili St. Crow",
                  "num_rating": 26138,
                  "num_reviews": 850,
                  "avg_rating": 4.08,
                  "num_pages": 296,
                  "original_publish_year": 2009,
                  "series": true,
                  "genres": "['Young Adult', 'Paranormal Vampires', 'Fantasy Paranormal', 'Fantasy', 'Fantasy Urban Fantasy', 'Shapeshifters Werewolves', 'Romance', 'Fantasy Supernatural', 'Romance Paranormal Romance', 'Paranormal Shapeshifters']",
                  "award": 0,
                  "place": "nan",
                  "url": "https://www.goodreads.com//book/show/6371117-betrayals",
                  "_deepnote_index_column": 175
                },
                {
                  "Unnamed: 0": 176,
                  "title": "The Immortals of Meluha",
                  "author": "Amish Tripathi",
                  "num_rating": 105405,
                  "num_reviews": 5898,
                  "avg_rating": 4.1,
                  "num_pages": 436,
                  "original_publish_year": 2010,
                  "series": true,
                  "genres": "['Fiction', 'Fantasy', 'Fantasy Mythology', 'Asian Literature Indian Literature', 'Cultural India', 'Historical Historical Fiction', 'Amish', 'Novels', 'Adventure', 'Historical']",
                  "award": 0,
                  "place": "nan",
                  "url": "https://www.goodreads.com//book/show/7913305-the-immortals-of-meluha",
                  "_deepnote_index_column": 176
                },
                {
                  "Unnamed: 0": 177,
                  "title": "Love Unrehearsed",
                  "author": "Tina Reber",
                  "num_rating": 44842,
                  "num_reviews": 1855,
                  "avg_rating": 4.25,
                  "num_pages": 448,
                  "original_publish_year": 2012,
                  "series": true,
                  "genres": "['Romance', 'Romance Contemporary Romance', 'Contemporary', 'New Adult', 'Adult', 'Womens Fiction Chick Lit', 'Love', 'Adult Fiction Erotica', 'Fiction', 'Drama']",
                  "award": 1,
                  "place": "nan",
                  "url": "https://www.goodreads.com//book/show/12647642-love-unrehearsed",
                  "_deepnote_index_column": 177
                },
                {
                  "Unnamed: 0": 178,
                  "title": "Apollyon",
                  "author": "Jennifer L. Armentrout",
                  "num_rating": 46774,
                  "num_reviews": 2820,
                  "avg_rating": 4.35,
                  "num_pages": 343,
                  "original_publish_year": 2013,
                  "series": true,
                  "genres": "['Fantasy', 'Young Adult', 'Fantasy Paranormal', 'Fantasy Mythology', 'Romance', 'Romance Paranormal Romance', 'Mythology Greek Mythology', 'Fantasy Urban Fantasy', 'Fantasy Supernatural', 'Fantasy Magic']",
                  "award": 0,
                  "place": "nan",
                  "url": "https://www.goodreads.com//book/show/9897164-apollyon",
                  "_deepnote_index_column": 178
                },
                {
                  "Unnamed: 0": 179,
                  "title": "The Nightlife: New York",
                  "author": "Travis Luedke",
                  "num_rating": 1578,
                  "num_reviews": 283,
                  "avg_rating": 3.49,
                  "num_pages": 172,
                  "original_publish_year": 2012,
                  "series": true,
                  "genres": "['Fantasy Paranormal', 'Paranormal Vampires', 'Adult Fiction Erotica', 'Romance', 'Romance Paranormal Romance', 'Fantasy Urban Fantasy', 'Fantasy', 'Adult', 'Romance Erotic Romance', 'Fiction']",
                  "award": 0,
                  "place": "nan",
                  "url": "https://www.goodreads.com//book/show/15980525-the-nightlife",
                  "_deepnote_index_column": 179
                },
                {
                  "Unnamed: 0": 180,
                  "title": "The Sword of Summer",
                  "author": "Rick Riordan",
                  "num_rating": 164339,
                  "num_reviews": 12874,
                  "avg_rating": 4.22,
                  "num_pages": 499,
                  "original_publish_year": 2015,
                  "series": true,
                  "genres": "['Fantasy', 'Fantasy Mythology', 'Young Adult', 'Childrens Middle Grade', 'Fiction', 'Adventure', 'Childrens', 'Fantasy Urban Fantasy', 'Fantasy Magic', 'Young Adult Young Adult Fantasy']",
                  "award": 1,
                  "place": "United States",
                  "url": "https://www.goodreads.com//book/show/15724396-the-sword-of-summer",
                  "_deepnote_index_column": 180
                },
                {
                  "Unnamed: 0": 181,
                  "title": "Awake at Dawn",
                  "author": "C.C. Hunter",
                  "num_rating": 57862,
                  "num_reviews": 1840,
                  "avg_rating": 4.26,
                  "num_pages": 383,
                  "original_publish_year": 2011,
                  "series": true,
                  "genres": "['Young Adult', 'Fantasy Paranormal', 'Fantasy', 'Paranormal Vampires', 'Romance', 'Shapeshifters Werewolves', 'Fantasy Supernatural', 'Fantasy Magic', 'Paranormal Witches', 'Romance Paranormal Romance']",
                  "award": 0,
                  "place": "nan",
                  "url": "https://www.goodreads.com//book/show/10800916-awake-at-dawn",
                  "_deepnote_index_column": 181
                },
                {
                  "Unnamed: 0": 182,
                  "title": "Walk Two Moons",
                  "author": "Sharon Creech",
                  "num_rating": 156717,
                  "num_reviews": 7067,
                  "avg_rating": 3.96,
                  "num_pages": 280,
                  "original_publish_year": 1996,
                  "series": false,
                  "genres": "['Young Adult', 'Fiction', 'Childrens Middle Grade', 'Realistic Fiction', 'Childrens', 'Academic School', 'Contemporary', 'Classics', 'Family', 'Young Adult Coming Of Age']",
                  "award": 4,
                  "place": "nan",
                  "url": "https://www.goodreads.com//book/show/53496.Walk_Two_Moons",
                  "_deepnote_index_column": 182
                },
                {
                  "Unnamed: 0": 183,
                  "title": "Touch of Frost",
                  "author": "Jennifer Estep",
                  "num_rating": 30037,
                  "num_reviews": 2124,
                  "avg_rating": 3.95,
                  "num_pages": 350,
                  "original_publish_year": 2011,
                  "series": true,
                  "genres": "['Young Adult', 'Fantasy', 'Fantasy Mythology', 'Fantasy Paranormal', 'Fantasy Urban Fantasy', 'Fantasy Magic', 'Romance', 'Fantasy Supernatural', 'Mystery', 'Romance Paranormal Romance']",
                  "award": 1,
                  "place": "United States",
                  "url": "https://www.goodreads.com//book/show/9439989-touch-of-frost",
                  "_deepnote_index_column": 183
                },
                {
                  "Unnamed: 0": 184,
                  "title": "The Declaration",
                  "author": "Gemma Malley",
                  "num_rating": 21305,
                  "num_reviews": 1689,
                  "avg_rating": 3.71,
                  "num_pages": 320,
                  "original_publish_year": 2007,
                  "series": true,
                  "genres": "['Young Adult', 'Science Fiction Dystopia', 'Science Fiction', 'Fiction', 'Romance', 'Fantasy', 'Young Adult Teen', 'Futuristic', 'Apocalyptic Post Apocalyptic', 'Adventure']",
                  "award": 1,
                  "place": "nan",
                  "url": "https://www.goodreads.com//book/show/1722717.The_Declaration",
                  "_deepnote_index_column": 184
                },
                {
                  "Unnamed: 0": 185,
                  "title": "The Golem's Eye",
                  "author": "Jonathan Stroud",
                  "num_rating": 89957,
                  "num_reviews": 2084,
                  "avg_rating": 4.08,
                  "num_pages": 562,
                  "original_publish_year": 2006,
                  "series": true,
                  "genres": "['Fantasy', 'Young Adult', 'Fiction', 'Fantasy Magic', 'Childrens', 'Adventure', 'Childrens Middle Grade', 'Fantasy Urban Fantasy', 'Young Adult Young Adult Fantasy', 'Audiobook']",
                  "award": 1,
                  "place": "nan",
                  "url": "https://www.goodreads.com//book/show/59263.The_Golem_s_Eye",
                  "_deepnote_index_column": 185
                },
                {
                  "Unnamed: 0": 186,
                  "title": "Wool",
                  "author": "Hugh Howey",
                  "num_rating": 78449,
                  "num_reviews": 4463,
                  "avg_rating": 4.12,
                  "num_pages": 594,
                  "original_publish_year": 2011,
                  "series": true,
                  "genres": "['Science Fiction', 'Fiction', 'Science Fiction Dystopia', 'Apocalyptic Post Apocalyptic', 'Fantasy', 'Short Stories', 'Science Fiction Fantasy', 'Science Fiction Apocalyptic', 'Young Adult', 'Adult']",
                  "award": 0,
                  "place": "nan",
                  "url": "https://www.goodreads.com//book/show/12287209-wool",
                  "_deepnote_index_column": 186
                },
                {
                  "Unnamed: 0": 187,
                  "title": "Leaving Paradise",
                  "author": "Simone Elkeles",
                  "num_rating": 41608,
                  "num_reviews": 2449,
                  "avg_rating": 4,
                  "num_pages": 303,
                  "original_publish_year": 2007,
                  "series": true,
                  "genres": "['Young Adult', 'Romance', 'Contemporary', 'Realistic Fiction', 'Fiction', 'Young Adult Young Adult Romance', 'Romance Contemporary Romance', 'Womens Fiction Chick Lit', 'Young Adult High School', 'Young Adult Teen']",
                  "award": 1,
                  "place": "United States",
                  "url": "https://www.goodreads.com//book/show/544424.Leaving_Paradise",
                  "_deepnote_index_column": 187
                },
                {
                  "Unnamed: 0": 188,
                  "title": "These Broken Stars",
                  "author": "Amie Kaufman",
                  "num_rating": 65941,
                  "num_reviews": 8537,
                  "avg_rating": 3.9,
                  "num_pages": 389,
                  "original_publish_year": 2013,
                  "series": true,
                  "genres": "['Young Adult', 'Science Fiction', 'Romance', 'Fantasy', 'Science Fiction Dystopia', 'Fiction', 'Space', 'Science Fiction Aliens', 'Adventure', 'Audiobook']",
                  "award": 4,
                  "place": "nan",
                  "url": "https://www.goodreads.com//book/show/13138635-these-broken-stars",
                  "_deepnote_index_column": 188
                },
                {
                  "Unnamed: 0": 189,
                  "title": "Running Out of Time",
                  "author": "Margaret Peterson Haddix",
                  "num_rating": 23600,
                  "num_reviews": 1565,
                  "avg_rating": 3.99,
                  "num_pages": 184,
                  "original_publish_year": 2004,
                  "series": false,
                  "genres": "['Young Adult', 'Fiction', 'Science Fiction', 'Childrens Middle Grade', 'Historical Historical Fiction', 'Childrens', 'Adventure', 'Mystery', 'Science Fiction Dystopia', 'Realistic Fiction']",
                  "award": 5,
                  "place": "United States",
                  "url": "https://www.goodreads.com//book/show/227658.Running_Out_of_Time",
                  "_deepnote_index_column": 189
                },
                {
                  "Unnamed: 0": 190,
                  "title": "The Legend of the Firewalker",
                  "author": "Steve Bevil",
                  "num_rating": 1985,
                  "num_reviews": 123,
                  "avg_rating": 3.68,
                  "num_pages": 378,
                  "original_publish_year": 2013,
                  "series": true,
                  "genres": "['Fantasy', 'Fantasy Paranormal', 'Young Adult', 'Fantasy Magic', 'Fiction', 'Fantasy Urban Fantasy', 'Paranormal Angels', 'Business Amazon', 'Suspense', 'Romance Paranormal Romance']",
                  "award": 0,
                  "place": "nan",
                  "url": "https://www.goodreads.com//book/show/18517185-the-legend-of-the-firewalker",
                  "_deepnote_index_column": 190
                },
                {
                  "Unnamed: 0": 191,
                  "title": "Ptolemy's Gate",
                  "author": "Jonathan Stroud",
                  "num_rating": 80570,
                  "num_reviews": 2201,
                  "avg_rating": 4.26,
                  "num_pages": 501,
                  "original_publish_year": 2006,
                  "series": true,
                  "genres": "['Fantasy', 'Young Adult', 'Fiction', 'Fantasy Magic', 'Fantasy Urban Fantasy', 'Adventure', 'Young Adult Young Adult Fantasy', 'Childrens Middle Grade', 'Childrens', 'Audiobook']",
                  "award": 3,
                  "place": "nan",
                  "url": "https://www.goodreads.com//book/show/59264.Ptolemy_s_Gate",
                  "_deepnote_index_column": 191
                },
                {
                  "Unnamed: 0": 192,
                  "title": "Something About You",
                  "author": "Julie James",
                  "num_rating": 57738,
                  "num_reviews": 2558,
                  "avg_rating": 3.95,
                  "num_pages": 307,
                  "original_publish_year": 2010,
                  "series": true,
                  "genres": "['Romance', 'Romance Contemporary Romance', 'Contemporary', 'Romance Romantic Suspense', 'Womens Fiction Chick Lit', 'Adult', 'Suspense', 'Mystery', 'Fiction', 'Mystery Crime']",
                  "award": 3,
                  "place": "United States",
                  "url": "https://www.goodreads.com//book/show/6642402-something-about-you",
                  "_deepnote_index_column": 192
                },
                {
                  "Unnamed: 0": 193,
                  "title": "The Forbidden Trilogy",
                  "author": "Kimberly Kinrade",
                  "num_rating": 236,
                  "num_reviews": 42,
                  "avg_rating": 4.2,
                  "num_pages": 0,
                  "original_publish_year": 2012,
                  "series": true,
                  "genres": "['Fantasy Paranormal', 'Romance', 'Fantasy', 'Young Adult', 'Science Fiction', 'Fantasy Urban Fantasy']",
                  "award": 0,
                  "place": "nan",
                  "url": "https://www.goodreads.com//book/show/16056060-the-forbidden-trilogy",
                  "_deepnote_index_column": 193
                },
                {
                  "Unnamed: 0": 194,
                  "title": "Crashing Back Down",
                  "author": "Kristen Hope Mazzola",
                  "num_rating": 565,
                  "num_reviews": 182,
                  "avg_rating": 3.78,
                  "num_pages": 218,
                  "original_publish_year": 2013,
                  "series": true,
                  "genres": "['New Adult', 'Romance', 'War Military Fiction', 'Contemporary', 'Romance Contemporary Romance', 'Business Amazon', 'Military Fiction Military Romance', 'Academic College', 'Womens Fiction Chick Lit']",
                  "award": 0,
                  "place": "nan",
                  "url": "https://www.goodreads.com//book/show/18214660-crashing-back-down",
                  "_deepnote_index_column": 194
                },
                {
                  "Unnamed: 0": 195,
                  "title": "The Three Privileges",
                  "author": "A.V. Davina",
                  "num_rating": 36,
                  "num_reviews": 23,
                  "avg_rating": 4.58,
                  "num_pages": 304,
                  "original_publish_year": 2020,
                  "series": false,
                  "genres": "['Fiction', 'Young Adult']",
                  "award": 0,
                  "place": "nan",
                  "url": "https://www.goodreads.com//book/show/53207121-the-three-privileges",
                  "_deepnote_index_column": 195
                },
                {
                  "Unnamed: 0": 196,
                  "title": "Barely Breathing",
                  "author": "Rebecca    Donovan",
                  "num_rating": 67343,
                  "num_reviews": 3597,
                  "avg_rating": 4.32,
                  "num_pages": 385,
                  "original_publish_year": 2012,
                  "series": true,
                  "genres": "['Romance', 'Young Adult', 'New Adult', 'Contemporary', 'Sociology Abuse', 'Romance Contemporary Romance', 'Young Adult High School', 'Fiction', 'Drama', 'Realistic Fiction']",
                  "award": 1,
                  "place": "nan",
                  "url": "https://www.goodreads.com//book/show/13454149-barely-breathing",
                  "_deepnote_index_column": 196
                },
                {
                  "Unnamed: 0": 197,
                  "title": "The Awakening: Fate in Motion",
                  "author": "Suzanne Boisvert",
                  "num_rating": 6668,
                  "num_reviews": 41,
                  "avg_rating": 4.31,
                  "num_pages": 331,
                  "original_publish_year": 2018,
                  "series": false,
                  "genres": "['Contemporary', 'Fiction', 'Drama', 'Book Club', 'Novels', 'Fantasy', 'Young Adult', 'Adventure', 'Childrens Middle Grade', 'Adult']",
                  "award": 0,
                  "place": "nan",
                  "url": "https://www.goodreads.com//book/show/41423092-the-awakening",
                  "_deepnote_index_column": 197
                },
                {
                  "Unnamed: 0": 198,
                  "title": "Legend",
                  "author": "David Gemmell",
                  "num_rating": 27602,
                  "num_reviews": 1299,
                  "avg_rating": 4.27,
                  "num_pages": 345,
                  "original_publish_year": 1994,
                  "series": true,
                  "genres": "['Fantasy', 'Fiction', 'Fantasy Epic Fantasy', 'Fantasy Heroic Fantasy', 'Fantasy High Fantasy', 'Adventure', 'Heroic Fantasy Sword and Sorcery', 'War', 'Science Fiction Fantasy', 'Epic']",
                  "award": 1,
                  "place": "nan",
                  "url": "https://www.goodreads.com//book/show/618177.Legend",
                  "_deepnote_index_column": 198
                },
                {
                  "Unnamed: 0": 199,
                  "title": "Curse of The Salute",
                  "author": "Anastacia Moore",
                  "num_rating": 2640,
                  "num_reviews": 13,
                  "avg_rating": 3.45,
                  "num_pages": 171,
                  "original_publish_year": 2012,
                  "series": false,
                  "genres": "['Fiction', 'Drama', 'Horror']",
                  "award": 0,
                  "place": "nan",
                  "url": "https://www.goodreads.com//book/show/17904495-curse-of-the-salute",
                  "_deepnote_index_column": 199
                }
              ]
            },
            "text/plain": "     Unnamed: 0                          title               author  \\\n0             0                         Burned        Ellen Hopkins   \n1             1             Kafka on the Shore      Haruki Murakami   \n2             2                Night Pleasures     Sherrilyn Kenyon   \n3             3                       Survivor      Chuck Palahniuk   \n4             4           The Crown Conspiracy  Michael J. Sullivan   \n..          ...                            ...                  ...   \n195         195           The Three Privileges          A.V. Davina   \n196         196               Barely Breathing   Rebecca    Donovan   \n197         197  The Awakening: Fate in Motion     Suzanne Boisvert   \n198         198                         Legend        David Gemmell   \n199         199            Curse of The Salute      Anastacia Moore   \n\n     num_rating  num_reviews  avg_rating  num_pages  original_publish_year  \\\n0         58384       3828.0        4.25        431                   2006   \n1        330576      23431.0        4.13        467                   2006   \n2         74029       2859.0        4.20        309                   2009   \n3        111185       3688.0        3.91        304                   2018   \n4         19759       1055.0        4.19        296                   2008   \n..          ...          ...         ...        ...                    ...   \n195          36         23.0        4.58        304                   2020   \n196       67343       3597.0        4.32        385                   2012   \n197        6668         41.0        4.31        331                   2018   \n198       27602       1299.0        4.27        345                   1994   \n199        2640         13.0        3.45        171                   2012   \n\n     series                                             genres  award  \\\n0      True  ['Young Adult', 'Poetry', 'Fiction', 'Contempo...      0   \n1     False  ['Fiction', 'Magical Realism', 'Fantasy', 'Cul...      9   \n2      True  ['Fantasy Paranormal', 'Romance', 'Romance Par...      3   \n3     False  ['Fiction', 'Contemporary', 'Thriller', 'Novel...      1   \n4      True  ['Fantasy', 'Fiction', 'Fantasy Epic Fantasy',...      0   \n..      ...                                                ...    ...   \n195   False                         ['Fiction', 'Young Adult']      0   \n196    True  ['Romance', 'Young Adult', 'New Adult', 'Conte...      1   \n197   False  ['Contemporary', 'Fiction', 'Drama', 'Book Clu...      0   \n198    True  ['Fantasy', 'Fiction', 'Fantasy Epic Fantasy',...      1   \n199   False                     ['Fiction', 'Drama', 'Horror']      0   \n\n             place                                                url  \n0    United States  https://www.goodreads.com//book/show/270807.Bu...  \n1            Japan  https://www.goodreads.com//book/show/4929.Kafk...  \n2    United States  https://www.goodreads.com//book/show/6944032-n...  \n3              NaN  https://www.goodreads.com//book/show/36236123-...  \n4              NaN  https://www.goodreads.com//book/show/4345290-t...  \n..             ...                                                ...  \n195            NaN  https://www.goodreads.com//book/show/53207121-...  \n196            NaN  https://www.goodreads.com//book/show/13454149-...  \n197            NaN  https://www.goodreads.com//book/show/41423092-...  \n198            NaN  https://www.goodreads.com//book/show/618177.Le...  \n199            NaN  https://www.goodreads.com//book/show/17904495-...  \n\n[200 rows x 13 columns]",
            "text/html": "<div>\n<style scoped>\n    .dataframe tbody tr th:only-of-type {\n        vertical-align: middle;\n    }\n\n    .dataframe tbody tr th {\n        vertical-align: top;\n    }\n\n    .dataframe thead th {\n        text-align: right;\n    }\n</style>\n<table border=\"1\" class=\"dataframe\">\n  <thead>\n    <tr style=\"text-align: right;\">\n      <th></th>\n      <th>Unnamed: 0</th>\n      <th>title</th>\n      <th>author</th>\n      <th>num_rating</th>\n      <th>num_reviews</th>\n      <th>avg_rating</th>\n      <th>num_pages</th>\n      <th>original_publish_year</th>\n      <th>series</th>\n      <th>genres</th>\n      <th>award</th>\n      <th>place</th>\n      <th>url</th>\n    </tr>\n  </thead>\n  <tbody>\n    <tr>\n      <th>0</th>\n      <td>0</td>\n      <td>Burned</td>\n      <td>Ellen Hopkins</td>\n      <td>58384</td>\n      <td>3828.0</td>\n      <td>4.25</td>\n      <td>431</td>\n      <td>2006</td>\n      <td>True</td>\n      <td>['Young Adult', 'Poetry', 'Fiction', 'Contempo...</td>\n      <td>0</td>\n      <td>United States</td>\n      <td>https://www.goodreads.com//book/show/270807.Bu...</td>\n    </tr>\n    <tr>\n      <th>1</th>\n      <td>1</td>\n      <td>Kafka on the Shore</td>\n      <td>Haruki Murakami</td>\n      <td>330576</td>\n      <td>23431.0</td>\n      <td>4.13</td>\n      <td>467</td>\n      <td>2006</td>\n      <td>False</td>\n      <td>['Fiction', 'Magical Realism', 'Fantasy', 'Cul...</td>\n      <td>9</td>\n      <td>Japan</td>\n      <td>https://www.goodreads.com//book/show/4929.Kafk...</td>\n    </tr>\n    <tr>\n      <th>2</th>\n      <td>2</td>\n      <td>Night Pleasures</td>\n      <td>Sherrilyn Kenyon</td>\n      <td>74029</td>\n      <td>2859.0</td>\n      <td>4.20</td>\n      <td>309</td>\n      <td>2009</td>\n      <td>True</td>\n      <td>['Fantasy Paranormal', 'Romance', 'Romance Par...</td>\n      <td>3</td>\n      <td>United States</td>\n      <td>https://www.goodreads.com//book/show/6944032-n...</td>\n    </tr>\n    <tr>\n      <th>3</th>\n      <td>3</td>\n      <td>Survivor</td>\n      <td>Chuck Palahniuk</td>\n      <td>111185</td>\n      <td>3688.0</td>\n      <td>3.91</td>\n      <td>304</td>\n      <td>2018</td>\n      <td>False</td>\n      <td>['Fiction', 'Contemporary', 'Thriller', 'Novel...</td>\n      <td>1</td>\n      <td>NaN</td>\n      <td>https://www.goodreads.com//book/show/36236123-...</td>\n    </tr>\n    <tr>\n      <th>4</th>\n      <td>4</td>\n      <td>The Crown Conspiracy</td>\n      <td>Michael J. Sullivan</td>\n      <td>19759</td>\n      <td>1055.0</td>\n      <td>4.19</td>\n      <td>296</td>\n      <td>2008</td>\n      <td>True</td>\n      <td>['Fantasy', 'Fiction', 'Fantasy Epic Fantasy',...</td>\n      <td>0</td>\n      <td>NaN</td>\n      <td>https://www.goodreads.com//book/show/4345290-t...</td>\n    </tr>\n    <tr>\n      <th>...</th>\n      <td>...</td>\n      <td>...</td>\n      <td>...</td>\n      <td>...</td>\n      <td>...</td>\n      <td>...</td>\n      <td>...</td>\n      <td>...</td>\n      <td>...</td>\n      <td>...</td>\n      <td>...</td>\n      <td>...</td>\n      <td>...</td>\n    </tr>\n    <tr>\n      <th>195</th>\n      <td>195</td>\n      <td>The Three Privileges</td>\n      <td>A.V. Davina</td>\n      <td>36</td>\n      <td>23.0</td>\n      <td>4.58</td>\n      <td>304</td>\n      <td>2020</td>\n      <td>False</td>\n      <td>['Fiction', 'Young Adult']</td>\n      <td>0</td>\n      <td>NaN</td>\n      <td>https://www.goodreads.com//book/show/53207121-...</td>\n    </tr>\n    <tr>\n      <th>196</th>\n      <td>196</td>\n      <td>Barely Breathing</td>\n      <td>Rebecca    Donovan</td>\n      <td>67343</td>\n      <td>3597.0</td>\n      <td>4.32</td>\n      <td>385</td>\n      <td>2012</td>\n      <td>True</td>\n      <td>['Romance', 'Young Adult', 'New Adult', 'Conte...</td>\n      <td>1</td>\n      <td>NaN</td>\n      <td>https://www.goodreads.com//book/show/13454149-...</td>\n    </tr>\n    <tr>\n      <th>197</th>\n      <td>197</td>\n      <td>The Awakening: Fate in Motion</td>\n      <td>Suzanne Boisvert</td>\n      <td>6668</td>\n      <td>41.0</td>\n      <td>4.31</td>\n      <td>331</td>\n      <td>2018</td>\n      <td>False</td>\n      <td>['Contemporary', 'Fiction', 'Drama', 'Book Clu...</td>\n      <td>0</td>\n      <td>NaN</td>\n      <td>https://www.goodreads.com//book/show/41423092-...</td>\n    </tr>\n    <tr>\n      <th>198</th>\n      <td>198</td>\n      <td>Legend</td>\n      <td>David Gemmell</td>\n      <td>27602</td>\n      <td>1299.0</td>\n      <td>4.27</td>\n      <td>345</td>\n      <td>1994</td>\n      <td>True</td>\n      <td>['Fantasy', 'Fiction', 'Fantasy Epic Fantasy',...</td>\n      <td>1</td>\n      <td>NaN</td>\n      <td>https://www.goodreads.com//book/show/618177.Le...</td>\n    </tr>\n    <tr>\n      <th>199</th>\n      <td>199</td>\n      <td>Curse of The Salute</td>\n      <td>Anastacia Moore</td>\n      <td>2640</td>\n      <td>13.0</td>\n      <td>3.45</td>\n      <td>171</td>\n      <td>2012</td>\n      <td>False</td>\n      <td>['Fiction', 'Drama', 'Horror']</td>\n      <td>0</td>\n      <td>NaN</td>\n      <td>https://www.goodreads.com//book/show/17904495-...</td>\n    </tr>\n  </tbody>\n</table>\n<p>200 rows × 13 columns</p>\n</div>"
          },
          "metadata": {}
        }
      ],
      "execution_count": null
    },
    {
      "cell_type": "code",
      "source": "f4=pd.read_csv('100.csv')\nf4",
      "metadata": {
        "tags": [],
        "cell_id": "00039-17ac111a-c210-43da-ac13-7112d0f218ec",
        "deepnote_to_be_reexecuted": false,
        "source_hash": "101b2d15",
        "execution_millis": 76,
        "execution_start": 1618463051228,
        "deepnote_cell_type": "code"
      },
      "outputs": [
        {
          "output_type": "execute_result",
          "execution_count": 27,
          "data": {
            "application/vnd.deepnote.dataframe.v2+json": {
              "row_count": 100,
              "column_count": 13,
              "columns": [
                {
                  "name": "Unnamed: 0",
                  "dtype": "int64",
                  "stats": {
                    "unique_count": 100,
                    "nan_count": 0,
                    "min": "0",
                    "max": "99",
                    "histogram": [
                      {
                        "bin_start": 0,
                        "bin_end": 9.9,
                        "count": 10
                      },
                      {
                        "bin_start": 9.9,
                        "bin_end": 19.8,
                        "count": 10
                      },
                      {
                        "bin_start": 19.8,
                        "bin_end": 29.700000000000003,
                        "count": 10
                      },
                      {
                        "bin_start": 29.700000000000003,
                        "bin_end": 39.6,
                        "count": 10
                      },
                      {
                        "bin_start": 39.6,
                        "bin_end": 49.5,
                        "count": 10
                      },
                      {
                        "bin_start": 49.5,
                        "bin_end": 59.400000000000006,
                        "count": 10
                      },
                      {
                        "bin_start": 59.400000000000006,
                        "bin_end": 69.3,
                        "count": 10
                      },
                      {
                        "bin_start": 69.3,
                        "bin_end": 79.2,
                        "count": 10
                      },
                      {
                        "bin_start": 79.2,
                        "bin_end": 89.10000000000001,
                        "count": 10
                      },
                      {
                        "bin_start": 89.10000000000001,
                        "bin_end": 99,
                        "count": 10
                      }
                    ]
                  }
                },
                {
                  "name": "title",
                  "dtype": "object",
                  "stats": {
                    "unique_count": 63,
                    "nan_count": 37,
                    "categories": [
                      {
                        "name": "I Am the Messenger",
                        "count": 1
                      },
                      {
                        "name": "62 others",
                        "count": 62
                      },
                      {
                        "name": "Missing",
                        "count": 37
                      }
                    ]
                  }
                },
                {
                  "name": "author",
                  "dtype": "object",
                  "stats": {
                    "unique_count": 59,
                    "nan_count": 37,
                    "categories": [
                      {
                        "name": "Stephen King",
                        "count": 2
                      },
                      {
                        "name": "58 others",
                        "count": 61
                      },
                      {
                        "name": "Missing",
                        "count": 37
                      }
                    ]
                  }
                },
                {
                  "name": "num_rating",
                  "dtype": "float64",
                  "stats": {
                    "unique_count": 63,
                    "nan_count": 37,
                    "min": "62.0",
                    "max": "518833.0",
                    "histogram": [
                      {
                        "bin_start": 62,
                        "bin_end": 51939.1,
                        "count": 29
                      },
                      {
                        "bin_start": 51939.1,
                        "bin_end": 103816.2,
                        "count": 15
                      },
                      {
                        "bin_start": 103816.2,
                        "bin_end": 155693.3,
                        "count": 9
                      },
                      {
                        "bin_start": 155693.3,
                        "bin_end": 207570.4,
                        "count": 5
                      },
                      {
                        "bin_start": 207570.4,
                        "bin_end": 259447.5,
                        "count": 1
                      },
                      {
                        "bin_start": 259447.5,
                        "bin_end": 311324.6,
                        "count": 1
                      },
                      {
                        "bin_start": 311324.6,
                        "bin_end": 363201.7,
                        "count": 2
                      },
                      {
                        "bin_start": 363201.7,
                        "bin_end": 415078.8,
                        "count": 0
                      },
                      {
                        "bin_start": 415078.8,
                        "bin_end": 466955.89999999997,
                        "count": 0
                      },
                      {
                        "bin_start": 466955.89999999997,
                        "bin_end": 518833,
                        "count": 1
                      }
                    ]
                  }
                },
                {
                  "name": "num_reviews",
                  "dtype": "float64",
                  "stats": {
                    "unique_count": 63,
                    "nan_count": 37,
                    "min": "5.0",
                    "max": "34884.0",
                    "histogram": [
                      {
                        "bin_start": 5,
                        "bin_end": 3492.9,
                        "count": 36
                      },
                      {
                        "bin_start": 3492.9,
                        "bin_end": 6980.8,
                        "count": 13
                      },
                      {
                        "bin_start": 6980.8,
                        "bin_end": 10468.7,
                        "count": 5
                      },
                      {
                        "bin_start": 10468.7,
                        "bin_end": 13956.6,
                        "count": 2
                      },
                      {
                        "bin_start": 13956.6,
                        "bin_end": 17444.5,
                        "count": 2
                      },
                      {
                        "bin_start": 17444.5,
                        "bin_end": 20932.4,
                        "count": 2
                      },
                      {
                        "bin_start": 20932.4,
                        "bin_end": 24420.3,
                        "count": 1
                      },
                      {
                        "bin_start": 24420.3,
                        "bin_end": 27908.2,
                        "count": 1
                      },
                      {
                        "bin_start": 27908.2,
                        "bin_end": 31396.100000000002,
                        "count": 0
                      },
                      {
                        "bin_start": 31396.100000000002,
                        "bin_end": 34884,
                        "count": 1
                      }
                    ]
                  }
                },
                {
                  "name": "avg_rating",
                  "dtype": "float64",
                  "stats": {
                    "unique_count": 47,
                    "nan_count": 37,
                    "min": "3.42",
                    "max": "4.39",
                    "histogram": [
                      {
                        "bin_start": 3.42,
                        "bin_end": 3.517,
                        "count": 3
                      },
                      {
                        "bin_start": 3.517,
                        "bin_end": 3.614,
                        "count": 0
                      },
                      {
                        "bin_start": 3.614,
                        "bin_end": 3.711,
                        "count": 2
                      },
                      {
                        "bin_start": 3.711,
                        "bin_end": 3.808,
                        "count": 2
                      },
                      {
                        "bin_start": 3.808,
                        "bin_end": 3.905,
                        "count": 12
                      },
                      {
                        "bin_start": 3.905,
                        "bin_end": 4.002,
                        "count": 8
                      },
                      {
                        "bin_start": 4.002,
                        "bin_end": 4.099,
                        "count": 7
                      },
                      {
                        "bin_start": 4.099,
                        "bin_end": 4.196,
                        "count": 11
                      },
                      {
                        "bin_start": 4.196,
                        "bin_end": 4.292999999999999,
                        "count": 8
                      },
                      {
                        "bin_start": 4.292999999999999,
                        "bin_end": 4.39,
                        "count": 10
                      }
                    ]
                  }
                },
                {
                  "name": "num_pages",
                  "dtype": "int64",
                  "stats": {
                    "unique_count": 57,
                    "nan_count": 0,
                    "min": "0",
                    "max": "936",
                    "histogram": [
                      {
                        "bin_start": 0,
                        "bin_end": 93.6,
                        "count": 37
                      },
                      {
                        "bin_start": 93.6,
                        "bin_end": 187.2,
                        "count": 1
                      },
                      {
                        "bin_start": 187.2,
                        "bin_end": 280.79999999999995,
                        "count": 10
                      },
                      {
                        "bin_start": 280.79999999999995,
                        "bin_end": 374.4,
                        "count": 26
                      },
                      {
                        "bin_start": 374.4,
                        "bin_end": 468,
                        "count": 17
                      },
                      {
                        "bin_start": 468,
                        "bin_end": 561.5999999999999,
                        "count": 4
                      },
                      {
                        "bin_start": 561.5999999999999,
                        "bin_end": 655.1999999999999,
                        "count": 3
                      },
                      {
                        "bin_start": 655.1999999999999,
                        "bin_end": 748.8,
                        "count": 0
                      },
                      {
                        "bin_start": 748.8,
                        "bin_end": 842.4,
                        "count": 0
                      },
                      {
                        "bin_start": 842.4,
                        "bin_end": 936,
                        "count": 2
                      }
                    ]
                  }
                },
                {
                  "name": "original_publish_year",
                  "dtype": "float64",
                  "stats": {
                    "unique_count": 21,
                    "nan_count": 37,
                    "min": "1998.0",
                    "max": "2020.0",
                    "histogram": [
                      {
                        "bin_start": 1998,
                        "bin_end": 2000.2,
                        "count": 4
                      },
                      {
                        "bin_start": 2000.2,
                        "bin_end": 2002.4,
                        "count": 2
                      },
                      {
                        "bin_start": 2002.4,
                        "bin_end": 2004.6,
                        "count": 5
                      },
                      {
                        "bin_start": 2004.6,
                        "bin_end": 2006.8,
                        "count": 6
                      },
                      {
                        "bin_start": 2006.8,
                        "bin_end": 2009,
                        "count": 7
                      },
                      {
                        "bin_start": 2009,
                        "bin_end": 2011.2,
                        "count": 19
                      },
                      {
                        "bin_start": 2011.2,
                        "bin_end": 2013.4,
                        "count": 10
                      },
                      {
                        "bin_start": 2013.4,
                        "bin_end": 2015.6,
                        "count": 5
                      },
                      {
                        "bin_start": 2015.6,
                        "bin_end": 2017.8,
                        "count": 3
                      },
                      {
                        "bin_start": 2017.8,
                        "bin_end": 2020,
                        "count": 2
                      }
                    ]
                  }
                },
                {
                  "name": "series",
                  "dtype": "object",
                  "stats": {
                    "unique_count": 2,
                    "nan_count": 37,
                    "categories": [
                      {
                        "name": "True",
                        "count": 47
                      },
                      {
                        "name": "False",
                        "count": 16
                      },
                      {
                        "name": "Missing",
                        "count": 37
                      }
                    ]
                  }
                },
                {
                  "name": "genres",
                  "dtype": "object",
                  "stats": {
                    "unique_count": 63,
                    "nan_count": 37,
                    "categories": [
                      {
                        "name": "['Young Adult', 'Fiction', 'Mystery', 'Contemporary', 'Realistic Fiction', 'Audiobook', 'Young Adult Teen', 'Cultural Australia', 'Adult', 'Young Adult Coming Of Age']",
                        "count": 1
                      },
                      {
                        "name": "62 others",
                        "count": 62
                      },
                      {
                        "name": "Missing",
                        "count": 37
                      }
                    ]
                  }
                },
                {
                  "name": "award",
                  "dtype": "int64",
                  "stats": {
                    "unique_count": 10,
                    "nan_count": 0,
                    "min": "0",
                    "max": "15",
                    "histogram": [
                      {
                        "bin_start": 0,
                        "bin_end": 1.5,
                        "count": 85
                      },
                      {
                        "bin_start": 1.5,
                        "bin_end": 3,
                        "count": 2
                      },
                      {
                        "bin_start": 3,
                        "bin_end": 4.5,
                        "count": 6
                      },
                      {
                        "bin_start": 4.5,
                        "bin_end": 6,
                        "count": 2
                      },
                      {
                        "bin_start": 6,
                        "bin_end": 7.5,
                        "count": 0
                      },
                      {
                        "bin_start": 7.5,
                        "bin_end": 9,
                        "count": 0
                      },
                      {
                        "bin_start": 9,
                        "bin_end": 10.5,
                        "count": 1
                      },
                      {
                        "bin_start": 10.5,
                        "bin_end": 12,
                        "count": 0
                      },
                      {
                        "bin_start": 12,
                        "bin_end": 13.5,
                        "count": 2
                      },
                      {
                        "bin_start": 13.5,
                        "bin_end": 15,
                        "count": 2
                      }
                    ]
                  }
                },
                {
                  "name": "place",
                  "dtype": "object",
                  "stats": {
                    "unique_count": 7,
                    "nan_count": 78,
                    "categories": [
                      {
                        "name": "United States",
                        "count": 16
                      },
                      {
                        "name": "6 others",
                        "count": 6
                      },
                      {
                        "name": "Missing",
                        "count": 78
                      }
                    ]
                  }
                },
                {
                  "name": "url",
                  "dtype": "object",
                  "stats": {
                    "unique_count": 100,
                    "nan_count": 0,
                    "categories": [
                      {
                        "name": "https://www.goodreads.com//book/show/19057.I_Am_the_Messenger",
                        "count": 1
                      },
                      {
                        "name": "https://www.goodreads.com//book/show/44659.Pawn_of_Prophecy",
                        "count": 1
                      },
                      {
                        "name": "98 others",
                        "count": 98
                      }
                    ]
                  }
                },
                {
                  "name": "_deepnote_index_column",
                  "dtype": "int64"
                }
              ],
              "rows_top": [
                {
                  "Unnamed: 0": 0,
                  "title": "I Am the Messenger",
                  "author": "Markus Zusak",
                  "num_rating": 145829,
                  "num_reviews": 14408,
                  "avg_rating": 4.03,
                  "num_pages": 357,
                  "original_publish_year": 2006,
                  "series": false,
                  "genres": "['Young Adult', 'Fiction', 'Mystery', 'Contemporary', 'Realistic Fiction', 'Audiobook', 'Young Adult Teen', 'Cultural Australia', 'Adult', 'Young Adult Coming Of Age']",
                  "award": 10,
                  "place": "nan",
                  "url": "https://www.goodreads.com//book/show/19057.I_Am_the_Messenger",
                  "_deepnote_index_column": 0
                },
                {
                  "Unnamed: 0": 1,
                  "title": "Pawn of Prophecy",
                  "author": "David Eddings",
                  "num_rating": 99189,
                  "num_reviews": 3149,
                  "avg_rating": 4.13,
                  "num_pages": 304,
                  "original_publish_year": 2004,
                  "series": true,
                  "genres": "['Fantasy', 'Fiction', 'Fantasy Epic Fantasy', 'Young Adult', 'Fantasy High Fantasy', 'Science Fiction Fantasy', 'Adventure', 'Fantasy Magic', 'Childrens', 'Childrens Middle Grade']",
                  "award": 3,
                  "place": "nan",
                  "url": "https://www.goodreads.com//book/show/44659.Pawn_of_Prophecy",
                  "_deepnote_index_column": 1
                },
                {
                  "Unnamed: 0": 2,
                  "title": "Wizard and Glass",
                  "author": "Stephen King",
                  "num_rating": 174859,
                  "num_reviews": 6273,
                  "avg_rating": 4.23,
                  "num_pages": 845,
                  "original_publish_year": 2003,
                  "series": true,
                  "genres": "['Fantasy', 'Fiction', 'Horror', 'Science Fiction', 'Westerns', 'Adventure', 'Audiobook', 'Science Fiction Fantasy', 'Apocalyptic Post Apocalyptic', 'Novels']",
                  "award": 0,
                  "place": "nan",
                  "url": "https://www.goodreads.com//book/show/5096.Wizard_and_Glass",
                  "_deepnote_index_column": 2
                },
                {
                  "Unnamed: 0": 3,
                  "title": "Book of a Thousand Days",
                  "author": "Shannon Hale",
                  "num_rating": 51398,
                  "num_reviews": 6239,
                  "avg_rating": 3.94,
                  "num_pages": 306,
                  "original_publish_year": 2007,
                  "series": false,
                  "genres": "['Fantasy', 'Young Adult', 'Romance', 'Fiction', 'Fantasy Fairy Tales', 'Retellings', 'Historical Historical Fiction', 'Young Adult Young Adult Fantasy', 'Adventure', 'Young Adult Teen']",
                  "award": 5,
                  "place": "nan",
                  "url": "https://www.goodreads.com//book/show/248484.Book_of_a_Thousand_Days",
                  "_deepnote_index_column": 3
                },
                {
                  "Unnamed: 0": 4,
                  "title": "Four to Score",
                  "author": "Janet Evanovich",
                  "num_rating": 131355,
                  "num_reviews": 2969,
                  "avg_rating": 4.17,
                  "num_pages": 313,
                  "original_publish_year": 1999,
                  "series": true,
                  "genres": "['Mystery', 'Fiction', 'Humor', 'Womens Fiction Chick Lit', 'Romance', 'Mystery Crime', 'Humor Comedy', 'Thriller Mystery Thriller', 'Adult', 'Contemporary']",
                  "award": 1,
                  "place": "United States",
                  "url": "https://www.goodreads.com//book/show/6422.Four_to_Score",
                  "_deepnote_index_column": 4
                },
                {
                  "Unnamed: 0": 5,
                  "title": "Cutters Don't Cry",
                  "author": "Christine Dzidrums",
                  "num_rating": 672,
                  "num_reviews": 37,
                  "avg_rating": 4.01,
                  "num_pages": 132,
                  "original_publish_year": 2010,
                  "series": true,
                  "genres": "['Mental Health Mental Illness', 'Health Mental Health', 'Young Adult', 'Realistic Fiction', 'Fiction', 'Psychology', 'Contemporary', 'Dark', 'Young Adult Teen', 'New Adult']",
                  "award": 0,
                  "place": "nan",
                  "url": "https://www.goodreads.com//book/show/10302287-cutters-don-t-cry",
                  "_deepnote_index_column": 5
                },
                {
                  "Unnamed: 0": 6,
                  "title": "Mistress of the Art of Death",
                  "author": "Ariana Franklin",
                  "num_rating": 37052,
                  "num_reviews": 3012,
                  "avg_rating": 3.91,
                  "num_pages": 384,
                  "original_publish_year": 2007,
                  "series": true,
                  "genres": "['Historical Historical Fiction', 'Mystery', 'Fiction', 'Historical', 'Mystery Historical Mystery', 'Historical Medieval', 'Mystery Crime', 'Thriller Mystery Thriller', 'European Literature British Literature', 'Thriller']",
                  "award": 2,
                  "place": "nan",
                  "url": "https://www.goodreads.com//book/show/86643.Mistress_of_the_Art_of_Death",
                  "_deepnote_index_column": 6
                },
                {
                  "Unnamed: 0": 7,
                  "title": "Out of My Mind",
                  "author": "Sharon M. Draper",
                  "num_rating": 118484,
                  "num_reviews": 14499,
                  "avg_rating": 4.37,
                  "num_pages": 295,
                  "original_publish_year": 2010,
                  "series": false,
                  "genres": "['Realistic Fiction', 'Young Adult', 'Childrens Middle Grade', 'Fiction', 'Contemporary', 'Childrens', 'Disability', 'Academic School', 'Childrens Juvenile', 'Family']",
                  "award": 15,
                  "place": "United States",
                  "url": "https://www.goodreads.com//book/show/6609765-out-of-my-mind",
                  "_deepnote_index_column": 7
                },
                {
                  "Unnamed: 0": 8,
                  "title": "Out of Sight, Out of Time",
                  "author": "Ally Carter",
                  "num_rating": 51166,
                  "num_reviews": 2613,
                  "avg_rating": 4.33,
                  "num_pages": 294,
                  "original_publish_year": 2012,
                  "series": true,
                  "genres": "['Young Adult', 'Mystery', 'Romance', 'Contemporary', 'Spy Thriller Espionage', 'Fiction', 'Adventure', 'Womens Fiction Chick Lit', 'Young Adult Teen', 'Action']",
                  "award": 1,
                  "place": "nan",
                  "url": "https://www.goodreads.com//book/show/10560331-out-of-sight-out-of-time",
                  "_deepnote_index_column": 8
                },
                {
                  "Unnamed: 0": 9,
                  "title": "World After",
                  "author": "Susan Ee",
                  "num_rating": 94318,
                  "num_reviews": 8249,
                  "avg_rating": 4.16,
                  "num_pages": 320,
                  "original_publish_year": 2013,
                  "series": true,
                  "genres": "['Fantasy', 'Young Adult', 'Paranormal Angels', 'Science Fiction Dystopia', 'Fantasy Paranormal', 'Romance', 'Apocalyptic Post Apocalyptic', 'Fantasy Urban Fantasy', 'Fiction', 'Fantasy Supernatural']",
                  "award": 0,
                  "place": "United States",
                  "url": "https://www.goodreads.com//book/show/17849112-world-after",
                  "_deepnote_index_column": 9
                },
                {
                  "Unnamed: 0": 10,
                  "title": "Don't Close Your Eyes",
                  "author": "Lynessa Layne",
                  "num_rating": 272,
                  "num_reviews": 47,
                  "avg_rating": 3.83,
                  "num_pages": 326,
                  "original_publish_year": 2020,
                  "series": true,
                  "genres": "['Romance', 'Polyamorous Reverse Harem', 'Contemporary', 'Suspense', 'Mystery Crime', 'Fiction', 'Romance Contemporary Romance', 'Mystery', 'Adult Fiction Erotica']",
                  "award": 0,
                  "place": "nan",
                  "url": "https://www.goodreads.com//book/show/54352941-don-t-close-your-eyes",
                  "_deepnote_index_column": 10
                },
                {
                  "Unnamed: 0": 11,
                  "title": "Feed",
                  "author": "Mira Grant",
                  "num_rating": 53902,
                  "num_reviews": 6379,
                  "avg_rating": 3.86,
                  "num_pages": 599,
                  "original_publish_year": 2010,
                  "series": true,
                  "genres": "['Horror', 'Horror Zombies', 'Science Fiction', 'Fiction', 'Science Fiction Dystopia', 'Apocalyptic Post Apocalyptic', 'Young Adult', 'Fantasy', 'Thriller', 'Audiobook']",
                  "award": 4,
                  "place": "nan",
                  "url": "https://www.goodreads.com//book/show/7094569-feed",
                  "_deepnote_index_column": 11
                },
                {
                  "Unnamed: 0": 12,
                  "title": "Fallen",
                  "author": "Lauren Kate",
                  "num_rating": 518833,
                  "num_reviews": 20072,
                  "avg_rating": 3.72,
                  "num_pages": 452,
                  "original_publish_year": 2009,
                  "series": true,
                  "genres": "['Young Adult', 'Fantasy', 'Romance', 'Fantasy Paranormal', 'Paranormal Angels', 'Romance Paranormal Romance', 'Fiction', 'Fantasy Supernatural', 'Fantasy Urban Fantasy', 'Young Adult Young Adult Fantasy']",
                  "award": 0,
                  "place": "United States",
                  "url": "https://www.goodreads.com//book/show/6487308-fallen",
                  "_deepnote_index_column": 12
                },
                {
                  "Unnamed: 0": 13,
                  "title": "Angel",
                  "author": "L.A. Weatherly",
                  "num_rating": 31805,
                  "num_reviews": 2320,
                  "avg_rating": 3.87,
                  "num_pages": 507,
                  "original_publish_year": 2010,
                  "series": true,
                  "genres": "['Paranormal Angels', 'Young Adult', 'Fantasy', 'Fantasy Paranormal', 'Romance', 'Romance Paranormal Romance', 'Fantasy Supernatural', 'Fantasy Urban Fantasy', 'Fiction', 'Young Adult Teen']",
                  "award": 0,
                  "place": "nan",
                  "url": "https://www.goodreads.com//book/show/7991200-angel",
                  "_deepnote_index_column": 13
                },
                {
                  "Unnamed: 0": 14,
                  "title": "Katherine",
                  "author": "Anya Seton",
                  "num_rating": 30462,
                  "num_reviews": 2038,
                  "avg_rating": 4.17,
                  "num_pages": 500,
                  "original_publish_year": 2004,
                  "series": false,
                  "genres": "['Historical Historical Fiction', 'Fiction', 'Romance', 'Historical', 'Classics', 'Historical Medieval', 'European Literature British Literature', 'Romance Historical Romance', 'Literature 14th Century', 'Audiobook']",
                  "award": 0,
                  "place": "nan",
                  "url": "https://www.goodreads.com//book/show/33609.Katherine",
                  "_deepnote_index_column": 14
                },
                {
                  "Unnamed: 0": 15,
                  "title": "Corporate America",
                  "author": "Jack   Dougherty",
                  "num_rating": 414,
                  "num_reviews": 49,
                  "avg_rating": 3.65,
                  "num_pages": 350,
                  "original_publish_year": 2013,
                  "series": false,
                  "genres": "['Fiction', 'Humor', 'Business Amazon', 'Contemporary', 'Humor Comedy', 'Business', 'Thriller', 'Suspense', 'Novels']",
                  "award": 0,
                  "place": "nan",
                  "url": "https://www.goodreads.com//book/show/18214119-corporate-america",
                  "_deepnote_index_column": 15
                },
                {
                  "Unnamed: 0": 16,
                  "title": "Reason to Breathe",
                  "author": "Rebecca    Donovan",
                  "num_rating": 86956,
                  "num_reviews": 6043,
                  "avg_rating": 4.22,
                  "num_pages": 377,
                  "original_publish_year": 2011,
                  "series": true,
                  "genres": "['Romance', 'Young Adult', 'Contemporary', 'New Adult', 'Sociology Abuse', 'Fiction', 'Romance Contemporary Romance', 'Young Adult High School', 'Realistic Fiction', 'Dark']",
                  "award": 1,
                  "place": "United States",
                  "url": "https://www.goodreads.com//book/show/11561469-reason-to-breathe",
                  "_deepnote_index_column": 16
                },
                {
                  "Unnamed: 0": 17,
                  "title": "Iron Kissed",
                  "author": "Patricia Briggs",
                  "num_rating": 113138,
                  "num_reviews": 3957,
                  "avg_rating": 4.33,
                  "num_pages": 287,
                  "original_publish_year": 2008,
                  "series": true,
                  "genres": "['Fantasy Urban Fantasy', 'Fantasy', 'Fantasy Paranormal', 'Romance', 'Shapeshifters Werewolves', 'Paranormal Vampires', 'Romance Paranormal Romance', 'Paranormal Shapeshifters', 'Fiction', 'Fairies Fae']",
                  "award": 1,
                  "place": "United States",
                  "url": "https://www.goodreads.com//book/show/1412138.Iron_Kissed",
                  "_deepnote_index_column": 17
                },
                {
                  "Unnamed: 0": 18,
                  "title": "The Wrath and the Dawn",
                  "author": "Renée Ahdieh",
                  "num_rating": 129848,
                  "num_reviews": 18056,
                  "avg_rating": 4.1,
                  "num_pages": 404,
                  "original_publish_year": 2015,
                  "series": true,
                  "genres": "['Fantasy', 'Young Adult', 'Romance', 'Retellings', 'Fiction', 'Young Adult Young Adult Fantasy', 'Fantasy Magic', 'Historical Historical Fiction', 'Fantasy Fairy Tales', 'Historical']",
                  "award": 3,
                  "place": "nan",
                  "url": "https://www.goodreads.com//book/show/18798983-the-wrath-and-the-dawn",
                  "_deepnote_index_column": 18
                },
                {
                  "Unnamed: 0": 19,
                  "title": "You Suck",
                  "author": "Christopher Moore",
                  "num_rating": 46851,
                  "num_reviews": 2775,
                  "avg_rating": 3.83,
                  "num_pages": 328,
                  "original_publish_year": 2007,
                  "series": true,
                  "genres": "['Humor', 'Fiction', 'Fantasy', 'Paranormal Vampires', 'Humor Comedy', 'Fantasy Paranormal', 'Fantasy Urban Fantasy', 'Horror', 'Romance', 'Fantasy Supernatural']",
                  "award": 0,
                  "place": "nan",
                  "url": "https://www.goodreads.com//book/show/33453.You_Suck",
                  "_deepnote_index_column": 19
                },
                {
                  "Unnamed: 0": 20,
                  "title": "On the Jellicoe Road",
                  "author": "Melina Marchetta",
                  "num_rating": 47675,
                  "num_reviews": 6961,
                  "avg_rating": 4.13,
                  "num_pages": 290,
                  "original_publish_year": 2006,
                  "series": false,
                  "genres": "['Young Adult', 'Contemporary', 'Fiction', 'Mystery', 'Romance', 'Realistic Fiction', 'Cultural Australia', 'Young Adult Coming Of Age', 'Young Adult Teen', 'Young Adult Young Adult Contemporary']",
                  "award": 5,
                  "place": "Australia",
                  "url": "https://www.goodreads.com//book/show/1162022.On_the_Jellicoe_Road",
                  "_deepnote_index_column": 20
                },
                {
                  "Unnamed: 0": 21,
                  "title": "The Left Hand of Darkness",
                  "author": "Ursula K. Le Guin",
                  "num_rating": 128905,
                  "num_reviews": 9955,
                  "avg_rating": 4.08,
                  "num_pages": 304,
                  "original_publish_year": 2000,
                  "series": true,
                  "genres": "['Science Fiction', 'Fiction', 'Fantasy', 'Classics', 'Science Fiction Fantasy', 'Feminism', 'Speculative Fiction', 'Novels', 'LGBT', 'Gender']",
                  "award": 4,
                  "place": "nan",
                  "url": "https://www.goodreads.com//book/show/18423.The_Left_Hand_of_Darkness",
                  "_deepnote_index_column": 21
                },
                {
                  "Unnamed: 0": 22,
                  "title": "The Drawing of the Three",
                  "author": "Stephen King",
                  "num_rating": 227069,
                  "num_reviews": 8105,
                  "avg_rating": 4.21,
                  "num_pages": 463,
                  "original_publish_year": 2003,
                  "series": true,
                  "genres": "['Fantasy', 'Fiction', 'Horror', 'Science Fiction', 'Adventure', 'Westerns', 'Audiobook', 'Science Fiction Fantasy', 'Thriller', 'Novels']",
                  "award": 0,
                  "place": "nan",
                  "url": "https://www.goodreads.com//book/show/5094.The_Drawing_of_the_Three",
                  "_deepnote_index_column": 22
                },
                {
                  "Unnamed: 0": 23,
                  "title": "A Kiss of Shadows",
                  "author": "Laurell K. Hamilton",
                  "num_rating": 55121,
                  "num_reviews": 1939,
                  "avg_rating": 4,
                  "num_pages": 468,
                  "original_publish_year": 2006,
                  "series": true,
                  "genres": "['Fantasy', 'Fantasy Urban Fantasy', 'Fantasy Paranormal', 'Romance', 'Romance Paranormal Romance', 'Fairies Fae', 'Fiction', 'Adult Fiction Erotica', 'Adult', 'Fantasy Magic']",
                  "award": 0,
                  "place": "nan",
                  "url": "https://www.goodreads.com//book/show/139417.A_Kiss_of_Shadows",
                  "_deepnote_index_column": 23
                },
                {
                  "Unnamed: 0": 24,
                  "title": "Inescapable",
                  "author": "Amy A. Bartol",
                  "num_rating": 36692,
                  "num_reviews": 2281,
                  "avg_rating": 4.03,
                  "num_pages": 368,
                  "original_publish_year": 2011,
                  "series": true,
                  "genres": "['Fantasy Paranormal', 'Paranormal Angels', 'Fantasy', 'Young Adult', 'Romance', 'Romance Paranormal Romance', 'New Adult', 'Fantasy Supernatural', 'Academic College', 'Fantasy Urban Fantasy']",
                  "award": 0,
                  "place": "nan",
                  "url": "https://www.goodreads.com//book/show/12925063-inescapable",
                  "_deepnote_index_column": 24
                },
                {
                  "Unnamed: 0": 25,
                  "title": "In the Hand of the Goddess",
                  "author": "Tamora Pierce",
                  "num_rating": 94836,
                  "num_reviews": 2069,
                  "avg_rating": 4.2,
                  "num_pages": 264,
                  "original_publish_year": 2005,
                  "series": true,
                  "genres": "['Fantasy', 'Young Adult', 'Fiction', 'Fantasy Magic', 'Adventure', 'Young Adult Young Adult Fantasy', 'Romance', 'Fantasy High Fantasy', 'Childrens', 'Childrens Middle Grade']",
                  "award": 1,
                  "place": "nan",
                  "url": "https://www.goodreads.com//book/show/13835.In_the_Hand_of_the_Goddess",
                  "_deepnote_index_column": 25
                },
                {
                  "Unnamed: 0": 26,
                  "title": "Dragons of Autumn Twilight",
                  "author": "Margaret Weis",
                  "num_rating": 111959,
                  "num_reviews": 2271,
                  "avg_rating": 3.99,
                  "num_pages": 444,
                  "original_publish_year": 2000,
                  "series": true,
                  "genres": "['Fantasy', 'Dungeons and Dragons Dragonlance', 'Fiction', 'Fantasy Dragons', 'Fantasy High Fantasy', 'Young Adult', 'Adventure', 'Fantasy Epic Fantasy', 'Science Fiction Fantasy', 'Childrens']",
                  "award": 0,
                  "place": "nan",
                  "url": "https://www.goodreads.com//book/show/259836.Dragons_of_Autumn_Twilight",
                  "_deepnote_index_column": 26
                },
                {
                  "Unnamed: 0": 27,
                  "title": "The Indigo Spell",
                  "author": "Richelle Mead",
                  "num_rating": 96655,
                  "num_reviews": 6038,
                  "avg_rating": 4.35,
                  "num_pages": 401,
                  "original_publish_year": 2013,
                  "series": true,
                  "genres": "['Young Adult', 'Paranormal Vampires', 'Fantasy', 'Fantasy Paranormal', 'Romance', 'Fantasy Magic', 'Fantasy Urban Fantasy', 'Fantasy Supernatural', 'Romance Paranormal Romance', 'Fiction']",
                  "award": 1,
                  "place": "United States",
                  "url": "https://www.goodreads.com//book/show/8709526-the-indigo-spell",
                  "_deepnote_index_column": 27
                },
                {
                  "Unnamed: 0": 28,
                  "title": "Sex in the Title: A Comedy about Dating, Sex, and Romance in NYC (Back When Phones Weren't So Smart)",
                  "author": "Zack Love",
                  "num_rating": 816,
                  "num_reviews": 258,
                  "avg_rating": 3.46,
                  "num_pages": 376,
                  "original_publish_year": 2013,
                  "series": false,
                  "genres": "['Romance', 'Humor', 'Fiction', 'Contemporary', 'Womens Fiction Chick Lit', 'Humor Comedy', 'Romance Contemporary Romance', 'Unfinished', 'Adult', 'Drama']",
                  "award": 0,
                  "place": "nan",
                  "url": "https://www.goodreads.com//book/show/18710853-sex-in-the-title",
                  "_deepnote_index_column": 28
                },
                {
                  "Unnamed: 0": 29,
                  "title": "My Blood Approves",
                  "author": "Amanda Hocking",
                  "num_rating": 28842,
                  "num_reviews": 1807,
                  "avg_rating": 3.82,
                  "num_pages": 278,
                  "original_publish_year": 2016,
                  "series": true,
                  "genres": "['Paranormal Vampires', 'Young Adult', 'Fantasy Paranormal', 'Fantasy', 'Romance', 'Romance Paranormal Romance', 'Fantasy Supernatural', 'Fiction', 'Fantasy Urban Fantasy', 'Young Adult Teen']",
                  "award": 0,
                  "place": "United States",
                  "url": "https://www.goodreads.com//book/show/30123368-my-blood-approves",
                  "_deepnote_index_column": 29
                },
                {
                  "Unnamed: 0": 30,
                  "title": "Storm Born",
                  "author": "Richelle Mead",
                  "num_rating": 31690,
                  "num_reviews": 1571,
                  "avg_rating": 3.88,
                  "num_pages": 361,
                  "original_publish_year": 2008,
                  "series": true,
                  "genres": "['Fantasy Urban Fantasy', 'Fantasy', 'Fantasy Paranormal', 'Romance', 'Romance Paranormal Romance', 'Fairies Fae', 'Fantasy Magic', 'Adult', 'Fiction', 'Fantasy Supernatural']",
                  "award": 0,
                  "place": "United States",
                  "url": "https://www.goodreads.com//book/show/2754510-storm-born",
                  "_deepnote_index_column": 30
                },
                {
                  "Unnamed: 0": 31,
                  "title": "The Name of This Book Is Secret",
                  "author": "Pseudonymous Bosch",
                  "num_rating": 50837,
                  "num_reviews": 3686,
                  "avg_rating": 4.06,
                  "num_pages": 364,
                  "original_publish_year": 2007,
                  "series": true,
                  "genres": "['Mystery', 'Fantasy', 'Childrens Middle Grade', 'Fiction', 'Adventure', 'Young Adult', 'Childrens', 'Humor', 'Fantasy Magic', 'Childrens Juvenile']",
                  "award": 4,
                  "place": "nan",
                  "url": "https://www.goodreads.com//book/show/1099301.The_Name_of_This_Book_Is_Secret",
                  "_deepnote_index_column": 31
                },
                {
                  "Unnamed: 0": 32,
                  "title": "NO FEAR!",
                  "author": "C. Michaels",
                  "num_rating": 62,
                  "num_reviews": 5,
                  "avg_rating": 4.15,
                  "num_pages": 259,
                  "original_publish_year": 2011,
                  "series": false,
                  "genres": "['Mystery', 'Thriller', 'Thriller Mystery Thriller']",
                  "award": 0,
                  "place": "nan",
                  "url": "https://www.goodreads.com//book/show/16083889-no-fear",
                  "_deepnote_index_column": 32
                },
                {
                  "Unnamed: 0": 33,
                  "title": "The Boy Who Sneaks in My Bedroom Window",
                  "author": "Kirsty Moseley",
                  "num_rating": 66539,
                  "num_reviews": 5054,
                  "avg_rating": 3.9,
                  "num_pages": 256,
                  "original_publish_year": 2012,
                  "series": true,
                  "genres": "['Romance', 'Young Adult', 'Contemporary', 'New Adult', 'Sociology Abuse', 'Young Adult High School', 'Romance Contemporary Romance', 'Womens Fiction Chick Lit', 'Young Adult Young Adult Romance', 'Love']",
                  "award": 1,
                  "place": "nan",
                  "url": "https://www.goodreads.com//book/show/13628209-the-boy-who-sneaks-in-my-bedroom-window",
                  "_deepnote_index_column": 33
                },
                {
                  "Unnamed: 0": 34,
                  "title": "Trickster's Choice",
                  "author": "Tamora Pierce",
                  "num_rating": 66428,
                  "num_reviews": 1499,
                  "avg_rating": 4.2,
                  "num_pages": 448,
                  "original_publish_year": 2017,
                  "series": true,
                  "genres": "['Fantasy', 'Young Adult', 'Fiction', 'Young Adult Young Adult Fantasy', 'Fantasy Magic', 'Adventure', 'Fantasy High Fantasy', 'Romance', 'Young Adult Teen', 'Childrens']",
                  "award": 0,
                  "place": "nan",
                  "url": "https://www.goodreads.com//book/show/34197014-trickster-s-choice",
                  "_deepnote_index_column": 34
                },
                {
                  "Unnamed: 0": 35,
                  "title": "Hades",
                  "author": "Alexandra Adornetto",
                  "num_rating": 31452,
                  "num_reviews": 1602,
                  "avg_rating": 3.96,
                  "num_pages": 425,
                  "original_publish_year": 2011,
                  "series": true,
                  "genres": "['Paranormal Angels', 'Young Adult', 'Fantasy', 'Romance', 'Fantasy Paranormal', 'Romance Paranormal Romance', 'Paranormal Demons', 'Fantasy Supernatural', 'Fiction', 'Young Adult Teen']",
                  "award": 0,
                  "place": "nan",
                  "url": "https://www.goodreads.com//book/show/9666812-hades",
                  "_deepnote_index_column": 35
                },
                {
                  "Unnamed: 0": 36,
                  "title": "Possession of My Soul",
                  "author": "Kia Carrington-Russell",
                  "num_rating": 2919,
                  "num_reviews": 58,
                  "avg_rating": 3.42,
                  "num_pages": 230,
                  "original_publish_year": 2014,
                  "series": true,
                  "genres": "['Fantasy', 'Young Adult', 'Romance', 'Fantasy Paranormal', 'Drama', 'Contemporary', 'Mystery', 'Fiction']",
                  "award": 0,
                  "place": "nan",
                  "url": "https://www.goodreads.com//book/show/21878763-possession-of-my-soul",
                  "_deepnote_index_column": 36
                },
                {
                  "Unnamed: 0": 37,
                  "title": "Destined for an Early Grave",
                  "author": "Jeaniene Frost",
                  "num_rating": 80840,
                  "num_reviews": 2727,
                  "avg_rating": 4.32,
                  "num_pages": 355,
                  "original_publish_year": 2009,
                  "series": true,
                  "genres": "['Paranormal Vampires', 'Fantasy Paranormal', 'Fantasy Urban Fantasy', 'Romance Paranormal Romance', 'Romance', 'Fantasy', 'Adult', 'Fiction', 'Fantasy Supernatural', 'Paranormal Ghosts']",
                  "award": 1,
                  "place": "France",
                  "url": "https://www.goodreads.com//book/show/5604848-destined-for-an-early-grave",
                  "_deepnote_index_column": 37
                }
              ],
              "rows_bottom": [
                {
                  "Unnamed: 0": 62,
                  "title": "Illuminae",
                  "author": "Amie Kaufman",
                  "num_rating": "125744.0",
                  "num_reviews": "26263.0",
                  "avg_rating": "4.27",
                  "num_pages": 602,
                  "original_publish_year": "2015.0",
                  "series": "True",
                  "genres": "['Science Fiction', 'Young Adult', 'Romance', 'Fantasy', 'Fiction', 'Science Fiction Dystopia', 'Audiobook', 'Space', 'Adventure', 'Thriller']",
                  "award": 12,
                  "place": "nan",
                  "url": "https://www.goodreads.com//book/show/23395680-illuminae",
                  "_deepnote_index_column": 62
                },
                {
                  "Unnamed: 0": 63,
                  "title": "nan",
                  "author": "nan",
                  "num_rating": "nan",
                  "num_reviews": "nan",
                  "avg_rating": "nan",
                  "num_pages": 0,
                  "original_publish_year": "nan",
                  "series": "nan",
                  "genres": "nan",
                  "award": 0,
                  "place": "nan",
                  "url": "https://www.goodreads.com//book/show/12000020-aristotle-and-dante-discover-the-secrets-of-the-universe",
                  "_deepnote_index_column": 63
                },
                {
                  "Unnamed: 0": 64,
                  "title": "nan",
                  "author": "nan",
                  "num_rating": "nan",
                  "num_reviews": "nan",
                  "avg_rating": "nan",
                  "num_pages": 0,
                  "original_publish_year": "nan",
                  "series": "nan",
                  "genres": "nan",
                  "award": 0,
                  "place": "nan",
                  "url": "https://www.goodreads.com//book/show/6710476-forgive-my-fins",
                  "_deepnote_index_column": 64
                },
                {
                  "Unnamed: 0": 65,
                  "title": "nan",
                  "author": "nan",
                  "num_rating": "nan",
                  "num_reviews": "nan",
                  "avg_rating": "nan",
                  "num_pages": 0,
                  "original_publish_year": "nan",
                  "series": "nan",
                  "genres": "nan",
                  "award": 0,
                  "place": "nan",
                  "url": "https://www.goodreads.com//book/show/25523025-eve",
                  "_deepnote_index_column": 65
                },
                {
                  "Unnamed: 0": 66,
                  "title": "nan",
                  "author": "nan",
                  "num_rating": "nan",
                  "num_reviews": "nan",
                  "avg_rating": "nan",
                  "num_pages": 0,
                  "original_publish_year": "nan",
                  "series": "nan",
                  "genres": "nan",
                  "award": 0,
                  "place": "nan",
                  "url": "https://www.goodreads.com//book/show/603398.Enchanted_Inc_",
                  "_deepnote_index_column": 66
                },
                {
                  "Unnamed: 0": 67,
                  "title": "nan",
                  "author": "nan",
                  "num_rating": "nan",
                  "num_reviews": "nan",
                  "avg_rating": "nan",
                  "num_pages": 0,
                  "original_publish_year": "nan",
                  "series": "nan",
                  "genres": "nan",
                  "award": 0,
                  "place": "nan",
                  "url": "https://www.goodreads.com//book/show/55196363-complicated-moonlight",
                  "_deepnote_index_column": 67
                },
                {
                  "Unnamed: 0": 68,
                  "title": "nan",
                  "author": "nan",
                  "num_rating": "nan",
                  "num_reviews": "nan",
                  "avg_rating": "nan",
                  "num_pages": 0,
                  "original_publish_year": "nan",
                  "series": "nan",
                  "genres": "nan",
                  "award": 0,
                  "place": "nan",
                  "url": "https://www.goodreads.com//book/show/41742807-archibald-finch-and-the-lost-witches",
                  "_deepnote_index_column": 68
                },
                {
                  "Unnamed: 0": 69,
                  "title": "nan",
                  "author": "nan",
                  "num_rating": "nan",
                  "num_reviews": "nan",
                  "avg_rating": "nan",
                  "num_pages": 0,
                  "original_publish_year": "nan",
                  "series": "nan",
                  "genres": "nan",
                  "award": 0,
                  "place": "nan",
                  "url": "https://www.goodreads.com//book/show/22881898-shot-down",
                  "_deepnote_index_column": 69
                },
                {
                  "Unnamed: 0": 70,
                  "title": "nan",
                  "author": "nan",
                  "num_rating": "nan",
                  "num_reviews": "nan",
                  "avg_rating": "nan",
                  "num_pages": 0,
                  "original_publish_year": "nan",
                  "series": "nan",
                  "genres": "nan",
                  "award": 0,
                  "place": "nan",
                  "url": "https://www.goodreads.com//book/show/9533378-hounded",
                  "_deepnote_index_column": 70
                },
                {
                  "Unnamed: 0": 71,
                  "title": "nan",
                  "author": "nan",
                  "num_rating": "nan",
                  "num_reviews": "nan",
                  "avg_rating": "nan",
                  "num_pages": 0,
                  "original_publish_year": "nan",
                  "series": "nan",
                  "genres": "nan",
                  "award": 0,
                  "place": "nan",
                  "url": "https://www.goodreads.com//book/show/28260587-empire-of-storms",
                  "_deepnote_index_column": 71
                },
                {
                  "Unnamed: 0": 72,
                  "title": "nan",
                  "author": "nan",
                  "num_rating": "nan",
                  "num_reviews": "nan",
                  "avg_rating": "nan",
                  "num_pages": 0,
                  "original_publish_year": "nan",
                  "series": "nan",
                  "genres": "nan",
                  "award": 0,
                  "place": "nan",
                  "url": "https://www.goodreads.com//book/show/675614.Book_of_Shadows",
                  "_deepnote_index_column": 72
                },
                {
                  "Unnamed: 0": 73,
                  "title": "nan",
                  "author": "nan",
                  "num_rating": "nan",
                  "num_reviews": "nan",
                  "avg_rating": "nan",
                  "num_pages": 0,
                  "original_publish_year": "nan",
                  "series": "nan",
                  "genres": "nan",
                  "award": 0,
                  "place": "nan",
                  "url": "https://www.goodreads.com//book/show/6368671-chasing-women",
                  "_deepnote_index_column": 73
                },
                {
                  "Unnamed: 0": 74,
                  "title": "nan",
                  "author": "nan",
                  "num_rating": "nan",
                  "num_reviews": "nan",
                  "avg_rating": "nan",
                  "num_pages": 0,
                  "original_publish_year": "nan",
                  "series": "nan",
                  "genres": "nan",
                  "award": 0,
                  "place": "nan",
                  "url": "https://www.goodreads.com//book/show/7897851-bloodlines",
                  "_deepnote_index_column": 74
                },
                {
                  "Unnamed: 0": 75,
                  "title": "nan",
                  "author": "nan",
                  "num_rating": "nan",
                  "num_reviews": "nan",
                  "avg_rating": "nan",
                  "num_pages": 0,
                  "original_publish_year": "nan",
                  "series": "nan",
                  "genres": "nan",
                  "award": 0,
                  "place": "nan",
                  "url": "https://www.goodreads.com//book/show/36285138-the-sunshine-stone",
                  "_deepnote_index_column": 75
                },
                {
                  "Unnamed: 0": 76,
                  "title": "nan",
                  "author": "nan",
                  "num_rating": "nan",
                  "num_reviews": "nan",
                  "avg_rating": "nan",
                  "num_pages": 0,
                  "original_publish_year": "nan",
                  "series": "nan",
                  "genres": "nan",
                  "award": 0,
                  "place": "nan",
                  "url": "https://www.goodreads.com//book/show/24800.House_of_Leaves",
                  "_deepnote_index_column": 76
                },
                {
                  "Unnamed: 0": 77,
                  "title": "nan",
                  "author": "nan",
                  "num_rating": "nan",
                  "num_reviews": "nan",
                  "avg_rating": "nan",
                  "num_pages": 0,
                  "original_publish_year": "nan",
                  "series": "nan",
                  "genres": "nan",
                  "award": 0,
                  "place": "nan",
                  "url": "https://www.goodreads.com//book/show/12368985-consequences",
                  "_deepnote_index_column": 77
                },
                {
                  "Unnamed: 0": 78,
                  "title": "nan",
                  "author": "nan",
                  "num_rating": "nan",
                  "num_reviews": "nan",
                  "avg_rating": "nan",
                  "num_pages": 0,
                  "original_publish_year": "nan",
                  "series": "nan",
                  "genres": "nan",
                  "award": 0,
                  "place": "nan",
                  "url": "https://www.goodreads.com//book/show/16160797-the-cuckoo-s-calling",
                  "_deepnote_index_column": 78
                },
                {
                  "Unnamed: 0": 79,
                  "title": "nan",
                  "author": "nan",
                  "num_rating": "nan",
                  "num_reviews": "nan",
                  "avg_rating": "nan",
                  "num_pages": 0,
                  "original_publish_year": "nan",
                  "series": "nan",
                  "genres": "nan",
                  "award": 0,
                  "place": "nan",
                  "url": "https://www.goodreads.com//book/show/8492856-what-happened-to-goodbye",
                  "_deepnote_index_column": 79
                },
                {
                  "Unnamed: 0": 80,
                  "title": "nan",
                  "author": "nan",
                  "num_rating": "nan",
                  "num_reviews": "nan",
                  "avg_rating": "nan",
                  "num_pages": 0,
                  "original_publish_year": "nan",
                  "series": "nan",
                  "genres": "nan",
                  "award": 0,
                  "place": "nan",
                  "url": "https://www.goodreads.com//book/show/381489.Private",
                  "_deepnote_index_column": 80
                },
                {
                  "Unnamed: 0": 81,
                  "title": "nan",
                  "author": "nan",
                  "num_rating": "nan",
                  "num_reviews": "nan",
                  "avg_rating": "nan",
                  "num_pages": 0,
                  "original_publish_year": "nan",
                  "series": "nan",
                  "genres": "nan",
                  "award": 0,
                  "place": "nan",
                  "url": "https://www.goodreads.com//book/show/40660459-immortal-embrace",
                  "_deepnote_index_column": 81
                },
                {
                  "Unnamed: 0": 82,
                  "title": "nan",
                  "author": "nan",
                  "num_rating": "nan",
                  "num_reviews": "nan",
                  "avg_rating": "nan",
                  "num_pages": 0,
                  "original_publish_year": "nan",
                  "series": "nan",
                  "genres": "nan",
                  "award": 0,
                  "place": "nan",
                  "url": "https://www.goodreads.com//book/show/6368610-radiant-shadows",
                  "_deepnote_index_column": 82
                },
                {
                  "Unnamed: 0": 83,
                  "title": "nan",
                  "author": "nan",
                  "num_rating": "nan",
                  "num_reviews": "nan",
                  "avg_rating": "nan",
                  "num_pages": 0,
                  "original_publish_year": "nan",
                  "series": "nan",
                  "genres": "nan",
                  "award": 0,
                  "place": "nan",
                  "url": "https://www.goodreads.com//book/show/22299763-crooked-kingdom",
                  "_deepnote_index_column": 83
                },
                {
                  "Unnamed: 0": 84,
                  "title": "nan",
                  "author": "nan",
                  "num_rating": "nan",
                  "num_reviews": "nan",
                  "avg_rating": "nan",
                  "num_pages": 0,
                  "original_publish_year": "nan",
                  "series": "nan",
                  "genres": "nan",
                  "award": 0,
                  "place": "nan",
                  "url": "https://www.goodreads.com//book/show/30334.Hawksong",
                  "_deepnote_index_column": 84
                },
                {
                  "Unnamed: 0": 85,
                  "title": "nan",
                  "author": "nan",
                  "num_rating": "nan",
                  "num_reviews": "nan",
                  "avg_rating": "nan",
                  "num_pages": 0,
                  "original_publish_year": "nan",
                  "series": "nan",
                  "genres": "nan",
                  "award": 0,
                  "place": "nan",
                  "url": "https://www.goodreads.com//book/show/34084.The_Waste_Lands",
                  "_deepnote_index_column": 85
                },
                {
                  "Unnamed: 0": 86,
                  "title": "nan",
                  "author": "nan",
                  "num_rating": "nan",
                  "num_reviews": "nan",
                  "avg_rating": "nan",
                  "num_pages": 0,
                  "original_publish_year": "nan",
                  "series": "nan",
                  "genres": "nan",
                  "award": 0,
                  "place": "nan",
                  "url": "https://www.goodreads.com//book/show/83763.Prey",
                  "_deepnote_index_column": 86
                },
                {
                  "Unnamed: 0": 87,
                  "title": "nan",
                  "author": "nan",
                  "num_rating": "nan",
                  "num_reviews": "nan",
                  "avg_rating": "nan",
                  "num_pages": 0,
                  "original_publish_year": "nan",
                  "series": "nan",
                  "genres": "nan",
                  "award": 0,
                  "place": "nan",
                  "url": "https://www.goodreads.com//book/show/84136.Fantasy_Lover",
                  "_deepnote_index_column": 87
                },
                {
                  "Unnamed: 0": 88,
                  "title": "nan",
                  "author": "nan",
                  "num_rating": "nan",
                  "num_reviews": "nan",
                  "avg_rating": "nan",
                  "num_pages": 0,
                  "original_publish_year": "nan",
                  "series": "nan",
                  "genres": "nan",
                  "award": 0,
                  "place": "nan",
                  "url": "https://www.goodreads.com//book/show/597790.The_Children_of_H_rin",
                  "_deepnote_index_column": 88
                },
                {
                  "Unnamed: 0": 89,
                  "title": "nan",
                  "author": "nan",
                  "num_rating": "nan",
                  "num_reviews": "nan",
                  "avg_rating": "nan",
                  "num_pages": 0,
                  "original_publish_year": "nan",
                  "series": "nan",
                  "genres": "nan",
                  "award": 0,
                  "place": "nan",
                  "url": "https://www.goodreads.com//book/show/17767013-relics",
                  "_deepnote_index_column": 89
                },
                {
                  "Unnamed: 0": 90,
                  "title": "nan",
                  "author": "nan",
                  "num_rating": "nan",
                  "num_reviews": "nan",
                  "avg_rating": "nan",
                  "num_pages": 0,
                  "original_publish_year": "nan",
                  "series": "nan",
                  "genres": "nan",
                  "award": 0,
                  "place": "nan",
                  "url": "https://www.goodreads.com//book/show/23766634-a-court-of-wings-and-ruin",
                  "_deepnote_index_column": 90
                },
                {
                  "Unnamed: 0": 91,
                  "title": "nan",
                  "author": "nan",
                  "num_rating": "nan",
                  "num_reviews": "nan",
                  "avg_rating": "nan",
                  "num_pages": 0,
                  "original_publish_year": "nan",
                  "series": "nan",
                  "genres": "nan",
                  "award": 0,
                  "place": "nan",
                  "url": "https://www.goodreads.com//book/show/8428195-entwined",
                  "_deepnote_index_column": 91
                },
                {
                  "Unnamed: 0": 92,
                  "title": "nan",
                  "author": "nan",
                  "num_rating": "nan",
                  "num_reviews": "nan",
                  "avg_rating": "nan",
                  "num_pages": 0,
                  "original_publish_year": "nan",
                  "series": "nan",
                  "genres": "nan",
                  "award": 0,
                  "place": "nan",
                  "url": "https://www.goodreads.com//book/show/16151178-the-sea-of-tranquility",
                  "_deepnote_index_column": 92
                },
                {
                  "Unnamed: 0": 93,
                  "title": "nan",
                  "author": "nan",
                  "num_rating": "nan",
                  "num_reviews": "nan",
                  "avg_rating": "nan",
                  "num_pages": 0,
                  "original_publish_year": "nan",
                  "series": "nan",
                  "genres": "nan",
                  "award": 0,
                  "place": "nan",
                  "url": "https://www.goodreads.com//book/show/3466.The_Wedding",
                  "_deepnote_index_column": 93
                },
                {
                  "Unnamed: 0": 94,
                  "title": "nan",
                  "author": "nan",
                  "num_rating": "nan",
                  "num_reviews": "nan",
                  "avg_rating": "nan",
                  "num_pages": 0,
                  "original_publish_year": "nan",
                  "series": "nan",
                  "genres": "nan",
                  "award": 0,
                  "place": "nan",
                  "url": "https://www.goodreads.com//book/show/12020927-blood-in-the-skies",
                  "_deepnote_index_column": 94
                },
                {
                  "Unnamed: 0": 95,
                  "title": "nan",
                  "author": "nan",
                  "num_rating": "nan",
                  "num_reviews": "nan",
                  "avg_rating": "nan",
                  "num_pages": 0,
                  "original_publish_year": "nan",
                  "series": "nan",
                  "genres": "nan",
                  "award": 0,
                  "place": "nan",
                  "url": "https://www.goodreads.com//book/show/18243700-the-assassin-s-blade",
                  "_deepnote_index_column": 95
                },
                {
                  "Unnamed: 0": 96,
                  "title": "nan",
                  "author": "nan",
                  "num_rating": "nan",
                  "num_reviews": "nan",
                  "avg_rating": "nan",
                  "num_pages": 0,
                  "original_publish_year": "nan",
                  "series": "nan",
                  "genres": "nan",
                  "award": 0,
                  "place": "nan",
                  "url": "https://www.goodreads.com//book/show/13929.Wildwood_Dancing",
                  "_deepnote_index_column": 96
                },
                {
                  "Unnamed: 0": 97,
                  "title": "nan",
                  "author": "nan",
                  "num_rating": "nan",
                  "num_reviews": "nan",
                  "avg_rating": "nan",
                  "num_pages": 0,
                  "original_publish_year": "nan",
                  "series": "nan",
                  "genres": "nan",
                  "award": 0,
                  "place": "nan",
                  "url": "https://www.goodreads.com//book/show/565595.Old_Magic",
                  "_deepnote_index_column": 97
                },
                {
                  "Unnamed: 0": 98,
                  "title": "nan",
                  "author": "nan",
                  "num_rating": "nan",
                  "num_reviews": "nan",
                  "avg_rating": "nan",
                  "num_pages": 0,
                  "original_publish_year": "nan",
                  "series": "nan",
                  "genres": "nan",
                  "award": 0,
                  "place": "nan",
                  "url": "https://www.goodreads.com//book/show/6080889-storm-glass",
                  "_deepnote_index_column": 98
                },
                {
                  "Unnamed: 0": 99,
                  "title": "nan",
                  "author": "nan",
                  "num_rating": "nan",
                  "num_reviews": "nan",
                  "avg_rating": "nan",
                  "num_pages": 0,
                  "original_publish_year": "nan",
                  "series": "nan",
                  "genres": "nan",
                  "award": 0,
                  "place": "nan",
                  "url": "https://www.goodreads.com//book/show/35262703-coming-storm",
                  "_deepnote_index_column": 99
                }
              ]
            },
            "text/plain": "    Unnamed: 0                    title           author  num_rating  \\\n0            0       I Am the Messenger     Markus Zusak    145829.0   \n1            1         Pawn of Prophecy    David Eddings     99189.0   \n2            2         Wizard and Glass     Stephen King    174859.0   \n3            3  Book of a Thousand Days     Shannon Hale     51398.0   \n4            4            Four to Score  Janet Evanovich    131355.0   \n..         ...                      ...              ...         ...   \n95          95                      NaN              NaN         NaN   \n96          96                      NaN              NaN         NaN   \n97          97                      NaN              NaN         NaN   \n98          98                      NaN              NaN         NaN   \n99          99                      NaN              NaN         NaN   \n\n    num_reviews  avg_rating  num_pages  original_publish_year series  \\\n0       14408.0        4.03        357                 2006.0  False   \n1        3149.0        4.13        304                 2004.0   True   \n2        6273.0        4.23        845                 2003.0   True   \n3        6239.0        3.94        306                 2007.0  False   \n4        2969.0        4.17        313                 1999.0   True   \n..          ...         ...        ...                    ...    ...   \n95          NaN         NaN          0                    NaN    NaN   \n96          NaN         NaN          0                    NaN    NaN   \n97          NaN         NaN          0                    NaN    NaN   \n98          NaN         NaN          0                    NaN    NaN   \n99          NaN         NaN          0                    NaN    NaN   \n\n                                               genres  award          place  \\\n0   ['Young Adult', 'Fiction', 'Mystery', 'Contemp...     10            NaN   \n1   ['Fantasy', 'Fiction', 'Fantasy Epic Fantasy',...      3            NaN   \n2   ['Fantasy', 'Fiction', 'Horror', 'Science Fict...      0            NaN   \n3   ['Fantasy', 'Young Adult', 'Romance', 'Fiction...      5            NaN   \n4   ['Mystery', 'Fiction', 'Humor', 'Womens Fictio...      1  United States   \n..                                                ...    ...            ...   \n95                                                NaN      0            NaN   \n96                                                NaN      0            NaN   \n97                                                NaN      0            NaN   \n98                                                NaN      0            NaN   \n99                                                NaN      0            NaN   \n\n                                                  url  \n0   https://www.goodreads.com//book/show/19057.I_A...  \n1   https://www.goodreads.com//book/show/44659.Paw...  \n2   https://www.goodreads.com//book/show/5096.Wiza...  \n3   https://www.goodreads.com//book/show/248484.Bo...  \n4   https://www.goodreads.com//book/show/6422.Four...  \n..                                                ...  \n95  https://www.goodreads.com//book/show/18243700-...  \n96  https://www.goodreads.com//book/show/13929.Wil...  \n97  https://www.goodreads.com//book/show/565595.Ol...  \n98  https://www.goodreads.com//book/show/6080889-s...  \n99  https://www.goodreads.com//book/show/35262703-...  \n\n[100 rows x 13 columns]",
            "text/html": "<div>\n<style scoped>\n    .dataframe tbody tr th:only-of-type {\n        vertical-align: middle;\n    }\n\n    .dataframe tbody tr th {\n        vertical-align: top;\n    }\n\n    .dataframe thead th {\n        text-align: right;\n    }\n</style>\n<table border=\"1\" class=\"dataframe\">\n  <thead>\n    <tr style=\"text-align: right;\">\n      <th></th>\n      <th>Unnamed: 0</th>\n      <th>title</th>\n      <th>author</th>\n      <th>num_rating</th>\n      <th>num_reviews</th>\n      <th>avg_rating</th>\n      <th>num_pages</th>\n      <th>original_publish_year</th>\n      <th>series</th>\n      <th>genres</th>\n      <th>award</th>\n      <th>place</th>\n      <th>url</th>\n    </tr>\n  </thead>\n  <tbody>\n    <tr>\n      <th>0</th>\n      <td>0</td>\n      <td>I Am the Messenger</td>\n      <td>Markus Zusak</td>\n      <td>145829.0</td>\n      <td>14408.0</td>\n      <td>4.03</td>\n      <td>357</td>\n      <td>2006.0</td>\n      <td>False</td>\n      <td>['Young Adult', 'Fiction', 'Mystery', 'Contemp...</td>\n      <td>10</td>\n      <td>NaN</td>\n      <td>https://www.goodreads.com//book/show/19057.I_A...</td>\n    </tr>\n    <tr>\n      <th>1</th>\n      <td>1</td>\n      <td>Pawn of Prophecy</td>\n      <td>David Eddings</td>\n      <td>99189.0</td>\n      <td>3149.0</td>\n      <td>4.13</td>\n      <td>304</td>\n      <td>2004.0</td>\n      <td>True</td>\n      <td>['Fantasy', 'Fiction', 'Fantasy Epic Fantasy',...</td>\n      <td>3</td>\n      <td>NaN</td>\n      <td>https://www.goodreads.com//book/show/44659.Paw...</td>\n    </tr>\n    <tr>\n      <th>2</th>\n      <td>2</td>\n      <td>Wizard and Glass</td>\n      <td>Stephen King</td>\n      <td>174859.0</td>\n      <td>6273.0</td>\n      <td>4.23</td>\n      <td>845</td>\n      <td>2003.0</td>\n      <td>True</td>\n      <td>['Fantasy', 'Fiction', 'Horror', 'Science Fict...</td>\n      <td>0</td>\n      <td>NaN</td>\n      <td>https://www.goodreads.com//book/show/5096.Wiza...</td>\n    </tr>\n    <tr>\n      <th>3</th>\n      <td>3</td>\n      <td>Book of a Thousand Days</td>\n      <td>Shannon Hale</td>\n      <td>51398.0</td>\n      <td>6239.0</td>\n      <td>3.94</td>\n      <td>306</td>\n      <td>2007.0</td>\n      <td>False</td>\n      <td>['Fantasy', 'Young Adult', 'Romance', 'Fiction...</td>\n      <td>5</td>\n      <td>NaN</td>\n      <td>https://www.goodreads.com//book/show/248484.Bo...</td>\n    </tr>\n    <tr>\n      <th>4</th>\n      <td>4</td>\n      <td>Four to Score</td>\n      <td>Janet Evanovich</td>\n      <td>131355.0</td>\n      <td>2969.0</td>\n      <td>4.17</td>\n      <td>313</td>\n      <td>1999.0</td>\n      <td>True</td>\n      <td>['Mystery', 'Fiction', 'Humor', 'Womens Fictio...</td>\n      <td>1</td>\n      <td>United States</td>\n      <td>https://www.goodreads.com//book/show/6422.Four...</td>\n    </tr>\n    <tr>\n      <th>...</th>\n      <td>...</td>\n      <td>...</td>\n      <td>...</td>\n      <td>...</td>\n      <td>...</td>\n      <td>...</td>\n      <td>...</td>\n      <td>...</td>\n      <td>...</td>\n      <td>...</td>\n      <td>...</td>\n      <td>...</td>\n      <td>...</td>\n    </tr>\n    <tr>\n      <th>95</th>\n      <td>95</td>\n      <td>NaN</td>\n      <td>NaN</td>\n      <td>NaN</td>\n      <td>NaN</td>\n      <td>NaN</td>\n      <td>0</td>\n      <td>NaN</td>\n      <td>NaN</td>\n      <td>NaN</td>\n      <td>0</td>\n      <td>NaN</td>\n      <td>https://www.goodreads.com//book/show/18243700-...</td>\n    </tr>\n    <tr>\n      <th>96</th>\n      <td>96</td>\n      <td>NaN</td>\n      <td>NaN</td>\n      <td>NaN</td>\n      <td>NaN</td>\n      <td>NaN</td>\n      <td>0</td>\n      <td>NaN</td>\n      <td>NaN</td>\n      <td>NaN</td>\n      <td>0</td>\n      <td>NaN</td>\n      <td>https://www.goodreads.com//book/show/13929.Wil...</td>\n    </tr>\n    <tr>\n      <th>97</th>\n      <td>97</td>\n      <td>NaN</td>\n      <td>NaN</td>\n      <td>NaN</td>\n      <td>NaN</td>\n      <td>NaN</td>\n      <td>0</td>\n      <td>NaN</td>\n      <td>NaN</td>\n      <td>NaN</td>\n      <td>0</td>\n      <td>NaN</td>\n      <td>https://www.goodreads.com//book/show/565595.Ol...</td>\n    </tr>\n    <tr>\n      <th>98</th>\n      <td>98</td>\n      <td>NaN</td>\n      <td>NaN</td>\n      <td>NaN</td>\n      <td>NaN</td>\n      <td>NaN</td>\n      <td>0</td>\n      <td>NaN</td>\n      <td>NaN</td>\n      <td>NaN</td>\n      <td>0</td>\n      <td>NaN</td>\n      <td>https://www.goodreads.com//book/show/6080889-s...</td>\n    </tr>\n    <tr>\n      <th>99</th>\n      <td>99</td>\n      <td>NaN</td>\n      <td>NaN</td>\n      <td>NaN</td>\n      <td>NaN</td>\n      <td>NaN</td>\n      <td>0</td>\n      <td>NaN</td>\n      <td>NaN</td>\n      <td>NaN</td>\n      <td>0</td>\n      <td>NaN</td>\n      <td>https://www.goodreads.com//book/show/35262703-...</td>\n    </tr>\n  </tbody>\n</table>\n<p>100 rows × 13 columns</p>\n</div>"
          },
          "metadata": {}
        }
      ],
      "execution_count": null
    },
    {
      "cell_type": "code",
      "source": "frames = [f1, f2, f3,f4]",
      "metadata": {
        "tags": [],
        "cell_id": "00040-ac56a540-3a6c-43c2-8d49-a2ca2a15a914",
        "deepnote_to_be_reexecuted": false,
        "source_hash": "732159cc",
        "execution_start": 1618463177195,
        "execution_millis": 7,
        "deepnote_cell_type": "code"
      },
      "outputs": [],
      "execution_count": null
    },
    {
      "cell_type": "code",
      "source": "full_data=pd.concat(frames)",
      "metadata": {
        "tags": [],
        "cell_id": "00041-770203c3-034e-48fa-ae2a-844d03cfbf06",
        "deepnote_to_be_reexecuted": false,
        "source_hash": "25b80974",
        "execution_start": 1618463199753,
        "execution_millis": 3,
        "deepnote_cell_type": "code"
      },
      "outputs": [],
      "execution_count": null
    },
    {
      "cell_type": "code",
      "source": "full_data.to_csv(\"goodreads_1000_books_list.csv\")",
      "metadata": {
        "tags": [],
        "cell_id": "00042-93e824b0-786e-4ff6-bb69-f8bc79a4644e",
        "deepnote_to_be_reexecuted": false,
        "source_hash": "b2509c32",
        "execution_start": 1618463428203,
        "execution_millis": 14,
        "deepnote_cell_type": "code"
      },
      "outputs": [],
      "execution_count": null
    },
    {
      "cell_type": "markdown",
      "source": "<a style='text-decoration:none;line-height:16px;display:flex;color:#5B5B62;padding:10px;justify-content:end;' href='https://deepnote.com?utm_source=created-in-deepnote-cell&projectId=8aa7b630-9ed2-4356-9070-0a10a3a5f060' target=\"_blank\">\n<img alt='Created in deepnote.com' style='display:inline;max-height:16px;margin:0px;margin-right:7.5px;' src='data:image/svg+xml;base64,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' > </img>\nCreated in <span style='font-weight:600;margin-left:4px;'>Deepnote</span></a>",
      "metadata": {
        "tags": [],
        "created_in_deepnote_cell": true,
        "deepnote_cell_type": "markdown"
      }
    }
  ],
  "nbformat": 4,
  "nbformat_minor": 2,
  "metadata": {
    "deepnote": {
      "is_reactive": false
    },
    "deepnote_execution_queue": [],
    "deepnote_notebook_id": "bb049b81-038f-480d-a316-14c81f79425f",
    "kernelspec": {
      "display_name": "Python 3",
      "language": "python",
      "name": "python3"
    },
    "language_info": {
      "codemirror_mode": {
        "name": "ipython",
        "version": 3
      },
      "file_extension": ".py",
      "mimetype": "text/x-python",
      "name": "python",
      "nbconvert_exporter": "python",
      "pygments_lexer": "ipython3",
      "version": "3.8.8"
    }
  }
}