{
  "cells": [
    {
      "cell_type": "code",
      "metadata": {
        "tags": [],
        "deepnote_to_be_reexecuted": false,
        "source_hash": "4a4e4abd",
        "execution_millis": 1123,
        "cell_id": "00000-ae48ffa6-a134-4678-b218-037ef4066d0c",
        "execution_start": 1618397245139,
        "deepnote_cell_type": "code"
      },
      "source": "import pandas as pd\nimport numpy as np\nfrom sklearn.preprocessing import MinMaxScaler\n\n",
      "execution_count": 1,
      "outputs": []
    },
    {
      "cell_type": "code",
      "metadata": {
        "tags": [],
        "deepnote_to_be_reexecuted": false,
        "source_hash": "dce84cd8",
        "execution_millis": 37,
        "cell_id": "00001-d6cbd899-d6f4-40b4-8a68-bf4cb0bb3d51",
        "execution_start": 1618397296332,
        "deepnote_cell_type": "code"
      },
      "source": "df = pd.read_csv(\"testing.csv\")\ndf.columns\n",
      "execution_count": 3,
      "outputs": [
        {
          "output_type": "execute_result",
          "execution_count": 3,
          "data": {
            "text/plain": "Index(['Unnamed: 0', 'title', 'author', 'num_rating', 'num_reviews',\n       'avg_rating', 'num_pages', 'original_publish_year', 'series', 'genres',\n       'award', 'place', 'url'],\n      dtype='object')"
          },
          "metadata": {}
        }
      ]
    },
    {
      "cell_type": "code",
      "metadata": {
        "tags": [],
        "cell_id": "00002-9db88ca5-81b3-4dda-9982-9323cba653d2",
        "deepnote_to_be_reexecuted": false,
        "source_hash": "b8a6c68d",
        "execution_millis": 2,
        "execution_start": 1618397351969,
        "deepnote_cell_type": "code"
      },
      "source": "df=df.drop(['Unnamed: 0','place', 'url'],axis = 1)",
      "execution_count": 6,
      "outputs": []
    },
    {
      "cell_type": "code",
      "metadata": {
        "tags": [],
        "cell_id": "00003-bdad2222-0dae-4da8-bd56-720a7ccb0cef",
        "deepnote_to_be_reexecuted": false,
        "source_hash": "7cbb8678",
        "execution_millis": 0,
        "execution_start": 1618397445828,
        "deepnote_cell_type": "code"
      },
      "source": "df=df.dropna()",
      "execution_count": 11,
      "outputs": []
    },
    {
      "cell_type": "code",
      "metadata": {
        "tags": [],
        "deepnote_to_be_reexecuted": false,
        "source_hash": "bc8a0d10",
        "execution_millis": 1,
        "cell_id": "00004-5a99d1e9-a2a7-400d-bb54-9929a70d0aeb",
        "execution_start": 1618397722605,
        "deepnote_cell_type": "code"
      },
      "source": "df['num_pages']=pd.to_numeric(df['num_pages'],downcast='integer')",
      "execution_count": 19,
      "outputs": []
    },
    {
      "cell_type": "code",
      "metadata": {
        "tags": [],
        "cell_id": "00005-d70a773b-ba89-4728-83e1-def1697f0ea5",
        "deepnote_to_be_reexecuted": false,
        "source_hash": "c085b6ba",
        "execution_millis": 33,
        "execution_start": 1618397734599,
        "deepnote_cell_type": "code"
      },
      "source": "df.head()",
      "execution_count": 21,
      "outputs": [
        {
          "output_type": "execute_result",
          "execution_count": 21,
          "data": {
            "application/vnd.deepnote.dataframe.v2+json": {
              "row_count": 5,
              "column_count": 10,
              "columns": [
                {
                  "name": "title",
                  "dtype": "object",
                  "stats": {
                    "unique_count": 5,
                    "nan_count": 0,
                    "categories": [
                      {
                        "name": "City of Ashes",
                        "count": 1
                      },
                      {
                        "name": "Hush, Hush",
                        "count": 1
                      },
                      {
                        "name": "3 others",
                        "count": 3
                      }
                    ]
                  }
                },
                {
                  "name": "author",
                  "dtype": "object",
                  "stats": {
                    "unique_count": 3,
                    "nan_count": 0,
                    "categories": [
                      {
                        "name": "Cassandra Clare",
                        "count": 3
                      },
                      {
                        "name": "Becca Fitzpatrick",
                        "count": 1
                      },
                      {
                        "name": "P.C. Cast",
                        "count": 1
                      }
                    ]
                  }
                },
                {
                  "name": "num_rating",
                  "dtype": "int64",
                  "stats": {
                    "unique_count": 5,
                    "nan_count": 0,
                    "min": "448045",
                    "max": "834498",
                    "histogram": [
                      {
                        "bin_start": 448045,
                        "bin_end": 486690.3,
                        "count": 1
                      },
                      {
                        "bin_start": 486690.3,
                        "bin_end": 525335.6,
                        "count": 0
                      },
                      {
                        "bin_start": 525335.6,
                        "bin_end": 563980.9,
                        "count": 0
                      },
                      {
                        "bin_start": 563980.9,
                        "bin_end": 602626.2,
                        "count": 0
                      },
                      {
                        "bin_start": 602626.2,
                        "bin_end": 641271.5,
                        "count": 1
                      },
                      {
                        "bin_start": 641271.5,
                        "bin_end": 679916.8,
                        "count": 0
                      },
                      {
                        "bin_start": 679916.8,
                        "bin_end": 718562.1000000001,
                        "count": 1
                      },
                      {
                        "bin_start": 718562.1000000001,
                        "bin_end": 757207.4,
                        "count": 0
                      },
                      {
                        "bin_start": 757207.4,
                        "bin_end": 795852.7,
                        "count": 1
                      },
                      {
                        "bin_start": 795852.7,
                        "bin_end": 834498,
                        "count": 1
                      }
                    ]
                  }
                },
                {
                  "name": "num_reviews",
                  "dtype": "int64",
                  "stats": {
                    "unique_count": 5,
                    "nan_count": 0,
                    "min": "14504",
                    "max": "33612",
                    "histogram": [
                      {
                        "bin_start": 14504,
                        "bin_end": 16414.8,
                        "count": 1
                      },
                      {
                        "bin_start": 16414.8,
                        "bin_end": 18325.6,
                        "count": 0
                      },
                      {
                        "bin_start": 18325.6,
                        "bin_end": 20236.4,
                        "count": 0
                      },
                      {
                        "bin_start": 20236.4,
                        "bin_end": 22147.2,
                        "count": 0
                      },
                      {
                        "bin_start": 22147.2,
                        "bin_end": 24058,
                        "count": 0
                      },
                      {
                        "bin_start": 24058,
                        "bin_end": 25968.8,
                        "count": 1
                      },
                      {
                        "bin_start": 25968.8,
                        "bin_end": 27879.6,
                        "count": 0
                      },
                      {
                        "bin_start": 27879.6,
                        "bin_end": 29790.4,
                        "count": 1
                      },
                      {
                        "bin_start": 29790.4,
                        "bin_end": 31701.2,
                        "count": 1
                      },
                      {
                        "bin_start": 31701.2,
                        "bin_end": 33612,
                        "count": 1
                      }
                    ]
                  }
                },
                {
                  "name": "avg_rating",
                  "dtype": "float64",
                  "stats": {
                    "unique_count": 5,
                    "nan_count": 0,
                    "min": "3.8",
                    "max": "4.31",
                    "histogram": [
                      {
                        "bin_start": 3.8,
                        "bin_end": 3.851,
                        "count": 1
                      },
                      {
                        "bin_start": 3.851,
                        "bin_end": 3.9019999999999997,
                        "count": 0
                      },
                      {
                        "bin_start": 3.9019999999999997,
                        "bin_end": 3.953,
                        "count": 1
                      },
                      {
                        "bin_start": 3.953,
                        "bin_end": 4.004,
                        "count": 0
                      },
                      {
                        "bin_start": 4.004,
                        "bin_end": 4.055,
                        "count": 0
                      },
                      {
                        "bin_start": 4.055,
                        "bin_end": 4.106,
                        "count": 0
                      },
                      {
                        "bin_start": 4.106,
                        "bin_end": 4.157,
                        "count": 1
                      },
                      {
                        "bin_start": 4.157,
                        "bin_end": 4.207999999999999,
                        "count": 0
                      },
                      {
                        "bin_start": 4.207999999999999,
                        "bin_end": 4.2589999999999995,
                        "count": 0
                      },
                      {
                        "bin_start": 4.2589999999999995,
                        "bin_end": 4.31,
                        "count": 2
                      }
                    ]
                  }
                },
                {
                  "name": "num_pages",
                  "dtype": "int16",
                  "stats": {
                    "unique_count": 5,
                    "nan_count": 0,
                    "min": "306",
                    "max": "541",
                    "histogram": [
                      {
                        "bin_start": 306,
                        "bin_end": 329.5,
                        "count": 1
                      },
                      {
                        "bin_start": 329.5,
                        "bin_end": 353,
                        "count": 0
                      },
                      {
                        "bin_start": 353,
                        "bin_end": 376.5,
                        "count": 0
                      },
                      {
                        "bin_start": 376.5,
                        "bin_end": 400,
                        "count": 1
                      },
                      {
                        "bin_start": 400,
                        "bin_end": 423.5,
                        "count": 0
                      },
                      {
                        "bin_start": 423.5,
                        "bin_end": 447,
                        "count": 0
                      },
                      {
                        "bin_start": 447,
                        "bin_end": 470.5,
                        "count": 1
                      },
                      {
                        "bin_start": 470.5,
                        "bin_end": 494,
                        "count": 1
                      },
                      {
                        "bin_start": 494,
                        "bin_end": 517.5,
                        "count": 0
                      },
                      {
                        "bin_start": 517.5,
                        "bin_end": 541,
                        "count": 1
                      }
                    ]
                  }
                },
                {
                  "name": "original_publish_year",
                  "dtype": "int64",
                  "stats": {
                    "unique_count": 4,
                    "nan_count": 0,
                    "min": "2007",
                    "max": "2010",
                    "histogram": [
                      {
                        "bin_start": 2007,
                        "bin_end": 2007.3,
                        "count": 1
                      },
                      {
                        "bin_start": 2007.3,
                        "bin_end": 2007.6,
                        "count": 0
                      },
                      {
                        "bin_start": 2007.6,
                        "bin_end": 2007.9,
                        "count": 0
                      },
                      {
                        "bin_start": 2007.9,
                        "bin_end": 2008.2,
                        "count": 1
                      },
                      {
                        "bin_start": 2008.2,
                        "bin_end": 2008.5,
                        "count": 0
                      },
                      {
                        "bin_start": 2008.5,
                        "bin_end": 2008.8,
                        "count": 0
                      },
                      {
                        "bin_start": 2008.8,
                        "bin_end": 2009.1,
                        "count": 2
                      },
                      {
                        "bin_start": 2009.1,
                        "bin_end": 2009.4,
                        "count": 0
                      },
                      {
                        "bin_start": 2009.4,
                        "bin_end": 2009.7,
                        "count": 0
                      },
                      {
                        "bin_start": 2009.7,
                        "bin_end": 2010,
                        "count": 1
                      }
                    ]
                  }
                },
                {
                  "name": "series",
                  "dtype": "bool",
                  "stats": {
                    "unique_count": 1,
                    "nan_count": 0,
                    "categories": [
                      {
                        "name": "True",
                        "count": 5
                      }
                    ]
                  }
                },
                {
                  "name": "genres",
                  "dtype": "object",
                  "stats": {
                    "unique_count": 5,
                    "nan_count": 0,
                    "categories": [
                      {
                        "name": "['Fantasy', 'Young Adult', 'Fantasy Paranormal', 'Romance', 'Fantasy Urban Fantasy', 'Paranormal Vampires', 'Fiction', 'Fantasy Supernatural', 'Paranormal Angels', 'Fantasy Magic']",
                        "count": 1
                      },
                      {
                        "name": "['Young Adult', 'Fantasy', 'Romance', 'Fantasy Paranormal', 'Paranormal Angels', 'Romance Paranormal Romance', 'Fantasy Supernatural', 'Fiction', 'Fantasy Urban Fantasy', 'Young Adult Young Adult Fantasy']",
                        "count": 1
                      },
                      {
                        "name": "3 others",
                        "count": 3
                      }
                    ]
                  }
                },
                {
                  "name": "award",
                  "dtype": "int64",
                  "stats": {
                    "unique_count": 4,
                    "nan_count": 0,
                    "min": "1",
                    "max": "10",
                    "histogram": [
                      {
                        "bin_start": 1,
                        "bin_end": 1.9,
                        "count": 2
                      },
                      {
                        "bin_start": 1.9,
                        "bin_end": 2.8,
                        "count": 1
                      },
                      {
                        "bin_start": 2.8,
                        "bin_end": 3.7,
                        "count": 1
                      },
                      {
                        "bin_start": 3.7,
                        "bin_end": 4.6,
                        "count": 0
                      },
                      {
                        "bin_start": 4.6,
                        "bin_end": 5.5,
                        "count": 0
                      },
                      {
                        "bin_start": 5.5,
                        "bin_end": 6.4,
                        "count": 0
                      },
                      {
                        "bin_start": 6.4,
                        "bin_end": 7.3,
                        "count": 0
                      },
                      {
                        "bin_start": 7.3,
                        "bin_end": 8.2,
                        "count": 0
                      },
                      {
                        "bin_start": 8.2,
                        "bin_end": 9.1,
                        "count": 0
                      },
                      {
                        "bin_start": 9.1,
                        "bin_end": 10,
                        "count": 1
                      }
                    ]
                  }
                },
                {
                  "name": "_deepnote_index_column",
                  "dtype": "int64"
                }
              ],
              "rows_top": [
                {
                  "title": "City of Ashes",
                  "author": "Cassandra Clare",
                  "num_rating": 789895,
                  "num_reviews": 30434,
                  "avg_rating": 4.15,
                  "num_pages": 453,
                  "original_publish_year": 2008,
                  "series": true,
                  "genres": "['Fantasy', 'Young Adult', 'Fantasy Paranormal', 'Romance', 'Fantasy Urban Fantasy', 'Paranormal Vampires', 'Fiction', 'Fantasy Supernatural', 'Paranormal Angels', 'Fantasy Magic']",
                  "award": 2,
                  "_deepnote_index_column": 0
                },
                {
                  "title": "Hush, Hush",
                  "author": "Becca Fitzpatrick",
                  "num_rating": 604813,
                  "num_reviews": 25700,
                  "avg_rating": 3.95,
                  "num_pages": 391,
                  "original_publish_year": 2009,
                  "series": true,
                  "genres": "['Young Adult', 'Fantasy', 'Romance', 'Fantasy Paranormal', 'Paranormal Angels', 'Romance Paranormal Romance', 'Fantasy Supernatural', 'Fiction', 'Fantasy Urban Fantasy', 'Young Adult Young Adult Fantasy']",
                  "award": 1,
                  "_deepnote_index_column": 1
                },
                {
                  "title": "City of Glass",
                  "author": "Cassandra Clare",
                  "num_rating": 834498,
                  "num_reviews": 29070,
                  "avg_rating": 4.3,
                  "num_pages": 541,
                  "original_publish_year": 2009,
                  "series": true,
                  "genres": "['Fantasy', 'Young Adult', 'Fantasy Paranormal', 'Romance', 'Fantasy Urban Fantasy', 'Paranormal Vampires', 'Fiction', 'Paranormal Angels', 'Fantasy Supernatural', 'Fantasy Magic']",
                  "award": 3,
                  "_deepnote_index_column": 2
                },
                {
                  "title": "Clockwork Angel",
                  "author": "Cassandra Clare",
                  "num_rating": 709686,
                  "num_reviews": 33612,
                  "avg_rating": 4.31,
                  "num_pages": 479,
                  "original_publish_year": 2010,
                  "series": true,
                  "genres": "['Fantasy', 'Young Adult', 'Romance', 'Fantasy Paranormal', 'Science Fiction Steampunk', 'Historical Historical Fiction', 'Fiction', 'Fantasy Urban Fantasy', 'Paranormal Vampires', 'Paranormal Angels']",
                  "award": 10,
                  "_deepnote_index_column": 3
                },
                {
                  "title": "Marked",
                  "author": "P.C. Cast",
                  "num_rating": 448045,
                  "num_reviews": 14504,
                  "avg_rating": 3.8,
                  "num_pages": 306,
                  "original_publish_year": 2007,
                  "series": true,
                  "genres": "['Young Adult', 'Fantasy', 'Paranormal Vampires', 'Fantasy Paranormal', 'Romance', 'Fiction', 'Fantasy Supernatural', 'Fantasy Urban Fantasy', 'Romance Paranormal Romance', 'Young Adult Teen']",
                  "award": 1,
                  "_deepnote_index_column": 4
                }
              ],
              "rows_bottom": null
            },
            "text/plain": "             title             author  num_rating  num_reviews  avg_rating  \\\n0    City of Ashes    Cassandra Clare      789895        30434        4.15   \n1       Hush, Hush  Becca Fitzpatrick      604813        25700        3.95   \n2    City of Glass    Cassandra Clare      834498        29070        4.30   \n3  Clockwork Angel    Cassandra Clare      709686        33612        4.31   \n4           Marked          P.C. Cast      448045        14504        3.80   \n\n   num_pages  original_publish_year  series  \\\n0        453                   2008    True   \n1        391                   2009    True   \n2        541                   2009    True   \n3        479                   2010    True   \n4        306                   2007    True   \n\n                                              genres  award  \n0  ['Fantasy', 'Young Adult', 'Fantasy Paranormal...      2  \n1  ['Young Adult', 'Fantasy', 'Romance', 'Fantasy...      1  \n2  ['Fantasy', 'Young Adult', 'Fantasy Paranormal...      3  \n3  ['Fantasy', 'Young Adult', 'Romance', 'Fantasy...     10  \n4  ['Young Adult', 'Fantasy', 'Paranormal Vampire...      1  ",
            "text/html": "<div>\n<style scoped>\n    .dataframe tbody tr th:only-of-type {\n        vertical-align: middle;\n    }\n\n    .dataframe tbody tr th {\n        vertical-align: top;\n    }\n\n    .dataframe thead th {\n        text-align: right;\n    }\n</style>\n<table border=\"1\" class=\"dataframe\">\n  <thead>\n    <tr style=\"text-align: right;\">\n      <th></th>\n      <th>title</th>\n      <th>author</th>\n      <th>num_rating</th>\n      <th>num_reviews</th>\n      <th>avg_rating</th>\n      <th>num_pages</th>\n      <th>original_publish_year</th>\n      <th>series</th>\n      <th>genres</th>\n      <th>award</th>\n    </tr>\n  </thead>\n  <tbody>\n    <tr>\n      <th>0</th>\n      <td>City of Ashes</td>\n      <td>Cassandra Clare</td>\n      <td>789895</td>\n      <td>30434</td>\n      <td>4.15</td>\n      <td>453</td>\n      <td>2008</td>\n      <td>True</td>\n      <td>['Fantasy', 'Young Adult', 'Fantasy Paranormal...</td>\n      <td>2</td>\n    </tr>\n    <tr>\n      <th>1</th>\n      <td>Hush, Hush</td>\n      <td>Becca Fitzpatrick</td>\n      <td>604813</td>\n      <td>25700</td>\n      <td>3.95</td>\n      <td>391</td>\n      <td>2009</td>\n      <td>True</td>\n      <td>['Young Adult', 'Fantasy', 'Romance', 'Fantasy...</td>\n      <td>1</td>\n    </tr>\n    <tr>\n      <th>2</th>\n      <td>City of Glass</td>\n      <td>Cassandra Clare</td>\n      <td>834498</td>\n      <td>29070</td>\n      <td>4.30</td>\n      <td>541</td>\n      <td>2009</td>\n      <td>True</td>\n      <td>['Fantasy', 'Young Adult', 'Fantasy Paranormal...</td>\n      <td>3</td>\n    </tr>\n    <tr>\n      <th>3</th>\n      <td>Clockwork Angel</td>\n      <td>Cassandra Clare</td>\n      <td>709686</td>\n      <td>33612</td>\n      <td>4.31</td>\n      <td>479</td>\n      <td>2010</td>\n      <td>True</td>\n      <td>['Fantasy', 'Young Adult', 'Romance', 'Fantasy...</td>\n      <td>10</td>\n    </tr>\n    <tr>\n      <th>4</th>\n      <td>Marked</td>\n      <td>P.C. Cast</td>\n      <td>448045</td>\n      <td>14504</td>\n      <td>3.80</td>\n      <td>306</td>\n      <td>2007</td>\n      <td>True</td>\n      <td>['Young Adult', 'Fantasy', 'Paranormal Vampire...</td>\n      <td>1</td>\n    </tr>\n  </tbody>\n</table>\n</div>"
          },
          "metadata": {}
        }
      ]
    },
    {
      "cell_type": "markdown",
      "source": "# 1. Min-Max normalization",
      "metadata": {
        "tags": [],
        "cell_id": "00005-c364d4c5-76aa-4c9e-afa2-30f5baf7e1a4",
        "deepnote_cell_type": "markdown"
      }
    },
    {
      "cell_type": "code",
      "metadata": {
        "tags": [],
        "deepnote_to_be_reexecuted": false,
        "source_hash": "f67c11a",
        "execution_millis": 6,
        "cell_id": "00006-9a1b1dc3-66cf-4820-b5f5-b9599b4914b3",
        "execution_start": 1618397804214,
        "deepnote_cell_type": "code"
      },
      "source": "#Step 1: find min(avg_rating)\nminValue = df['avg_rating'].min()\nprint('Minimum rating: ', minValue)\n\n#Step2: find max(avg_rating)\nmaxValue = df['avg_rating'].max()\nprint('Maximum rating: ', maxValue)",
      "execution_count": 23,
      "outputs": [
        {
          "name": "stdout",
          "text": "Minimum rating:  3.59\nMaximum rating:  4.55\n",
          "output_type": "stream"
        }
      ]
    },
    {
      "cell_type": "code",
      "metadata": {
        "tags": [],
        "deepnote_to_be_reexecuted": false,
        "source_hash": "c931d29e",
        "execution_millis": 0,
        "cell_id": "00007-15d19370-0143-4cb8-8b9a-e83b95e00f8e",
        "execution_start": 1618397808402,
        "deepnote_cell_type": "code"
      },
      "source": "#Step3 min max norm for average rating \ndef minmax_norm(data_column_name):\n    x = data_column_name\n    mean_norm_ratings=1+((x-x.min())/(x.max()-x.min()))*9\n    return mean_norm_ratings",
      "execution_count": 24,
      "outputs": []
    },
    {
      "cell_type": "code",
      "metadata": {
        "tags": [],
        "deepnote_to_be_reexecuted": false,
        "source_hash": "bff2a5c8",
        "execution_millis": 0,
        "cell_id": "00008-d13a39e1-96ed-4d91-86c2-3ef111a65e5b",
        "execution_start": 1618398016965,
        "deepnote_cell_type": "code"
      },
      "source": "df['minmax_norm_ratings']=minmax_norm(df['avg_rating']).round(decimals=2)  # little problem",
      "execution_count": 37,
      "outputs": []
    },
    {
      "cell_type": "code",
      "metadata": {
        "tags": [],
        "cell_id": "00010-4d4fe8d6-8682-4bc0-ba12-96eedf584a3d",
        "deepnote_to_be_reexecuted": false,
        "source_hash": "c085b6ba",
        "execution_millis": 32,
        "execution_start": 1618398019476,
        "deepnote_cell_type": "code"
      },
      "source": "df.head()",
      "execution_count": 38,
      "outputs": [
        {
          "output_type": "execute_result",
          "execution_count": 38,
          "data": {
            "application/vnd.deepnote.dataframe.v2+json": {
              "row_count": 5,
              "column_count": 11,
              "columns": [
                {
                  "name": "title",
                  "dtype": "object",
                  "stats": {
                    "unique_count": 5,
                    "nan_count": 0,
                    "categories": [
                      {
                        "name": "City of Ashes",
                        "count": 1
                      },
                      {
                        "name": "Hush, Hush",
                        "count": 1
                      },
                      {
                        "name": "3 others",
                        "count": 3
                      }
                    ]
                  }
                },
                {
                  "name": "author",
                  "dtype": "object",
                  "stats": {
                    "unique_count": 3,
                    "nan_count": 0,
                    "categories": [
                      {
                        "name": "Cassandra Clare",
                        "count": 3
                      },
                      {
                        "name": "Becca Fitzpatrick",
                        "count": 1
                      },
                      {
                        "name": "P.C. Cast",
                        "count": 1
                      }
                    ]
                  }
                },
                {
                  "name": "num_rating",
                  "dtype": "int64",
                  "stats": {
                    "unique_count": 5,
                    "nan_count": 0,
                    "min": "448045",
                    "max": "834498",
                    "histogram": [
                      {
                        "bin_start": 448045,
                        "bin_end": 486690.3,
                        "count": 1
                      },
                      {
                        "bin_start": 486690.3,
                        "bin_end": 525335.6,
                        "count": 0
                      },
                      {
                        "bin_start": 525335.6,
                        "bin_end": 563980.9,
                        "count": 0
                      },
                      {
                        "bin_start": 563980.9,
                        "bin_end": 602626.2,
                        "count": 0
                      },
                      {
                        "bin_start": 602626.2,
                        "bin_end": 641271.5,
                        "count": 1
                      },
                      {
                        "bin_start": 641271.5,
                        "bin_end": 679916.8,
                        "count": 0
                      },
                      {
                        "bin_start": 679916.8,
                        "bin_end": 718562.1000000001,
                        "count": 1
                      },
                      {
                        "bin_start": 718562.1000000001,
                        "bin_end": 757207.4,
                        "count": 0
                      },
                      {
                        "bin_start": 757207.4,
                        "bin_end": 795852.7,
                        "count": 1
                      },
                      {
                        "bin_start": 795852.7,
                        "bin_end": 834498,
                        "count": 1
                      }
                    ]
                  }
                },
                {
                  "name": "num_reviews",
                  "dtype": "int64",
                  "stats": {
                    "unique_count": 5,
                    "nan_count": 0,
                    "min": "14504",
                    "max": "33612",
                    "histogram": [
                      {
                        "bin_start": 14504,
                        "bin_end": 16414.8,
                        "count": 1
                      },
                      {
                        "bin_start": 16414.8,
                        "bin_end": 18325.6,
                        "count": 0
                      },
                      {
                        "bin_start": 18325.6,
                        "bin_end": 20236.4,
                        "count": 0
                      },
                      {
                        "bin_start": 20236.4,
                        "bin_end": 22147.2,
                        "count": 0
                      },
                      {
                        "bin_start": 22147.2,
                        "bin_end": 24058,
                        "count": 0
                      },
                      {
                        "bin_start": 24058,
                        "bin_end": 25968.8,
                        "count": 1
                      },
                      {
                        "bin_start": 25968.8,
                        "bin_end": 27879.6,
                        "count": 0
                      },
                      {
                        "bin_start": 27879.6,
                        "bin_end": 29790.4,
                        "count": 1
                      },
                      {
                        "bin_start": 29790.4,
                        "bin_end": 31701.2,
                        "count": 1
                      },
                      {
                        "bin_start": 31701.2,
                        "bin_end": 33612,
                        "count": 1
                      }
                    ]
                  }
                },
                {
                  "name": "avg_rating",
                  "dtype": "float64",
                  "stats": {
                    "unique_count": 5,
                    "nan_count": 0,
                    "min": "3.8",
                    "max": "4.31",
                    "histogram": [
                      {
                        "bin_start": 3.8,
                        "bin_end": 3.851,
                        "count": 1
                      },
                      {
                        "bin_start": 3.851,
                        "bin_end": 3.9019999999999997,
                        "count": 0
                      },
                      {
                        "bin_start": 3.9019999999999997,
                        "bin_end": 3.953,
                        "count": 1
                      },
                      {
                        "bin_start": 3.953,
                        "bin_end": 4.004,
                        "count": 0
                      },
                      {
                        "bin_start": 4.004,
                        "bin_end": 4.055,
                        "count": 0
                      },
                      {
                        "bin_start": 4.055,
                        "bin_end": 4.106,
                        "count": 0
                      },
                      {
                        "bin_start": 4.106,
                        "bin_end": 4.157,
                        "count": 1
                      },
                      {
                        "bin_start": 4.157,
                        "bin_end": 4.207999999999999,
                        "count": 0
                      },
                      {
                        "bin_start": 4.207999999999999,
                        "bin_end": 4.2589999999999995,
                        "count": 0
                      },
                      {
                        "bin_start": 4.2589999999999995,
                        "bin_end": 4.31,
                        "count": 2
                      }
                    ]
                  }
                },
                {
                  "name": "num_pages",
                  "dtype": "int16",
                  "stats": {
                    "unique_count": 5,
                    "nan_count": 0,
                    "min": "306",
                    "max": "541",
                    "histogram": [
                      {
                        "bin_start": 306,
                        "bin_end": 329.5,
                        "count": 1
                      },
                      {
                        "bin_start": 329.5,
                        "bin_end": 353,
                        "count": 0
                      },
                      {
                        "bin_start": 353,
                        "bin_end": 376.5,
                        "count": 0
                      },
                      {
                        "bin_start": 376.5,
                        "bin_end": 400,
                        "count": 1
                      },
                      {
                        "bin_start": 400,
                        "bin_end": 423.5,
                        "count": 0
                      },
                      {
                        "bin_start": 423.5,
                        "bin_end": 447,
                        "count": 0
                      },
                      {
                        "bin_start": 447,
                        "bin_end": 470.5,
                        "count": 1
                      },
                      {
                        "bin_start": 470.5,
                        "bin_end": 494,
                        "count": 1
                      },
                      {
                        "bin_start": 494,
                        "bin_end": 517.5,
                        "count": 0
                      },
                      {
                        "bin_start": 517.5,
                        "bin_end": 541,
                        "count": 1
                      }
                    ]
                  }
                },
                {
                  "name": "original_publish_year",
                  "dtype": "int64",
                  "stats": {
                    "unique_count": 4,
                    "nan_count": 0,
                    "min": "2007",
                    "max": "2010",
                    "histogram": [
                      {
                        "bin_start": 2007,
                        "bin_end": 2007.3,
                        "count": 1
                      },
                      {
                        "bin_start": 2007.3,
                        "bin_end": 2007.6,
                        "count": 0
                      },
                      {
                        "bin_start": 2007.6,
                        "bin_end": 2007.9,
                        "count": 0
                      },
                      {
                        "bin_start": 2007.9,
                        "bin_end": 2008.2,
                        "count": 1
                      },
                      {
                        "bin_start": 2008.2,
                        "bin_end": 2008.5,
                        "count": 0
                      },
                      {
                        "bin_start": 2008.5,
                        "bin_end": 2008.8,
                        "count": 0
                      },
                      {
                        "bin_start": 2008.8,
                        "bin_end": 2009.1,
                        "count": 2
                      },
                      {
                        "bin_start": 2009.1,
                        "bin_end": 2009.4,
                        "count": 0
                      },
                      {
                        "bin_start": 2009.4,
                        "bin_end": 2009.7,
                        "count": 0
                      },
                      {
                        "bin_start": 2009.7,
                        "bin_end": 2010,
                        "count": 1
                      }
                    ]
                  }
                },
                {
                  "name": "series",
                  "dtype": "bool",
                  "stats": {
                    "unique_count": 1,
                    "nan_count": 0,
                    "categories": [
                      {
                        "name": "True",
                        "count": 5
                      }
                    ]
                  }
                },
                {
                  "name": "genres",
                  "dtype": "object",
                  "stats": {
                    "unique_count": 5,
                    "nan_count": 0,
                    "categories": [
                      {
                        "name": "['Fantasy', 'Young Adult', 'Fantasy Paranormal', 'Romance', 'Fantasy Urban Fantasy', 'Paranormal Vampires', 'Fiction', 'Fantasy Supernatural', 'Paranormal Angels', 'Fantasy Magic']",
                        "count": 1
                      },
                      {
                        "name": "['Young Adult', 'Fantasy', 'Romance', 'Fantasy Paranormal', 'Paranormal Angels', 'Romance Paranormal Romance', 'Fantasy Supernatural', 'Fiction', 'Fantasy Urban Fantasy', 'Young Adult Young Adult Fantasy']",
                        "count": 1
                      },
                      {
                        "name": "3 others",
                        "count": 3
                      }
                    ]
                  }
                },
                {
                  "name": "award",
                  "dtype": "int64",
                  "stats": {
                    "unique_count": 4,
                    "nan_count": 0,
                    "min": "1",
                    "max": "10",
                    "histogram": [
                      {
                        "bin_start": 1,
                        "bin_end": 1.9,
                        "count": 2
                      },
                      {
                        "bin_start": 1.9,
                        "bin_end": 2.8,
                        "count": 1
                      },
                      {
                        "bin_start": 2.8,
                        "bin_end": 3.7,
                        "count": 1
                      },
                      {
                        "bin_start": 3.7,
                        "bin_end": 4.6,
                        "count": 0
                      },
                      {
                        "bin_start": 4.6,
                        "bin_end": 5.5,
                        "count": 0
                      },
                      {
                        "bin_start": 5.5,
                        "bin_end": 6.4,
                        "count": 0
                      },
                      {
                        "bin_start": 6.4,
                        "bin_end": 7.3,
                        "count": 0
                      },
                      {
                        "bin_start": 7.3,
                        "bin_end": 8.2,
                        "count": 0
                      },
                      {
                        "bin_start": 8.2,
                        "bin_end": 9.1,
                        "count": 0
                      },
                      {
                        "bin_start": 9.1,
                        "bin_end": 10,
                        "count": 1
                      }
                    ]
                  }
                },
                {
                  "name": "minmax_norm_ratings",
                  "dtype": "float64",
                  "stats": {
                    "unique_count": 5,
                    "nan_count": 0,
                    "min": "2.97",
                    "max": "7.75",
                    "histogram": [
                      {
                        "bin_start": 2.97,
                        "bin_end": 3.448,
                        "count": 1
                      },
                      {
                        "bin_start": 3.448,
                        "bin_end": 3.926,
                        "count": 0
                      },
                      {
                        "bin_start": 3.926,
                        "bin_end": 4.404,
                        "count": 1
                      },
                      {
                        "bin_start": 4.404,
                        "bin_end": 4.882,
                        "count": 0
                      },
                      {
                        "bin_start": 4.882,
                        "bin_end": 5.359999999999999,
                        "count": 0
                      },
                      {
                        "bin_start": 5.359999999999999,
                        "bin_end": 5.837999999999999,
                        "count": 0
                      },
                      {
                        "bin_start": 5.837999999999999,
                        "bin_end": 6.316,
                        "count": 1
                      },
                      {
                        "bin_start": 6.316,
                        "bin_end": 6.794,
                        "count": 0
                      },
                      {
                        "bin_start": 6.794,
                        "bin_end": 7.272,
                        "count": 0
                      },
                      {
                        "bin_start": 7.272,
                        "bin_end": 7.75,
                        "count": 2
                      }
                    ]
                  }
                },
                {
                  "name": "_deepnote_index_column",
                  "dtype": "int64"
                }
              ],
              "rows_top": [
                {
                  "title": "City of Ashes",
                  "author": "Cassandra Clare",
                  "num_rating": 789895,
                  "num_reviews": 30434,
                  "avg_rating": 4.15,
                  "num_pages": 453,
                  "original_publish_year": 2008,
                  "series": true,
                  "genres": "['Fantasy', 'Young Adult', 'Fantasy Paranormal', 'Romance', 'Fantasy Urban Fantasy', 'Paranormal Vampires', 'Fiction', 'Fantasy Supernatural', 'Paranormal Angels', 'Fantasy Magic']",
                  "award": 2,
                  "minmax_norm_ratings": 6.25,
                  "_deepnote_index_column": 0
                },
                {
                  "title": "Hush, Hush",
                  "author": "Becca Fitzpatrick",
                  "num_rating": 604813,
                  "num_reviews": 25700,
                  "avg_rating": 3.95,
                  "num_pages": 391,
                  "original_publish_year": 2009,
                  "series": true,
                  "genres": "['Young Adult', 'Fantasy', 'Romance', 'Fantasy Paranormal', 'Paranormal Angels', 'Romance Paranormal Romance', 'Fantasy Supernatural', 'Fiction', 'Fantasy Urban Fantasy', 'Young Adult Young Adult Fantasy']",
                  "award": 1,
                  "minmax_norm_ratings": 4.38,
                  "_deepnote_index_column": 1
                },
                {
                  "title": "City of Glass",
                  "author": "Cassandra Clare",
                  "num_rating": 834498,
                  "num_reviews": 29070,
                  "avg_rating": 4.3,
                  "num_pages": 541,
                  "original_publish_year": 2009,
                  "series": true,
                  "genres": "['Fantasy', 'Young Adult', 'Fantasy Paranormal', 'Romance', 'Fantasy Urban Fantasy', 'Paranormal Vampires', 'Fiction', 'Paranormal Angels', 'Fantasy Supernatural', 'Fantasy Magic']",
                  "award": 3,
                  "minmax_norm_ratings": 7.66,
                  "_deepnote_index_column": 2
                },
                {
                  "title": "Clockwork Angel",
                  "author": "Cassandra Clare",
                  "num_rating": 709686,
                  "num_reviews": 33612,
                  "avg_rating": 4.31,
                  "num_pages": 479,
                  "original_publish_year": 2010,
                  "series": true,
                  "genres": "['Fantasy', 'Young Adult', 'Romance', 'Fantasy Paranormal', 'Science Fiction Steampunk', 'Historical Historical Fiction', 'Fiction', 'Fantasy Urban Fantasy', 'Paranormal Vampires', 'Paranormal Angels']",
                  "award": 10,
                  "minmax_norm_ratings": 7.75,
                  "_deepnote_index_column": 3
                },
                {
                  "title": "Marked",
                  "author": "P.C. Cast",
                  "num_rating": 448045,
                  "num_reviews": 14504,
                  "avg_rating": 3.8,
                  "num_pages": 306,
                  "original_publish_year": 2007,
                  "series": true,
                  "genres": "['Young Adult', 'Fantasy', 'Paranormal Vampires', 'Fantasy Paranormal', 'Romance', 'Fiction', 'Fantasy Supernatural', 'Fantasy Urban Fantasy', 'Romance Paranormal Romance', 'Young Adult Teen']",
                  "award": 1,
                  "minmax_norm_ratings": 2.97,
                  "_deepnote_index_column": 4
                }
              ],
              "rows_bottom": null
            },
            "text/plain": "             title             author  num_rating  num_reviews  avg_rating  \\\n0    City of Ashes    Cassandra Clare      789895        30434        4.15   \n1       Hush, Hush  Becca Fitzpatrick      604813        25700        3.95   \n2    City of Glass    Cassandra Clare      834498        29070        4.30   \n3  Clockwork Angel    Cassandra Clare      709686        33612        4.31   \n4           Marked          P.C. Cast      448045        14504        3.80   \n\n   num_pages  original_publish_year  series  \\\n0        453                   2008    True   \n1        391                   2009    True   \n2        541                   2009    True   \n3        479                   2010    True   \n4        306                   2007    True   \n\n                                              genres  award  \\\n0  ['Fantasy', 'Young Adult', 'Fantasy Paranormal...      2   \n1  ['Young Adult', 'Fantasy', 'Romance', 'Fantasy...      1   \n2  ['Fantasy', 'Young Adult', 'Fantasy Paranormal...      3   \n3  ['Fantasy', 'Young Adult', 'Romance', 'Fantasy...     10   \n4  ['Young Adult', 'Fantasy', 'Paranormal Vampire...      1   \n\n   minmax_norm_ratings  \n0                 6.25  \n1                 4.38  \n2                 7.66  \n3                 7.75  \n4                 2.97  ",
            "text/html": "<div>\n<style scoped>\n    .dataframe tbody tr th:only-of-type {\n        vertical-align: middle;\n    }\n\n    .dataframe tbody tr th {\n        vertical-align: top;\n    }\n\n    .dataframe thead th {\n        text-align: right;\n    }\n</style>\n<table border=\"1\" class=\"dataframe\">\n  <thead>\n    <tr style=\"text-align: right;\">\n      <th></th>\n      <th>title</th>\n      <th>author</th>\n      <th>num_rating</th>\n      <th>num_reviews</th>\n      <th>avg_rating</th>\n      <th>num_pages</th>\n      <th>original_publish_year</th>\n      <th>series</th>\n      <th>genres</th>\n      <th>award</th>\n      <th>minmax_norm_ratings</th>\n    </tr>\n  </thead>\n  <tbody>\n    <tr>\n      <th>0</th>\n      <td>City of Ashes</td>\n      <td>Cassandra Clare</td>\n      <td>789895</td>\n      <td>30434</td>\n      <td>4.15</td>\n      <td>453</td>\n      <td>2008</td>\n      <td>True</td>\n      <td>['Fantasy', 'Young Adult', 'Fantasy Paranormal...</td>\n      <td>2</td>\n      <td>6.25</td>\n    </tr>\n    <tr>\n      <th>1</th>\n      <td>Hush, Hush</td>\n      <td>Becca Fitzpatrick</td>\n      <td>604813</td>\n      <td>25700</td>\n      <td>3.95</td>\n      <td>391</td>\n      <td>2009</td>\n      <td>True</td>\n      <td>['Young Adult', 'Fantasy', 'Romance', 'Fantasy...</td>\n      <td>1</td>\n      <td>4.38</td>\n    </tr>\n    <tr>\n      <th>2</th>\n      <td>City of Glass</td>\n      <td>Cassandra Clare</td>\n      <td>834498</td>\n      <td>29070</td>\n      <td>4.30</td>\n      <td>541</td>\n      <td>2009</td>\n      <td>True</td>\n      <td>['Fantasy', 'Young Adult', 'Fantasy Paranormal...</td>\n      <td>3</td>\n      <td>7.66</td>\n    </tr>\n    <tr>\n      <th>3</th>\n      <td>Clockwork Angel</td>\n      <td>Cassandra Clare</td>\n      <td>709686</td>\n      <td>33612</td>\n      <td>4.31</td>\n      <td>479</td>\n      <td>2010</td>\n      <td>True</td>\n      <td>['Fantasy', 'Young Adult', 'Romance', 'Fantasy...</td>\n      <td>10</td>\n      <td>7.75</td>\n    </tr>\n    <tr>\n      <th>4</th>\n      <td>Marked</td>\n      <td>P.C. Cast</td>\n      <td>448045</td>\n      <td>14504</td>\n      <td>3.80</td>\n      <td>306</td>\n      <td>2007</td>\n      <td>True</td>\n      <td>['Young Adult', 'Fantasy', 'Paranormal Vampire...</td>\n      <td>1</td>\n      <td>2.97</td>\n    </tr>\n  </tbody>\n</table>\n</div>"
          },
          "metadata": {}
        }
      ]
    },
    {
      "cell_type": "markdown",
      "source": "# Mean normalization",
      "metadata": {
        "tags": [],
        "cell_id": "00009-7e8e9668-8234-4dac-9d61-5326e7bcfbb5",
        "deepnote_cell_type": "markdown"
      }
    },
    {
      "cell_type": "code",
      "metadata": {
        "tags": [],
        "deepnote_to_be_reexecuted": false,
        "source_hash": "ff78f611",
        "execution_millis": 6,
        "execution_start": 1618396778773,
        "cell_id": "00010-cc65346b-0a7b-4d0c-9025-404728b1d8b1",
        "deepnote_cell_type": "code"
      },
      "source": "#Step1 : average (avg_rating)\ndf_mean = df[[\"avg_rating\"]].mean()\ndf_mean",
      "execution_count": 13,
      "outputs": [
        {
          "output_type": "execute_result",
          "execution_count": 13,
          "data": {
            "text/plain": "avg_rating    4.046719\ndtype: float64"
          },
          "metadata": {}
        }
      ]
    },
    {
      "cell_type": "code",
      "metadata": {
        "tags": [],
        "deepnote_to_be_reexecuted": false,
        "source_hash": "cae2bb51",
        "execution_millis": 1,
        "cell_id": "00011-0a33779d-ec66-47cb-9516-ee0cfbe8f0ed",
        "execution_start": 1618398231257,
        "deepnote_cell_type": "code"
      },
      "source": "def mean_norm(data_column_name):\n    x = data_column_name\n    mean_norm_ratings=1+((x-x.mean())/(x.max()-x.min()))*9\n    return mean_norm_ratings\n",
      "execution_count": 39,
      "outputs": []
    },
    {
      "cell_type": "code",
      "metadata": {
        "tags": [],
        "deepnote_to_be_reexecuted": false,
        "source_hash": "3f656bfd",
        "execution_millis": 1,
        "output_cleared": false,
        "cell_id": "00012-37c3bf92-26c1-40db-b2a1-9ef09d497f31",
        "execution_start": 1618398268530,
        "deepnote_cell_type": "code"
      },
      "source": "#print(type(mean_norm(cleaned[\"avg_rating\"])))\na = mean_norm(df[\"avg_rating\"])\na.to_frame()\n\n",
      "execution_count": 41,
      "outputs": []
    },
    {
      "cell_type": "markdown",
      "source": "Adding Minmax_norm and mean_norm to the csv",
      "metadata": {
        "tags": [],
        "cell_id": "00013-4e6d1325-59e2-4a2c-8365-f121ec4d26b7",
        "deepnote_cell_type": "markdown"
      }
    },
    {
      "cell_type": "code",
      "metadata": {
        "tags": [],
        "deepnote_to_be_reexecuted": false,
        "source_hash": "bf68b316",
        "execution_millis": 1,
        "cell_id": "00014-888ca4cf-641b-4af2-b37f-96adb0f6fe34",
        "execution_start": 1618398360474,
        "deepnote_cell_type": "code"
      },
      "source": "df['mean_norm_ratings']=mean_norm(df['avg_rating']).round(decimals=2)",
      "execution_count": 43,
      "outputs": []
    },
    {
      "cell_type": "code",
      "metadata": {
        "tags": [],
        "cell_id": "00015-485bdea0-1230-478f-97f0-2b3556b54b28",
        "deepnote_to_be_reexecuted": false,
        "source_hash": "b623e53d",
        "execution_millis": 0,
        "execution_start": 1618408613907,
        "deepnote_cell_type": "code"
      },
      "source": "df.head()",
      "execution_count": 102,
      "outputs": []
    },
    {
      "cell_type": "code",
      "metadata": {
        "tags": [],
        "cell_id": "00018-e5f5431d-755a-4734-8c2b-d976f4f53f74",
        "deepnote_to_be_reexecuted": false,
        "source_hash": "7992a785",
        "execution_millis": 0,
        "output_cleared": false,
        "execution_start": 1618398678911,
        "deepnote_cell_type": "code"
      },
      "source": "cols = df.columns.tolist()\ncols=cols[:8]+cols[-2:]+cols[8:-2]\ndf = df[cols]",
      "execution_count": 50,
      "outputs": []
    },
    {
      "cell_type": "code",
      "metadata": {
        "tags": [],
        "cell_id": "00019-277d4df1-dfa2-4cad-8b9e-4b73f459a104",
        "deepnote_to_be_reexecuted": false,
        "source_hash": "f804c160",
        "execution_millis": 55,
        "execution_start": 1618402793914,
        "deepnote_cell_type": "code"
      },
      "source": "df",
      "execution_count": 92,
      "outputs": [
        {
          "output_type": "execute_result",
          "execution_count": 92,
          "data": {
            "application/vnd.deepnote.dataframe.v2+json": {
              "row_count": 99,
              "column_count": 12,
              "columns": [
                {
                  "name": "title",
                  "dtype": "object",
                  "stats": {
                    "unique_count": 99,
                    "nan_count": 0,
                    "categories": [
                      {
                        "name": "City of Ashes",
                        "count": 1
                      },
                      {
                        "name": "Hush, Hush",
                        "count": 1
                      },
                      {
                        "name": "97 others",
                        "count": 97
                      }
                    ]
                  }
                },
                {
                  "name": "author",
                  "dtype": "object",
                  "stats": {
                    "unique_count": 61,
                    "nan_count": 0,
                    "categories": [
                      {
                        "name": "Cassandra Clare",
                        "count": 7
                      },
                      {
                        "name": "P.C. Cast",
                        "count": 6
                      },
                      {
                        "name": "59 others",
                        "count": 86
                      }
                    ]
                  }
                },
                {
                  "name": "num_rating",
                  "dtype": "int64",
                  "stats": {
                    "unique_count": 99,
                    "nan_count": 0,
                    "min": "914",
                    "max": "2857494",
                    "histogram": [
                      {
                        "bin_start": 914,
                        "bin_end": 286572,
                        "count": 60
                      },
                      {
                        "bin_start": 286572,
                        "bin_end": 572230,
                        "count": 24
                      },
                      {
                        "bin_start": 572230,
                        "bin_end": 857888,
                        "count": 13
                      },
                      {
                        "bin_start": 857888,
                        "bin_end": 1143546,
                        "count": 1
                      },
                      {
                        "bin_start": 1143546,
                        "bin_end": 1429204,
                        "count": 0
                      },
                      {
                        "bin_start": 1429204,
                        "bin_end": 1714862,
                        "count": 0
                      },
                      {
                        "bin_start": 1714862,
                        "bin_end": 2000520,
                        "count": 0
                      },
                      {
                        "bin_start": 2000520,
                        "bin_end": 2286178,
                        "count": 0
                      },
                      {
                        "bin_start": 2286178,
                        "bin_end": 2571836,
                        "count": 0
                      },
                      {
                        "bin_start": 2571836,
                        "bin_end": 2857494,
                        "count": 1
                      }
                    ]
                  }
                },
                {
                  "name": "num_reviews",
                  "dtype": "int64",
                  "stats": {
                    "unique_count": 99,
                    "nan_count": 0,
                    "min": "129",
                    "max": "77427",
                    "histogram": [
                      {
                        "bin_start": 129,
                        "bin_end": 7858.8,
                        "count": 35
                      },
                      {
                        "bin_start": 7858.8,
                        "bin_end": 15588.6,
                        "count": 32
                      },
                      {
                        "bin_start": 15588.6,
                        "bin_end": 23318.4,
                        "count": 10
                      },
                      {
                        "bin_start": 23318.4,
                        "bin_end": 31048.2,
                        "count": 12
                      },
                      {
                        "bin_start": 31048.2,
                        "bin_end": 38778,
                        "count": 5
                      },
                      {
                        "bin_start": 38778,
                        "bin_end": 46507.8,
                        "count": 0
                      },
                      {
                        "bin_start": 46507.8,
                        "bin_end": 54237.6,
                        "count": 2
                      },
                      {
                        "bin_start": 54237.6,
                        "bin_end": 61967.4,
                        "count": 2
                      },
                      {
                        "bin_start": 61967.4,
                        "bin_end": 69697.2,
                        "count": 0
                      },
                      {
                        "bin_start": 69697.2,
                        "bin_end": 77427,
                        "count": 1
                      }
                    ]
                  }
                },
                {
                  "name": "avg_rating",
                  "dtype": "float64",
                  "stats": {
                    "unique_count": 58,
                    "nan_count": 0,
                    "min": "3.59",
                    "max": "4.55",
                    "histogram": [
                      {
                        "bin_start": 3.59,
                        "bin_end": 3.686,
                        "count": 5
                      },
                      {
                        "bin_start": 3.686,
                        "bin_end": 3.782,
                        "count": 8
                      },
                      {
                        "bin_start": 3.782,
                        "bin_end": 3.878,
                        "count": 9
                      },
                      {
                        "bin_start": 3.878,
                        "bin_end": 3.9739999999999998,
                        "count": 20
                      },
                      {
                        "bin_start": 3.9739999999999998,
                        "bin_end": 4.07,
                        "count": 12
                      },
                      {
                        "bin_start": 4.07,
                        "bin_end": 4.166,
                        "count": 22
                      },
                      {
                        "bin_start": 4.166,
                        "bin_end": 4.262,
                        "count": 8
                      },
                      {
                        "bin_start": 4.262,
                        "bin_end": 4.358,
                        "count": 8
                      },
                      {
                        "bin_start": 4.358,
                        "bin_end": 4.454,
                        "count": 4
                      },
                      {
                        "bin_start": 4.454,
                        "bin_end": 4.55,
                        "count": 3
                      }
                    ]
                  }
                },
                {
                  "name": "num_pages",
                  "dtype": "int16",
                  "stats": {
                    "unique_count": 84,
                    "nan_count": 0,
                    "min": "153",
                    "max": "819",
                    "histogram": [
                      {
                        "bin_start": 153,
                        "bin_end": 219.6,
                        "count": 3
                      },
                      {
                        "bin_start": 219.6,
                        "bin_end": 286.2,
                        "count": 9
                      },
                      {
                        "bin_start": 286.2,
                        "bin_end": 352.79999999999995,
                        "count": 26
                      },
                      {
                        "bin_start": 352.79999999999995,
                        "bin_end": 419.4,
                        "count": 25
                      },
                      {
                        "bin_start": 419.4,
                        "bin_end": 486,
                        "count": 13
                      },
                      {
                        "bin_start": 486,
                        "bin_end": 552.5999999999999,
                        "count": 10
                      },
                      {
                        "bin_start": 552.5999999999999,
                        "bin_end": 619.1999999999999,
                        "count": 6
                      },
                      {
                        "bin_start": 619.1999999999999,
                        "bin_end": 685.8,
                        "count": 1
                      },
                      {
                        "bin_start": 685.8,
                        "bin_end": 752.4,
                        "count": 5
                      },
                      {
                        "bin_start": 752.4,
                        "bin_end": 819,
                        "count": 1
                      }
                    ]
                  }
                },
                {
                  "name": "original_publish_year",
                  "dtype": "int64",
                  "stats": {
                    "unique_count": 13,
                    "nan_count": 0,
                    "min": "2001",
                    "max": "2018",
                    "histogram": [
                      {
                        "bin_start": 2001,
                        "bin_end": 2002.7,
                        "count": 1
                      },
                      {
                        "bin_start": 2002.7,
                        "bin_end": 2004.4,
                        "count": 1
                      },
                      {
                        "bin_start": 2004.4,
                        "bin_end": 2006.1,
                        "count": 23
                      },
                      {
                        "bin_start": 2006.1,
                        "bin_end": 2007.8,
                        "count": 12
                      },
                      {
                        "bin_start": 2007.8,
                        "bin_end": 2009.5,
                        "count": 31
                      },
                      {
                        "bin_start": 2009.5,
                        "bin_end": 2011.2,
                        "count": 23
                      },
                      {
                        "bin_start": 2011.2,
                        "bin_end": 2012.9,
                        "count": 5
                      },
                      {
                        "bin_start": 2012.9,
                        "bin_end": 2014.6,
                        "count": 1
                      },
                      {
                        "bin_start": 2014.6,
                        "bin_end": 2016.3,
                        "count": 0
                      },
                      {
                        "bin_start": 2016.3,
                        "bin_end": 2018,
                        "count": 2
                      }
                    ]
                  }
                },
                {
                  "name": "series",
                  "dtype": "bool",
                  "stats": {
                    "unique_count": 2,
                    "nan_count": 0,
                    "categories": [
                      {
                        "name": "True",
                        "count": 94
                      },
                      {
                        "name": "False",
                        "count": 5
                      }
                    ]
                  }
                },
                {
                  "name": "minmax_norm_ratings",
                  "dtype": "float64",
                  "stats": {
                    "unique_count": 58,
                    "nan_count": 0,
                    "min": "1.0",
                    "max": "10.0",
                    "histogram": [
                      {
                        "bin_start": 1,
                        "bin_end": 1.9,
                        "count": 5
                      },
                      {
                        "bin_start": 1.9,
                        "bin_end": 2.8,
                        "count": 8
                      },
                      {
                        "bin_start": 2.8,
                        "bin_end": 3.7,
                        "count": 9
                      },
                      {
                        "bin_start": 3.7,
                        "bin_end": 4.6,
                        "count": 20
                      },
                      {
                        "bin_start": 4.6,
                        "bin_end": 5.5,
                        "count": 12
                      },
                      {
                        "bin_start": 5.5,
                        "bin_end": 6.4,
                        "count": 22
                      },
                      {
                        "bin_start": 6.4,
                        "bin_end": 7.3,
                        "count": 8
                      },
                      {
                        "bin_start": 7.3,
                        "bin_end": 8.2,
                        "count": 8
                      },
                      {
                        "bin_start": 8.2,
                        "bin_end": 9.1,
                        "count": 4
                      },
                      {
                        "bin_start": 9.1,
                        "bin_end": 10,
                        "count": 3
                      }
                    ]
                  }
                },
                {
                  "name": "mean_norm_ratings",
                  "dtype": "float64",
                  "stats": {
                    "unique_count": 58,
                    "nan_count": 0,
                    "min": "-3.13",
                    "max": "5.87",
                    "histogram": [
                      {
                        "bin_start": -3.13,
                        "bin_end": -2.23,
                        "count": 5
                      },
                      {
                        "bin_start": -2.23,
                        "bin_end": -1.3299999999999998,
                        "count": 8
                      },
                      {
                        "bin_start": -1.3299999999999998,
                        "bin_end": -0.4299999999999997,
                        "count": 9
                      },
                      {
                        "bin_start": -0.4299999999999997,
                        "bin_end": 0.4700000000000002,
                        "count": 20
                      },
                      {
                        "bin_start": 0.4700000000000002,
                        "bin_end": 1.37,
                        "count": 12
                      },
                      {
                        "bin_start": 1.37,
                        "bin_end": 2.2700000000000005,
                        "count": 22
                      },
                      {
                        "bin_start": 2.2700000000000005,
                        "bin_end": 3.17,
                        "count": 8
                      },
                      {
                        "bin_start": 3.17,
                        "bin_end": 4.07,
                        "count": 8
                      },
                      {
                        "bin_start": 4.07,
                        "bin_end": 4.97,
                        "count": 4
                      },
                      {
                        "bin_start": 4.97,
                        "bin_end": 5.87,
                        "count": 3
                      }
                    ]
                  }
                },
                {
                  "name": "genres",
                  "dtype": "object",
                  "stats": {
                    "unique_count": 86,
                    "nan_count": 0,
                    "categories": [
                      {
                        "name": "['Young Adult', 'Paranormal Vampires', 'Fantasy', 'Fantasy Paranormal', 'Romance', 'Fantasy Urban Fantasy', 'Romance Paranormal Romance', 'Fantasy Supernatural', 'Fiction', 'Fantasy Magic']",
                        "count": 5
                      },
                      {
                        "name": "['Fantasy', 'Young Adult', 'Fantasy Mythology', 'Fiction', 'Childrens Middle Grade', 'Adventure', 'Childrens', 'Mythology Greek Mythology', 'Fantasy Urban Fantasy', 'Fantasy Magic']",
                        "count": 3
                      },
                      {
                        "name": "84 others",
                        "count": 91
                      }
                    ]
                  }
                },
                {
                  "name": "award",
                  "dtype": "int64",
                  "stats": {
                    "unique_count": 12,
                    "nan_count": 0,
                    "min": "0",
                    "max": "18",
                    "histogram": [
                      {
                        "bin_start": 0,
                        "bin_end": 1.8,
                        "count": 51
                      },
                      {
                        "bin_start": 1.8,
                        "bin_end": 3.6,
                        "count": 26
                      },
                      {
                        "bin_start": 3.6,
                        "bin_end": 5.4,
                        "count": 9
                      },
                      {
                        "bin_start": 5.4,
                        "bin_end": 7.2,
                        "count": 0
                      },
                      {
                        "bin_start": 7.2,
                        "bin_end": 9,
                        "count": 0
                      },
                      {
                        "bin_start": 9,
                        "bin_end": 10.8,
                        "count": 3
                      },
                      {
                        "bin_start": 10.8,
                        "bin_end": 12.6,
                        "count": 7
                      },
                      {
                        "bin_start": 12.6,
                        "bin_end": 14.4,
                        "count": 0
                      },
                      {
                        "bin_start": 14.4,
                        "bin_end": 16.2,
                        "count": 1
                      },
                      {
                        "bin_start": 16.2,
                        "bin_end": 18,
                        "count": 2
                      }
                    ]
                  }
                },
                {
                  "name": "_deepnote_index_column",
                  "dtype": "int64"
                }
              ],
              "rows_top": [
                {
                  "title": "City of Ashes",
                  "author": "Cassandra Clare",
                  "num_rating": 789895,
                  "num_reviews": 30434,
                  "avg_rating": 4.15,
                  "num_pages": 453,
                  "original_publish_year": 2008,
                  "series": true,
                  "minmax_norm_ratings": 6.25,
                  "mean_norm_ratings": 2.12,
                  "genres": "['Fantasy', 'Young Adult', 'Fantasy Paranormal', 'Romance', 'Fantasy Urban Fantasy', 'Paranormal Vampires', 'Fiction', 'Fantasy Supernatural', 'Paranormal Angels', 'Fantasy Magic']",
                  "award": 2,
                  "_deepnote_index_column": 0
                },
                {
                  "title": "Hush, Hush",
                  "author": "Becca Fitzpatrick",
                  "num_rating": 604813,
                  "num_reviews": 25700,
                  "avg_rating": 3.95,
                  "num_pages": 391,
                  "original_publish_year": 2009,
                  "series": true,
                  "minmax_norm_ratings": 4.38,
                  "mean_norm_ratings": 0.24,
                  "genres": "['Young Adult', 'Fantasy', 'Romance', 'Fantasy Paranormal', 'Paranormal Angels', 'Romance Paranormal Romance', 'Fantasy Supernatural', 'Fiction', 'Fantasy Urban Fantasy', 'Young Adult Young Adult Fantasy']",
                  "award": 1,
                  "_deepnote_index_column": 1
                },
                {
                  "title": "City of Glass",
                  "author": "Cassandra Clare",
                  "num_rating": 834498,
                  "num_reviews": 29070,
                  "avg_rating": 4.3,
                  "num_pages": 541,
                  "original_publish_year": 2009,
                  "series": true,
                  "minmax_norm_ratings": 7.66,
                  "mean_norm_ratings": 3.52,
                  "genres": "['Fantasy', 'Young Adult', 'Fantasy Paranormal', 'Romance', 'Fantasy Urban Fantasy', 'Paranormal Vampires', 'Fiction', 'Paranormal Angels', 'Fantasy Supernatural', 'Fantasy Magic']",
                  "award": 3,
                  "_deepnote_index_column": 2
                },
                {
                  "title": "Clockwork Angel",
                  "author": "Cassandra Clare",
                  "num_rating": 709686,
                  "num_reviews": 33612,
                  "avg_rating": 4.31,
                  "num_pages": 479,
                  "original_publish_year": 2010,
                  "series": true,
                  "minmax_norm_ratings": 7.75,
                  "mean_norm_ratings": 3.62,
                  "genres": "['Fantasy', 'Young Adult', 'Romance', 'Fantasy Paranormal', 'Science Fiction Steampunk', 'Historical Historical Fiction', 'Fiction', 'Fantasy Urban Fantasy', 'Paranormal Vampires', 'Paranormal Angels']",
                  "award": 10,
                  "_deepnote_index_column": 3
                },
                {
                  "title": "Marked",
                  "author": "P.C. Cast",
                  "num_rating": 448045,
                  "num_reviews": 14504,
                  "avg_rating": 3.8,
                  "num_pages": 306,
                  "original_publish_year": 2007,
                  "series": true,
                  "minmax_norm_ratings": 2.97,
                  "mean_norm_ratings": -1.16,
                  "genres": "['Young Adult', 'Fantasy', 'Paranormal Vampires', 'Fantasy Paranormal', 'Romance', 'Fiction', 'Fantasy Supernatural', 'Fantasy Urban Fantasy', 'Romance Paranormal Romance', 'Young Adult Teen']",
                  "award": 1,
                  "_deepnote_index_column": 4
                },
                {
                  "title": "Graceling",
                  "author": "Kristin Cashore",
                  "num_rating": 405363,
                  "num_reviews": 23004,
                  "avg_rating": 4.07,
                  "num_pages": 471,
                  "original_publish_year": 2008,
                  "series": true,
                  "minmax_norm_ratings": 5.5,
                  "mean_norm_ratings": 1.37,
                  "genres": "['Fantasy', 'Young Adult', 'Romance', 'Fiction', 'Adventure', 'Young Adult Young Adult Fantasy', 'Fantasy Magic', 'Fantasy High Fantasy', 'Young Adult Teen', 'Fantasy Paranormal']",
                  "award": 18,
                  "_deepnote_index_column": 5
                },
                {
                  "title": "Shiver",
                  "author": "Maggie Stiefvater",
                  "num_rating": 448133,
                  "num_reviews": 23237,
                  "avg_rating": 3.76,
                  "num_pages": 392,
                  "original_publish_year": 2009,
                  "series": true,
                  "minmax_norm_ratings": 2.59,
                  "mean_norm_ratings": -1.54,
                  "genres": "['Young Adult', 'Fantasy', 'Romance', 'Fantasy Paranormal', 'Shapeshifters Werewolves', 'Fiction', 'Romance Paranormal Romance', 'Fantasy Supernatural', 'Fantasy Urban Fantasy', 'Young Adult Teen']",
                  "award": 12,
                  "_deepnote_index_column": 6
                },
                {
                  "title": "Frostbite",
                  "author": "Richelle Mead",
                  "num_rating": 324012,
                  "num_reviews": 11587,
                  "avg_rating": 4.26,
                  "num_pages": 327,
                  "original_publish_year": 2008,
                  "series": true,
                  "minmax_norm_ratings": 7.28,
                  "mean_norm_ratings": 3.15,
                  "genres": "['Young Adult', 'Paranormal Vampires', 'Fantasy', 'Fantasy Paranormal', 'Romance', 'Fantasy Urban Fantasy', 'Romance Paranormal Romance', 'Fantasy Supernatural', 'Fiction', 'Fantasy Magic']",
                  "award": 0,
                  "_deepnote_index_column": 7
                },
                {
                  "title": "I'd Tell You I Love You, But Then I'd Have to Kill You",
                  "author": "Ally Carter",
                  "num_rating": 180506,
                  "num_reviews": 7607,
                  "avg_rating": 3.82,
                  "num_pages": 284,
                  "original_publish_year": 2006,
                  "series": true,
                  "minmax_norm_ratings": 3.16,
                  "mean_norm_ratings": -0.98,
                  "genres": "['Young Adult', 'Romance', 'Mystery', 'Contemporary', 'Fiction', 'Spy Thriller Espionage', 'Womens Fiction Chick Lit', 'Adventure', 'Young Adult Teen', 'Realistic Fiction']",
                  "award": 2,
                  "_deepnote_index_column": 8
                },
                {
                  "title": "Matched",
                  "author": "Ally Condie",
                  "num_rating": 681069,
                  "num_reviews": 33511,
                  "avg_rating": 3.65,
                  "num_pages": 369,
                  "original_publish_year": 2010,
                  "series": true,
                  "minmax_norm_ratings": 1.56,
                  "mean_norm_ratings": -2.57,
                  "genres": "['Young Adult', 'Science Fiction Dystopia', 'Romance', 'Science Fiction', 'Fiction', 'Fantasy', 'Young Adult Teen', 'Audiobook', 'Futuristic', 'Apocalyptic Post Apocalyptic']",
                  "award": 11,
                  "_deepnote_index_column": 9
                },
                {
                  "title": "The Last Olympian",
                  "author": "Rick Riordan",
                  "num_rating": 717770,
                  "num_reviews": 25247,
                  "avg_rating": 4.5,
                  "num_pages": 381,
                  "original_publish_year": 2009,
                  "series": true,
                  "minmax_norm_ratings": 9.53,
                  "mean_norm_ratings": 5.4,
                  "genres": "['Fantasy', 'Young Adult', 'Fantasy Mythology', 'Fiction', 'Childrens Middle Grade', 'Adventure', 'Childrens', 'Mythology Greek Mythology', 'Fantasy Urban Fantasy', 'Fantasy Magic']",
                  "award": 4,
                  "_deepnote_index_column": 10
                },
                {
                  "title": "The Angel Experiment",
                  "author": "James Patterson",
                  "num_rating": 211692,
                  "num_reviews": 9431,
                  "avg_rating": 4.07,
                  "num_pages": 445,
                  "original_publish_year": 2006,
                  "series": true,
                  "minmax_norm_ratings": 5.5,
                  "mean_norm_ratings": 1.37,
                  "genres": "['Young Adult', 'Fantasy', 'Science Fiction', 'Fiction', 'Adventure', 'Fantasy Paranormal', 'Young Adult Teen', 'Action', 'Mystery', 'Fantasy Urban Fantasy']",
                  "award": 2,
                  "_deepnote_index_column": 11
                },
                {
                  "title": "Cinder",
                  "author": "Marissa Meyer",
                  "num_rating": 730212,
                  "num_reviews": 56877,
                  "avg_rating": 4.13,
                  "num_pages": 400,
                  "original_publish_year": 2012,
                  "series": true,
                  "minmax_norm_ratings": 6.06,
                  "mean_norm_ratings": 1.93,
                  "genres": "['Young Adult', 'Fantasy', 'Science Fiction', 'Romance', 'Science Fiction Dystopia', 'Retellings', 'Fiction', 'Fantasy Fairy Tales', 'Audiobook', 'Young Adult Young Adult Fantasy']",
                  "award": 12,
                  "_deepnote_index_column": 12
                },
                {
                  "title": "The Titan's Curse",
                  "author": "Rick Riordan",
                  "num_rating": 739388,
                  "num_reviews": 22821,
                  "avg_rating": 4.34,
                  "num_pages": 320,
                  "original_publish_year": 2007,
                  "series": true,
                  "minmax_norm_ratings": 8.03,
                  "mean_norm_ratings": 3.9,
                  "genres": "['Fantasy', 'Young Adult', 'Fantasy Mythology', 'Fiction', 'Childrens Middle Grade', 'Adventure', 'Childrens', 'Mythology Greek Mythology', 'Fantasy Urban Fantasy', 'Fantasy Magic']",
                  "award": 1,
                  "_deepnote_index_column": 13
                },
                {
                  "title": "Shadow Kiss",
                  "author": "Richelle Mead",
                  "num_rating": 338750,
                  "num_reviews": 11508,
                  "avg_rating": 4.33,
                  "num_pages": 443,
                  "original_publish_year": 2008,
                  "series": true,
                  "minmax_norm_ratings": 7.94,
                  "mean_norm_ratings": 3.81,
                  "genres": "['Young Adult', 'Paranormal Vampires', 'Fantasy', 'Fantasy Paranormal', 'Romance', 'Fantasy Urban Fantasy', 'Romance Paranormal Romance', 'Fantasy Supernatural', 'Fiction', 'Fantasy Magic']",
                  "award": 1,
                  "_deepnote_index_column": 14
                },
                {
                  "title": "The Battle of the Labyrinth",
                  "author": "Rick Riordan",
                  "num_rating": 791118,
                  "num_reviews": 20892,
                  "avg_rating": 4.39,
                  "num_pages": 361,
                  "original_publish_year": 2008,
                  "series": true,
                  "minmax_norm_ratings": 8.5,
                  "mean_norm_ratings": 4.37,
                  "genres": "['Fantasy', 'Young Adult', 'Fantasy Mythology', 'Fiction', 'Childrens Middle Grade', 'Adventure', 'Childrens', 'Mythology Greek Mythology', 'Fantasy Urban Fantasy', 'Fantasy Magic']",
                  "award": 0,
                  "_deepnote_index_column": 15
                },
                {
                  "title": "Blood Promise",
                  "author": "Richelle Mead",
                  "num_rating": 289248,
                  "num_reviews": 9958,
                  "avg_rating": 4.3,
                  "num_pages": 503,
                  "original_publish_year": 2009,
                  "series": true,
                  "minmax_norm_ratings": 7.66,
                  "mean_norm_ratings": 3.52,
                  "genres": "['Young Adult', 'Paranormal Vampires', 'Fantasy', 'Fantasy Paranormal', 'Romance', 'Fantasy Urban Fantasy', 'Romance Paranormal Romance', 'Fantasy Supernatural', 'Fiction', 'Fantasy Magic']",
                  "award": 2,
                  "_deepnote_index_column": 16
                },
                {
                  "title": "The Lost Hero",
                  "author": "Rick Riordan",
                  "num_rating": 665681,
                  "num_reviews": 23132,
                  "avg_rating": 4.32,
                  "num_pages": 553,
                  "original_publish_year": 2010,
                  "series": true,
                  "minmax_norm_ratings": 7.84,
                  "mean_norm_ratings": 3.71,
                  "genres": "['Fantasy', 'Young Adult', 'Fantasy Mythology', 'Fiction', 'Childrens Middle Grade', 'Adventure', 'Childrens', 'Mythology Greek Mythology', 'Fantasy Urban Fantasy', 'Young Adult Young Adult Fantasy']",
                  "award": 3,
                  "_deepnote_index_column": 17
                },
                {
                  "title": "The Selection",
                  "author": "Kiera Cass",
                  "num_rating": 991418,
                  "num_reviews": 53192,
                  "avg_rating": 4.12,
                  "num_pages": 336,
                  "original_publish_year": 2012,
                  "series": true,
                  "minmax_norm_ratings": 5.97,
                  "mean_norm_ratings": 1.84,
                  "genres": "['Young Adult', 'Romance', 'Science Fiction Dystopia', 'Fantasy', 'Fiction', 'Science Fiction', 'Audiobook', 'Young Adult Teen', 'Womens Fiction Chick Lit', 'Young Adult Young Adult Fantasy']",
                  "award": 2,
                  "_deepnote_index_column": 18
                },
                {
                  "title": "Pretties",
                  "author": "Scott Westerfeld",
                  "num_rating": 239796,
                  "num_reviews": 10407,
                  "avg_rating": 3.84,
                  "num_pages": 370,
                  "original_publish_year": 2005,
                  "series": true,
                  "minmax_norm_ratings": 3.34,
                  "mean_norm_ratings": -0.79,
                  "genres": "['Young Adult', 'Science Fiction Dystopia', 'Science Fiction', 'Fiction', 'Fantasy', 'Romance', 'Young Adult Teen', 'Adventure', 'Apocalyptic Post Apocalyptic', 'Science Fiction Fantasy']",
                  "award": 0,
                  "_deepnote_index_column": 19
                },
                {
                  "title": "Eldest",
                  "author": "Christopher Paolini",
                  "num_rating": 376215,
                  "num_reviews": 9883,
                  "avg_rating": 3.99,
                  "num_pages": 704,
                  "original_publish_year": 2007,
                  "series": true,
                  "minmax_norm_ratings": 4.75,
                  "mean_norm_ratings": 0.62,
                  "genres": "['Fantasy', 'Young Adult', 'Fiction', 'Fantasy Dragons', 'Adventure', 'Fantasy Magic', 'Fantasy High Fantasy', 'Fantasy Epic Fantasy', 'Science Fiction Fantasy', 'Young Adult Young Adult Fantasy']",
                  "award": 4,
                  "_deepnote_index_column": 20
                },
                {
                  "title": "Legend",
                  "author": "Marie Lu",
                  "num_rating": 435252,
                  "num_reviews": 29892,
                  "avg_rating": 4.16,
                  "num_pages": 305,
                  "original_publish_year": 2011,
                  "series": true,
                  "minmax_norm_ratings": 6.34,
                  "mean_norm_ratings": 2.21,
                  "genres": "['Young Adult', 'Science Fiction Dystopia', 'Science Fiction', 'Romance', 'Fantasy', 'Fiction', 'Adventure', 'Young Adult Teen', 'Audiobook', 'Action']",
                  "award": 10,
                  "_deepnote_index_column": 21
                },
                {
                  "title": "Evermore",
                  "author": "Alyson Noel",
                  "num_rating": 273208,
                  "num_reviews": 9854,
                  "avg_rating": 3.59,
                  "num_pages": 301,
                  "original_publish_year": 2009,
                  "series": true,
                  "minmax_norm_ratings": 1,
                  "mean_norm_ratings": -3.13,
                  "genres": "['Young Adult', 'Fantasy', 'Fantasy Paranormal', 'Romance', 'Romance Paranormal Romance', 'Fantasy Supernatural', 'Fiction', 'Fantasy Urban Fantasy', 'Paranormal Vampires', 'Fantasy Magic']",
                  "award": 2,
                  "_deepnote_index_column": 22
                },
                {
                  "title": "The Summoning",
                  "author": "Kelley Armstrong",
                  "num_rating": 163257,
                  "num_reviews": 6315,
                  "avg_rating": 4,
                  "num_pages": 390,
                  "original_publish_year": 2008,
                  "series": true,
                  "minmax_norm_ratings": 4.84,
                  "mean_norm_ratings": 0.71,
                  "genres": "['Young Adult', 'Fantasy', 'Fantasy Paranormal', 'Fantasy Urban Fantasy', 'Fantasy Supernatural', 'Fantasy Magic', 'Romance', 'Paranormal Ghosts', 'Shapeshifters Werewolves', 'Fiction']",
                  "award": 1,
                  "_deepnote_index_column": 23
                },
                {
                  "title": "Gone",
                  "author": "Michael  Grant",
                  "num_rating": 185273,
                  "num_reviews": 10986,
                  "avg_rating": 3.86,
                  "num_pages": 560,
                  "original_publish_year": 2008,
                  "series": true,
                  "minmax_norm_ratings": 3.53,
                  "mean_norm_ratings": -0.6,
                  "genres": "['Young Adult', 'Science Fiction Dystopia', 'Science Fiction', 'Fantasy', 'Fiction', 'Fantasy Paranormal', 'Romance', 'Adventure', 'Fantasy Supernatural', 'Young Adult Teen']",
                  "award": 1,
                  "_deepnote_index_column": 24
                },
                {
                  "title": "Spirit Bound",
                  "author": "Richelle Mead",
                  "num_rating": 270258,
                  "num_reviews": 9050,
                  "avg_rating": 4.33,
                  "num_pages": 489,
                  "original_publish_year": 2010,
                  "series": true,
                  "minmax_norm_ratings": 7.94,
                  "mean_norm_ratings": 3.81,
                  "genres": "['Young Adult', 'Paranormal Vampires', 'Fantasy', 'Fantasy Paranormal', 'Romance', 'Fantasy Urban Fantasy', 'Romance Paranormal Romance', 'Fantasy Supernatural', 'Fiction', 'Fantasy Magic']",
                  "award": 3,
                  "_deepnote_index_column": 25
                },
                {
                  "title": "A Great and Terrible Beauty",
                  "author": "Libba Bray",
                  "num_rating": 218210,
                  "num_reviews": 9972,
                  "avg_rating": 3.78,
                  "num_pages": 403,
                  "original_publish_year": 2003,
                  "series": true,
                  "minmax_norm_ratings": 2.78,
                  "mean_norm_ratings": -1.35,
                  "genres": "['Fantasy', 'Young Adult', 'Historical Historical Fiction', 'Fiction', 'Historical', 'Fantasy Paranormal', 'Romance', 'Fantasy Magic', 'Young Adult Teen', 'Young Adult Young Adult Fantasy']",
                  "award": 2,
                  "_deepnote_index_column": 26
                },
                {
                  "title": "The Iron King",
                  "author": "Julie Kagawa",
                  "num_rating": 202542,
                  "num_reviews": 12119,
                  "avg_rating": 3.89,
                  "num_pages": 363,
                  "original_publish_year": 2010,
                  "series": true,
                  "minmax_norm_ratings": 3.81,
                  "mean_norm_ratings": -0.32,
                  "genres": "['Fantasy', 'Young Adult', 'Romance', 'Fantasy Paranormal', 'Fairies Fae', 'Paranormal Fairies', 'Fantasy Urban Fantasy', 'Fantasy Magic', 'Fiction', 'Young Adult Young Adult Fantasy']",
                  "award": 2,
                  "_deepnote_index_column": 27
                },
                {
                  "title": "Last Sacrifice",
                  "author": "Richelle Mead",
                  "num_rating": 264840,
                  "num_reviews": 11399,
                  "avg_rating": 4.37,
                  "num_pages": 594,
                  "original_publish_year": 2010,
                  "series": true,
                  "minmax_norm_ratings": 8.31,
                  "mean_norm_ratings": 4.18,
                  "genres": "['Young Adult', 'Paranormal Vampires', 'Fantasy', 'Fantasy Paranormal', 'Romance', 'Fantasy Urban Fantasy', 'Romance Paranormal Romance', 'Fantasy Supernatural', 'Fiction', 'Fantasy Magic']",
                  "award": 1,
                  "_deepnote_index_column": 28
                },
                {
                  "title": "The Night Circus",
                  "author": "Erin Morgenstern",
                  "num_rating": 733079,
                  "num_reviews": 77427,
                  "avg_rating": 4.03,
                  "num_pages": 391,
                  "original_publish_year": 2011,
                  "series": false,
                  "minmax_norm_ratings": 5.13,
                  "mean_norm_ratings": 0.99,
                  "genres": "['Fantasy', 'Fiction', 'Romance', 'Historical Historical Fiction', 'Fantasy Magic', 'Young Adult', 'Magical Realism', 'Adult', 'Audiobook', 'Historical']",
                  "award": 11,
                  "_deepnote_index_column": 29
                },
                {
                  "title": "Betrayed",
                  "author": "P.C. Cast",
                  "num_rating": 248895,
                  "num_reviews": 5571,
                  "avg_rating": 3.92,
                  "num_pages": 310,
                  "original_publish_year": 2007,
                  "series": true,
                  "minmax_norm_ratings": 4.09,
                  "mean_norm_ratings": -0.04,
                  "genres": "['Young Adult', 'Paranormal Vampires', 'Fantasy', 'Fantasy Paranormal', 'Romance', 'Fiction', 'Fantasy Supernatural', 'Fantasy Urban Fantasy', 'Romance Paranormal Romance', 'Fantasy Magic']",
                  "award": 0,
                  "_deepnote_index_column": 30
                },
                {
                  "title": "Wicked Lovely",
                  "author": "Melissa Marr",
                  "num_rating": 162251,
                  "num_reviews": 7137,
                  "avg_rating": 3.69,
                  "num_pages": 328,
                  "original_publish_year": 2007,
                  "series": true,
                  "minmax_norm_ratings": 1.94,
                  "mean_norm_ratings": -2.19,
                  "genres": "['Fantasy', 'Young Adult', 'Romance', 'Fantasy Paranormal', 'Fantasy Urban Fantasy', 'Paranormal Fairies', 'Fairies Fae', 'Fiction', 'Romance Paranormal Romance', 'Fantasy Magic']",
                  "award": 3,
                  "_deepnote_index_column": 31
                },
                {
                  "title": "Chosen",
                  "author": "P.C. Cast",
                  "num_rating": 227774,
                  "num_reviews": 4437,
                  "avg_rating": 3.91,
                  "num_pages": 307,
                  "original_publish_year": 2008,
                  "series": true,
                  "minmax_norm_ratings": 4,
                  "mean_norm_ratings": -0.13,
                  "genres": "['Young Adult', 'Paranormal Vampires', 'Fantasy', 'Fantasy Paranormal', 'Romance', 'Fiction', 'Fantasy Supernatural', 'Romance Paranormal Romance', 'Fantasy Urban Fantasy', 'Fantasy Magic']",
                  "award": 0,
                  "_deepnote_index_column": 32
                },
                {
                  "title": "The Graveyard Book",
                  "author": "Neil Gaiman",
                  "num_rating": 460866,
                  "num_reviews": 32761,
                  "avg_rating": 4.13,
                  "num_pages": 307,
                  "original_publish_year": 2008,
                  "series": false,
                  "minmax_norm_ratings": 6.06,
                  "mean_norm_ratings": 1.93,
                  "genres": "['Fantasy', 'Young Adult', 'Fiction', 'Horror', 'Childrens Middle Grade', 'Childrens', 'Fantasy Paranormal', 'Audiobook', 'Paranormal Ghosts', 'Fantasy Supernatural']",
                  "award": 18,
                  "_deepnote_index_column": 33
                },
                {
                  "title": "City of Fallen Angels",
                  "author": "Cassandra Clare",
                  "num_rating": 511239,
                  "num_reviews": 23763,
                  "avg_rating": 4.11,
                  "num_pages": 425,
                  "original_publish_year": 2011,
                  "series": true,
                  "minmax_norm_ratings": 5.88,
                  "mean_norm_ratings": 1.74,
                  "genres": "['Fantasy', 'Young Adult', 'Fantasy Paranormal', 'Romance', 'Fantasy Urban Fantasy', 'Paranormal Vampires', 'Fiction', 'Paranormal Angels', 'Fantasy Supernatural', 'Fantasy Magic']",
                  "award": 1,
                  "_deepnote_index_column": 34
                },
                {
                  "title": "Untamed",
                  "author": "P.C. Cast",
                  "num_rating": 221822,
                  "num_reviews": 3669,
                  "avg_rating": 3.94,
                  "num_pages": 338,
                  "original_publish_year": 2008,
                  "series": true,
                  "minmax_norm_ratings": 4.28,
                  "mean_norm_ratings": 0.15,
                  "genres": "['Young Adult', 'Paranormal Vampires', 'Fantasy', 'Fantasy Paranormal', 'Romance', 'Fiction', 'Fantasy Supernatural', 'Fantasy Urban Fantasy', 'Romance Paranormal Romance', 'Fantasy Magic']",
                  "award": 0,
                  "_deepnote_index_column": 35
                },
                {
                  "title": "Shatter Me",
                  "author": "Tahereh Mafi",
                  "num_rating": 317338,
                  "num_reviews": 30694,
                  "avg_rating": 3.93,
                  "num_pages": 338,
                  "original_publish_year": 2011,
                  "series": true,
                  "minmax_norm_ratings": 4.19,
                  "mean_norm_ratings": 0.06,
                  "genres": "['Young Adult', 'Science Fiction Dystopia', 'Fantasy', 'Romance', 'Science Fiction', 'Fantasy Paranormal', 'Fiction', 'Young Adult Young Adult Fantasy', 'Fantasy Supernatural', 'Audiobook']",
                  "award": 1,
                  "_deepnote_index_column": 36
                },
                {
                  "title": "The Alchemyst",
                  "author": "Michael Scott",
                  "num_rating": 148669,
                  "num_reviews": 8510,
                  "avg_rating": 3.84,
                  "num_pages": 369,
                  "original_publish_year": 2008,
                  "series": true,
                  "minmax_norm_ratings": 3.34,
                  "mean_norm_ratings": -0.79,
                  "genres": "['Fantasy', 'Young Adult', 'Fiction', 'Fantasy Magic', 'Adventure', 'Fantasy Mythology', 'Childrens Middle Grade', 'Fantasy Urban Fantasy', 'Childrens', 'Young Adult Young Adult Fantasy']",
                  "award": 3,
                  "_deepnote_index_column": 37
                },
                {
                  "title": "Blue Bloods",
                  "author": "Melissa de la Cruz",
                  "num_rating": 136615,
                  "num_reviews": 4963,
                  "avg_rating": 3.69,
                  "num_pages": 302,
                  "original_publish_year": 2007,
                  "series": true,
                  "minmax_norm_ratings": 1.94,
                  "mean_norm_ratings": -2.19,
                  "genres": "['Young Adult', 'Paranormal Vampires', 'Fantasy', 'Fantasy Paranormal', 'Romance', 'Fantasy Urban Fantasy', 'Fantasy Supernatural', 'Fiction', 'Romance Paranormal Romance', 'Paranormal Angels']",
                  "award": 0,
                  "_deepnote_index_column": 38
                },
                {
                  "title": "Clockwork Prince",
                  "author": "Cassandra Clare",
                  "num_rating": 471206,
                  "num_reviews": 24797,
                  "avg_rating": 4.43,
                  "num_pages": 498,
                  "original_publish_year": 2011,
                  "series": true,
                  "minmax_norm_ratings": 8.88,
                  "mean_norm_ratings": 4.74,
                  "genres": "['Fantasy', 'Young Adult', 'Romance', 'Fantasy Paranormal', 'Science Fiction Steampunk', 'Historical Historical Fiction', 'Fantasy Urban Fantasy', 'Fiction', 'Paranormal Angels', 'Paranormal Vampires']",
                  "award": 2,
                  "_deepnote_index_column": 39
                },
                {
                  "title": "Inkspell",
                  "author": "Cornelia Funke",
                  "num_rating": 117418,
                  "num_reviews": 4157,
                  "avg_rating": 3.9,
                  "num_pages": 635,
                  "original_publish_year": 2005,
                  "series": true,
                  "minmax_norm_ratings": 3.91,
                  "mean_norm_ratings": -0.23,
                  "genres": "['Fantasy', 'Young Adult', 'Fiction', 'Childrens', 'Childrens Middle Grade', 'Adventure', 'Fantasy Magic', 'Writing Books About Books', 'Young Adult Young Adult Fantasy', 'European Literature German Literature']",
                  "award": 2,
                  "_deepnote_index_column": 40
                }
              ],
              "rows_bottom": [
                {
                  "title": "Magyk",
                  "author": "Angie Sage",
                  "num_rating": 115527,
                  "num_reviews": 5213,
                  "avg_rating": 3.82,
                  "num_pages": 564,
                  "original_publish_year": 2005,
                  "series": true,
                  "minmax_norm_ratings": 3.16,
                  "mean_norm_ratings": -0.98,
                  "genres": "['Fantasy', 'Young Adult', 'Fantasy Magic', 'Fiction', 'Childrens Middle Grade', 'Childrens', 'Adventure', 'Young Adult Young Adult Fantasy', 'Audiobook', 'Fantasy High Fantasy']",
                  "award": 1,
                  "_deepnote_index_column": 57
                },
                {
                  "title": "Glass Houses",
                  "author": "Rachel Caine",
                  "num_rating": 97440,
                  "num_reviews": 4893,
                  "avg_rating": 3.9,
                  "num_pages": 239,
                  "original_publish_year": 2006,
                  "series": true,
                  "minmax_norm_ratings": 3.91,
                  "mean_norm_ratings": -0.23,
                  "genres": "['Paranormal Vampires', 'Young Adult', 'Fantasy Paranormal', 'Fantasy', 'Fantasy Urban Fantasy', 'Romance', 'Fantasy Supernatural', 'Fiction', 'Romance Paranormal Romance', 'Paranormal Ghosts']",
                  "award": 0,
                  "_deepnote_index_column": 58
                },
                {
                  "title": "The Luxe",
                  "author": "Anna Godbersen",
                  "num_rating": 71147,
                  "num_reviews": 4622,
                  "avg_rating": 3.63,
                  "num_pages": 433,
                  "original_publish_year": 2007,
                  "series": true,
                  "minmax_norm_ratings": 1.38,
                  "mean_norm_ratings": -2.76,
                  "genres": "['Historical Historical Fiction', 'Young Adult', 'Romance', 'Historical', 'Fiction', 'Womens Fiction Chick Lit', 'Romance Historical Romance', 'Young Adult Teen', 'Drama', 'Mystery']",
                  "award": 1,
                  "_deepnote_index_column": 59
                },
                {
                  "title": "Obsidian",
                  "author": "Jennifer L. Armentrout",
                  "num_rating": 243427,
                  "num_reviews": 18477,
                  "avg_rating": 4.16,
                  "num_pages": 335,
                  "original_publish_year": 2012,
                  "series": true,
                  "minmax_norm_ratings": 6.34,
                  "mean_norm_ratings": 2.21,
                  "genres": "['Young Adult', 'Fantasy Paranormal', 'Fantasy', 'Romance', 'Science Fiction Aliens', 'Science Fiction', 'Romance Paranormal Romance', 'Fantasy Supernatural', 'Fantasy Urban Fantasy', 'Fiction']",
                  "award": 0,
                  "_deepnote_index_column": 60
                },
                {
                  "title": "Tempted",
                  "author": "P.C. Cast",
                  "num_rating": 156837,
                  "num_reviews": 3429,
                  "avg_rating": 3.94,
                  "num_pages": 319,
                  "original_publish_year": 2009,
                  "series": true,
                  "minmax_norm_ratings": 4.28,
                  "mean_norm_ratings": 0.15,
                  "genres": "['Young Adult', 'Paranormal Vampires', 'Fantasy', 'Fantasy Paranormal', 'Romance', 'Fantasy Supernatural', 'Fiction', 'Romance Paranormal Romance', 'Fantasy Urban Fantasy', 'Fantasy Magic']",
                  "award": 1,
                  "_deepnote_index_column": 61
                },
                {
                  "title": "Torment",
                  "author": "Lauren Kate",
                  "num_rating": 217530,
                  "num_reviews": 8033,
                  "avg_rating": 3.86,
                  "num_pages": 452,
                  "original_publish_year": 2010,
                  "series": true,
                  "minmax_norm_ratings": 3.53,
                  "mean_norm_ratings": -0.6,
                  "genres": "['Young Adult', 'Fantasy', 'Paranormal Angels', 'Romance', 'Fantasy Paranormal', 'Romance Paranormal Romance', 'Fantasy Supernatural', 'Fiction', 'Fantasy Urban Fantasy', 'Young Adult Teen']",
                  "award": 0,
                  "_deepnote_index_column": 62
                },
                {
                  "title": "Moon Called",
                  "author": "Patricia Briggs",
                  "num_rating": 186972,
                  "num_reviews": 8681,
                  "avg_rating": 4.13,
                  "num_pages": 289,
                  "original_publish_year": 2006,
                  "series": true,
                  "minmax_norm_ratings": 6.06,
                  "mean_norm_ratings": 1.93,
                  "genres": "['Fantasy Urban Fantasy', 'Fantasy', 'Fantasy Paranormal', 'Paranormal Vampires', 'Romance', 'Shapeshifters Werewolves', 'Romance Paranormal Romance', 'Fiction', 'Paranormal Shapeshifters', 'Fantasy Supernatural']",
                  "award": 0,
                  "_deepnote_index_column": 63
                },
                {
                  "title": "Specials",
                  "author": "Scott Westerfeld",
                  "num_rating": 174446,
                  "num_reviews": 8008,
                  "avg_rating": 3.76,
                  "num_pages": 384,
                  "original_publish_year": 2006,
                  "series": true,
                  "minmax_norm_ratings": 2.59,
                  "mean_norm_ratings": -1.54,
                  "genres": "['Young Adult', 'Science Fiction Dystopia', 'Science Fiction', 'Fiction', 'Fantasy', 'Romance', 'Young Adult Teen', 'Adventure', 'Apocalyptic Post Apocalyptic', 'Futuristic']",
                  "award": 0,
                  "_deepnote_index_column": 64
                },
                {
                  "title": "Cross My Heart and Hope to Spy",
                  "author": "Ally Carter",
                  "num_rating": 85255,
                  "num_reviews": 3467,
                  "avg_rating": 4.12,
                  "num_pages": 236,
                  "original_publish_year": 2007,
                  "series": true,
                  "minmax_norm_ratings": 5.97,
                  "mean_norm_ratings": 1.84,
                  "genres": "['Young Adult', 'Mystery', 'Romance', 'Contemporary', 'Fiction', 'Spy Thriller Espionage', 'Adventure', 'Womens Fiction Chick Lit', 'Young Adult Teen', 'Action']",
                  "award": 0,
                  "_deepnote_index_column": 65
                },
                {
                  "title": "The Goose Girl",
                  "author": "Shannon Hale",
                  "num_rating": 140065,
                  "num_reviews": 10152,
                  "avg_rating": 4.1,
                  "num_pages": 383,
                  "original_publish_year": 2005,
                  "series": true,
                  "minmax_norm_ratings": 5.78,
                  "mean_norm_ratings": 1.65,
                  "genres": "['Fantasy', 'Young Adult', 'Fantasy Fairy Tales', 'Romance', 'Fiction', 'Retellings', 'Childrens Middle Grade', 'Adventure', 'Childrens', 'Young Adult Young Adult Fantasy']",
                  "award": 4,
                  "_deepnote_index_column": 66
                },
                {
                  "title": "The Historian",
                  "author": "Elizabeth Kostova",
                  "num_rating": 250739,
                  "num_reviews": 16493,
                  "avg_rating": 3.78,
                  "num_pages": 704,
                  "original_publish_year": 2005,
                  "series": false,
                  "minmax_norm_ratings": 2.78,
                  "mean_norm_ratings": -1.35,
                  "genres": "['Fiction', 'Historical Historical Fiction', 'Fantasy', 'Horror', 'Mystery', 'Paranormal Vampires', 'Historical', 'Fantasy Paranormal', 'Gothic', 'Thriller']",
                  "award": 5,
                  "_deepnote_index_column": 67
                },
                {
                  "title": "Alanna: The First Adventure",
                  "author": "Tamora Pierce",
                  "num_rating": 123020,
                  "num_reviews": 5191,
                  "avg_rating": 4.23,
                  "num_pages": 274,
                  "original_publish_year": 2005,
                  "series": true,
                  "minmax_norm_ratings": 7,
                  "mean_norm_ratings": 2.87,
                  "genres": "['Fantasy', 'Young Adult', 'Fiction', 'Adventure', 'Fantasy Magic', 'Young Adult Young Adult Fantasy', 'Childrens Middle Grade', 'Fantasy High Fantasy', 'Childrens', 'Young Adult Teen']",
                  "award": 3,
                  "_deepnote_index_column": 68
                },
                {
                  "title": "Fairest",
                  "author": "Gail Carson Levine",
                  "num_rating": 62408,
                  "num_reviews": 4171,
                  "avg_rating": 3.88,
                  "num_pages": 326,
                  "original_publish_year": 2006,
                  "series": true,
                  "minmax_norm_ratings": 3.72,
                  "mean_norm_ratings": -0.41,
                  "genres": "['Fantasy', 'Young Adult', 'Fantasy Fairy Tales', 'Romance', 'Fiction', 'Childrens Middle Grade', 'Retellings', 'Fantasy Magic', 'Childrens', 'Fairy Tales Fairy Tale Retellings']",
                  "award": 0,
                  "_deepnote_index_column": 69
                },
                {
                  "title": "Unwind",
                  "author": "Neal Shusterman",
                  "num_rating": 202191,
                  "num_reviews": 19136,
                  "avg_rating": 4.16,
                  "num_pages": 337,
                  "original_publish_year": 2007,
                  "series": true,
                  "minmax_norm_ratings": 6.34,
                  "mean_norm_ratings": 2.21,
                  "genres": "['Young Adult', 'Science Fiction Dystopia', 'Science Fiction', 'Fiction', 'Fantasy', 'Horror', 'Young Adult Teen', 'Thriller', 'Adventure', 'Adventure Survival']",
                  "award": 12,
                  "_deepnote_index_column": 70
                },
                {
                  "title": "Bloodlines",
                  "author": "Richelle Mead",
                  "num_rating": 175257,
                  "num_reviews": 8404,
                  "avg_rating": 4.19,
                  "num_pages": 421,
                  "original_publish_year": 2011,
                  "series": true,
                  "minmax_norm_ratings": 6.63,
                  "mean_norm_ratings": 2.49,
                  "genres": "['Young Adult', 'Paranormal Vampires', 'Fantasy', 'Fantasy Paranormal', 'Romance', 'Fantasy Urban Fantasy', 'Fantasy Magic', 'Fantasy Supernatural', 'Romance Paranormal Romance', 'Fiction']",
                  "award": 1,
                  "_deepnote_index_column": 71
                },
                {
                  "title": "Heist Society",
                  "author": "Ally Carter",
                  "num_rating": 90313,
                  "num_reviews": 5301,
                  "avg_rating": 3.9,
                  "num_pages": 287,
                  "original_publish_year": 2010,
                  "series": true,
                  "minmax_norm_ratings": 3.91,
                  "mean_norm_ratings": -0.23,
                  "genres": "['Young Adult', 'Mystery', 'Contemporary', 'Romance', 'Fiction', 'Adventure', 'Young Adult Teen', 'Mystery Crime', 'Womens Fiction Chick Lit', 'Realistic Fiction']",
                  "award": 3,
                  "_deepnote_index_column": 72
                },
                {
                  "title": "Hex Hall",
                  "author": "Rachel Hawkins",
                  "num_rating": 140285,
                  "num_reviews": 8484,
                  "avg_rating": 3.92,
                  "num_pages": 323,
                  "original_publish_year": 2010,
                  "series": true,
                  "minmax_norm_ratings": 4.09,
                  "mean_norm_ratings": -0.04,
                  "genres": "['Young Adult', 'Fantasy', 'Fantasy Paranormal', 'Fantasy Magic', 'Romance', 'Paranormal Vampires', 'Paranormal Witches', 'Fantasy Supernatural', 'Fantasy Urban Fantasy', 'Paranormal Demons']",
                  "award": 0,
                  "_deepnote_index_column": 73
                },
                {
                  "title": "Night World, No. 1",
                  "author": "L.J. Smith",
                  "num_rating": 61878,
                  "num_reviews": 2154,
                  "avg_rating": 4.05,
                  "num_pages": 729,
                  "original_publish_year": 2008,
                  "series": true,
                  "minmax_norm_ratings": 5.31,
                  "mean_norm_ratings": 1.18,
                  "genres": "['Young Adult', 'Paranormal Vampires', 'Fantasy', 'Fantasy Paranormal', 'Romance', 'Fantasy Supernatural', 'Paranormal Witches', 'Romance Paranormal Romance', 'Fiction', 'Fantasy Magic']",
                  "award": 0,
                  "_deepnote_index_column": 74
                },
                {
                  "title": "The Red Pyramid",
                  "author": "Rick Riordan",
                  "num_rating": 339996,
                  "num_reviews": 13539,
                  "avg_rating": 4.08,
                  "num_pages": 516,
                  "original_publish_year": 2010,
                  "series": true,
                  "minmax_norm_ratings": 5.59,
                  "mean_norm_ratings": 1.46,
                  "genres": "['Fantasy', 'Young Adult', 'Fantasy Mythology', 'Childrens Middle Grade', 'Adventure', 'Fiction', 'Childrens', 'Fantasy Magic', 'Fantasy Urban Fantasy', 'Science Fiction Fantasy']",
                  "award": 5,
                  "_deepnote_index_column": 75
                },
                {
                  "title": "Just Listen",
                  "author": "Sarah Dessen",
                  "num_rating": 238556,
                  "num_reviews": 8231,
                  "avg_rating": 4.05,
                  "num_pages": 371,
                  "original_publish_year": 2006,
                  "series": false,
                  "minmax_norm_ratings": 5.31,
                  "mean_norm_ratings": 1.18,
                  "genres": "['Young Adult', 'Romance', 'Contemporary', 'Fiction', 'Realistic Fiction', 'Womens Fiction Chick Lit', 'Young Adult Teen', 'Music', 'Young Adult Young Adult Contemporary', 'Young Adult High School']",
                  "award": 5,
                  "_deepnote_index_column": 76
                },
                {
                  "title": "The Shadow of the Wind",
                  "author": "Carlos Ruiz Zafón",
                  "num_rating": 495924,
                  "num_reviews": 38232,
                  "avg_rating": 4.27,
                  "num_pages": 487,
                  "original_publish_year": 2005,
                  "series": true,
                  "minmax_norm_ratings": 7.37,
                  "mean_norm_ratings": 3.24,
                  "genres": "['Fiction', 'Historical Historical Fiction', 'Mystery', 'Fantasy', 'Writing Books About Books', 'Historical', 'Cultural Spain', 'Magical Realism', 'European Literature Spanish Literature', 'Gothic']",
                  "award": 11,
                  "_deepnote_index_column": 77
                },
                {
                  "title": "Anna and the French Kiss",
                  "author": "Stephanie Perkins",
                  "num_rating": 379677,
                  "num_reviews": 30249,
                  "avg_rating": 4,
                  "num_pages": 372,
                  "original_publish_year": 2010,
                  "series": true,
                  "minmax_norm_ratings": 4.84,
                  "mean_norm_ratings": 0.71,
                  "genres": "['Young Adult', 'Romance', 'Contemporary', 'Womens Fiction Chick Lit', 'Fiction', 'Realistic Fiction', 'Young Adult Young Adult Contemporary', 'Romance Contemporary Romance', 'Young Adult Young Adult Romance', 'Young Adult Teen']",
                  "award": 9,
                  "_deepnote_index_column": 78
                },
                {
                  "title": "Clockwork Princess",
                  "author": "Cassandra Clare",
                  "num_rating": 366577,
                  "num_reviews": 31956,
                  "avg_rating": 4.55,
                  "num_pages": 567,
                  "original_publish_year": 2013,
                  "series": true,
                  "minmax_norm_ratings": 10,
                  "mean_norm_ratings": 5.87,
                  "genres": "['Fantasy', 'Young Adult', 'Romance', 'Fantasy Paranormal', 'Science Fiction Steampunk', 'Historical Historical Fiction', 'Fantasy Urban Fantasy', 'Paranormal Angels', 'Fiction', 'Historical']",
                  "award": 1,
                  "_deepnote_index_column": 79
                },
                {
                  "title": "The Looking Glass Wars",
                  "author": "Frank Beddor",
                  "num_rating": 42180,
                  "num_reviews": 3860,
                  "avg_rating": 3.93,
                  "num_pages": 364,
                  "original_publish_year": 2006,
                  "series": true,
                  "minmax_norm_ratings": 4.19,
                  "mean_norm_ratings": 0.06,
                  "genres": "['Fantasy', 'Young Adult', 'Fiction', 'Retellings', 'Adventure', 'Science Fiction Steampunk', 'Fantasy Magic', 'Fantasy Fairy Tales', 'Young Adult Young Adult Fantasy', 'Young Adult Teen']",
                  "award": 1,
                  "_deepnote_index_column": 80
                },
                {
                  "title": "The Subtle Knife",
                  "author": "Philip Pullman",
                  "num_rating": 387666,
                  "num_reviews": 10700,
                  "avg_rating": 4.13,
                  "num_pages": 370,
                  "original_publish_year": 2018,
                  "series": true,
                  "minmax_norm_ratings": 6.06,
                  "mean_norm_ratings": 1.93,
                  "genres": "['Fantasy', 'Young Adult', 'Fiction', 'Childrens', 'Adventure', 'Science Fiction', 'Science Fiction Fantasy', 'Audiobook', 'Science Fiction Steampunk', 'Childrens Middle Grade']",
                  "award": 2,
                  "_deepnote_index_column": 81
                },
                {
                  "title": "Silence",
                  "author": "Becca Fitzpatrick",
                  "num_rating": 253228,
                  "num_reviews": 8256,
                  "avg_rating": 4.11,
                  "num_pages": 448,
                  "original_publish_year": 2011,
                  "series": true,
                  "minmax_norm_ratings": 5.88,
                  "mean_norm_ratings": 1.74,
                  "genres": "['Young Adult', 'Fantasy', 'Paranormal Angels', 'Romance', 'Fantasy Paranormal', 'Romance Paranormal Romance', 'Fantasy Supernatural', 'Fiction', 'Fantasy Urban Fantasy', 'Young Adult Young Adult Fantasy']",
                  "award": 1,
                  "_deepnote_index_column": 82
                },
                {
                  "title": "Evernight",
                  "author": "Claudia Gray",
                  "num_rating": 78990,
                  "num_reviews": 3319,
                  "avg_rating": 3.64,
                  "num_pages": 327,
                  "original_publish_year": 2008,
                  "series": true,
                  "minmax_norm_ratings": 1.47,
                  "mean_norm_ratings": -2.66,
                  "genres": "['Young Adult', 'Paranormal Vampires', 'Fantasy', 'Fantasy Paranormal', 'Romance', 'Romance Paranormal Romance', 'Fantasy Supernatural', 'Fantasy Urban Fantasy', 'Fiction', 'Young Adult Teen']",
                  "award": 0,
                  "_deepnote_index_column": 83
                },
                {
                  "title": "Blue Moon",
                  "author": "Alyson Noel",
                  "num_rating": 91571,
                  "num_reviews": 3764,
                  "avg_rating": 3.6,
                  "num_pages": 284,
                  "original_publish_year": 2009,
                  "series": true,
                  "minmax_norm_ratings": 1.09,
                  "mean_norm_ratings": -3.04,
                  "genres": "['Young Adult', 'Fantasy', 'Fantasy Paranormal', 'Romance', 'Fantasy Supernatural', 'Romance Paranormal Romance', 'Fiction', 'Fantasy Magic', 'Fantasy Urban Fantasy', 'Young Adult Teen']",
                  "award": 1,
                  "_deepnote_index_column": 84
                },
                {
                  "title": "Masquerade",
                  "author": "Melissa de la Cruz",
                  "num_rating": 89803,
                  "num_reviews": 2146,
                  "avg_rating": 3.9,
                  "num_pages": 307,
                  "original_publish_year": 2007,
                  "series": true,
                  "minmax_norm_ratings": 3.91,
                  "mean_norm_ratings": -0.23,
                  "genres": "['Young Adult', 'Paranormal Vampires', 'Fantasy', 'Fantasy Paranormal', 'Romance', 'Fantasy Supernatural', 'Paranormal Angels', 'Fantasy Urban Fantasy', 'Fiction', 'Romance Paranormal Romance']",
                  "award": 0,
                  "_deepnote_index_column": 85
                },
                {
                  "title": "Vampire Kisses",
                  "author": "Ellen Schreiber",
                  "num_rating": 49681,
                  "num_reviews": 2317,
                  "avg_rating": 3.72,
                  "num_pages": 253,
                  "original_publish_year": 2005,
                  "series": true,
                  "minmax_norm_ratings": 2.22,
                  "mean_norm_ratings": -1.91,
                  "genres": "['Paranormal Vampires', 'Young Adult', 'Fantasy Paranormal', 'Fantasy', 'Romance', 'Romance Paranormal Romance', 'Fantasy Supernatural', 'Fiction', 'Young Adult Teen', 'Fantasy Urban Fantasy']",
                  "award": 0,
                  "_deepnote_index_column": 86
                },
                {
                  "title": "Don't Judge a Girl by Her Cover",
                  "author": "Ally Carter",
                  "num_rating": 65809,
                  "num_reviews": 2688,
                  "avg_rating": 4.21,
                  "num_pages": 263,
                  "original_publish_year": 2009,
                  "series": true,
                  "minmax_norm_ratings": 6.81,
                  "mean_norm_ratings": 2.68,
                  "genres": "['Young Adult', 'Mystery', 'Romance', 'Contemporary', 'Fiction', 'Spy Thriller Espionage', 'Adventure', 'Womens Fiction Chick Lit', 'Young Adult Teen', 'Action']",
                  "award": 1,
                  "_deepnote_index_column": 87
                },
                {
                  "title": "The Sweet Far Thing",
                  "author": "Libba Bray",
                  "num_rating": 68476,
                  "num_reviews": 3876,
                  "avg_rating": 3.95,
                  "num_pages": 819,
                  "original_publish_year": 2007,
                  "series": true,
                  "minmax_norm_ratings": 4.38,
                  "mean_norm_ratings": 0.24,
                  "genres": "['Fantasy', 'Young Adult', 'Historical Historical Fiction', 'Historical', 'Fiction', 'Romance', 'Fantasy Paranormal', 'Fantasy Magic', 'Young Adult Young Adult Fantasy', 'Young Adult Teen']",
                  "award": 0,
                  "_deepnote_index_column": 88
                },
                {
                  "title": "Linger",
                  "author": "Maggie Stiefvater",
                  "num_rating": 159664,
                  "num_reviews": 9645,
                  "avg_rating": 3.89,
                  "num_pages": 362,
                  "original_publish_year": 2010,
                  "series": true,
                  "minmax_norm_ratings": 3.81,
                  "mean_norm_ratings": -0.32,
                  "genres": "['Young Adult', 'Fantasy', 'Romance', 'Fantasy Paranormal', 'Shapeshifters Werewolves', 'Fiction', 'Romance Paranormal Romance', 'Fantasy Supernatural', 'Fantasy Urban Fantasy', 'Young Adult Young Adult Fantasy']",
                  "award": 1,
                  "_deepnote_index_column": 89
                },
                {
                  "title": "Rebel Angels",
                  "author": "Libba Bray",
                  "num_rating": 111181,
                  "num_reviews": 3404,
                  "avg_rating": 3.92,
                  "num_pages": 548,
                  "original_publish_year": 2006,
                  "series": true,
                  "minmax_norm_ratings": 4.09,
                  "mean_norm_ratings": -0.04,
                  "genres": "['Fantasy', 'Young Adult', 'Historical Historical Fiction', 'Historical', 'Fiction', 'Romance', 'Fantasy Paranormal', 'Fantasy Magic', 'Young Adult Teen', 'Young Adult Young Adult Fantasy']",
                  "award": 0,
                  "_deepnote_index_column": 90
                },
                {
                  "title": "Acheron",
                  "author": "Sherrilyn Kenyon",
                  "num_rating": 56166,
                  "num_reviews": 3676,
                  "avg_rating": 4.55,
                  "num_pages": 728,
                  "original_publish_year": 2008,
                  "series": true,
                  "minmax_norm_ratings": 10,
                  "mean_norm_ratings": 5.87,
                  "genres": "['Romance Paranormal Romance', 'Fantasy Paranormal', 'Romance', 'Fantasy', 'Paranormal Vampires', 'Fantasy Urban Fantasy', 'Fantasy Mythology', 'Adult', 'Fiction', 'Paranormal Demons']",
                  "award": 0,
                  "_deepnote_index_column": 92
                },
                {
                  "title": "Revelations",
                  "author": "Melissa de la Cruz",
                  "num_rating": 76212,
                  "num_reviews": 1651,
                  "avg_rating": 3.9,
                  "num_pages": 264,
                  "original_publish_year": 2008,
                  "series": true,
                  "minmax_norm_ratings": 3.91,
                  "mean_norm_ratings": -0.23,
                  "genres": "['Young Adult', 'Paranormal Vampires', 'Fantasy', 'Fantasy Paranormal', 'Romance', 'Paranormal Angels', 'Fantasy Supernatural', 'Fantasy Urban Fantasy', 'Romance Paranormal Romance', 'Fiction']",
                  "award": 0,
                  "_deepnote_index_column": 93
                },
                {
                  "title": "Shadowland",
                  "author": "Jenny Carroll",
                  "num_rating": 66946,
                  "num_reviews": 2510,
                  "avg_rating": 4.02,
                  "num_pages": 287,
                  "original_publish_year": 2005,
                  "series": true,
                  "minmax_norm_ratings": 5.03,
                  "mean_norm_ratings": 0.9,
                  "genres": "['Young Adult', 'Fantasy', 'Fantasy Paranormal', 'Romance', 'Paranormal Ghosts', 'Fiction', 'Fantasy Supernatural', 'Mystery', 'Womens Fiction Chick Lit', 'Young Adult Teen']",
                  "award": 0,
                  "_deepnote_index_column": 94
                },
                {
                  "title": "Coilhunter",
                  "author": "Dean F. Wilson",
                  "num_rating": 914,
                  "num_reviews": 129,
                  "avg_rating": 4.14,
                  "num_pages": 210,
                  "original_publish_year": 2017,
                  "series": true,
                  "minmax_norm_ratings": 6.16,
                  "mean_norm_ratings": 2.02,
                  "genres": "['Science Fiction', 'Science Fiction Steampunk', 'Westerns', 'Fantasy', 'Science Fiction Dystopia', 'Westerns Weird West', 'Fiction', 'Action', 'Audiobook', 'Business Amazon']",
                  "award": 0,
                  "_deepnote_index_column": 95
                },
                {
                  "title": "Wake",
                  "author": "Lisa McMann",
                  "num_rating": 80039,
                  "num_reviews": 5481,
                  "avg_rating": 3.75,
                  "num_pages": 210,
                  "original_publish_year": 2008,
                  "series": true,
                  "minmax_norm_ratings": 2.5,
                  "mean_norm_ratings": -1.63,
                  "genres": "['Young Adult', 'Romance', 'Fiction', 'Fantasy Supernatural', 'Fantasy', 'Mystery', 'Young Adult Teen', 'Fantasy Urban Fantasy', 'Fantasy Paranormal', 'Romance Paranormal Romance']",
                  "award": 3,
                  "_deepnote_index_column": 96
                },
                {
                  "title": "The Son of Neptune",
                  "author": "Rick Riordan",
                  "num_rating": 442699,
                  "num_reviews": 16540,
                  "avg_rating": 4.42,
                  "num_pages": 513,
                  "original_publish_year": 2011,
                  "series": true,
                  "minmax_norm_ratings": 8.78,
                  "mean_norm_ratings": 4.65,
                  "genres": "['Fantasy', 'Young Adult', 'Fantasy Mythology', 'Fiction', 'Childrens Middle Grade', 'Adventure', 'Childrens', 'Mythology Greek Mythology', 'Fantasy Urban Fantasy', 'Young Adult Young Adult Fantasy']",
                  "award": 2,
                  "_deepnote_index_column": 97
                },
                {
                  "title": "The Van Alen Legacy",
                  "author": "Melissa de la Cruz",
                  "num_rating": 64378,
                  "num_reviews": 1538,
                  "avg_rating": 3.95,
                  "num_pages": 369,
                  "original_publish_year": 2009,
                  "series": true,
                  "minmax_norm_ratings": 4.38,
                  "mean_norm_ratings": 0.24,
                  "genres": "['Young Adult', 'Paranormal Vampires', 'Fantasy', 'Fantasy Paranormal', 'Romance', 'Paranormal Angels', 'Fantasy Supernatural', 'Fantasy Urban Fantasy', 'Fiction', 'Romance Paranormal Romance']",
                  "award": 1,
                  "_deepnote_index_column": 98
                },
                {
                  "title": "Terrier",
                  "author": "Tamora Pierce",
                  "num_rating": 69341,
                  "num_reviews": 1998,
                  "avg_rating": 4.1,
                  "num_pages": 581,
                  "original_publish_year": 2006,
                  "series": true,
                  "minmax_norm_ratings": 5.78,
                  "mean_norm_ratings": 1.65,
                  "genres": "['Fantasy', 'Young Adult', 'Fiction', 'Fantasy Magic', 'Young Adult Young Adult Fantasy', 'Adventure', 'Mystery', 'Fantasy High Fantasy', 'Young Adult Teen', 'Childrens']",
                  "award": 3,
                  "_deepnote_index_column": 99
                }
              ]
            },
            "text/plain": "                  title              author  num_rating  num_reviews  \\\n0         City of Ashes     Cassandra Clare      789895        30434   \n1            Hush, Hush   Becca Fitzpatrick      604813        25700   \n2         City of Glass     Cassandra Clare      834498        29070   \n3       Clockwork Angel     Cassandra Clare      709686        33612   \n4                Marked           P.C. Cast      448045        14504   \n..                  ...                 ...         ...          ...   \n95           Coilhunter      Dean F. Wilson         914          129   \n96                 Wake         Lisa McMann       80039         5481   \n97   The Son of Neptune        Rick Riordan      442699        16540   \n98  The Van Alen Legacy  Melissa de la Cruz       64378         1538   \n99              Terrier       Tamora Pierce       69341         1998   \n\n    avg_rating  num_pages  original_publish_year  series  minmax_norm_ratings  \\\n0         4.15        453                   2008    True                 6.25   \n1         3.95        391                   2009    True                 4.38   \n2         4.30        541                   2009    True                 7.66   \n3         4.31        479                   2010    True                 7.75   \n4         3.80        306                   2007    True                 2.97   \n..         ...        ...                    ...     ...                  ...   \n95        4.14        210                   2017    True                 6.16   \n96        3.75        210                   2008    True                 2.50   \n97        4.42        513                   2011    True                 8.78   \n98        3.95        369                   2009    True                 4.38   \n99        4.10        581                   2006    True                 5.78   \n\n    mean_norm_ratings                                             genres  \\\n0                2.12  ['Fantasy', 'Young Adult', 'Fantasy Paranormal...   \n1                0.24  ['Young Adult', 'Fantasy', 'Romance', 'Fantasy...   \n2                3.52  ['Fantasy', 'Young Adult', 'Fantasy Paranormal...   \n3                3.62  ['Fantasy', 'Young Adult', 'Romance', 'Fantasy...   \n4               -1.16  ['Young Adult', 'Fantasy', 'Paranormal Vampire...   \n..                ...                                                ...   \n95               2.02  ['Science Fiction', 'Science Fiction Steampunk...   \n96              -1.63  ['Young Adult', 'Romance', 'Fiction', 'Fantasy...   \n97               4.65  ['Fantasy', 'Young Adult', 'Fantasy Mythology'...   \n98               0.24  ['Young Adult', 'Paranormal Vampires', 'Fantas...   \n99               1.65  ['Fantasy', 'Young Adult', 'Fiction', 'Fantasy...   \n\n    award  \n0       2  \n1       1  \n2       3  \n3      10  \n4       1  \n..    ...  \n95      0  \n96      3  \n97      2  \n98      1  \n99      3  \n\n[99 rows x 12 columns]",
            "text/html": "<div>\n<style scoped>\n    .dataframe tbody tr th:only-of-type {\n        vertical-align: middle;\n    }\n\n    .dataframe tbody tr th {\n        vertical-align: top;\n    }\n\n    .dataframe thead th {\n        text-align: right;\n    }\n</style>\n<table border=\"1\" class=\"dataframe\">\n  <thead>\n    <tr style=\"text-align: right;\">\n      <th></th>\n      <th>title</th>\n      <th>author</th>\n      <th>num_rating</th>\n      <th>num_reviews</th>\n      <th>avg_rating</th>\n      <th>num_pages</th>\n      <th>original_publish_year</th>\n      <th>series</th>\n      <th>minmax_norm_ratings</th>\n      <th>mean_norm_ratings</th>\n      <th>genres</th>\n      <th>award</th>\n    </tr>\n  </thead>\n  <tbody>\n    <tr>\n      <th>0</th>\n      <td>City of Ashes</td>\n      <td>Cassandra Clare</td>\n      <td>789895</td>\n      <td>30434</td>\n      <td>4.15</td>\n      <td>453</td>\n      <td>2008</td>\n      <td>True</td>\n      <td>6.25</td>\n      <td>2.12</td>\n      <td>['Fantasy', 'Young Adult', 'Fantasy Paranormal...</td>\n      <td>2</td>\n    </tr>\n    <tr>\n      <th>1</th>\n      <td>Hush, Hush</td>\n      <td>Becca Fitzpatrick</td>\n      <td>604813</td>\n      <td>25700</td>\n      <td>3.95</td>\n      <td>391</td>\n      <td>2009</td>\n      <td>True</td>\n      <td>4.38</td>\n      <td>0.24</td>\n      <td>['Young Adult', 'Fantasy', 'Romance', 'Fantasy...</td>\n      <td>1</td>\n    </tr>\n    <tr>\n      <th>2</th>\n      <td>City of Glass</td>\n      <td>Cassandra Clare</td>\n      <td>834498</td>\n      <td>29070</td>\n      <td>4.30</td>\n      <td>541</td>\n      <td>2009</td>\n      <td>True</td>\n      <td>7.66</td>\n      <td>3.52</td>\n      <td>['Fantasy', 'Young Adult', 'Fantasy Paranormal...</td>\n      <td>3</td>\n    </tr>\n    <tr>\n      <th>3</th>\n      <td>Clockwork Angel</td>\n      <td>Cassandra Clare</td>\n      <td>709686</td>\n      <td>33612</td>\n      <td>4.31</td>\n      <td>479</td>\n      <td>2010</td>\n      <td>True</td>\n      <td>7.75</td>\n      <td>3.62</td>\n      <td>['Fantasy', 'Young Adult', 'Romance', 'Fantasy...</td>\n      <td>10</td>\n    </tr>\n    <tr>\n      <th>4</th>\n      <td>Marked</td>\n      <td>P.C. Cast</td>\n      <td>448045</td>\n      <td>14504</td>\n      <td>3.80</td>\n      <td>306</td>\n      <td>2007</td>\n      <td>True</td>\n      <td>2.97</td>\n      <td>-1.16</td>\n      <td>['Young Adult', 'Fantasy', 'Paranormal Vampire...</td>\n      <td>1</td>\n    </tr>\n    <tr>\n      <th>...</th>\n      <td>...</td>\n      <td>...</td>\n      <td>...</td>\n      <td>...</td>\n      <td>...</td>\n      <td>...</td>\n      <td>...</td>\n      <td>...</td>\n      <td>...</td>\n      <td>...</td>\n      <td>...</td>\n      <td>...</td>\n    </tr>\n    <tr>\n      <th>95</th>\n      <td>Coilhunter</td>\n      <td>Dean F. Wilson</td>\n      <td>914</td>\n      <td>129</td>\n      <td>4.14</td>\n      <td>210</td>\n      <td>2017</td>\n      <td>True</td>\n      <td>6.16</td>\n      <td>2.02</td>\n      <td>['Science Fiction', 'Science Fiction Steampunk...</td>\n      <td>0</td>\n    </tr>\n    <tr>\n      <th>96</th>\n      <td>Wake</td>\n      <td>Lisa McMann</td>\n      <td>80039</td>\n      <td>5481</td>\n      <td>3.75</td>\n      <td>210</td>\n      <td>2008</td>\n      <td>True</td>\n      <td>2.50</td>\n      <td>-1.63</td>\n      <td>['Young Adult', 'Romance', 'Fiction', 'Fantasy...</td>\n      <td>3</td>\n    </tr>\n    <tr>\n      <th>97</th>\n      <td>The Son of Neptune</td>\n      <td>Rick Riordan</td>\n      <td>442699</td>\n      <td>16540</td>\n      <td>4.42</td>\n      <td>513</td>\n      <td>2011</td>\n      <td>True</td>\n      <td>8.78</td>\n      <td>4.65</td>\n      <td>['Fantasy', 'Young Adult', 'Fantasy Mythology'...</td>\n      <td>2</td>\n    </tr>\n    <tr>\n      <th>98</th>\n      <td>The Van Alen Legacy</td>\n      <td>Melissa de la Cruz</td>\n      <td>64378</td>\n      <td>1538</td>\n      <td>3.95</td>\n      <td>369</td>\n      <td>2009</td>\n      <td>True</td>\n      <td>4.38</td>\n      <td>0.24</td>\n      <td>['Young Adult', 'Paranormal Vampires', 'Fantas...</td>\n      <td>1</td>\n    </tr>\n    <tr>\n      <th>99</th>\n      <td>Terrier</td>\n      <td>Tamora Pierce</td>\n      <td>69341</td>\n      <td>1998</td>\n      <td>4.10</td>\n      <td>581</td>\n      <td>2006</td>\n      <td>True</td>\n      <td>5.78</td>\n      <td>1.65</td>\n      <td>['Fantasy', 'Young Adult', 'Fiction', 'Fantasy...</td>\n      <td>3</td>\n    </tr>\n  </tbody>\n</table>\n<p>99 rows × 12 columns</p>\n</div>"
          },
          "metadata": {}
        }
      ]
    },
    {
      "cell_type": "code",
      "source": "# dt = df.loc[(df[\"num_pages\"] != 0 )& (df['original_publish_year'] != 0 )]\n# dt",
      "metadata": {
        "tags": [],
        "cell_id": "00020-05319d63-0cbe-4f89-9045-ae71f2e571cf",
        "deepnote_to_be_reexecuted": false,
        "source_hash": "8ee41b2a",
        "execution_millis": 1,
        "execution_start": 1618400462783,
        "deepnote_cell_type": "code"
      },
      "outputs": [],
      "execution_count": 72
    },
    {
      "cell_type": "code",
      "source": "df.to_csv('preprocess_data.csv')",
      "metadata": {
        "tags": [],
        "cell_id": "00020-baae82e5-c3ae-4da5-90d2-f4084f0294e7",
        "deepnote_cell_type": "code"
      },
      "outputs": [],
      "execution_count": null
    },
    {
      "cell_type": "markdown",
      "source": "#                                                                            Analyse",
      "metadata": {
        "tags": [],
        "cell_id": "00020-64569a57-2de2-4914-8875-8040eb1f2b99",
        "deepnote_cell_type": "text-cell-h1"
      }
    },
    {
      "cell_type": "code",
      "source": "anay_goup = df.groupby(\"original_publish_year\")['minmax_norm_ratings'].mean().round(decimals=2)",
      "metadata": {
        "tags": [],
        "cell_id": "00020-772e1f23-0534-4e2a-8335-75ab3c301c83",
        "deepnote_to_be_reexecuted": false,
        "source_hash": "95c51f47",
        "execution_millis": 2,
        "execution_start": 1618399321012,
        "deepnote_cell_type": "code"
      },
      "outputs": [],
      "execution_count": 62
    },
    {
      "cell_type": "code",
      "source": "anay_goup.to_frame()",
      "metadata": {
        "tags": [],
        "cell_id": "00021-bdf379f8-88d3-4708-9d03-79e5fbddddcb",
        "deepnote_to_be_reexecuted": false,
        "source_hash": "9b215092",
        "execution_millis": 8,
        "execution_start": 1618399323453,
        "deepnote_cell_type": "code"
      },
      "outputs": [
        {
          "output_type": "execute_result",
          "execution_count": 63,
          "data": {
            "application/vnd.deepnote.dataframe.v2+json": {
              "row_count": 13,
              "column_count": 1,
              "columns": [
                {
                  "name": "minmax_norm_ratings",
                  "dtype": "float64",
                  "stats": {
                    "unique_count": 13,
                    "nan_count": 0,
                    "min": "2.78",
                    "max": "10.0",
                    "histogram": [
                      {
                        "bin_start": 2.78,
                        "bin_end": 3.502,
                        "count": 2
                      },
                      {
                        "bin_start": 3.502,
                        "bin_end": 4.224,
                        "count": 0
                      },
                      {
                        "bin_start": 4.224,
                        "bin_end": 4.946,
                        "count": 3
                      },
                      {
                        "bin_start": 4.946,
                        "bin_end": 5.668,
                        "count": 3
                      },
                      {
                        "bin_start": 5.668,
                        "bin_end": 6.390000000000001,
                        "count": 3
                      },
                      {
                        "bin_start": 6.390000000000001,
                        "bin_end": 7.112,
                        "count": 1
                      },
                      {
                        "bin_start": 7.112,
                        "bin_end": 7.834,
                        "count": 0
                      },
                      {
                        "bin_start": 7.834,
                        "bin_end": 8.556000000000001,
                        "count": 0
                      },
                      {
                        "bin_start": 8.556000000000001,
                        "bin_end": 9.278,
                        "count": 0
                      },
                      {
                        "bin_start": 9.278,
                        "bin_end": 10,
                        "count": 1
                      }
                    ]
                  }
                },
                {
                  "name": "_deepnote_index_column",
                  "dtype": "int64"
                }
              ],
              "rows_top": [
                {
                  "minmax_norm_ratings": 3.06,
                  "_deepnote_index_column": 2001
                },
                {
                  "minmax_norm_ratings": 2.78,
                  "_deepnote_index_column": 2003
                },
                {
                  "minmax_norm_ratings": 4.59,
                  "_deepnote_index_column": 2005
                },
                {
                  "minmax_norm_ratings": 4.56,
                  "_deepnote_index_column": 2006
                },
                {
                  "minmax_norm_ratings": 4.28,
                  "_deepnote_index_column": 2007
                },
                {
                  "minmax_norm_ratings": 5.36,
                  "_deepnote_index_column": 2008
                },
                {
                  "minmax_norm_ratings": 4.95,
                  "_deepnote_index_column": 2009
                },
                {
                  "minmax_norm_ratings": 5.23,
                  "_deepnote_index_column": 2010
                },
                {
                  "minmax_norm_ratings": 6.21,
                  "_deepnote_index_column": 2011
                },
                {
                  "minmax_norm_ratings": 6.44,
                  "_deepnote_index_column": 2012
                },
                {
                  "minmax_norm_ratings": 10,
                  "_deepnote_index_column": 2013
                },
                {
                  "minmax_norm_ratings": 6.16,
                  "_deepnote_index_column": 2017
                },
                {
                  "minmax_norm_ratings": 6.06,
                  "_deepnote_index_column": 2018
                }
              ],
              "rows_bottom": null
            },
            "text/plain": "                       minmax_norm_ratings\noriginal_publish_year                     \n2001                                  3.06\n2003                                  2.78\n2005                                  4.59\n2006                                  4.56\n2007                                  4.28\n2008                                  5.36\n2009                                  4.95\n2010                                  5.23\n2011                                  6.21\n2012                                  6.44\n2013                                 10.00\n2017                                  6.16\n2018                                  6.06",
            "text/html": "<div>\n<style scoped>\n    .dataframe tbody tr th:only-of-type {\n        vertical-align: middle;\n    }\n\n    .dataframe tbody tr th {\n        vertical-align: top;\n    }\n\n    .dataframe thead th {\n        text-align: right;\n    }\n</style>\n<table border=\"1\" class=\"dataframe\">\n  <thead>\n    <tr style=\"text-align: right;\">\n      <th></th>\n      <th>minmax_norm_ratings</th>\n    </tr>\n    <tr>\n      <th>original_publish_year</th>\n      <th></th>\n    </tr>\n  </thead>\n  <tbody>\n    <tr>\n      <th>2001</th>\n      <td>3.06</td>\n    </tr>\n    <tr>\n      <th>2003</th>\n      <td>2.78</td>\n    </tr>\n    <tr>\n      <th>2005</th>\n      <td>4.59</td>\n    </tr>\n    <tr>\n      <th>2006</th>\n      <td>4.56</td>\n    </tr>\n    <tr>\n      <th>2007</th>\n      <td>4.28</td>\n    </tr>\n    <tr>\n      <th>2008</th>\n      <td>5.36</td>\n    </tr>\n    <tr>\n      <th>2009</th>\n      <td>4.95</td>\n    </tr>\n    <tr>\n      <th>2010</th>\n      <td>5.23</td>\n    </tr>\n    <tr>\n      <th>2011</th>\n      <td>6.21</td>\n    </tr>\n    <tr>\n      <th>2012</th>\n      <td>6.44</td>\n    </tr>\n    <tr>\n      <th>2013</th>\n      <td>10.00</td>\n    </tr>\n    <tr>\n      <th>2017</th>\n      <td>6.16</td>\n    </tr>\n    <tr>\n      <th>2018</th>\n      <td>6.06</td>\n    </tr>\n  </tbody>\n</table>\n</div>"
          },
          "metadata": {}
        }
      ],
      "execution_count": 63
    },
    {
      "cell_type": "code",
      "source": "anay_goup.to_frame()",
      "metadata": {
        "tags": [],
        "cell_id": "00022-eadd9ecb-f435-4b14-af7a-20fdab03c523",
        "deepnote_to_be_reexecuted": false,
        "source_hash": "9b215092",
        "execution_start": 1618399259968,
        "execution_millis": 11,
        "deepnote_cell_type": "code"
      },
      "outputs": [
        {
          "output_type": "execute_result",
          "execution_count": 61,
          "data": {
            "application/vnd.deepnote.dataframe.v2+json": {
              "row_count": 13,
              "column_count": 1,
              "columns": [
                {
                  "name": "minmax_norm_ratings",
                  "dtype": "float64",
                  "stats": {
                    "unique_count": 13,
                    "nan_count": 0,
                    "min": "2.78",
                    "max": "10.0",
                    "histogram": [
                      {
                        "bin_start": 2.78,
                        "bin_end": 3.502,
                        "count": 2
                      },
                      {
                        "bin_start": 3.502,
                        "bin_end": 4.224,
                        "count": 0
                      },
                      {
                        "bin_start": 4.224,
                        "bin_end": 4.946,
                        "count": 3
                      },
                      {
                        "bin_start": 4.946,
                        "bin_end": 5.668,
                        "count": 3
                      },
                      {
                        "bin_start": 5.668,
                        "bin_end": 6.390000000000001,
                        "count": 3
                      },
                      {
                        "bin_start": 6.390000000000001,
                        "bin_end": 7.112,
                        "count": 1
                      },
                      {
                        "bin_start": 7.112,
                        "bin_end": 7.834,
                        "count": 0
                      },
                      {
                        "bin_start": 7.834,
                        "bin_end": 8.556000000000001,
                        "count": 0
                      },
                      {
                        "bin_start": 8.556000000000001,
                        "bin_end": 9.278,
                        "count": 0
                      },
                      {
                        "bin_start": 9.278,
                        "bin_end": 10,
                        "count": 1
                      }
                    ]
                  }
                },
                {
                  "name": "_deepnote_index_column",
                  "dtype": "int64"
                }
              ],
              "rows_top": [
                {
                  "minmax_norm_ratings": 3.06,
                  "_deepnote_index_column": 2001
                },
                {
                  "minmax_norm_ratings": 2.78,
                  "_deepnote_index_column": 2003
                },
                {
                  "minmax_norm_ratings": 4.588181818181819,
                  "_deepnote_index_column": 2005
                },
                {
                  "minmax_norm_ratings": 4.555,
                  "_deepnote_index_column": 2006
                },
                {
                  "minmax_norm_ratings": 4.282500000000001,
                  "_deepnote_index_column": 2007
                },
                {
                  "minmax_norm_ratings": 5.356315789473685,
                  "_deepnote_index_column": 2008
                },
                {
                  "minmax_norm_ratings": 4.953333333333334,
                  "_deepnote_index_column": 2009
                },
                {
                  "minmax_norm_ratings": 5.231538461538463,
                  "_deepnote_index_column": 2010
                },
                {
                  "minmax_norm_ratings": 6.205000000000001,
                  "_deepnote_index_column": 2011
                },
                {
                  "minmax_norm_ratings": 6.438,
                  "_deepnote_index_column": 2012
                },
                {
                  "minmax_norm_ratings": 10,
                  "_deepnote_index_column": 2013
                },
                {
                  "minmax_norm_ratings": 6.16,
                  "_deepnote_index_column": 2017
                },
                {
                  "minmax_norm_ratings": 6.06,
                  "_deepnote_index_column": 2018
                }
              ],
              "rows_bottom": null
            },
            "text/plain": "                       minmax_norm_ratings\noriginal_publish_year                     \n2001                              3.060000\n2003                              2.780000\n2005                              4.588182\n2006                              4.555000\n2007                              4.282500\n2008                              5.356316\n2009                              4.953333\n2010                              5.231538\n2011                              6.205000\n2012                              6.438000\n2013                             10.000000\n2017                              6.160000\n2018                              6.060000",
            "text/html": "<div>\n<style scoped>\n    .dataframe tbody tr th:only-of-type {\n        vertical-align: middle;\n    }\n\n    .dataframe tbody tr th {\n        vertical-align: top;\n    }\n\n    .dataframe thead th {\n        text-align: right;\n    }\n</style>\n<table border=\"1\" class=\"dataframe\">\n  <thead>\n    <tr style=\"text-align: right;\">\n      <th></th>\n      <th>minmax_norm_ratings</th>\n    </tr>\n    <tr>\n      <th>original_publish_year</th>\n      <th></th>\n    </tr>\n  </thead>\n  <tbody>\n    <tr>\n      <th>2001</th>\n      <td>3.060000</td>\n    </tr>\n    <tr>\n      <th>2003</th>\n      <td>2.780000</td>\n    </tr>\n    <tr>\n      <th>2005</th>\n      <td>4.588182</td>\n    </tr>\n    <tr>\n      <th>2006</th>\n      <td>4.555000</td>\n    </tr>\n    <tr>\n      <th>2007</th>\n      <td>4.282500</td>\n    </tr>\n    <tr>\n      <th>2008</th>\n      <td>5.356316</td>\n    </tr>\n    <tr>\n      <th>2009</th>\n      <td>4.953333</td>\n    </tr>\n    <tr>\n      <th>2010</th>\n      <td>5.231538</td>\n    </tr>\n    <tr>\n      <th>2011</th>\n      <td>6.205000</td>\n    </tr>\n    <tr>\n      <th>2012</th>\n      <td>6.438000</td>\n    </tr>\n    <tr>\n      <th>2013</th>\n      <td>10.000000</td>\n    </tr>\n    <tr>\n      <th>2017</th>\n      <td>6.160000</td>\n    </tr>\n    <tr>\n      <th>2018</th>\n      <td>6.060000</td>\n    </tr>\n  </tbody>\n</table>\n</div>"
          },
          "metadata": {}
        }
      ],
      "execution_count": 61
    },
    {
      "cell_type": "markdown",
      "source": "#                                         The Best Book Author",
      "metadata": {
        "tags": [],
        "cell_id": "00026-f1daf4da-d262-45d0-b029-27353febc21c",
        "deepnote_cell_type": "text-cell-h1"
      }
    },
    {
      "cell_type": "code",
      "metadata": {
        "tags": [],
        "cell_id": "00020-f54ab9e4-ef31-40db-9c6c-d0b2964e6133",
        "deepnote_to_be_reexecuted": false,
        "source_hash": "8897500a",
        "execution_millis": 1,
        "execution_start": 1618402912362,
        "deepnote_cell_type": "code"
      },
      "source": "def  get_book_author(name,df):\n    f=df[df.loc[:,'author'] == name]\n    m=f['minmax_norm_ratings'].max()\n    return m\n\n\n",
      "execution_count": 99,
      "outputs": []
    },
    {
      "cell_type": "code",
      "source": "get_book_author('Cassandra Clare',df)",
      "metadata": {
        "tags": [],
        "cell_id": "00027-3f022e73-f80d-4d2f-8b97-b74b9a20b69e",
        "deepnote_to_be_reexecuted": false,
        "source_hash": "930a6192",
        "execution_millis": 12,
        "execution_start": 1618402915997,
        "deepnote_cell_type": "code"
      },
      "outputs": [
        {
          "output_type": "execute_result",
          "execution_count": 100,
          "data": {
            "text/plain": "10.0"
          },
          "metadata": {}
        }
      ],
      "execution_count": 100
    },
    {
      "cell_type": "markdown",
      "source": "<a style='text-decoration:none;line-height:16px;display:flex;color:#5B5B62;padding:10px;justify-content:end;' href='https://deepnote.com?utm_source=created-in-deepnote-cell&projectId=8aa7b630-9ed2-4356-9070-0a10a3a5f060' target=\"_blank\">\n<img alt='Created in deepnote.com' style='display:inline;max-height:16px;margin:0px;margin-right:7.5px;' src='data:image/svg+xml;base64,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' > </img>\nCreated in <span style='font-weight:600;margin-left:4px;'>Deepnote</span></a>",
      "metadata": {
        "tags": [],
        "created_in_deepnote_cell": true,
        "deepnote_cell_type": "markdown"
      }
    }
  ],
  "nbformat": 4,
  "nbformat_minor": 2,
  "metadata": {
    "orig_nbformat": 2,
    "deepnote": {
      "is_reactive": false
    },
    "deepnote_notebook_id": "4e92a4e3-41f3-4ca2-a181-c2094220739e",
    "deepnote_execution_queue": []
  }
}